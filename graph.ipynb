{
 "metadata": {
  "language_info": {
   "codemirror_mode": {
    "name": "ipython",
    "version": 3
   },
   "file_extension": ".py",
   "mimetype": "text/x-python",
   "name": "python",
   "nbconvert_exporter": "python",
   "pygments_lexer": "ipython3",
   "version": "3.7.4"
  },
  "orig_nbformat": 4,
  "kernelspec": {
   "name": "python3",
   "display_name": "Python 3.7.4 64-bit ('base': conda)"
  },
  "interpreter": {
   "hash": "b3ba2566441a7c06988d0923437866b63cedc61552a5af99d1f4fb67d367b25f"
  }
 },
 "nbformat": 4,
 "nbformat_minor": 2,
 "cells": [
  {
   "cell_type": "code",
   "execution_count": 449,
   "source": [
    "import numpy as np\r\n",
    "import networkx as nx\r\n",
    "import matplotlib.pyplot as plt\r\n",
    "import random"
   ],
   "outputs": [],
   "metadata": {}
  },
  {
   "cell_type": "code",
   "execution_count": 370,
   "source": [
    "G = nx.DiGraph()"
   ],
   "outputs": [],
   "metadata": {}
  },
  {
   "cell_type": "code",
   "execution_count": 371,
   "source": [
    "# Node labels\r\n",
    "farms = [\"F\"+str(i) for i in range(1,11)]\r\n",
    "custs = [\"C\"+str(i) for i in range(1,6)]\r\n",
    "prods = ['P1', 'P2', 'P3']\r\n",
    "dealer = \"Dealer\""
   ],
   "outputs": [],
   "metadata": {}
  },
  {
   "cell_type": "code",
   "execution_count": 372,
   "source": [
    "# Add nodes to network graph\r\n",
    "G.add_nodes_from(farms)\r\n",
    "G.add_node(dealer)\r\n",
    "G.add_nodes_from(prods)\r\n",
    "G.add_nodes_from(custs)"
   ],
   "outputs": [],
   "metadata": {}
  },
  {
   "cell_type": "code",
   "execution_count": 373,
   "source": [
    "# Edges \r\n",
    "farm_dealer_edge_tuples =[(f,dealer) for f in farms]\r\n",
    "dealer_prod_edge_tuples =[(dealer, p) for p in prods]\r\n",
    "prod_cust_tuples = [('P1','C1'), ('P1','C2'), ('P1','C3'), ('P1','C4'), ('P2','C1'), ('P2','C2'), ('P2','C3'), ('P2','C4'), ('P3','C3'), ('P3','C4'), ('P3','C5')]\r\n",
    "\r\n",
    "edges = farm_dealer_edge_tuples + dealer_prod_edge_tuples + prod_cust_tuples"
   ],
   "outputs": [],
   "metadata": {}
  },
  {
   "cell_type": "code",
   "execution_count": 374,
   "source": [
    "# Connect nodes with edges\r\n",
    "G.add_edges_from(edges)"
   ],
   "outputs": [],
   "metadata": {}
  },
  {
   "cell_type": "code",
   "execution_count": 375,
   "source": [
    "# Set the type of product\r\n",
    "prod_att = {'P1':{'eggs_per_box':6}, 'P2':{'eggs_per_box':12}, 'P3':{'eggs_per_box':30}}\r\n",
    "nx.set_node_attributes(G, prod_att)"
   ],
   "outputs": [],
   "metadata": {}
  },
  {
   "cell_type": "code",
   "execution_count": 376,
   "source": [
    "# Set type of customer\r\n",
    "cust_att = {'C1':{'category':'grocery_store'}, 'C2':{'category':'supermarket'}, 'C3':{'category':'supermarket'}, 'C4':{'category':'hypermarket'}, 'C5':{'category':'supermarket'}} \r\n",
    "nx.set_node_attributes(G, cust_att)"
   ],
   "outputs": [],
   "metadata": {}
  },
  {
   "cell_type": "code",
   "execution_count": 377,
   "source": [
    "# Add quantities supplied by farms\r\n",
    "G['F1']['Dealer']['quantity']=100\r\n",
    "G['F2']['Dealer']['quantity']=100\r\n",
    "G['F3']['Dealer']['quantity']=100\r\n",
    "G['F4']['Dealer']['quantity']=100\r\n",
    "G['F5']['Dealer']['quantity']=100\r\n",
    "G['F6']['Dealer']['quantity']=100\r\n",
    "G['F7']['Dealer']['quantity']=100\r\n",
    "G['F8']['Dealer']['quantity']=100\r\n",
    "G['F9']['Dealer']['quantity']=100\r\n",
    "G['F10']['Dealer']['quantity']=100"
   ],
   "outputs": [],
   "metadata": {}
  },
  {
   "cell_type": "code",
   "execution_count": 378,
   "source": [
    "def get_total_supply(graph) -> np.int32:\r\n",
    "    ''' Return the total number of eggs supplied by farms to dealer'''\r\n",
    "    return np.sum([graph[f]['Dealer']['quantity'] for f in graph.predecessors('Dealer')])"
   ],
   "outputs": [],
   "metadata": {}
  },
  {
   "cell_type": "code",
   "execution_count": 418,
   "source": [
    "supply_qty = get_total_supply(G)\r\n",
    "supply_qty"
   ],
   "outputs": [
    {
     "output_type": "execute_result",
     "data": {
      "text/plain": [
       "1000"
      ]
     },
     "metadata": {},
     "execution_count": 418
    }
   ],
   "metadata": {}
  },
  {
   "cell_type": "code",
   "execution_count": 381,
   "source": [
    "# Add distribution of eggs into product_type by dealer\r\n",
    "G['Dealer']['P1']['quantity']=30\r\n",
    "G['Dealer']['P2']['quantity']=30\r\n",
    "G['Dealer']['P3']['quantity']=15"
   ],
   "outputs": [],
   "metadata": {}
  },
  {
   "cell_type": "code",
   "execution_count": 382,
   "source": [
    "def get_packed_products(graph: nx.DiGraph) -> np.array:\r\n",
    "    '''Returns the quanties of each product type'''\r\n",
    "    return np.array([graph['Dealer'][p]['quantity'] for p in graph.successors('Dealer')])"
   ],
   "outputs": [],
   "metadata": {}
  },
  {
   "cell_type": "code",
   "execution_count": 398,
   "source": [
    "def set_packed_products(graph: nx.DiGraph, arr: np.array) -> None:\r\n",
    "    ''' Set packed quantites to values in array'''\r\n",
    "    assert len([p for p in graph.successors('Dealer')]) == len(arr), \"Array length mismatch!!\"\r\n",
    "    for product, val in zip(graph.successors('Dealer'), arr):\r\n",
    "        graph['Dealer'][product]['quantity'] = val"
   ],
   "outputs": [],
   "metadata": {}
  },
  {
   "cell_type": "code",
   "execution_count": 422,
   "source": [
    "# The quantities of each product types\r\n",
    "packed_qty = get_packed_products(G)\r\n",
    "packed_qty"
   ],
   "outputs": [
    {
     "output_type": "execute_result",
     "data": {
      "text/plain": [
       "array([30, 30, 15])"
      ]
     },
     "metadata": {},
     "execution_count": 422
    }
   ],
   "metadata": {}
  },
  {
   "cell_type": "markdown",
   "source": [
    "Supply constraint\n",
    "\n",
    "(P1_eggs/box \\* P1_qty) + (P2_eggs/box \\* P2_qty) + (P3_eggs_box * P3_qty) $\\leq$ Supply"
   ],
   "metadata": {}
  },
  {
   "cell_type": "code",
   "execution_count": 423,
   "source": [
    "def supply_check(graph: nx.DiGraph, qty_supplied: np.int, pack_qty: np.array) -> bool:\r\n",
    "    ''' pack_qty: quanties packed of each product type by dealer\r\n",
    "        qty_supplied: the total supply of eggs to dealer\r\n",
    "        prod_capacity: the number of eggs/box for each product type'''\r\n",
    "    global prods\r\n",
    "\r\n",
    "    prod_capacity = np.array([graph.nodes[p]['eggs_per_box'] for p in prods])\r\n",
    "    assert len(prod_capacity) == len(pack_qty), \"Array length mismatch!!\"\r\n",
    "    \r\n",
    "    return (sum(prod_capacity * pack_qty) <= supply_qty) and np.all(pack_qty >= 0)"
   ],
   "outputs": [],
   "metadata": {}
  },
  {
   "cell_type": "code",
   "execution_count": 421,
   "source": [
    "supply_check(graph=G, qty_supplied=supply_qty, pack_qty=packed_qty)"
   ],
   "outputs": [
    {
     "output_type": "execute_result",
     "data": {
      "text/plain": [
       "True"
      ]
     },
     "metadata": {},
     "execution_count": 421
    }
   ],
   "metadata": {}
  },
  {
   "cell_type": "code",
   "execution_count": 545,
   "source": [
    "def random_instantiate_packed_prods(total_supply: np.int, graph: nx.DiGraph) -> np.array:\r\n",
    "    ''' Returns a array of random quantites for packed products that meet supply constraints'''\r\n",
    "    global prods\r\n",
    "    supply = total_supply.copy()\r\n",
    "    prod_capacity = np.array([graph.nodes[p]['eggs_per_box'] for p in prods])\r\n",
    "    array = np.zeros(prod_capacity.shape)\r\n",
    "    while True:\r\n",
    "        rand_arr = np.random.randint(0, 100, len(array))\r\n",
    "        if sum(prod_capacity * rand_arr) <= supply:\r\n",
    "            break\r\n",
    "    return rand_arr"
   ],
   "outputs": [],
   "metadata": {}
  },
  {
   "cell_type": "code",
   "execution_count": 776,
   "source": [
    "ripp = random_instantiate_packed_prods(total_supply=supply_qty, graph=G)\r\n",
    "ripp"
   ],
   "outputs": [
    {
     "output_type": "execute_result",
     "data": {
      "text/plain": [
       "array([13, 14, 14])"
      ]
     },
     "metadata": {},
     "execution_count": 776
    }
   ],
   "metadata": {}
  },
  {
   "cell_type": "code",
   "execution_count": 777,
   "source": [
    "type(ripp[0])"
   ],
   "outputs": [
    {
     "output_type": "execute_result",
     "data": {
      "text/plain": [
       "numpy.int32"
      ]
     },
     "metadata": {},
     "execution_count": 777
    }
   ],
   "metadata": {}
  },
  {
   "cell_type": "code",
   "execution_count": 764,
   "source": [
    "type(ripp[0])"
   ],
   "outputs": [
    {
     "output_type": "execute_result",
     "data": {
      "text/plain": [
       "numpy.int32"
      ]
     },
     "metadata": {},
     "execution_count": 764
    }
   ],
   "metadata": {}
  },
  {
   "cell_type": "code",
   "execution_count": 544,
   "source": [
    "prod_capacity = np.array([G.nodes[p]['eggs_per_box'] for p in prods])\r\n",
    "sum(prod_capacity * ripp), supply_qty"
   ],
   "outputs": [
    {
     "output_type": "execute_result",
     "data": {
      "text/plain": [
       "(936, 1000)"
      ]
     },
     "metadata": {},
     "execution_count": 544
    }
   ],
   "metadata": {}
  },
  {
   "cell_type": "code",
   "execution_count": 388,
   "source": [
    "# Set the demand for each product by every customer\r\n",
    "G['P1']['C1']['demand']=20\r\n",
    "G['P1']['C2']['demand']=20\r\n",
    "G['P1']['C3']['demand']=10\r\n",
    "G['P1']['C4']['demand']=10\r\n",
    "G['P2']['C1']['demand']=20 \r\n",
    "G['P2']['C2']['demand']=20\r\n",
    "G['P2']['C3']['demand']=10\r\n",
    "G['P2']['C4']['demand']=10\r\n",
    "G['P3']['C3']['demand']=10\r\n",
    "G['P3']['C4']['demand']=10\r\n",
    "G['P3']['C5']['demand']=10"
   ],
   "outputs": [],
   "metadata": {}
  },
  {
   "cell_type": "code",
   "execution_count": 389,
   "source": [
    "def get_demand(graph: nx.DiGraph) -> np.array:\r\n",
    "    ''' Gets a demand array from graph'''\r\n",
    "    global prods\r\n",
    "    return np.array([graph[p][c]['demand'] for p in prods for c in graph.successors(p)]).astype(np.int64)   "
   ],
   "outputs": [],
   "metadata": {}
  },
  {
   "cell_type": "code",
   "execution_count": 390,
   "source": [
    "demand = get_demand(G)\r\n",
    "demand"
   ],
   "outputs": [
    {
     "output_type": "execute_result",
     "data": {
      "text/plain": [
       "array([20, 20, 10, 10, 20, 20, 10, 10, 10, 10, 10], dtype=int64)"
      ]
     },
     "metadata": {},
     "execution_count": 390
    }
   ],
   "metadata": {}
  },
  {
   "cell_type": "code",
   "execution_count": 391,
   "source": [
    "# Add distribution of product types to customers\r\n",
    "G['P1']['C1']['quantity']=10\r\n",
    "G['P1']['C2']['quantity']=10\r\n",
    "G['P1']['C3']['quantity']=5\r\n",
    "G['P1']['C4']['quantity']=5\r\n",
    "G['P2']['C1']['quantity']=10 \r\n",
    "G['P2']['C2']['quantity']=10\r\n",
    "G['P2']['C3']['quantity']=5\r\n",
    "G['P2']['C4']['quantity']=5\r\n",
    "G['P3']['C3']['quantity']=5\r\n",
    "G['P3']['C4']['quantity']=5\r\n",
    "G['P3']['C5']['quantity']=5"
   ],
   "outputs": [],
   "metadata": {}
  },
  {
   "cell_type": "code",
   "execution_count": 392,
   "source": [
    "def get_allocated_quantities(graph: nx.DiGraph) -> np.array:\r\n",
    "    ''' Returns an array with the allocated quantities'''\r\n",
    "    global prods\r\n",
    "    return np.array([graph[p][c]['quantity'] for p in prods for c in graph.successors(p)]).astype(np.int64)"
   ],
   "outputs": [],
   "metadata": {}
  },
  {
   "cell_type": "code",
   "execution_count": 368,
   "source": [
    "def set_allocated_quantities(graph: nx.DiGraph, vec: np.array) -> nx.DiGraph:\r\n",
    "    ''' Replaces the allocated quantites of products by a values in vec'''\r\n",
    "    global prods\r\n",
    "    for p in prods:\r\n",
    "        for c, v in zip(graph.successors(p), vec):\r\n",
    "            graph[p][c]['quantity']= v        \r\n"
   ],
   "outputs": [],
   "metadata": {}
  },
  {
   "cell_type": "code",
   "execution_count": 717,
   "source": [
    "alloc_qty = get_allocated_quantities(G)\r\n",
    "alloc_qty"
   ],
   "outputs": [
    {
     "output_type": "execute_result",
     "data": {
      "text/plain": [
       "array([10, 10,  5,  5, 10, 10,  5,  5,  5,  5,  5], dtype=int64)"
      ]
     },
     "metadata": {},
     "execution_count": 717
    }
   ],
   "metadata": {}
  },
  {
   "cell_type": "code",
   "execution_count": 719,
   "source": [
    "alloc_qty[0:4]"
   ],
   "outputs": [
    {
     "output_type": "execute_result",
     "data": {
      "text/plain": [
       "array([10, 10,  5,  5], dtype=int64)"
      ]
     },
     "metadata": {},
     "execution_count": 719
    }
   ],
   "metadata": {}
  },
  {
   "cell_type": "code",
   "execution_count": 396,
   "source": [
    "def demand_check(vec: np.array, demand_vec: np.array) -> bool:\r\n",
    "    ''' Checks to see that the allocated quantities is less than demand\r\n",
    "        and greater than zero '''\r\n",
    "    return np.all(alloc_qty <= demand) and np.all(alloc_qty >= 0)"
   ],
   "outputs": [],
   "metadata": {}
  },
  {
   "cell_type": "code",
   "execution_count": 765,
   "source": [
    "demand_check(alloc_qty, demand)"
   ],
   "outputs": [
    {
     "output_type": "execute_result",
     "data": {
      "text/plain": [
       "True"
      ]
     },
     "metadata": {},
     "execution_count": 765
    }
   ],
   "metadata": {}
  },
  {
   "cell_type": "code",
   "execution_count": 781,
   "source": [
    "def random_instantiate_allocated_qty(graph: nx.DiGraph, prod: str, supply_prod: np.int) -> np.array:\r\n",
    "    \r\n",
    "    demand = np.array([graph[prod][c]['demand'] for c in G.successors(prod)]).astype(np.int)\r\n",
    "    supply = supply_prod.copy()\r\n",
    "    arr = np.zeros(demand.size)\r\n",
    "    for i, d in enumerate(demand):\r\n",
    "        try:\r\n",
    "            r = np.random.randint(0, min(d, supply))\r\n",
    "            arr[i] = r\r\n",
    "            supply -= r\r\n",
    "        except ValueError:\r\n",
    "            z = 0\r\n",
    "            arr[i] = z\r\n",
    "    return arr"
   ],
   "outputs": [],
   "metadata": {}
  },
  {
   "cell_type": "code",
   "execution_count": 799,
   "source": [
    "random_instantiate_allocated_qty(graph=G, prod=prods[0], supply_prod=ripp[0])"
   ],
   "outputs": [
    {
     "output_type": "execute_result",
     "data": {
      "text/plain": [
       "array([2., 4., 5., 1.])"
      ]
     },
     "metadata": {},
     "execution_count": 799
    }
   ],
   "metadata": {}
  },
  {
   "cell_type": "code",
   "execution_count": 805,
   "source": [
    "vec = np.concatenate([random_instantiate_allocated_qty(graph=G, prod=p, supply_prod=s) for p,s in zip(prods, ripp)])"
   ],
   "outputs": [],
   "metadata": {}
  },
  {
   "cell_type": "code",
   "execution_count": 866,
   "source": [
    "vec"
   ],
   "outputs": [
    {
     "output_type": "execute_result",
     "data": {
      "text/plain": [
       "array([6., 3., 2., 1., 6., 2., 3., 1., 6., 1., 6.])"
      ]
     },
     "metadata": {},
     "execution_count": 866
    }
   ],
   "metadata": {}
  },
  {
   "cell_type": "code",
   "execution_count": 865,
   "source": [
    "demand"
   ],
   "outputs": [
    {
     "output_type": "execute_result",
     "data": {
      "text/plain": [
       "array([20, 20, 10, 10, 20, 20, 10, 10, 10, 10, 10], dtype=int64)"
      ]
     },
     "metadata": {},
     "execution_count": 865
    }
   ],
   "metadata": {}
  },
  {
   "cell_type": "code",
   "execution_count": 808,
   "source": [
    "demand_check(vec, demand)"
   ],
   "outputs": [
    {
     "output_type": "execute_result",
     "data": {
      "text/plain": [
       "True"
      ]
     },
     "metadata": {},
     "execution_count": 808
    }
   ],
   "metadata": {}
  },
  {
   "cell_type": "code",
   "execution_count": 811,
   "source": [
    "[[G[prods[0]][c]['demand'] for c in G.successors(prods[0])] for p in prods]"
   ],
   "outputs": [
    {
     "output_type": "execute_result",
     "data": {
      "text/plain": [
       "[[20, 20, 10, 10], [20, 20, 10, 10], [20, 20, 10, 10]]"
      ]
     },
     "metadata": {},
     "execution_count": 811
    }
   ],
   "metadata": {}
  },
  {
   "cell_type": "code",
   "execution_count": 895,
   "source": [
    "def supply_check_alloc(vec: np.array, packed_prod: np.array, graph: nx.DiGraph) -> bool:\r\n",
    "    ''' Check to see if the vec meets packed products constraint'''\r\n",
    "    global prods\r\n",
    "    # Get the cumulative sum of index positions [start:end] of the products and customers -> [0,4,8,11] \r\n",
    "    inds = np.cumsum(np.insert([len([graph[p][c]['demand'] for c in graph.successors(p)]) for p in prods],0,0))\r\n",
    "    assert len(inds)-1 == len(packed_prod), 'Length mismatch!'\r\n",
    "    # Sum of values in the index positons together\r\n",
    "    totals = [np.sum(vec[inds[i]:inds[i+1]]) for i, pp in enumerate(packed_prod)] \r\n",
    "    return np.all(totals <= packed_prod) and np.all(vec >= 0)"
   ],
   "outputs": [],
   "metadata": {}
  },
  {
   "cell_type": "code",
   "execution_count": 897,
   "source": [
    "supply_check_alloc(vec=vec, packed_prod=ripp, graph=G)"
   ],
   "outputs": [
    {
     "output_type": "execute_result",
     "data": {
      "text/plain": [
       "True"
      ]
     },
     "metadata": {},
     "execution_count": 897
    }
   ],
   "metadata": {}
  },
  {
   "cell_type": "code",
   "execution_count": 894,
   "source": [
    "np.cumsum(np.insert([len([G[p][c]['demand'] for c in G.successors(p)]) for p in prods],0,0))"
   ],
   "outputs": [
    {
     "output_type": "execute_result",
     "data": {
      "text/plain": [
       "array([ 0,  4,  8, 11], dtype=int32)"
      ]
     },
     "metadata": {},
     "execution_count": 894
    }
   ],
   "metadata": {}
  },
  {
   "cell_type": "code",
   "execution_count": null,
   "source": [],
   "outputs": [],
   "metadata": {}
  },
  {
   "cell_type": "code",
   "execution_count": null,
   "source": [],
   "outputs": [],
   "metadata": {}
  },
  {
   "cell_type": "code",
   "execution_count": 243,
   "source": [
    "# Get edge labels for plotting\r\n",
    "edge_att = nx.get_edge_attributes(G, 'quantity')"
   ],
   "outputs": [],
   "metadata": {}
  },
  {
   "cell_type": "code",
   "execution_count": 244,
   "source": [
    "#Node positions on graph\r\n",
    "sc_pos = {'F1': (1, 10), 'F2': (1, 9), 'F3': (1, 8), 'F4': (1, 7), 'F5': (1, 6), 'F6': (1, 5), 'F7': (1, 4), 'F8': (1, 3), 'F9': (1, 2),'F10': (1, 1), dealer:(5,5), 'P1':(7,7), 'P2':(7,5), 'P3':(7,3), 'C1': (9,9), 'C2': (9,7), 'C3': (9,5), 'C4': (9,3), 'C5': (9,1) }"
   ],
   "outputs": [],
   "metadata": {}
  },
  {
   "cell_type": "code",
   "execution_count": 245,
   "source": [
    "# Color the nodes\r\n",
    "val_map = {'Dealer': 'pink',\r\n",
    "        'F1':'limegreen','F2':'limegreen','F3':'limegreen','F4':'limegreen','F5':'limegreen',\r\n",
    "        'F6':'limegreen','F7':'limegreen','F8':'limegreen','F9':'limegreen','F10':'limegreen',\r\n",
    "        'C1':'skyblue','C2':'skyblue','C3':'skyblue','C4':'skyblue', 'C5':'skyblue',\r\n",
    "        'P1':'salmon','P2':'salmon','P3':'salmon'}\r\n",
    "\r\n",
    "col = [val_map.get(node_col,'black') for node_col in G.nodes()]"
   ],
   "outputs": [],
   "metadata": {}
  },
  {
   "cell_type": "code",
   "execution_count": 246,
   "source": [
    "# Size the nodes\r\n",
    "val_map_size = {'Dealer': 3000,\r\n",
    "        'F1':500,'F2':500,'F3':500,'F4':500,'F5':500,'F6':500,'F7':500,'F8':500,'F9':500,'F10':500,\r\n",
    "        'C1':500,'C2':500,'C3':500,'C4':500, 'C5':500,\r\n",
    "        'P1':500,'P2':500,'P3':500}\r\n",
    "size = [val_map_size.get(node_col,'black') for node_col in G.nodes()]"
   ],
   "outputs": [],
   "metadata": {}
  },
  {
   "cell_type": "code",
   "execution_count": null,
   "source": [],
   "outputs": [],
   "metadata": {}
  },
  {
   "cell_type": "code",
   "execution_count": 247,
   "source": [
    "# Draw graph\r\n",
    "fig, ax = plt.subplots(figsize=(12,8))\r\n",
    "nx.draw_networkx(G, pos=sc_pos, node_size = size, node_color= col, arrows=True)\r\n",
    "nx.draw_networkx_edge_labels(G, pos=sc_pos, edge_labels=edge_att, rotate=False)\r\n",
    "ax.set_xlim(0,11)\r\n",
    "ax.set_ylim(0,11)\r\n",
    "# plt.savefig('sc_graph')\r\n",
    "plt.show()"
   ],
   "outputs": [
    {
     "output_type": "display_data",
     "data": {
      "text/plain": [
       "<Figure size 864x576 with 1 Axes>"
      ],
      "image/svg+xml": "<?xml version=\"1.0\" encoding=\"utf-8\" standalone=\"no\"?>\r\n<!DOCTYPE svg PUBLIC \"-//W3C//DTD SVG 1.1//EN\"\r\n  \"http://www.w3.org/Graphics/SVG/1.1/DTD/svg11.dtd\">\r\n<!-- Created with matplotlib (https://matplotlib.org/) -->\r\n<svg height=\"449.28pt\" version=\"1.1\" viewBox=\"0 0 684 449.28\" width=\"684pt\" xmlns=\"http://www.w3.org/2000/svg\" xmlns:xlink=\"http://www.w3.org/1999/xlink\">\r\n <defs>\r\n  <style type=\"text/css\">\r\n*{stroke-linecap:butt;stroke-linejoin:round;}\r\n  </style>\r\n </defs>\r\n <g id=\"figure_1\">\r\n  <g id=\"patch_1\">\r\n   <path d=\"M 0 449.28 \r\nL 684 449.28 \r\nL 684 0 \r\nL 0 0 \r\nz\r\n\" style=\"fill:none;\"/>\r\n  </g>\r\n  <g id=\"axes_1\">\r\n   <g id=\"patch_2\">\r\n    <path d=\"M 7.2 442.08 \r\nL 676.8 442.08 \r\nL 676.8 7.2 \r\nL 7.2 7.2 \r\nz\r\n\" style=\"fill:#ffffff;\"/>\r\n   </g>\r\n   <g id=\"patch_3\">\r\n    <path clip-path=\"url(#pe5fca8a225)\" d=\"M 68.072727 46.734545 \r\nQ 179.186632 136.93992 289.43253 226.440622 \r\n\" style=\"fill:none;stroke:#000000;stroke-linecap:round;\"/>\r\n    <path clip-path=\"url(#pe5fca8a225)\" d=\"M 287.587609 222.36677 \r\nL 289.43253 226.440622 \r\nL 285.066496 225.472247 \r\nL 287.587609 222.36677 \r\nz\r\n\" style=\"stroke:#000000;stroke-linecap:round;\"/>\r\n   </g>\r\n   <g id=\"patch_4\">\r\n    <path clip-path=\"url(#pe5fca8a225)\" d=\"M 68.072727 86.269091 \r\nQ 178.335811 157.880814 287.661256 228.883576 \r\n\" style=\"fill:none;stroke:#000000;stroke-linecap:round;\"/>\r\n    <path clip-path=\"url(#pe5fca8a225)\" d=\"M 285.396 225.027592 \r\nL 287.661256 228.883576 \r\nL 283.217315 228.38219 \r\nL 285.396 225.027592 \r\nz\r\n\" style=\"stroke:#000000;stroke-linecap:round;\"/>\r\n   </g>\r\n   <g id=\"patch_5\">\r\n    <path clip-path=\"url(#pe5fca8a225)\" d=\"M 68.072727 125.803636 \r\nQ 177.507282 179.108855 285.936703 231.924476 \r\n\" style=\"fill:none;stroke:#000000;stroke-linecap:round;\"/>\r\n    <path clip-path=\"url(#pe5fca8a225)\" d=\"M 283.216445 228.3748 \r\nL 285.936703 231.924476 \r\nL 281.464808 231.970877 \r\nL 283.216445 228.3748 \r\nz\r\n\" style=\"stroke:#000000;stroke-linecap:round;\"/>\r\n   </g>\r\n   <g id=\"patch_6\">\r\n    <path clip-path=\"url(#pe5fca8a225)\" d=\"M 68.072727 165.338182 \r\nQ 176.79393 200.643347 284.45176 235.603201 \r\n\" style=\"fill:none;stroke:#000000;stroke-linecap:round;\"/>\r\n    <path clip-path=\"url(#pe5fca8a225)\" d=\"M 281.265033 232.465563 \r\nL 284.45176 235.603201 \r\nL 280.029613 236.27 \r\nL 281.265033 232.465563 \r\nz\r\n\" style=\"stroke:#000000;stroke-linecap:round;\"/>\r\n   </g>\r\n   <g id=\"patch_7\">\r\n    <path clip-path=\"url(#pe5fca8a225)\" d=\"M 68.072727 204.872727 \r\nQ 176.3035 222.445681 283.430691 239.83945 \r\n\" style=\"fill:none;stroke:#000000;stroke-linecap:round;\"/>\r\n    <path clip-path=\"url(#pe5fca8a225)\" d=\"M 279.80293 237.224236 \r\nL 283.430691 239.83945 \r\nL 279.161862 241.172531 \r\nL 279.80293 237.224236 \r\nz\r\n\" style=\"stroke:#000000;stroke-linecap:round;\"/>\r\n   </g>\r\n   <g id=\"patch_8\">\r\n    <path clip-path=\"url(#pe5fca8a225)\" d=\"M 68.072727 244.407273 \r\nQ 176.125162 244.407273 283.059563 244.407273 \r\n\" style=\"fill:none;stroke:#000000;stroke-linecap:round;\"/>\r\n    <path clip-path=\"url(#pe5fca8a225)\" d=\"M 279.059563 242.407273 \r\nL 283.059563 244.407273 \r\nL 279.059563 246.407273 \r\nL 279.059563 242.407273 \r\nz\r\n\" style=\"stroke:#000000;stroke-linecap:round;\"/>\r\n   </g>\r\n   <g id=\"patch_9\">\r\n    <path clip-path=\"url(#pe5fca8a225)\" d=\"M 68.072727 283.941818 \r\nQ 176.3035 266.368865 283.430691 248.975095 \r\n\" style=\"fill:none;stroke:#000000;stroke-linecap:round;\"/>\r\n    <path clip-path=\"url(#pe5fca8a225)\" d=\"M 279.161862 247.642015 \r\nL 283.430691 248.975095 \r\nL 279.80293 251.59031 \r\nL 279.161862 247.642015 \r\nz\r\n\" style=\"stroke:#000000;stroke-linecap:round;\"/>\r\n   </g>\r\n   <g id=\"patch_10\">\r\n    <path clip-path=\"url(#pe5fca8a225)\" d=\"M 68.072727 323.476364 \r\nQ 176.79393 288.171199 284.45176 253.211344 \r\n\" style=\"fill:none;stroke:#000000;stroke-linecap:round;\"/>\r\n    <path clip-path=\"url(#pe5fca8a225)\" d=\"M 280.029613 252.544545 \r\nL 284.45176 253.211344 \r\nL 281.265033 256.348982 \r\nL 280.029613 252.544545 \r\nz\r\n\" style=\"stroke:#000000;stroke-linecap:round;\"/>\r\n   </g>\r\n   <g id=\"patch_11\">\r\n    <path clip-path=\"url(#pe5fca8a225)\" d=\"M 68.072727 363.010909 \r\nQ 177.507282 309.70569 285.936703 256.890069 \r\n\" style=\"fill:none;stroke:#000000;stroke-linecap:round;\"/>\r\n    <path clip-path=\"url(#pe5fca8a225)\" d=\"M 281.464808 256.843668 \r\nL 285.936703 256.890069 \r\nL 283.216445 260.439745 \r\nL 281.464808 256.843668 \r\nz\r\n\" style=\"stroke:#000000;stroke-linecap:round;\"/>\r\n   </g>\r\n   <g id=\"patch_12\">\r\n    <path clip-path=\"url(#pe5fca8a225)\" d=\"M 68.072727 402.545455 \r\nQ 178.335811 330.933731 287.661256 259.930969 \r\n\" style=\"fill:none;stroke:#000000;stroke-linecap:round;\"/>\r\n    <path clip-path=\"url(#pe5fca8a225)\" d=\"M 283.217315 260.432355 \r\nL 287.661256 259.930969 \r\nL 285.396 263.786954 \r\nL 283.217315 260.432355 \r\nz\r\n\" style=\"stroke:#000000;stroke-linecap:round;\"/>\r\n   </g>\r\n   <g id=\"patch_13\">\r\n    <path clip-path=\"url(#pe5fca8a225)\" d=\"M 311.563636 244.407273 \r\nQ 367.749416 207.916723 422.997557 172.035135 \r\n\" style=\"fill:none;stroke:#000000;stroke-linecap:round;\"/>\r\n    <path clip-path=\"url(#pe5fca8a225)\" d=\"M 418.553616 172.536521 \r\nL 422.997557 172.035135 \r\nL 420.732302 175.891119 \r\nL 418.553616 172.536521 \r\nz\r\n\" style=\"stroke:#000000;stroke-linecap:round;\"/>\r\n   </g>\r\n   <g id=\"patch_14\">\r\n    <path clip-path=\"url(#pe5fca8a225)\" d=\"M 311.563636 244.407273 \r\nQ 366.84658 244.407273 421.011489 244.407273 \r\n\" style=\"fill:none;stroke:#000000;stroke-linecap:round;\"/>\r\n    <path clip-path=\"url(#pe5fca8a225)\" d=\"M 417.011489 242.407273 \r\nL 421.011489 244.407273 \r\nL 417.011489 246.407273 \r\nL 417.011489 242.407273 \r\nz\r\n\" style=\"stroke:#000000;stroke-linecap:round;\"/>\r\n   </g>\r\n   <g id=\"patch_15\">\r\n    <path clip-path=\"url(#pe5fca8a225)\" d=\"M 311.563636 244.407273 \r\nQ 367.749416 280.897822 422.997557 316.779411 \r\n\" style=\"fill:none;stroke:#000000;stroke-linecap:round;\"/>\r\n    <path clip-path=\"url(#pe5fca8a225)\" d=\"M 420.732302 312.923426 \r\nL 422.997557 316.779411 \r\nL 418.553616 316.278025 \r\nL 420.732302 312.923426 \r\nz\r\n\" style=\"stroke:#000000;stroke-linecap:round;\"/>\r\n   </g>\r\n   <g id=\"patch_16\">\r\n    <path clip-path=\"url(#pe5fca8a225)\" d=\"M 433.309091 165.338182 \r\nQ 489.494871 128.847632 544.743012 92.966044 \r\n\" style=\"fill:none;stroke:#000000;stroke-linecap:round;\"/>\r\n    <path clip-path=\"url(#pe5fca8a225)\" d=\"M 540.299071 93.46743 \r\nL 544.743012 92.966044 \r\nL 542.477756 96.822028 \r\nL 540.299071 93.46743 \r\nz\r\n\" style=\"stroke:#000000;stroke-linecap:round;\"/>\r\n   </g>\r\n   <g id=\"patch_17\">\r\n    <path clip-path=\"url(#pe5fca8a225)\" d=\"M 433.309091 165.338182 \r\nQ 488.592034 165.338182 542.756944 165.338182 \r\n\" style=\"fill:none;stroke:#000000;stroke-linecap:round;\"/>\r\n    <path clip-path=\"url(#pe5fca8a225)\" d=\"M 538.756944 163.338182 \r\nL 542.756944 165.338182 \r\nL 538.756944 167.338182 \r\nL 538.756944 163.338182 \r\nz\r\n\" style=\"stroke:#000000;stroke-linecap:round;\"/>\r\n   </g>\r\n   <g id=\"patch_18\">\r\n    <path clip-path=\"url(#pe5fca8a225)\" d=\"M 433.309091 165.338182 \r\nQ 489.494871 201.828731 544.743012 237.71032 \r\n\" style=\"fill:none;stroke:#000000;stroke-linecap:round;\"/>\r\n    <path clip-path=\"url(#pe5fca8a225)\" d=\"M 542.477756 233.854335 \r\nL 544.743012 237.71032 \r\nL 540.299071 237.208934 \r\nL 542.477756 233.854335 \r\nz\r\n\" style=\"stroke:#000000;stroke-linecap:round;\"/>\r\n   </g>\r\n   <g id=\"patch_19\">\r\n    <path clip-path=\"url(#pe5fca8a225)\" d=\"M 433.309091 165.338182 \r\nQ 490.772031 239.978216 547.55294 313.732343 \r\n\" style=\"fill:none;stroke:#000000;stroke-linecap:round;\"/>\r\n    <path clip-path=\"url(#pe5fca8a225)\" d=\"M 546.69759 309.342767 \r\nL 547.55294 313.732343 \r\nL 543.528069 311.782878 \r\nL 546.69759 309.342767 \r\nz\r\n\" style=\"stroke:#000000;stroke-linecap:round;\"/>\r\n   </g>\r\n   <g id=\"patch_20\">\r\n    <path clip-path=\"url(#pe5fca8a225)\" d=\"M 433.309091 244.407273 \r\nQ 490.772031 169.767238 547.55294 96.013111 \r\n\" style=\"fill:none;stroke:#000000;stroke-linecap:round;\"/>\r\n    <path clip-path=\"url(#pe5fca8a225)\" d=\"M 543.528069 97.962576 \r\nL 547.55294 96.013111 \r\nL 546.69759 100.402687 \r\nL 543.528069 97.962576 \r\nz\r\n\" style=\"stroke:#000000;stroke-linecap:round;\"/>\r\n   </g>\r\n   <g id=\"patch_21\">\r\n    <path clip-path=\"url(#pe5fca8a225)\" d=\"M 433.309091 244.407273 \r\nQ 489.494871 207.916723 544.743012 172.035135 \r\n\" style=\"fill:none;stroke:#000000;stroke-linecap:round;\"/>\r\n    <path clip-path=\"url(#pe5fca8a225)\" d=\"M 540.299071 172.536521 \r\nL 544.743012 172.035135 \r\nL 542.477756 175.891119 \r\nL 540.299071 172.536521 \r\nz\r\n\" style=\"stroke:#000000;stroke-linecap:round;\"/>\r\n   </g>\r\n   <g id=\"patch_22\">\r\n    <path clip-path=\"url(#pe5fca8a225)\" d=\"M 433.309091 244.407273 \r\nQ 488.592034 244.407273 542.756944 244.407273 \r\n\" style=\"fill:none;stroke:#000000;stroke-linecap:round;\"/>\r\n    <path clip-path=\"url(#pe5fca8a225)\" d=\"M 538.756944 242.407273 \r\nL 542.756944 244.407273 \r\nL 538.756944 246.407273 \r\nL 538.756944 242.407273 \r\nz\r\n\" style=\"stroke:#000000;stroke-linecap:round;\"/>\r\n   </g>\r\n   <g id=\"patch_23\">\r\n    <path clip-path=\"url(#pe5fca8a225)\" d=\"M 433.309091 244.407273 \r\nQ 489.494871 280.897822 544.743012 316.779411 \r\n\" style=\"fill:none;stroke:#000000;stroke-linecap:round;\"/>\r\n    <path clip-path=\"url(#pe5fca8a225)\" d=\"M 542.477756 312.923426 \r\nL 544.743012 316.779411 \r\nL 540.299071 316.278025 \r\nL 542.477756 312.923426 \r\nz\r\n\" style=\"stroke:#000000;stroke-linecap:round;\"/>\r\n   </g>\r\n   <g id=\"patch_24\">\r\n    <path clip-path=\"url(#pe5fca8a225)\" d=\"M 433.309091 323.476364 \r\nQ 489.494871 286.985814 544.743012 251.104226 \r\n\" style=\"fill:none;stroke:#000000;stroke-linecap:round;\"/>\r\n    <path clip-path=\"url(#pe5fca8a225)\" d=\"M 540.299071 251.605612 \r\nL 544.743012 251.104226 \r\nL 542.477756 254.96021 \r\nL 540.299071 251.605612 \r\nz\r\n\" style=\"stroke:#000000;stroke-linecap:round;\"/>\r\n   </g>\r\n   <g id=\"patch_25\">\r\n    <path clip-path=\"url(#pe5fca8a225)\" d=\"M 433.309091 323.476364 \r\nQ 488.592034 323.476364 542.756944 323.476364 \r\n\" style=\"fill:none;stroke:#000000;stroke-linecap:round;\"/>\r\n    <path clip-path=\"url(#pe5fca8a225)\" d=\"M 538.756944 321.476364 \r\nL 542.756944 323.476364 \r\nL 538.756944 325.476364 \r\nL 538.756944 321.476364 \r\nz\r\n\" style=\"stroke:#000000;stroke-linecap:round;\"/>\r\n   </g>\r\n   <g id=\"patch_26\">\r\n    <path clip-path=\"url(#pe5fca8a225)\" d=\"M 433.309091 323.476364 \r\nQ 489.494871 359.966913 544.743012 395.848502 \r\n\" style=\"fill:none;stroke:#000000;stroke-linecap:round;\"/>\r\n    <path clip-path=\"url(#pe5fca8a225)\" d=\"M 542.477756 391.992517 \r\nL 544.743012 395.848502 \r\nL 540.299071 395.347115 \r\nL 542.477756 391.992517 \r\nz\r\n\" style=\"stroke:#000000;stroke-linecap:round;\"/>\r\n   </g>\r\n   <g id=\"text_1\">\r\n    <g id=\"patch_27\">\r\n     <path clip-path=\"url(#pe5fca8a225)\" d=\"M 180.274432 153.409972 \r\nL 199.361932 153.409972 \r\nQ 202.361932 153.409972 202.361932 150.409972 \r\nL 202.361932 140.731847 \r\nQ 202.361932 137.731847 199.361932 137.731847 \r\nL 180.274432 137.731847 \r\nQ 177.274432 137.731847 177.274432 140.731847 \r\nL 177.274432 150.409972 \r\nQ 177.274432 153.409972 180.274432 153.409972 \r\nz\r\n\" style=\"fill:#ffffff;stroke:#ffffff;stroke-linejoin:miter;\"/>\r\n    </g>\r\n    <g clip-path=\"url(#pe5fca8a225)\">\r\n     <!-- 100 -->\r\n     <defs>\r\n      <path d=\"M 12.40625 8.296875 \r\nL 28.515625 8.296875 \r\nL 28.515625 63.921875 \r\nL 10.984375 60.40625 \r\nL 10.984375 69.390625 \r\nL 28.421875 72.90625 \r\nL 38.28125 72.90625 \r\nL 38.28125 8.296875 \r\nL 54.390625 8.296875 \r\nL 54.390625 0 \r\nL 12.40625 0 \r\nz\r\n\" id=\"DejaVuSans-49\"/>\r\n      <path d=\"M 31.78125 66.40625 \r\nQ 24.171875 66.40625 20.328125 58.90625 \r\nQ 16.5 51.421875 16.5 36.375 \r\nQ 16.5 21.390625 20.328125 13.890625 \r\nQ 24.171875 6.390625 31.78125 6.390625 \r\nQ 39.453125 6.390625 43.28125 13.890625 \r\nQ 47.125 21.390625 47.125 36.375 \r\nQ 47.125 51.421875 43.28125 58.90625 \r\nQ 39.453125 66.40625 31.78125 66.40625 \r\nz\r\nM 31.78125 74.21875 \r\nQ 44.046875 74.21875 50.515625 64.515625 \r\nQ 56.984375 54.828125 56.984375 36.375 \r\nQ 56.984375 17.96875 50.515625 8.265625 \r\nQ 44.046875 -1.421875 31.78125 -1.421875 \r\nQ 19.53125 -1.421875 13.0625 8.265625 \r\nQ 6.59375 17.96875 6.59375 36.375 \r\nQ 6.59375 54.828125 13.0625 64.515625 \r\nQ 19.53125 74.21875 31.78125 74.21875 \r\nz\r\n\" id=\"DejaVuSans-48\"/>\r\n     </defs>\r\n     <g transform=\"translate(180.274432 148.330284)scale(0.1 -0.1)\">\r\n      <use xlink:href=\"#DejaVuSans-49\"/>\r\n      <use x=\"63.623047\" xlink:href=\"#DejaVuSans-48\"/>\r\n      <use x=\"127.246094\" xlink:href=\"#DejaVuSans-48\"/>\r\n     </g>\r\n    </g>\r\n   </g>\r\n   <g id=\"text_2\">\r\n    <g id=\"patch_28\">\r\n     <path clip-path=\"url(#pe5fca8a225)\" d=\"M 180.274432 173.177244 \r\nL 199.361932 173.177244 \r\nQ 202.361932 173.177244 202.361932 170.177244 \r\nL 202.361932 160.499119 \r\nQ 202.361932 157.499119 199.361932 157.499119 \r\nL 180.274432 157.499119 \r\nQ 177.274432 157.499119 177.274432 160.499119 \r\nL 177.274432 170.177244 \r\nQ 177.274432 173.177244 180.274432 173.177244 \r\nz\r\n\" style=\"fill:#ffffff;stroke:#ffffff;stroke-linejoin:miter;\"/>\r\n    </g>\r\n    <g clip-path=\"url(#pe5fca8a225)\">\r\n     <!-- 100 -->\r\n     <g transform=\"translate(180.274432 168.097557)scale(0.1 -0.1)\">\r\n      <use xlink:href=\"#DejaVuSans-49\"/>\r\n      <use x=\"63.623047\" xlink:href=\"#DejaVuSans-48\"/>\r\n      <use x=\"127.246094\" xlink:href=\"#DejaVuSans-48\"/>\r\n     </g>\r\n    </g>\r\n   </g>\r\n   <g id=\"text_3\">\r\n    <g id=\"patch_29\">\r\n     <path clip-path=\"url(#pe5fca8a225)\" d=\"M 180.274432 192.944517 \r\nL 199.361932 192.944517 \r\nQ 202.361932 192.944517 202.361932 189.944517 \r\nL 202.361932 180.266392 \r\nQ 202.361932 177.266392 199.361932 177.266392 \r\nL 180.274432 177.266392 \r\nQ 177.274432 177.266392 177.274432 180.266392 \r\nL 177.274432 189.944517 \r\nQ 177.274432 192.944517 180.274432 192.944517 \r\nz\r\n\" style=\"fill:#ffffff;stroke:#ffffff;stroke-linejoin:miter;\"/>\r\n    </g>\r\n    <g clip-path=\"url(#pe5fca8a225)\">\r\n     <!-- 100 -->\r\n     <g transform=\"translate(180.274432 187.86483)scale(0.1 -0.1)\">\r\n      <use xlink:href=\"#DejaVuSans-49\"/>\r\n      <use x=\"63.623047\" xlink:href=\"#DejaVuSans-48\"/>\r\n      <use x=\"127.246094\" xlink:href=\"#DejaVuSans-48\"/>\r\n     </g>\r\n    </g>\r\n   </g>\r\n   <g id=\"text_4\">\r\n    <g id=\"patch_30\">\r\n     <path clip-path=\"url(#pe5fca8a225)\" d=\"M 180.274432 212.71179 \r\nL 199.361932 212.71179 \r\nQ 202.361932 212.71179 202.361932 209.71179 \r\nL 202.361932 200.033665 \r\nQ 202.361932 197.033665 199.361932 197.033665 \r\nL 180.274432 197.033665 \r\nQ 177.274432 197.033665 177.274432 200.033665 \r\nL 177.274432 209.71179 \r\nQ 177.274432 212.71179 180.274432 212.71179 \r\nz\r\n\" style=\"fill:#ffffff;stroke:#ffffff;stroke-linejoin:miter;\"/>\r\n    </g>\r\n    <g clip-path=\"url(#pe5fca8a225)\">\r\n     <!-- 100 -->\r\n     <g transform=\"translate(180.274432 207.632102)scale(0.1 -0.1)\">\r\n      <use xlink:href=\"#DejaVuSans-49\"/>\r\n      <use x=\"63.623047\" xlink:href=\"#DejaVuSans-48\"/>\r\n      <use x=\"127.246094\" xlink:href=\"#DejaVuSans-48\"/>\r\n     </g>\r\n    </g>\r\n   </g>\r\n   <g id=\"text_5\">\r\n    <g id=\"patch_31\">\r\n     <path clip-path=\"url(#pe5fca8a225)\" d=\"M 180.274432 232.479062 \r\nL 199.361932 232.479062 \r\nQ 202.361932 232.479062 202.361932 229.479062 \r\nL 202.361932 219.800937 \r\nQ 202.361932 216.800937 199.361932 216.800937 \r\nL 180.274432 216.800937 \r\nQ 177.274432 216.800937 177.274432 219.800937 \r\nL 177.274432 229.479062 \r\nQ 177.274432 232.479062 180.274432 232.479062 \r\nz\r\n\" style=\"fill:#ffffff;stroke:#ffffff;stroke-linejoin:miter;\"/>\r\n    </g>\r\n    <g clip-path=\"url(#pe5fca8a225)\">\r\n     <!-- 100 -->\r\n     <g transform=\"translate(180.274432 227.399375)scale(0.1 -0.1)\">\r\n      <use xlink:href=\"#DejaVuSans-49\"/>\r\n      <use x=\"63.623047\" xlink:href=\"#DejaVuSans-48\"/>\r\n      <use x=\"127.246094\" xlink:href=\"#DejaVuSans-48\"/>\r\n     </g>\r\n    </g>\r\n   </g>\r\n   <g id=\"text_6\">\r\n    <g id=\"patch_32\">\r\n     <path clip-path=\"url(#pe5fca8a225)\" d=\"M 180.274432 252.246335 \r\nL 199.361932 252.246335 \r\nQ 202.361932 252.246335 202.361932 249.246335 \r\nL 202.361932 239.56821 \r\nQ 202.361932 236.56821 199.361932 236.56821 \r\nL 180.274432 236.56821 \r\nQ 177.274432 236.56821 177.274432 239.56821 \r\nL 177.274432 249.246335 \r\nQ 177.274432 252.246335 180.274432 252.246335 \r\nz\r\n\" style=\"fill:#ffffff;stroke:#ffffff;stroke-linejoin:miter;\"/>\r\n    </g>\r\n    <g clip-path=\"url(#pe5fca8a225)\">\r\n     <!-- 100 -->\r\n     <g transform=\"translate(180.274432 247.166648)scale(0.1 -0.1)\">\r\n      <use xlink:href=\"#DejaVuSans-49\"/>\r\n      <use x=\"63.623047\" xlink:href=\"#DejaVuSans-48\"/>\r\n      <use x=\"127.246094\" xlink:href=\"#DejaVuSans-48\"/>\r\n     </g>\r\n    </g>\r\n   </g>\r\n   <g id=\"text_7\">\r\n    <g id=\"patch_33\">\r\n     <path clip-path=\"url(#pe5fca8a225)\" d=\"M 180.274432 272.013608 \r\nL 199.361932 272.013608 \r\nQ 202.361932 272.013608 202.361932 269.013608 \r\nL 202.361932 259.335483 \r\nQ 202.361932 256.335483 199.361932 256.335483 \r\nL 180.274432 256.335483 \r\nQ 177.274432 256.335483 177.274432 259.335483 \r\nL 177.274432 269.013608 \r\nQ 177.274432 272.013608 180.274432 272.013608 \r\nz\r\n\" style=\"fill:#ffffff;stroke:#ffffff;stroke-linejoin:miter;\"/>\r\n    </g>\r\n    <g clip-path=\"url(#pe5fca8a225)\">\r\n     <!-- 100 -->\r\n     <g transform=\"translate(180.274432 266.93392)scale(0.1 -0.1)\">\r\n      <use xlink:href=\"#DejaVuSans-49\"/>\r\n      <use x=\"63.623047\" xlink:href=\"#DejaVuSans-48\"/>\r\n      <use x=\"127.246094\" xlink:href=\"#DejaVuSans-48\"/>\r\n     </g>\r\n    </g>\r\n   </g>\r\n   <g id=\"text_8\">\r\n    <g id=\"patch_34\">\r\n     <path clip-path=\"url(#pe5fca8a225)\" d=\"M 180.274432 291.780881 \r\nL 199.361932 291.780881 \r\nQ 202.361932 291.780881 202.361932 288.780881 \r\nL 202.361932 279.102756 \r\nQ 202.361932 276.102756 199.361932 276.102756 \r\nL 180.274432 276.102756 \r\nQ 177.274432 276.102756 177.274432 279.102756 \r\nL 177.274432 288.780881 \r\nQ 177.274432 291.780881 180.274432 291.780881 \r\nz\r\n\" style=\"fill:#ffffff;stroke:#ffffff;stroke-linejoin:miter;\"/>\r\n    </g>\r\n    <g clip-path=\"url(#pe5fca8a225)\">\r\n     <!-- 100 -->\r\n     <g transform=\"translate(180.274432 286.701193)scale(0.1 -0.1)\">\r\n      <use xlink:href=\"#DejaVuSans-49\"/>\r\n      <use x=\"63.623047\" xlink:href=\"#DejaVuSans-48\"/>\r\n      <use x=\"127.246094\" xlink:href=\"#DejaVuSans-48\"/>\r\n     </g>\r\n    </g>\r\n   </g>\r\n   <g id=\"text_9\">\r\n    <g id=\"patch_35\">\r\n     <path clip-path=\"url(#pe5fca8a225)\" d=\"M 180.274432 311.548153 \r\nL 199.361932 311.548153 \r\nQ 202.361932 311.548153 202.361932 308.548153 \r\nL 202.361932 298.870028 \r\nQ 202.361932 295.870028 199.361932 295.870028 \r\nL 180.274432 295.870028 \r\nQ 177.274432 295.870028 177.274432 298.870028 \r\nL 177.274432 308.548153 \r\nQ 177.274432 311.548153 180.274432 311.548153 \r\nz\r\n\" style=\"fill:#ffffff;stroke:#ffffff;stroke-linejoin:miter;\"/>\r\n    </g>\r\n    <g clip-path=\"url(#pe5fca8a225)\">\r\n     <!-- 100 -->\r\n     <g transform=\"translate(180.274432 306.468466)scale(0.1 -0.1)\">\r\n      <use xlink:href=\"#DejaVuSans-49\"/>\r\n      <use x=\"63.623047\" xlink:href=\"#DejaVuSans-48\"/>\r\n      <use x=\"127.246094\" xlink:href=\"#DejaVuSans-48\"/>\r\n     </g>\r\n    </g>\r\n   </g>\r\n   <g id=\"text_10\">\r\n    <g id=\"patch_36\">\r\n     <path clip-path=\"url(#pe5fca8a225)\" d=\"M 180.274432 331.315426 \r\nL 199.361932 331.315426 \r\nQ 202.361932 331.315426 202.361932 328.315426 \r\nL 202.361932 318.637301 \r\nQ 202.361932 315.637301 199.361932 315.637301 \r\nL 180.274432 315.637301 \r\nQ 177.274432 315.637301 177.274432 318.637301 \r\nL 177.274432 328.315426 \r\nQ 177.274432 331.315426 180.274432 331.315426 \r\nz\r\n\" style=\"fill:#ffffff;stroke:#ffffff;stroke-linejoin:miter;\"/>\r\n    </g>\r\n    <g clip-path=\"url(#pe5fca8a225)\">\r\n     <!-- 100 -->\r\n     <g transform=\"translate(180.274432 326.235739)scale(0.1 -0.1)\">\r\n      <use xlink:href=\"#DejaVuSans-49\"/>\r\n      <use x=\"63.623047\" xlink:href=\"#DejaVuSans-48\"/>\r\n      <use x=\"127.246094\" xlink:href=\"#DejaVuSans-48\"/>\r\n     </g>\r\n    </g>\r\n   </g>\r\n   <g id=\"text_11\">\r\n    <g id=\"patch_37\">\r\n     <path clip-path=\"url(#pe5fca8a225)\" d=\"M 366.073864 212.71179 \r\nL 378.798864 212.71179 \r\nQ 381.798864 212.71179 381.798864 209.71179 \r\nL 381.798864 200.033665 \r\nQ 381.798864 197.033665 378.798864 197.033665 \r\nL 366.073864 197.033665 \r\nQ 363.073864 197.033665 363.073864 200.033665 \r\nL 363.073864 209.71179 \r\nQ 363.073864 212.71179 366.073864 212.71179 \r\nz\r\n\" style=\"fill:#ffffff;stroke:#ffffff;stroke-linejoin:miter;\"/>\r\n    </g>\r\n    <g clip-path=\"url(#pe5fca8a225)\">\r\n     <!-- 30 -->\r\n     <defs>\r\n      <path d=\"M 40.578125 39.3125 \r\nQ 47.65625 37.796875 51.625 33 \r\nQ 55.609375 28.21875 55.609375 21.1875 \r\nQ 55.609375 10.40625 48.1875 4.484375 \r\nQ 40.765625 -1.421875 27.09375 -1.421875 \r\nQ 22.515625 -1.421875 17.65625 -0.515625 \r\nQ 12.796875 0.390625 7.625 2.203125 \r\nL 7.625 11.71875 \r\nQ 11.71875 9.328125 16.59375 8.109375 \r\nQ 21.484375 6.890625 26.8125 6.890625 \r\nQ 36.078125 6.890625 40.9375 10.546875 \r\nQ 45.796875 14.203125 45.796875 21.1875 \r\nQ 45.796875 27.640625 41.28125 31.265625 \r\nQ 36.765625 34.90625 28.71875 34.90625 \r\nL 20.21875 34.90625 \r\nL 20.21875 43.015625 \r\nL 29.109375 43.015625 \r\nQ 36.375 43.015625 40.234375 45.921875 \r\nQ 44.09375 48.828125 44.09375 54.296875 \r\nQ 44.09375 59.90625 40.109375 62.90625 \r\nQ 36.140625 65.921875 28.71875 65.921875 \r\nQ 24.65625 65.921875 20.015625 65.03125 \r\nQ 15.375 64.15625 9.8125 62.3125 \r\nL 9.8125 71.09375 \r\nQ 15.4375 72.65625 20.34375 73.4375 \r\nQ 25.25 74.21875 29.59375 74.21875 \r\nQ 40.828125 74.21875 47.359375 69.109375 \r\nQ 53.90625 64.015625 53.90625 55.328125 \r\nQ 53.90625 49.265625 50.4375 45.09375 \r\nQ 46.96875 40.921875 40.578125 39.3125 \r\nz\r\n\" id=\"DejaVuSans-51\"/>\r\n     </defs>\r\n     <g transform=\"translate(366.073864 207.632102)scale(0.1 -0.1)\">\r\n      <use xlink:href=\"#DejaVuSans-51\"/>\r\n      <use x=\"63.623047\" xlink:href=\"#DejaVuSans-48\"/>\r\n     </g>\r\n    </g>\r\n   </g>\r\n   <g id=\"text_12\">\r\n    <g id=\"patch_38\">\r\n     <path clip-path=\"url(#pe5fca8a225)\" d=\"M 366.073864 252.246335 \r\nL 378.798864 252.246335 \r\nQ 381.798864 252.246335 381.798864 249.246335 \r\nL 381.798864 239.56821 \r\nQ 381.798864 236.56821 378.798864 236.56821 \r\nL 366.073864 236.56821 \r\nQ 363.073864 236.56821 363.073864 239.56821 \r\nL 363.073864 249.246335 \r\nQ 363.073864 252.246335 366.073864 252.246335 \r\nz\r\n\" style=\"fill:#ffffff;stroke:#ffffff;stroke-linejoin:miter;\"/>\r\n    </g>\r\n    <g clip-path=\"url(#pe5fca8a225)\">\r\n     <!-- 30 -->\r\n     <g transform=\"translate(366.073864 247.166648)scale(0.1 -0.1)\">\r\n      <use xlink:href=\"#DejaVuSans-51\"/>\r\n      <use x=\"63.623047\" xlink:href=\"#DejaVuSans-48\"/>\r\n     </g>\r\n    </g>\r\n   </g>\r\n   <g id=\"text_13\">\r\n    <g id=\"patch_39\">\r\n     <path clip-path=\"url(#pe5fca8a225)\" d=\"M 366.073864 291.780881 \r\nL 378.798864 291.780881 \r\nQ 381.798864 291.780881 381.798864 288.780881 \r\nL 381.798864 279.102756 \r\nQ 381.798864 276.102756 378.798864 276.102756 \r\nL 366.073864 276.102756 \r\nQ 363.073864 276.102756 363.073864 279.102756 \r\nL 363.073864 288.780881 \r\nQ 363.073864 291.780881 366.073864 291.780881 \r\nz\r\n\" style=\"fill:#ffffff;stroke:#ffffff;stroke-linejoin:miter;\"/>\r\n    </g>\r\n    <g clip-path=\"url(#pe5fca8a225)\">\r\n     <!-- 15 -->\r\n     <defs>\r\n      <path d=\"M 10.796875 72.90625 \r\nL 49.515625 72.90625 \r\nL 49.515625 64.59375 \r\nL 19.828125 64.59375 \r\nL 19.828125 46.734375 \r\nQ 21.96875 47.46875 24.109375 47.828125 \r\nQ 26.265625 48.1875 28.421875 48.1875 \r\nQ 40.625 48.1875 47.75 41.5 \r\nQ 54.890625 34.8125 54.890625 23.390625 \r\nQ 54.890625 11.625 47.5625 5.09375 \r\nQ 40.234375 -1.421875 26.90625 -1.421875 \r\nQ 22.3125 -1.421875 17.546875 -0.640625 \r\nQ 12.796875 0.140625 7.71875 1.703125 \r\nL 7.71875 11.625 \r\nQ 12.109375 9.234375 16.796875 8.0625 \r\nQ 21.484375 6.890625 26.703125 6.890625 \r\nQ 35.15625 6.890625 40.078125 11.328125 \r\nQ 45.015625 15.765625 45.015625 23.390625 \r\nQ 45.015625 31 40.078125 35.4375 \r\nQ 35.15625 39.890625 26.703125 39.890625 \r\nQ 22.75 39.890625 18.8125 39.015625 \r\nQ 14.890625 38.140625 10.796875 36.28125 \r\nz\r\n\" id=\"DejaVuSans-53\"/>\r\n     </defs>\r\n     <g transform=\"translate(366.073864 286.701193)scale(0.1 -0.1)\">\r\n      <use xlink:href=\"#DejaVuSans-49\"/>\r\n      <use x=\"63.623047\" xlink:href=\"#DejaVuSans-53\"/>\r\n     </g>\r\n    </g>\r\n   </g>\r\n   <g id=\"text_14\">\r\n    <g id=\"patch_40\">\r\n     <path clip-path=\"url(#pe5fca8a225)\" d=\"M 487.819318 133.642699 \r\nL 500.544318 133.642699 \r\nQ 503.544318 133.642699 503.544318 130.642699 \r\nL 503.544318 120.964574 \r\nQ 503.544318 117.964574 500.544318 117.964574 \r\nL 487.819318 117.964574 \r\nQ 484.819318 117.964574 484.819318 120.964574 \r\nL 484.819318 130.642699 \r\nQ 484.819318 133.642699 487.819318 133.642699 \r\nz\r\n\" style=\"fill:#ffffff;stroke:#ffffff;stroke-linejoin:miter;\"/>\r\n    </g>\r\n    <g clip-path=\"url(#pe5fca8a225)\">\r\n     <!-- 10 -->\r\n     <g transform=\"translate(487.819318 128.563011)scale(0.1 -0.1)\">\r\n      <use xlink:href=\"#DejaVuSans-49\"/>\r\n      <use x=\"63.623047\" xlink:href=\"#DejaVuSans-48\"/>\r\n     </g>\r\n    </g>\r\n   </g>\r\n   <g id=\"text_15\">\r\n    <g id=\"patch_41\">\r\n     <path clip-path=\"url(#pe5fca8a225)\" d=\"M 487.819318 173.177244 \r\nL 500.544318 173.177244 \r\nQ 503.544318 173.177244 503.544318 170.177244 \r\nL 503.544318 160.499119 \r\nQ 503.544318 157.499119 500.544318 157.499119 \r\nL 487.819318 157.499119 \r\nQ 484.819318 157.499119 484.819318 160.499119 \r\nL 484.819318 170.177244 \r\nQ 484.819318 173.177244 487.819318 173.177244 \r\nz\r\n\" style=\"fill:#ffffff;stroke:#ffffff;stroke-linejoin:miter;\"/>\r\n    </g>\r\n    <g clip-path=\"url(#pe5fca8a225)\">\r\n     <!-- 10 -->\r\n     <g transform=\"translate(487.819318 168.097557)scale(0.1 -0.1)\">\r\n      <use xlink:href=\"#DejaVuSans-49\"/>\r\n      <use x=\"63.623047\" xlink:href=\"#DejaVuSans-48\"/>\r\n     </g>\r\n    </g>\r\n   </g>\r\n   <g id=\"text_16\">\r\n    <g id=\"patch_42\">\r\n     <path clip-path=\"url(#pe5fca8a225)\" d=\"M 491.000568 212.71179 \r\nL 497.363068 212.71179 \r\nQ 500.363068 212.71179 500.363068 209.71179 \r\nL 500.363068 200.033665 \r\nQ 500.363068 197.033665 497.363068 197.033665 \r\nL 491.000568 197.033665 \r\nQ 488.000568 197.033665 488.000568 200.033665 \r\nL 488.000568 209.71179 \r\nQ 488.000568 212.71179 491.000568 212.71179 \r\nz\r\n\" style=\"fill:#ffffff;stroke:#ffffff;stroke-linejoin:miter;\"/>\r\n    </g>\r\n    <g clip-path=\"url(#pe5fca8a225)\">\r\n     <!-- 5 -->\r\n     <g transform=\"translate(491.000568 207.632102)scale(0.1 -0.1)\">\r\n      <use xlink:href=\"#DejaVuSans-53\"/>\r\n     </g>\r\n    </g>\r\n   </g>\r\n   <g id=\"text_17\">\r\n    <g id=\"patch_43\">\r\n     <path clip-path=\"url(#pe5fca8a225)\" d=\"M 491.000568 252.246335 \r\nL 497.363068 252.246335 \r\nQ 500.363068 252.246335 500.363068 249.246335 \r\nL 500.363068 239.56821 \r\nQ 500.363068 236.56821 497.363068 236.56821 \r\nL 491.000568 236.56821 \r\nQ 488.000568 236.56821 488.000568 239.56821 \r\nL 488.000568 249.246335 \r\nQ 488.000568 252.246335 491.000568 252.246335 \r\nz\r\n\" style=\"fill:#ffffff;stroke:#ffffff;stroke-linejoin:miter;\"/>\r\n    </g>\r\n    <g clip-path=\"url(#pe5fca8a225)\">\r\n     <!-- 5 -->\r\n     <g transform=\"translate(491.000568 247.166648)scale(0.1 -0.1)\">\r\n      <use xlink:href=\"#DejaVuSans-53\"/>\r\n     </g>\r\n    </g>\r\n   </g>\r\n   <g id=\"text_18\">\r\n    <g id=\"patch_44\">\r\n     <path clip-path=\"url(#pe5fca8a225)\" d=\"M 487.819318 173.177244 \r\nL 500.544318 173.177244 \r\nQ 503.544318 173.177244 503.544318 170.177244 \r\nL 503.544318 160.499119 \r\nQ 503.544318 157.499119 500.544318 157.499119 \r\nL 487.819318 157.499119 \r\nQ 484.819318 157.499119 484.819318 160.499119 \r\nL 484.819318 170.177244 \r\nQ 484.819318 173.177244 487.819318 173.177244 \r\nz\r\n\" style=\"fill:#ffffff;stroke:#ffffff;stroke-linejoin:miter;\"/>\r\n    </g>\r\n    <g clip-path=\"url(#pe5fca8a225)\">\r\n     <!-- 10 -->\r\n     <g transform=\"translate(487.819318 168.097557)scale(0.1 -0.1)\">\r\n      <use xlink:href=\"#DejaVuSans-49\"/>\r\n      <use x=\"63.623047\" xlink:href=\"#DejaVuSans-48\"/>\r\n     </g>\r\n    </g>\r\n   </g>\r\n   <g id=\"text_19\">\r\n    <g id=\"patch_45\">\r\n     <path clip-path=\"url(#pe5fca8a225)\" d=\"M 487.819318 212.71179 \r\nL 500.544318 212.71179 \r\nQ 503.544318 212.71179 503.544318 209.71179 \r\nL 503.544318 200.033665 \r\nQ 503.544318 197.033665 500.544318 197.033665 \r\nL 487.819318 197.033665 \r\nQ 484.819318 197.033665 484.819318 200.033665 \r\nL 484.819318 209.71179 \r\nQ 484.819318 212.71179 487.819318 212.71179 \r\nz\r\n\" style=\"fill:#ffffff;stroke:#ffffff;stroke-linejoin:miter;\"/>\r\n    </g>\r\n    <g clip-path=\"url(#pe5fca8a225)\">\r\n     <!-- 10 -->\r\n     <g transform=\"translate(487.819318 207.632102)scale(0.1 -0.1)\">\r\n      <use xlink:href=\"#DejaVuSans-49\"/>\r\n      <use x=\"63.623047\" xlink:href=\"#DejaVuSans-48\"/>\r\n     </g>\r\n    </g>\r\n   </g>\r\n   <g id=\"text_20\">\r\n    <g id=\"patch_46\">\r\n     <path clip-path=\"url(#pe5fca8a225)\" d=\"M 491.000568 252.246335 \r\nL 497.363068 252.246335 \r\nQ 500.363068 252.246335 500.363068 249.246335 \r\nL 500.363068 239.56821 \r\nQ 500.363068 236.56821 497.363068 236.56821 \r\nL 491.000568 236.56821 \r\nQ 488.000568 236.56821 488.000568 239.56821 \r\nL 488.000568 249.246335 \r\nQ 488.000568 252.246335 491.000568 252.246335 \r\nz\r\n\" style=\"fill:#ffffff;stroke:#ffffff;stroke-linejoin:miter;\"/>\r\n    </g>\r\n    <g clip-path=\"url(#pe5fca8a225)\">\r\n     <!-- 5 -->\r\n     <g transform=\"translate(491.000568 247.166648)scale(0.1 -0.1)\">\r\n      <use xlink:href=\"#DejaVuSans-53\"/>\r\n     </g>\r\n    </g>\r\n   </g>\r\n   <g id=\"text_21\">\r\n    <g id=\"patch_47\">\r\n     <path clip-path=\"url(#pe5fca8a225)\" d=\"M 491.000568 291.780881 \r\nL 497.363068 291.780881 \r\nQ 500.363068 291.780881 500.363068 288.780881 \r\nL 500.363068 279.102756 \r\nQ 500.363068 276.102756 497.363068 276.102756 \r\nL 491.000568 276.102756 \r\nQ 488.000568 276.102756 488.000568 279.102756 \r\nL 488.000568 288.780881 \r\nQ 488.000568 291.780881 491.000568 291.780881 \r\nz\r\n\" style=\"fill:#ffffff;stroke:#ffffff;stroke-linejoin:miter;\"/>\r\n    </g>\r\n    <g clip-path=\"url(#pe5fca8a225)\">\r\n     <!-- 5 -->\r\n     <g transform=\"translate(491.000568 286.701193)scale(0.1 -0.1)\">\r\n      <use xlink:href=\"#DejaVuSans-53\"/>\r\n     </g>\r\n    </g>\r\n   </g>\r\n   <g id=\"text_22\">\r\n    <g id=\"patch_48\">\r\n     <path clip-path=\"url(#pe5fca8a225)\" d=\"M 491.000568 291.780881 \r\nL 497.363068 291.780881 \r\nQ 500.363068 291.780881 500.363068 288.780881 \r\nL 500.363068 279.102756 \r\nQ 500.363068 276.102756 497.363068 276.102756 \r\nL 491.000568 276.102756 \r\nQ 488.000568 276.102756 488.000568 279.102756 \r\nL 488.000568 288.780881 \r\nQ 488.000568 291.780881 491.000568 291.780881 \r\nz\r\n\" style=\"fill:#ffffff;stroke:#ffffff;stroke-linejoin:miter;\"/>\r\n    </g>\r\n    <g clip-path=\"url(#pe5fca8a225)\">\r\n     <!-- 5 -->\r\n     <g transform=\"translate(491.000568 286.701193)scale(0.1 -0.1)\">\r\n      <use xlink:href=\"#DejaVuSans-53\"/>\r\n     </g>\r\n    </g>\r\n   </g>\r\n   <g id=\"text_23\">\r\n    <g id=\"patch_49\">\r\n     <path clip-path=\"url(#pe5fca8a225)\" d=\"M 491.000568 331.315426 \r\nL 497.363068 331.315426 \r\nQ 500.363068 331.315426 500.363068 328.315426 \r\nL 500.363068 318.637301 \r\nQ 500.363068 315.637301 497.363068 315.637301 \r\nL 491.000568 315.637301 \r\nQ 488.000568 315.637301 488.000568 318.637301 \r\nL 488.000568 328.315426 \r\nQ 488.000568 331.315426 491.000568 331.315426 \r\nz\r\n\" style=\"fill:#ffffff;stroke:#ffffff;stroke-linejoin:miter;\"/>\r\n    </g>\r\n    <g clip-path=\"url(#pe5fca8a225)\">\r\n     <!-- 5 -->\r\n     <g transform=\"translate(491.000568 326.235739)scale(0.1 -0.1)\">\r\n      <use xlink:href=\"#DejaVuSans-53\"/>\r\n     </g>\r\n    </g>\r\n   </g>\r\n   <g id=\"text_24\">\r\n    <g id=\"patch_50\">\r\n     <path clip-path=\"url(#pe5fca8a225)\" d=\"M 491.000568 370.849972 \r\nL 497.363068 370.849972 \r\nQ 500.363068 370.849972 500.363068 367.849972 \r\nL 500.363068 358.171847 \r\nQ 500.363068 355.171847 497.363068 355.171847 \r\nL 491.000568 355.171847 \r\nQ 488.000568 355.171847 488.000568 358.171847 \r\nL 488.000568 367.849972 \r\nQ 488.000568 370.849972 491.000568 370.849972 \r\nz\r\n\" style=\"fill:#ffffff;stroke:#ffffff;stroke-linejoin:miter;\"/>\r\n    </g>\r\n    <g clip-path=\"url(#pe5fca8a225)\">\r\n     <!-- 5 -->\r\n     <g transform=\"translate(491.000568 365.770284)scale(0.1 -0.1)\">\r\n      <use xlink:href=\"#DejaVuSans-53\"/>\r\n     </g>\r\n    </g>\r\n   </g>\r\n   <g id=\"matplotlib.axis_1\">\r\n    <g id=\"xtick_1\"/>\r\n    <g id=\"xtick_2\"/>\r\n    <g id=\"xtick_3\"/>\r\n    <g id=\"xtick_4\"/>\r\n    <g id=\"xtick_5\"/>\r\n    <g id=\"xtick_6\"/>\r\n   </g>\r\n   <g id=\"matplotlib.axis_2\">\r\n    <g id=\"ytick_1\"/>\r\n    <g id=\"ytick_2\"/>\r\n    <g id=\"ytick_3\"/>\r\n    <g id=\"ytick_4\"/>\r\n    <g id=\"ytick_5\"/>\r\n    <g id=\"ytick_6\"/>\r\n   </g>\r\n   <g id=\"PathCollection_1\">\r\n    <path clip-path=\"url(#pe5fca8a225)\" d=\"M 68.072727 57.914885 \r\nC 71.037788 57.914885 73.881807 56.736854 75.978421 54.64024 \r\nC 78.075036 52.543625 79.253067 49.699606 79.253067 46.734545 \r\nC 79.253067 43.769485 78.075036 40.925466 75.978421 38.828851 \r\nC 73.881807 36.732237 71.037788 35.554206 68.072727 35.554206 \r\nC 65.107666 35.554206 62.263648 36.732237 60.167033 38.828851 \r\nC 58.070419 40.925466 56.892387 43.769485 56.892387 46.734545 \r\nC 56.892387 49.699606 58.070419 52.543625 60.167033 54.64024 \r\nC 62.263648 56.736854 65.107666 57.914885 68.072727 57.914885 \r\nz\r\n\" style=\"fill:#32cd32;stroke:#32cd32;\"/>\r\n    <path clip-path=\"url(#pe5fca8a225)\" d=\"M 68.072727 97.449431 \r\nC 71.037788 97.449431 73.881807 96.2714 75.978421 94.174785 \r\nC 78.075036 92.07817 79.253067 89.234152 79.253067 86.269091 \r\nC 79.253067 83.30403 78.075036 80.460011 75.978421 78.363397 \r\nC 73.881807 76.266782 71.037788 75.088751 68.072727 75.088751 \r\nC 65.107666 75.088751 62.263648 76.266782 60.167033 78.363397 \r\nC 58.070419 80.460011 56.892387 83.30403 56.892387 86.269091 \r\nC 56.892387 89.234152 58.070419 92.07817 60.167033 94.174785 \r\nC 62.263648 96.2714 65.107666 97.449431 68.072727 97.449431 \r\nz\r\n\" style=\"fill:#32cd32;stroke:#32cd32;\"/>\r\n    <path clip-path=\"url(#pe5fca8a225)\" d=\"M 68.072727 136.983976 \r\nC 71.037788 136.983976 73.881807 135.805945 75.978421 133.709331 \r\nC 78.075036 131.612716 79.253067 128.768697 79.253067 125.803636 \r\nC 79.253067 122.838576 78.075036 119.994557 75.978421 117.897942 \r\nC 73.881807 115.801328 71.037788 114.623296 68.072727 114.623296 \r\nC 65.107666 114.623296 62.263648 115.801328 60.167033 117.897942 \r\nC 58.070419 119.994557 56.892387 122.838576 56.892387 125.803636 \r\nC 56.892387 128.768697 58.070419 131.612716 60.167033 133.709331 \r\nC 62.263648 135.805945 65.107666 136.983976 68.072727 136.983976 \r\nz\r\n\" style=\"fill:#32cd32;stroke:#32cd32;\"/>\r\n    <path clip-path=\"url(#pe5fca8a225)\" d=\"M 68.072727 176.518522 \r\nC 71.037788 176.518522 73.881807 175.340491 75.978421 173.243876 \r\nC 78.075036 171.147261 79.253067 168.303243 79.253067 165.338182 \r\nC 79.253067 162.373121 78.075036 159.529102 75.978421 157.432488 \r\nC 73.881807 155.335873 71.037788 154.157842 68.072727 154.157842 \r\nC 65.107666 154.157842 62.263648 155.335873 60.167033 157.432488 \r\nC 58.070419 159.529102 56.892387 162.373121 56.892387 165.338182 \r\nC 56.892387 168.303243 58.070419 171.147261 60.167033 173.243876 \r\nC 62.263648 175.340491 65.107666 176.518522 68.072727 176.518522 \r\nz\r\n\" style=\"fill:#32cd32;stroke:#32cd32;\"/>\r\n    <path clip-path=\"url(#pe5fca8a225)\" d=\"M 68.072727 216.053067 \r\nC 71.037788 216.053067 73.881807 214.875036 75.978421 212.778421 \r\nC 78.075036 210.681807 79.253067 207.837788 79.253067 204.872727 \r\nC 79.253067 201.907666 78.075036 199.063648 75.978421 196.967033 \r\nC 73.881807 194.870419 71.037788 193.692387 68.072727 193.692387 \r\nC 65.107666 193.692387 62.263648 194.870419 60.167033 196.967033 \r\nC 58.070419 199.063648 56.892387 201.907666 56.892387 204.872727 \r\nC 56.892387 207.837788 58.070419 210.681807 60.167033 212.778421 \r\nC 62.263648 214.875036 65.107666 216.053067 68.072727 216.053067 \r\nz\r\n\" style=\"fill:#32cd32;stroke:#32cd32;\"/>\r\n    <path clip-path=\"url(#pe5fca8a225)\" d=\"M 68.072727 255.587613 \r\nC 71.037788 255.587613 73.881807 254.409581 75.978421 252.312967 \r\nC 78.075036 250.216352 79.253067 247.372334 79.253067 244.407273 \r\nC 79.253067 241.442212 78.075036 238.598193 75.978421 236.501579 \r\nC 73.881807 234.404964 71.037788 233.226933 68.072727 233.226933 \r\nC 65.107666 233.226933 62.263648 234.404964 60.167033 236.501579 \r\nC 58.070419 238.598193 56.892387 241.442212 56.892387 244.407273 \r\nC 56.892387 247.372334 58.070419 250.216352 60.167033 252.312967 \r\nC 62.263648 254.409581 65.107666 255.587613 68.072727 255.587613 \r\nz\r\n\" style=\"fill:#32cd32;stroke:#32cd32;\"/>\r\n    <path clip-path=\"url(#pe5fca8a225)\" d=\"M 68.072727 295.122158 \r\nC 71.037788 295.122158 73.881807 293.944127 75.978421 291.847512 \r\nC 78.075036 289.750898 79.253067 286.906879 79.253067 283.941818 \r\nC 79.253067 280.976757 78.075036 278.132739 75.978421 276.036124 \r\nC 73.881807 273.939509 71.037788 272.761478 68.072727 272.761478 \r\nC 65.107666 272.761478 62.263648 273.939509 60.167033 276.036124 \r\nC 58.070419 278.132739 56.892387 280.976757 56.892387 283.941818 \r\nC 56.892387 286.906879 58.070419 289.750898 60.167033 291.847512 \r\nC 62.263648 293.944127 65.107666 295.122158 68.072727 295.122158 \r\nz\r\n\" style=\"fill:#32cd32;stroke:#32cd32;\"/>\r\n    <path clip-path=\"url(#pe5fca8a225)\" d=\"M 68.072727 334.656704 \r\nC 71.037788 334.656704 73.881807 333.478672 75.978421 331.382058 \r\nC 78.075036 329.285443 79.253067 326.441424 79.253067 323.476364 \r\nC 79.253067 320.511303 78.075036 317.667284 75.978421 315.570669 \r\nC 73.881807 313.474055 71.037788 312.296024 68.072727 312.296024 \r\nC 65.107666 312.296024 62.263648 313.474055 60.167033 315.570669 \r\nC 58.070419 317.667284 56.892387 320.511303 56.892387 323.476364 \r\nC 56.892387 326.441424 58.070419 329.285443 60.167033 331.382058 \r\nC 62.263648 333.478672 65.107666 334.656704 68.072727 334.656704 \r\nz\r\n\" style=\"fill:#32cd32;stroke:#32cd32;\"/>\r\n    <path clip-path=\"url(#pe5fca8a225)\" d=\"M 68.072727 374.191249 \r\nC 71.037788 374.191249 73.881807 373.013218 75.978421 370.916603 \r\nC 78.075036 368.819989 79.253067 365.97597 79.253067 363.010909 \r\nC 79.253067 360.045848 78.075036 357.20183 75.978421 355.105215 \r\nC 73.881807 353.0086 71.037788 351.830569 68.072727 351.830569 \r\nC 65.107666 351.830569 62.263648 353.0086 60.167033 355.105215 \r\nC 58.070419 357.20183 56.892387 360.045848 56.892387 363.010909 \r\nC 56.892387 365.97597 58.070419 368.819989 60.167033 370.916603 \r\nC 62.263648 373.013218 65.107666 374.191249 68.072727 374.191249 \r\nz\r\n\" style=\"fill:#32cd32;stroke:#32cd32;\"/>\r\n    <path clip-path=\"url(#pe5fca8a225)\" d=\"M 68.072727 413.725794 \r\nC 71.037788 413.725794 73.881807 412.547763 75.978421 410.451149 \r\nC 78.075036 408.354534 79.253067 405.510515 79.253067 402.545455 \r\nC 79.253067 399.580394 78.075036 396.736375 75.978421 394.63976 \r\nC 73.881807 392.543146 71.037788 391.365115 68.072727 391.365115 \r\nC 65.107666 391.365115 62.263648 392.543146 60.167033 394.63976 \r\nC 58.070419 396.736375 56.892387 399.580394 56.892387 402.545455 \r\nC 56.892387 405.510515 58.070419 408.354534 60.167033 410.451149 \r\nC 62.263648 412.547763 65.107666 413.725794 68.072727 413.725794 \r\nz\r\n\" style=\"fill:#32cd32;stroke:#32cd32;\"/>\r\n    <path clip-path=\"url(#pe5fca8a225)\" d=\"M 311.563636 271.793401 \r\nC 318.826522 271.793401 325.792917 268.907825 330.928553 263.772189 \r\nC 336.064189 258.636554 338.949764 251.670159 338.949764 244.407273 \r\nC 338.949764 237.144387 336.064189 230.177992 330.928553 225.042356 \r\nC 325.792917 219.90672 318.826522 217.021145 311.563636 217.021145 \r\nC 304.30075 217.021145 297.334356 219.90672 292.19872 225.042356 \r\nC 287.063084 230.177992 284.177508 237.144387 284.177508 244.407273 \r\nC 284.177508 251.670159 287.063084 258.636554 292.19872 263.772189 \r\nC 297.334356 268.907825 304.30075 271.793401 311.563636 271.793401 \r\nz\r\n\" style=\"fill:#ffc0cb;stroke:#ffc0cb;\"/>\r\n    <path clip-path=\"url(#pe5fca8a225)\" d=\"M 433.309091 176.518522 \r\nC 436.274152 176.518522 439.11817 175.340491 441.214785 173.243876 \r\nC 443.3114 171.147261 444.489431 168.303243 444.489431 165.338182 \r\nC 444.489431 162.373121 443.3114 159.529102 441.214785 157.432488 \r\nC 439.11817 155.335873 436.274152 154.157842 433.309091 154.157842 \r\nC 430.34403 154.157842 427.500011 155.335873 425.403397 157.432488 \r\nC 423.306782 159.529102 422.128751 162.373121 422.128751 165.338182 \r\nC 422.128751 168.303243 423.306782 171.147261 425.403397 173.243876 \r\nC 427.500011 175.340491 430.34403 176.518522 433.309091 176.518522 \r\nz\r\n\" style=\"fill:#fa8072;stroke:#fa8072;\"/>\r\n    <path clip-path=\"url(#pe5fca8a225)\" d=\"M 433.309091 255.587613 \r\nC 436.274152 255.587613 439.11817 254.409581 441.214785 252.312967 \r\nC 443.3114 250.216352 444.489431 247.372334 444.489431 244.407273 \r\nC 444.489431 241.442212 443.3114 238.598193 441.214785 236.501579 \r\nC 439.11817 234.404964 436.274152 233.226933 433.309091 233.226933 \r\nC 430.34403 233.226933 427.500011 234.404964 425.403397 236.501579 \r\nC 423.306782 238.598193 422.128751 241.442212 422.128751 244.407273 \r\nC 422.128751 247.372334 423.306782 250.216352 425.403397 252.312967 \r\nC 427.500011 254.409581 430.34403 255.587613 433.309091 255.587613 \r\nz\r\n\" style=\"fill:#fa8072;stroke:#fa8072;\"/>\r\n    <path clip-path=\"url(#pe5fca8a225)\" d=\"M 433.309091 334.656704 \r\nC 436.274152 334.656704 439.11817 333.478672 441.214785 331.382058 \r\nC 443.3114 329.285443 444.489431 326.441424 444.489431 323.476364 \r\nC 444.489431 320.511303 443.3114 317.667284 441.214785 315.570669 \r\nC 439.11817 313.474055 436.274152 312.296024 433.309091 312.296024 \r\nC 430.34403 312.296024 427.500011 313.474055 425.403397 315.570669 \r\nC 423.306782 317.667284 422.128751 320.511303 422.128751 323.476364 \r\nC 422.128751 326.441424 423.306782 329.285443 425.403397 331.382058 \r\nC 427.500011 333.478672 430.34403 334.656704 433.309091 334.656704 \r\nz\r\n\" style=\"fill:#fa8072;stroke:#fa8072;\"/>\r\n    <path clip-path=\"url(#pe5fca8a225)\" d=\"M 555.054545 97.449431 \r\nC 558.019606 97.449431 560.863625 96.2714 562.96024 94.174785 \r\nC 565.056854 92.07817 566.234885 89.234152 566.234885 86.269091 \r\nC 566.234885 83.30403 565.056854 80.460011 562.96024 78.363397 \r\nC 560.863625 76.266782 558.019606 75.088751 555.054545 75.088751 \r\nC 552.089485 75.088751 549.245466 76.266782 547.148851 78.363397 \r\nC 545.052237 80.460011 543.874206 83.30403 543.874206 86.269091 \r\nC 543.874206 89.234152 545.052237 92.07817 547.148851 94.174785 \r\nC 549.245466 96.2714 552.089485 97.449431 555.054545 97.449431 \r\nz\r\n\" style=\"fill:#87ceeb;stroke:#87ceeb;\"/>\r\n    <path clip-path=\"url(#pe5fca8a225)\" d=\"M 555.054545 176.518522 \r\nC 558.019606 176.518522 560.863625 175.340491 562.96024 173.243876 \r\nC 565.056854 171.147261 566.234885 168.303243 566.234885 165.338182 \r\nC 566.234885 162.373121 565.056854 159.529102 562.96024 157.432488 \r\nC 560.863625 155.335873 558.019606 154.157842 555.054545 154.157842 \r\nC 552.089485 154.157842 549.245466 155.335873 547.148851 157.432488 \r\nC 545.052237 159.529102 543.874206 162.373121 543.874206 165.338182 \r\nC 543.874206 168.303243 545.052237 171.147261 547.148851 173.243876 \r\nC 549.245466 175.340491 552.089485 176.518522 555.054545 176.518522 \r\nz\r\n\" style=\"fill:#87ceeb;stroke:#87ceeb;\"/>\r\n    <path clip-path=\"url(#pe5fca8a225)\" d=\"M 555.054545 255.587613 \r\nC 558.019606 255.587613 560.863625 254.409581 562.96024 252.312967 \r\nC 565.056854 250.216352 566.234885 247.372334 566.234885 244.407273 \r\nC 566.234885 241.442212 565.056854 238.598193 562.96024 236.501579 \r\nC 560.863625 234.404964 558.019606 233.226933 555.054545 233.226933 \r\nC 552.089485 233.226933 549.245466 234.404964 547.148851 236.501579 \r\nC 545.052237 238.598193 543.874206 241.442212 543.874206 244.407273 \r\nC 543.874206 247.372334 545.052237 250.216352 547.148851 252.312967 \r\nC 549.245466 254.409581 552.089485 255.587613 555.054545 255.587613 \r\nz\r\n\" style=\"fill:#87ceeb;stroke:#87ceeb;\"/>\r\n    <path clip-path=\"url(#pe5fca8a225)\" d=\"M 555.054545 334.656704 \r\nC 558.019606 334.656704 560.863625 333.478672 562.96024 331.382058 \r\nC 565.056854 329.285443 566.234885 326.441424 566.234885 323.476364 \r\nC 566.234885 320.511303 565.056854 317.667284 562.96024 315.570669 \r\nC 560.863625 313.474055 558.019606 312.296024 555.054545 312.296024 \r\nC 552.089485 312.296024 549.245466 313.474055 547.148851 315.570669 \r\nC 545.052237 317.667284 543.874206 320.511303 543.874206 323.476364 \r\nC 543.874206 326.441424 545.052237 329.285443 547.148851 331.382058 \r\nC 549.245466 333.478672 552.089485 334.656704 555.054545 334.656704 \r\nz\r\n\" style=\"fill:#87ceeb;stroke:#87ceeb;\"/>\r\n    <path clip-path=\"url(#pe5fca8a225)\" d=\"M 555.054545 413.725794 \r\nC 558.019606 413.725794 560.863625 412.547763 562.96024 410.451149 \r\nC 565.056854 408.354534 566.234885 405.510515 566.234885 402.545455 \r\nC 566.234885 399.580394 565.056854 396.736375 562.96024 394.63976 \r\nC 560.863625 392.543146 558.019606 391.365115 555.054545 391.365115 \r\nC 552.089485 391.365115 549.245466 392.543146 547.148851 394.63976 \r\nC 545.052237 396.736375 543.874206 399.580394 543.874206 402.545455 \r\nC 543.874206 405.510515 545.052237 408.354534 547.148851 410.451149 \r\nC 549.245466 412.547763 552.089485 413.725794 555.054545 413.725794 \r\nz\r\n\" style=\"fill:#87ceeb;stroke:#87ceeb;\"/>\r\n   </g>\r\n   <g id=\"patch_51\">\r\n    <path d=\"M 7.2 442.08 \r\nL 7.2 7.2 \r\n\" style=\"fill:none;stroke:#000000;stroke-linecap:square;stroke-linejoin:miter;stroke-width:0.8;\"/>\r\n   </g>\r\n   <g id=\"patch_52\">\r\n    <path d=\"M 676.8 442.08 \r\nL 676.8 7.2 \r\n\" style=\"fill:none;stroke:#000000;stroke-linecap:square;stroke-linejoin:miter;stroke-width:0.8;\"/>\r\n   </g>\r\n   <g id=\"patch_53\">\r\n    <path d=\"M 7.2 442.08 \r\nL 676.8 442.08 \r\n\" style=\"fill:none;stroke:#000000;stroke-linecap:square;stroke-linejoin:miter;stroke-width:0.8;\"/>\r\n   </g>\r\n   <g id=\"patch_54\">\r\n    <path d=\"M 7.2 7.2 \r\nL 676.8 7.2 \r\n\" style=\"fill:none;stroke:#000000;stroke-linecap:square;stroke-linejoin:miter;stroke-width:0.8;\"/>\r\n   </g>\r\n   <g id=\"text_25\">\r\n    <g clip-path=\"url(#pe5fca8a225)\">\r\n     <!-- F1 -->\r\n     <defs>\r\n      <path d=\"M 9.8125 72.90625 \r\nL 51.703125 72.90625 \r\nL 51.703125 64.59375 \r\nL 19.671875 64.59375 \r\nL 19.671875 43.109375 \r\nL 48.578125 43.109375 \r\nL 48.578125 34.8125 \r\nL 19.671875 34.8125 \r\nL 19.671875 0 \r\nL 9.8125 0 \r\nz\r\n\" id=\"DejaVuSans-70\"/>\r\n     </defs>\r\n     <g transform=\"translate(60.80429 50.045795)scale(0.12 -0.12)\">\r\n      <use xlink:href=\"#DejaVuSans-70\"/>\r\n      <use x=\"57.519531\" xlink:href=\"#DejaVuSans-49\"/>\r\n     </g>\r\n    </g>\r\n   </g>\r\n   <g id=\"text_26\">\r\n    <g clip-path=\"url(#pe5fca8a225)\">\r\n     <!-- F2 -->\r\n     <defs>\r\n      <path d=\"M 19.1875 8.296875 \r\nL 53.609375 8.296875 \r\nL 53.609375 0 \r\nL 7.328125 0 \r\nL 7.328125 8.296875 \r\nQ 12.9375 14.109375 22.625 23.890625 \r\nQ 32.328125 33.6875 34.8125 36.53125 \r\nQ 39.546875 41.84375 41.421875 45.53125 \r\nQ 43.3125 49.21875 43.3125 52.78125 \r\nQ 43.3125 58.59375 39.234375 62.25 \r\nQ 35.15625 65.921875 28.609375 65.921875 \r\nQ 23.96875 65.921875 18.8125 64.3125 \r\nQ 13.671875 62.703125 7.8125 59.421875 \r\nL 7.8125 69.390625 \r\nQ 13.765625 71.78125 18.9375 73 \r\nQ 24.125 74.21875 28.421875 74.21875 \r\nQ 39.75 74.21875 46.484375 68.546875 \r\nQ 53.21875 62.890625 53.21875 53.421875 \r\nQ 53.21875 48.921875 51.53125 44.890625 \r\nQ 49.859375 40.875 45.40625 35.40625 \r\nQ 44.1875 33.984375 37.640625 27.21875 \r\nQ 31.109375 20.453125 19.1875 8.296875 \r\nz\r\n\" id=\"DejaVuSans-50\"/>\r\n     </defs>\r\n     <g transform=\"translate(60.80429 89.580341)scale(0.12 -0.12)\">\r\n      <use xlink:href=\"#DejaVuSans-70\"/>\r\n      <use x=\"57.519531\" xlink:href=\"#DejaVuSans-50\"/>\r\n     </g>\r\n    </g>\r\n   </g>\r\n   <g id=\"text_27\">\r\n    <g clip-path=\"url(#pe5fca8a225)\">\r\n     <!-- F3 -->\r\n     <g transform=\"translate(60.80429 129.114886)scale(0.12 -0.12)\">\r\n      <use xlink:href=\"#DejaVuSans-70\"/>\r\n      <use x=\"57.519531\" xlink:href=\"#DejaVuSans-51\"/>\r\n     </g>\r\n    </g>\r\n   </g>\r\n   <g id=\"text_28\">\r\n    <g clip-path=\"url(#pe5fca8a225)\">\r\n     <!-- F4 -->\r\n     <defs>\r\n      <path d=\"M 37.796875 64.3125 \r\nL 12.890625 25.390625 \r\nL 37.796875 25.390625 \r\nz\r\nM 35.203125 72.90625 \r\nL 47.609375 72.90625 \r\nL 47.609375 25.390625 \r\nL 58.015625 25.390625 \r\nL 58.015625 17.1875 \r\nL 47.609375 17.1875 \r\nL 47.609375 0 \r\nL 37.796875 0 \r\nL 37.796875 17.1875 \r\nL 4.890625 17.1875 \r\nL 4.890625 26.703125 \r\nz\r\n\" id=\"DejaVuSans-52\"/>\r\n     </defs>\r\n     <g transform=\"translate(60.80429 168.649432)scale(0.12 -0.12)\">\r\n      <use xlink:href=\"#DejaVuSans-70\"/>\r\n      <use x=\"57.519531\" xlink:href=\"#DejaVuSans-52\"/>\r\n     </g>\r\n    </g>\r\n   </g>\r\n   <g id=\"text_29\">\r\n    <g clip-path=\"url(#pe5fca8a225)\">\r\n     <!-- F5 -->\r\n     <g transform=\"translate(60.80429 208.183977)scale(0.12 -0.12)\">\r\n      <use xlink:href=\"#DejaVuSans-70\"/>\r\n      <use x=\"57.519531\" xlink:href=\"#DejaVuSans-53\"/>\r\n     </g>\r\n    </g>\r\n   </g>\r\n   <g id=\"text_30\">\r\n    <g clip-path=\"url(#pe5fca8a225)\">\r\n     <!-- F6 -->\r\n     <defs>\r\n      <path d=\"M 33.015625 40.375 \r\nQ 26.375 40.375 22.484375 35.828125 \r\nQ 18.609375 31.296875 18.609375 23.390625 \r\nQ 18.609375 15.53125 22.484375 10.953125 \r\nQ 26.375 6.390625 33.015625 6.390625 \r\nQ 39.65625 6.390625 43.53125 10.953125 \r\nQ 47.40625 15.53125 47.40625 23.390625 \r\nQ 47.40625 31.296875 43.53125 35.828125 \r\nQ 39.65625 40.375 33.015625 40.375 \r\nz\r\nM 52.59375 71.296875 \r\nL 52.59375 62.3125 \r\nQ 48.875 64.0625 45.09375 64.984375 \r\nQ 41.3125 65.921875 37.59375 65.921875 \r\nQ 27.828125 65.921875 22.671875 59.328125 \r\nQ 17.53125 52.734375 16.796875 39.40625 \r\nQ 19.671875 43.65625 24.015625 45.921875 \r\nQ 28.375 48.1875 33.59375 48.1875 \r\nQ 44.578125 48.1875 50.953125 41.515625 \r\nQ 57.328125 34.859375 57.328125 23.390625 \r\nQ 57.328125 12.15625 50.6875 5.359375 \r\nQ 44.046875 -1.421875 33.015625 -1.421875 \r\nQ 20.359375 -1.421875 13.671875 8.265625 \r\nQ 6.984375 17.96875 6.984375 36.375 \r\nQ 6.984375 53.65625 15.1875 63.9375 \r\nQ 23.390625 74.21875 37.203125 74.21875 \r\nQ 40.921875 74.21875 44.703125 73.484375 \r\nQ 48.484375 72.75 52.59375 71.296875 \r\nz\r\n\" id=\"DejaVuSans-54\"/>\r\n     </defs>\r\n     <g transform=\"translate(60.80429 247.718523)scale(0.12 -0.12)\">\r\n      <use xlink:href=\"#DejaVuSans-70\"/>\r\n      <use x=\"57.519531\" xlink:href=\"#DejaVuSans-54\"/>\r\n     </g>\r\n    </g>\r\n   </g>\r\n   <g id=\"text_31\">\r\n    <g clip-path=\"url(#pe5fca8a225)\">\r\n     <!-- F7 -->\r\n     <defs>\r\n      <path d=\"M 8.203125 72.90625 \r\nL 55.078125 72.90625 \r\nL 55.078125 68.703125 \r\nL 28.609375 0 \r\nL 18.3125 0 \r\nL 43.21875 64.59375 \r\nL 8.203125 64.59375 \r\nz\r\n\" id=\"DejaVuSans-55\"/>\r\n     </defs>\r\n     <g transform=\"translate(60.80429 287.253068)scale(0.12 -0.12)\">\r\n      <use xlink:href=\"#DejaVuSans-70\"/>\r\n      <use x=\"57.519531\" xlink:href=\"#DejaVuSans-55\"/>\r\n     </g>\r\n    </g>\r\n   </g>\r\n   <g id=\"text_32\">\r\n    <g clip-path=\"url(#pe5fca8a225)\">\r\n     <!-- F8 -->\r\n     <defs>\r\n      <path d=\"M 31.78125 34.625 \r\nQ 24.75 34.625 20.71875 30.859375 \r\nQ 16.703125 27.09375 16.703125 20.515625 \r\nQ 16.703125 13.921875 20.71875 10.15625 \r\nQ 24.75 6.390625 31.78125 6.390625 \r\nQ 38.8125 6.390625 42.859375 10.171875 \r\nQ 46.921875 13.96875 46.921875 20.515625 \r\nQ 46.921875 27.09375 42.890625 30.859375 \r\nQ 38.875 34.625 31.78125 34.625 \r\nz\r\nM 21.921875 38.8125 \r\nQ 15.578125 40.375 12.03125 44.71875 \r\nQ 8.5 49.078125 8.5 55.328125 \r\nQ 8.5 64.0625 14.71875 69.140625 \r\nQ 20.953125 74.21875 31.78125 74.21875 \r\nQ 42.671875 74.21875 48.875 69.140625 \r\nQ 55.078125 64.0625 55.078125 55.328125 \r\nQ 55.078125 49.078125 51.53125 44.71875 \r\nQ 48 40.375 41.703125 38.8125 \r\nQ 48.828125 37.15625 52.796875 32.3125 \r\nQ 56.78125 27.484375 56.78125 20.515625 \r\nQ 56.78125 9.90625 50.3125 4.234375 \r\nQ 43.84375 -1.421875 31.78125 -1.421875 \r\nQ 19.734375 -1.421875 13.25 4.234375 \r\nQ 6.78125 9.90625 6.78125 20.515625 \r\nQ 6.78125 27.484375 10.78125 32.3125 \r\nQ 14.796875 37.15625 21.921875 38.8125 \r\nz\r\nM 18.3125 54.390625 \r\nQ 18.3125 48.734375 21.84375 45.5625 \r\nQ 25.390625 42.390625 31.78125 42.390625 \r\nQ 38.140625 42.390625 41.71875 45.5625 \r\nQ 45.3125 48.734375 45.3125 54.390625 \r\nQ 45.3125 60.0625 41.71875 63.234375 \r\nQ 38.140625 66.40625 31.78125 66.40625 \r\nQ 25.390625 66.40625 21.84375 63.234375 \r\nQ 18.3125 60.0625 18.3125 54.390625 \r\nz\r\n\" id=\"DejaVuSans-56\"/>\r\n     </defs>\r\n     <g transform=\"translate(60.80429 326.787614)scale(0.12 -0.12)\">\r\n      <use xlink:href=\"#DejaVuSans-70\"/>\r\n      <use x=\"57.519531\" xlink:href=\"#DejaVuSans-56\"/>\r\n     </g>\r\n    </g>\r\n   </g>\r\n   <g id=\"text_33\">\r\n    <g clip-path=\"url(#pe5fca8a225)\">\r\n     <!-- F9 -->\r\n     <defs>\r\n      <path d=\"M 10.984375 1.515625 \r\nL 10.984375 10.5 \r\nQ 14.703125 8.734375 18.5 7.8125 \r\nQ 22.3125 6.890625 25.984375 6.890625 \r\nQ 35.75 6.890625 40.890625 13.453125 \r\nQ 46.046875 20.015625 46.78125 33.40625 \r\nQ 43.953125 29.203125 39.59375 26.953125 \r\nQ 35.25 24.703125 29.984375 24.703125 \r\nQ 19.046875 24.703125 12.671875 31.3125 \r\nQ 6.296875 37.9375 6.296875 49.421875 \r\nQ 6.296875 60.640625 12.9375 67.421875 \r\nQ 19.578125 74.21875 30.609375 74.21875 \r\nQ 43.265625 74.21875 49.921875 64.515625 \r\nQ 56.59375 54.828125 56.59375 36.375 \r\nQ 56.59375 19.140625 48.40625 8.859375 \r\nQ 40.234375 -1.421875 26.421875 -1.421875 \r\nQ 22.703125 -1.421875 18.890625 -0.6875 \r\nQ 15.09375 0.046875 10.984375 1.515625 \r\nz\r\nM 30.609375 32.421875 \r\nQ 37.25 32.421875 41.125 36.953125 \r\nQ 45.015625 41.5 45.015625 49.421875 \r\nQ 45.015625 57.28125 41.125 61.84375 \r\nQ 37.25 66.40625 30.609375 66.40625 \r\nQ 23.96875 66.40625 20.09375 61.84375 \r\nQ 16.21875 57.28125 16.21875 49.421875 \r\nQ 16.21875 41.5 20.09375 36.953125 \r\nQ 23.96875 32.421875 30.609375 32.421875 \r\nz\r\n\" id=\"DejaVuSans-57\"/>\r\n     </defs>\r\n     <g transform=\"translate(60.80429 366.322159)scale(0.12 -0.12)\">\r\n      <use xlink:href=\"#DejaVuSans-70\"/>\r\n      <use x=\"57.519531\" xlink:href=\"#DejaVuSans-57\"/>\r\n     </g>\r\n    </g>\r\n   </g>\r\n   <g id=\"text_34\">\r\n    <g clip-path=\"url(#pe5fca8a225)\">\r\n     <!-- F10 -->\r\n     <g transform=\"translate(56.98679 405.856705)scale(0.12 -0.12)\">\r\n      <use xlink:href=\"#DejaVuSans-70\"/>\r\n      <use x=\"57.519531\" xlink:href=\"#DejaVuSans-49\"/>\r\n      <use x=\"121.142578\" xlink:href=\"#DejaVuSans-48\"/>\r\n     </g>\r\n    </g>\r\n   </g>\r\n   <g id=\"text_35\">\r\n    <g clip-path=\"url(#pe5fca8a225)\">\r\n     <!-- Dealer -->\r\n     <defs>\r\n      <path d=\"M 19.671875 64.796875 \r\nL 19.671875 8.109375 \r\nL 31.59375 8.109375 \r\nQ 46.6875 8.109375 53.6875 14.9375 \r\nQ 60.6875 21.78125 60.6875 36.53125 \r\nQ 60.6875 51.171875 53.6875 57.984375 \r\nQ 46.6875 64.796875 31.59375 64.796875 \r\nz\r\nM 9.8125 72.90625 \r\nL 30.078125 72.90625 \r\nQ 51.265625 72.90625 61.171875 64.09375 \r\nQ 71.09375 55.28125 71.09375 36.53125 \r\nQ 71.09375 17.671875 61.125 8.828125 \r\nQ 51.171875 0 30.078125 0 \r\nL 9.8125 0 \r\nz\r\n\" id=\"DejaVuSans-68\"/>\r\n      <path d=\"M 56.203125 29.59375 \r\nL 56.203125 25.203125 \r\nL 14.890625 25.203125 \r\nQ 15.484375 15.921875 20.484375 11.0625 \r\nQ 25.484375 6.203125 34.421875 6.203125 \r\nQ 39.59375 6.203125 44.453125 7.46875 \r\nQ 49.3125 8.734375 54.109375 11.28125 \r\nL 54.109375 2.78125 \r\nQ 49.265625 0.734375 44.1875 -0.34375 \r\nQ 39.109375 -1.421875 33.890625 -1.421875 \r\nQ 20.796875 -1.421875 13.15625 6.1875 \r\nQ 5.515625 13.8125 5.515625 26.8125 \r\nQ 5.515625 40.234375 12.765625 48.109375 \r\nQ 20.015625 56 32.328125 56 \r\nQ 43.359375 56 49.78125 48.890625 \r\nQ 56.203125 41.796875 56.203125 29.59375 \r\nz\r\nM 47.21875 32.234375 \r\nQ 47.125 39.59375 43.09375 43.984375 \r\nQ 39.0625 48.390625 32.421875 48.390625 \r\nQ 24.90625 48.390625 20.390625 44.140625 \r\nQ 15.875 39.890625 15.1875 32.171875 \r\nz\r\n\" id=\"DejaVuSans-101\"/>\r\n      <path d=\"M 34.28125 27.484375 \r\nQ 23.390625 27.484375 19.1875 25 \r\nQ 14.984375 22.515625 14.984375 16.5 \r\nQ 14.984375 11.71875 18.140625 8.90625 \r\nQ 21.296875 6.109375 26.703125 6.109375 \r\nQ 34.1875 6.109375 38.703125 11.40625 \r\nQ 43.21875 16.703125 43.21875 25.484375 \r\nL 43.21875 27.484375 \r\nz\r\nM 52.203125 31.203125 \r\nL 52.203125 0 \r\nL 43.21875 0 \r\nL 43.21875 8.296875 \r\nQ 40.140625 3.328125 35.546875 0.953125 \r\nQ 30.953125 -1.421875 24.3125 -1.421875 \r\nQ 15.921875 -1.421875 10.953125 3.296875 \r\nQ 6 8.015625 6 15.921875 \r\nQ 6 25.140625 12.171875 29.828125 \r\nQ 18.359375 34.515625 30.609375 34.515625 \r\nL 43.21875 34.515625 \r\nL 43.21875 35.40625 \r\nQ 43.21875 41.609375 39.140625 45 \r\nQ 35.0625 48.390625 27.6875 48.390625 \r\nQ 23 48.390625 18.546875 47.265625 \r\nQ 14.109375 46.140625 10.015625 43.890625 \r\nL 10.015625 52.203125 \r\nQ 14.9375 54.109375 19.578125 55.046875 \r\nQ 24.21875 56 28.609375 56 \r\nQ 40.484375 56 46.34375 49.84375 \r\nQ 52.203125 43.703125 52.203125 31.203125 \r\nz\r\n\" id=\"DejaVuSans-97\"/>\r\n      <path d=\"M 9.421875 75.984375 \r\nL 18.40625 75.984375 \r\nL 18.40625 0 \r\nL 9.421875 0 \r\nz\r\n\" id=\"DejaVuSans-108\"/>\r\n      <path d=\"M 41.109375 46.296875 \r\nQ 39.59375 47.171875 37.8125 47.578125 \r\nQ 36.03125 48 33.890625 48 \r\nQ 26.265625 48 22.1875 43.046875 \r\nQ 18.109375 38.09375 18.109375 28.8125 \r\nL 18.109375 0 \r\nL 9.078125 0 \r\nL 9.078125 54.6875 \r\nL 18.109375 54.6875 \r\nL 18.109375 46.1875 \r\nQ 20.953125 51.171875 25.484375 53.578125 \r\nQ 30.03125 56 36.53125 56 \r\nQ 37.453125 56 38.578125 55.875 \r\nQ 39.703125 55.765625 41.0625 55.515625 \r\nz\r\n\" id=\"DejaVuSans-114\"/>\r\n     </defs>\r\n     <g transform=\"translate(291.749574 247.718523)scale(0.12 -0.12)\">\r\n      <use xlink:href=\"#DejaVuSans-68\"/>\r\n      <use x=\"77.001953\" xlink:href=\"#DejaVuSans-101\"/>\r\n      <use x=\"138.525391\" xlink:href=\"#DejaVuSans-97\"/>\r\n      <use x=\"199.804688\" xlink:href=\"#DejaVuSans-108\"/>\r\n      <use x=\"227.587891\" xlink:href=\"#DejaVuSans-101\"/>\r\n      <use x=\"289.111328\" xlink:href=\"#DejaVuSans-114\"/>\r\n     </g>\r\n    </g>\r\n   </g>\r\n   <g id=\"text_36\">\r\n    <g clip-path=\"url(#pe5fca8a225)\">\r\n     <!-- P1 -->\r\n     <defs>\r\n      <path d=\"M 19.671875 64.796875 \r\nL 19.671875 37.40625 \r\nL 32.078125 37.40625 \r\nQ 38.96875 37.40625 42.71875 40.96875 \r\nQ 46.484375 44.53125 46.484375 51.125 \r\nQ 46.484375 57.671875 42.71875 61.234375 \r\nQ 38.96875 64.796875 32.078125 64.796875 \r\nz\r\nM 9.8125 72.90625 \r\nL 32.078125 72.90625 \r\nQ 44.34375 72.90625 50.609375 67.359375 \r\nQ 56.890625 61.8125 56.890625 51.125 \r\nQ 56.890625 40.328125 50.609375 34.8125 \r\nQ 44.34375 29.296875 32.078125 29.296875 \r\nL 19.671875 29.296875 \r\nL 19.671875 0 \r\nL 9.8125 0 \r\nz\r\n\" id=\"DejaVuSans-80\"/>\r\n     </defs>\r\n     <g transform=\"translate(425.873778 168.649432)scale(0.12 -0.12)\">\r\n      <use xlink:href=\"#DejaVuSans-80\"/>\r\n      <use x=\"60.302734\" xlink:href=\"#DejaVuSans-49\"/>\r\n     </g>\r\n    </g>\r\n   </g>\r\n   <g id=\"text_37\">\r\n    <g clip-path=\"url(#pe5fca8a225)\">\r\n     <!-- P2 -->\r\n     <g transform=\"translate(425.873778 247.718523)scale(0.12 -0.12)\">\r\n      <use xlink:href=\"#DejaVuSans-80\"/>\r\n      <use x=\"60.302734\" xlink:href=\"#DejaVuSans-50\"/>\r\n     </g>\r\n    </g>\r\n   </g>\r\n   <g id=\"text_38\">\r\n    <g clip-path=\"url(#pe5fca8a225)\">\r\n     <!-- P3 -->\r\n     <g transform=\"translate(425.873778 326.787614)scale(0.12 -0.12)\">\r\n      <use xlink:href=\"#DejaVuSans-80\"/>\r\n      <use x=\"60.302734\" xlink:href=\"#DejaVuSans-51\"/>\r\n     </g>\r\n    </g>\r\n   </g>\r\n   <g id=\"text_39\">\r\n    <g clip-path=\"url(#pe5fca8a225)\">\r\n     <!-- C1 -->\r\n     <defs>\r\n      <path d=\"M 64.40625 67.28125 \r\nL 64.40625 56.890625 \r\nQ 59.421875 61.53125 53.78125 63.8125 \r\nQ 48.140625 66.109375 41.796875 66.109375 \r\nQ 29.296875 66.109375 22.65625 58.46875 \r\nQ 16.015625 50.828125 16.015625 36.375 \r\nQ 16.015625 21.96875 22.65625 14.328125 \r\nQ 29.296875 6.6875 41.796875 6.6875 \r\nQ 48.140625 6.6875 53.78125 8.984375 \r\nQ 59.421875 11.28125 64.40625 15.921875 \r\nL 64.40625 5.609375 \r\nQ 59.234375 2.09375 53.4375 0.328125 \r\nQ 47.65625 -1.421875 41.21875 -1.421875 \r\nQ 24.65625 -1.421875 15.125 8.703125 \r\nQ 5.609375 18.84375 5.609375 36.375 \r\nQ 5.609375 53.953125 15.125 64.078125 \r\nQ 24.65625 74.21875 41.21875 74.21875 \r\nQ 47.75 74.21875 53.53125 72.484375 \r\nQ 59.328125 70.75 64.40625 67.28125 \r\nz\r\n\" id=\"DejaVuSans-67\"/>\r\n     </defs>\r\n     <g transform=\"translate(547.047358 89.580341)scale(0.12 -0.12)\">\r\n      <use xlink:href=\"#DejaVuSans-67\"/>\r\n      <use x=\"69.824219\" xlink:href=\"#DejaVuSans-49\"/>\r\n     </g>\r\n    </g>\r\n   </g>\r\n   <g id=\"text_40\">\r\n    <g clip-path=\"url(#pe5fca8a225)\">\r\n     <!-- C2 -->\r\n     <g transform=\"translate(547.047358 168.649432)scale(0.12 -0.12)\">\r\n      <use xlink:href=\"#DejaVuSans-67\"/>\r\n      <use x=\"69.824219\" xlink:href=\"#DejaVuSans-50\"/>\r\n     </g>\r\n    </g>\r\n   </g>\r\n   <g id=\"text_41\">\r\n    <g clip-path=\"url(#pe5fca8a225)\">\r\n     <!-- C3 -->\r\n     <g transform=\"translate(547.047358 247.718523)scale(0.12 -0.12)\">\r\n      <use xlink:href=\"#DejaVuSans-67\"/>\r\n      <use x=\"69.824219\" xlink:href=\"#DejaVuSans-51\"/>\r\n     </g>\r\n    </g>\r\n   </g>\r\n   <g id=\"text_42\">\r\n    <g clip-path=\"url(#pe5fca8a225)\">\r\n     <!-- C4 -->\r\n     <g transform=\"translate(547.047358 326.787614)scale(0.12 -0.12)\">\r\n      <use xlink:href=\"#DejaVuSans-67\"/>\r\n      <use x=\"69.824219\" xlink:href=\"#DejaVuSans-52\"/>\r\n     </g>\r\n    </g>\r\n   </g>\r\n   <g id=\"text_43\">\r\n    <g clip-path=\"url(#pe5fca8a225)\">\r\n     <!-- C5 -->\r\n     <g transform=\"translate(547.047358 405.856705)scale(0.12 -0.12)\">\r\n      <use xlink:href=\"#DejaVuSans-67\"/>\r\n      <use x=\"69.824219\" xlink:href=\"#DejaVuSans-53\"/>\r\n     </g>\r\n    </g>\r\n   </g>\r\n  </g>\r\n </g>\r\n <defs>\r\n  <clipPath id=\"pe5fca8a225\">\r\n   <rect height=\"434.88\" width=\"669.6\" x=\"7.2\" y=\"7.2\"/>\r\n  </clipPath>\r\n </defs>\r\n</svg>\r\n",
      "image/png": "[encoded data removed]"
     },
     "metadata": {}
    }
   ],
   "metadata": {}
  },
  {
   "cell_type": "code",
   "execution_count": null,
   "source": [],
   "outputs": [],
   "metadata": {}
  }
 ]
}