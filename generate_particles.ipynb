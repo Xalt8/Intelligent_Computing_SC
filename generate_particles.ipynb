{
    "cells": [
        {
            "cell_type": "code",
            "execution_count": 1,
            "source": [
                "import numpy as np\r\n",
                "import matplotlib.pyplot as plt\r\n",
                "import networkx as nx\r\n",
                "import pandas as pd\r\n",
                "import joblib\r\n",
                "from pso import calculate_profit, generate_particle_list, feasible_vec, demand, supply, dims, prod_cap, split_particles_list, rs, dims\r\n",
                "from graph import SupplyChain\r\n",
                "import random"
            ],
            "outputs": [],
            "metadata": {}
        },
        {
            "cell_type": "code",
            "execution_count": 2,
            "source": [
                "np.set_printoptions(suppress=True)"
            ],
            "outputs": [],
            "metadata": {}
        },
        {
            "cell_type": "markdown",
            "source": [
                "## Generate particles"
            ],
            "metadata": {}
        },
        {
            "cell_type": "markdown",
            "source": [
                "Reduced demand"
            ],
            "metadata": {}
        },
        {
            "cell_type": "code",
            "execution_count": 3,
            "source": [
                "# particle_list3 = generate_particle_list(2000)"
            ],
            "outputs": [],
            "metadata": {}
        },
        {
            "cell_type": "code",
            "execution_count": 4,
            "source": [
                "# joblib.dump(particle_list3, 'particle_list3')"
            ],
            "outputs": [],
            "metadata": {}
        },
        {
            "cell_type": "markdown",
            "source": [
                "Reduced supply"
            ],
            "metadata": {}
        },
        {
            "cell_type": "code",
            "execution_count": null,
            "source": [],
            "outputs": [],
            "metadata": {}
        },
        {
            "cell_type": "markdown",
            "source": [
                "## Equillibrium  "
            ],
            "metadata": {}
        },
        {
            "cell_type": "code",
            "execution_count": 5,
            "source": [
                "# demand = sc.get_demand_vec()\r\n",
                "# supply = sc.get_total_supply()\r\n",
                "# profit = calculate_profit(demand, sup_cha=sc)\r\n",
                "# profit -> 636366.0"
            ],
            "outputs": [],
            "metadata": {}
        },
        {
            "cell_type": "markdown",
            "source": [
                "## Reduced demand"
            ],
            "metadata": {}
        },
        {
            "cell_type": "code",
            "execution_count": 6,
            "source": [
                "# reduced_demand_filled = rd.fill_order()\r\n",
                "# reduced_demand_profit = calculate_profit(reduced_demand_filled, rd)\r\n",
                "# reduced_demand_profit -> 572729.4"
            ],
            "outputs": [],
            "metadata": {}
        },
        {
            "cell_type": "markdown",
            "source": [
                "## Reduced supply"
            ],
            "metadata": {}
        },
        {
            "cell_type": "code",
            "execution_count": 7,
            "source": [
                "reduced_supply_filled = rs.fill_order()\r\n",
                "reduced_supply_profit = calculate_profit(reduced_supply_filled, rs)\r\n",
                "reduced_supply_profit"
            ],
            "outputs": [
                {
                    "output_type": "execute_result",
                    "data": {
                        "text/plain": [
                            "469510.0"
                        ]
                    },
                    "metadata": {},
                    "execution_count": 7
                }
            ],
            "metadata": {}
        },
        {
            "cell_type": "code",
            "execution_count": 8,
            "source": [
                "total_eggs_supplied = rs.get_supplied_eggs(reduced_supply_filled)\r\n",
                "total_eggs_supplied"
            ],
            "outputs": [
                {
                    "output_type": "execute_result",
                    "data": {
                        "text/plain": [
                            "810000.0"
                        ]
                    },
                    "metadata": {},
                    "execution_count": 8
                }
            ],
            "metadata": {}
        },
        {
            "cell_type": "code",
            "execution_count": 9,
            "source": [
                "np.sum(demand)"
            ],
            "outputs": [
                {
                    "output_type": "execute_result",
                    "data": {
                        "text/plain": [
                            "101970"
                        ]
                    },
                    "metadata": {},
                    "execution_count": 9
                }
            ],
            "metadata": {}
        },
        {
            "cell_type": "code",
            "execution_count": 10,
            "source": [
                "dem_vec = rs.get_demand_vec()\r\n",
                "sup_boxes = rs.get_boxes(dem_vec)\r\n",
                "total_supply = rs.get_total_supply()"
            ],
            "outputs": [],
            "metadata": {}
        },
        {
            "cell_type": "code",
            "execution_count": 11,
            "source": [
                "reduced_supply_split = np.split(reduced_supply_filled, len(rs.products))\r\n",
                "type(reduced_supply_split)"
            ],
            "outputs": [
                {
                    "output_type": "execute_result",
                    "data": {
                        "text/plain": [
                            "list"
                        ]
                    },
                    "metadata": {},
                    "execution_count": 11
                }
            ],
            "metadata": {}
        },
        {
            "cell_type": "code",
            "execution_count": 12,
            "source": [
                "rs.products"
            ],
            "outputs": [
                {
                    "output_type": "execute_result",
                    "data": {
                        "text/plain": [
                            "{'P1': 6, 'P2': 10, 'P3': 12}"
                        ]
                    },
                    "metadata": {},
                    "execution_count": 12
                }
            ],
            "metadata": {}
        },
        {
            "cell_type": "code",
            "execution_count": 13,
            "source": [
                "fa = {\r\n",
                "    'F1': {'Category': 'Large', 'Location': 'North', 'Qty': 100000, 'Cost': 0.22, 'products':['P1', 'P2', 'P3']},\r\n",
                "    'F2': {'Category': 'Large', 'Location': 'South', 'Qty': 100000, 'Cost': 0.22, 'products':['P1', 'P2']}\r\n",
                "    }"
            ],
            "outputs": [],
            "metadata": {}
        },
        {
            "cell_type": "code",
            "execution_count": 14,
            "source": [
                "cus = {\r\n",
                "    'C1': {'Category': 'Large', 'Location': 'South'},\r\n",
                "    'C2': {'Category': 'Large', 'Location': 'North'},\r\n",
                "    'C3': {'Category': 'Large', 'Location': 'South'}\r\n",
                "}"
            ],
            "outputs": [],
            "metadata": {}
        },
        {
            "cell_type": "code",
            "execution_count": 15,
            "source": [
                "dem = {'P1':{'C1': 6600,'C2': 5500,'C3': 6600,},'P2':{'C1': 600,'C2': 500,'C3': 600,},'P3':{'C1': 600,'C2': 500,'C3': 600,}}"
            ],
            "outputs": [],
            "metadata": {}
        },
        {
            "cell_type": "code",
            "execution_count": 16,
            "source": [
                "# for product in self.products.keys():\r\n",
                "#         for customer in self.customers.keys():\r\n",
                "#             self.graph[product][customer]['demand'] = self.demand[product][customer]\r\n",
                "rs.products"
            ],
            "outputs": [
                {
                    "output_type": "execute_result",
                    "data": {
                        "text/plain": [
                            "{'P1': 6, 'P2': 10, 'P3': 12}"
                        ]
                    },
                    "metadata": {},
                    "execution_count": 16
                }
            ],
            "metadata": {}
        },
        {
            "cell_type": "code",
            "execution_count": 17,
            "source": [
                "G = nx.DiGraph()\r\n",
                "# G.add_nodes_from([(k,v) for k,v in fa.items()])\r\n",
                "# G.add_nodes_from([(k,v) for k,v in cus.items()])\r\n",
                "# G.add_nodes_from([(farm+\"_\"+product, {'eggs_per_box':rs.products[product]}) for farm in fa.keys() for product in fa[farm]['products']])\r\n",
                "\r\n",
                "G.add_edges_from((farm, farm+\"_\"+product)for farm in fa.keys() for product in fa[farm]['products'])\r\n",
                "# G.add_edges_from([(farm+\"_\"+product, c)for farm in fa.keys() for product in fa[farm]['products'] for c in cus.keys()])\r\n",
                "G.add_edges_from([(cust+\"_\"+prod, cust) for cust in cus.keys() for prod in rs.products.keys()])"
            ],
            "outputs": [],
            "metadata": {}
        },
        {
            "cell_type": "code",
            "execution_count": 18,
            "source": [
                "G.nodes"
            ],
            "outputs": [
                {
                    "output_type": "execute_result",
                    "data": {
                        "text/plain": [
                            "NodeView(('F1', 'F1_P1', 'F1_P2', 'F1_P3', 'F2', 'F2_P1', 'F2_P2', 'C1_P1', 'C1', 'C1_P2', 'C1_P3', 'C2_P1', 'C2', 'C2_P2', 'C2_P3', 'C3_P1', 'C3', 'C3_P2', 'C3_P3'))"
                        ]
                    },
                    "metadata": {},
                    "execution_count": 18
                }
            ],
            "metadata": {}
        },
        {
            "cell_type": "code",
            "execution_count": 19,
            "source": [
                "# Randomly assign products to customers\r\n",
                "# for farm in fa.keys():\r\n",
                "#     for product in fa[farm]['products']:\r\n",
                "#         for c in cus.keys():\r\n",
                "#             G[farm+\"_\"+product][c]['quantity']= np.random.randint(0,10)           "
            ],
            "outputs": [],
            "metadata": {}
        },
        {
            "cell_type": "code",
            "execution_count": 20,
            "source": [
                "for farm in fa.keys():\r\n",
                "    for product in fa[farm]['products']:\r\n",
                "        G[farm][farm+\"_\"+product]['quantity']= np.random.randint(0,10)"
            ],
            "outputs": [],
            "metadata": {}
        },
        {
            "cell_type": "code",
            "execution_count": 21,
            "source": [
                "# prod_edges = []\r\n",
                "# for cust in cus.keys():\r\n",
                "#     for prod in rs.products.keys():\r\n",
                "#         for farm in fa.keys():\r\n",
                "#             for product in fa[farm]['products']:\r\n",
                "#                 if prod == product:\r\n",
                "#                     print(farm+\"_\"+product, cust+\"_\"+prod)\r\n",
                "#                     prod_edges.append((farm+\"_\"+product, cust+\"_\"+prod))\r\n",
                "#                     G[farm+\"_\"+product][cust+\"_\"+prod]['quantity']=np.random.randint(0,10)\r\n",
                "#                 else: continue"
            ],
            "outputs": [],
            "metadata": {}
        },
        {
            "cell_type": "code",
            "execution_count": 22,
            "source": [
                "def edges_fprod_cprod() -> list:\r\n",
                "    prod_edges = []\r\n",
                "    for customer in cus.keys():\r\n",
                "        for product in rs.products.keys():\r\n",
                "            for farm in fa.keys():\r\n",
                "                for prod in fa[farm]['products']:\r\n",
                "                    if product == prod:\r\n",
                "                        prod_edges.append((farm + \"_\" + prod, customer + \"_\" + product))\r\n",
                "    return prod_edges\r\n"
            ],
            "outputs": [],
            "metadata": {}
        },
        {
            "cell_type": "code",
            "execution_count": 24,
            "source": [
                "# edges_f_prod_c_prod()"
            ],
            "outputs": [],
            "metadata": {}
        },
        {
            "cell_type": "code",
            "execution_count": 26,
            "source": [
                "# G.add_edges_from(edges_f_prod_c_prod())"
            ],
            "outputs": [],
            "metadata": {}
        },
        {
            "cell_type": "code",
            "execution_count": 27,
            "source": [
                "def set_supply_quantity() -> None:\r\n",
                "    ''' Takes values from dict(self.farms) and puts it into the graph as edges'''\r\n",
                "    for farm in fa.keys():\r\n",
                "        G[farm][self.dealer]['qty_supplied']=self.farms[farm]['Qty']\r\n"
            ],
            "outputs": [],
            "metadata": {}
        },
        {
            "cell_type": "code",
            "execution_count": 28,
            "source": [
                "# Get edge labels for plotting\r\n",
                "edge_att = nx.get_edge_attributes(G, 'quantity')"
            ],
            "outputs": [],
            "metadata": {}
        },
        {
            "cell_type": "code",
            "execution_count": 29,
            "source": [
                "demT = {'C1':{'P1':6600, 'P2':600, 'P3':600}, 'C2':{'P1':5500, 'P2':500, 'P3':500}, 'C3':{'P1':6600, 'P2':600, 'P3':600}}\r\n",
                "demT"
            ],
            "outputs": [
                {
                    "output_type": "execute_result",
                    "data": {
                        "text/plain": [
                            "{'C1': {'P1': 6600, 'P2': 600, 'P3': 600},\n",
                            " 'C2': {'P1': 5500, 'P2': 500, 'P3': 500},\n",
                            " 'C3': {'P1': 6600, 'P2': 600, 'P3': 600}}"
                        ]
                    },
                    "metadata": {},
                    "execution_count": 29
                }
            ],
            "metadata": {}
        },
        {
            "cell_type": "code",
            "execution_count": 30,
            "source": [
                "edge_att"
            ],
            "outputs": [
                {
                    "output_type": "execute_result",
                    "data": {
                        "text/plain": [
                            "{('F1', 'F1_P1'): 2,\n",
                            " ('F1', 'F1_P2'): 3,\n",
                            " ('F1', 'F1_P3'): 4,\n",
                            " ('F2', 'F2_P1'): 7,\n",
                            " ('F2', 'F2_P2'): 2}"
                        ]
                    },
                    "metadata": {},
                    "execution_count": 30
                }
            ],
            "metadata": {}
        },
        {
            "cell_type": "code",
            "execution_count": 31,
            "source": [
                "def get_farm_supply(graph):\r\n",
                "    return [graph[farm][prod]['quantity'] for farm in fa.keys() for prod in graph.successors(farm)]\r\n",
                "        "
            ],
            "outputs": [],
            "metadata": {}
        },
        {
            "cell_type": "code",
            "execution_count": 32,
            "source": [
                "get_farm_supply(G)"
            ],
            "outputs": [
                {
                    "output_type": "execute_result",
                    "data": {
                        "text/plain": [
                            "[2, 3, 4, 7, 2]"
                        ]
                    },
                    "metadata": {},
                    "execution_count": 32
                }
            ],
            "metadata": {}
        },
        {
            "cell_type": "code",
            "execution_count": 33,
            "source": [
                "def get_prod_supplied(graph):\r\n",
                "    return [graph[prod][cust]['quantity'] for farm in fa.keys() for prod in graph.successors(farm) for cust in graph.successors(prod)]"
            ],
            "outputs": [],
            "metadata": {}
        },
        {
            "cell_type": "code",
            "execution_count": 34,
            "source": [
                "# get_prod_supplied(G)"
            ],
            "outputs": [],
            "metadata": {}
        },
        {
            "cell_type": "code",
            "execution_count": 35,
            "source": [
                "def get_customer_supply(graph):\r\n",
                "    return [((cust, prod)) for cust in cus.keys() for prod in graph.predecessors(cust)]"
            ],
            "outputs": [],
            "metadata": {}
        },
        {
            "cell_type": "code",
            "execution_count": 36,
            "source": [
                "demT"
            ],
            "outputs": [
                {
                    "output_type": "execute_result",
                    "data": {
                        "text/plain": [
                            "{'C1': {'P1': 6600, 'P2': 600, 'P3': 600},\n",
                            " 'C2': {'P1': 5500, 'P2': 500, 'P3': 500},\n",
                            " 'C3': {'P1': 6600, 'P2': 600, 'P3': 600}}"
                        ]
                    },
                    "metadata": {},
                    "execution_count": 36
                }
            ],
            "metadata": {}
        },
        {
            "cell_type": "code",
            "execution_count": 37,
            "source": [
                "def set_demand_cprod():\r\n",
                "    for cust in cus.keys():\r\n",
                "        for prod in rs.products.keys():\r\n",
                "            G.nodes[cust + \"_\" + prod]['demand'] = demT[cust][prod] "
            ],
            "outputs": [],
            "metadata": {}
        },
        {
            "cell_type": "code",
            "execution_count": 38,
            "source": [
                "set_demand_cprod() \r\n"
            ],
            "outputs": [],
            "metadata": {}
        },
        {
            "cell_type": "code",
            "execution_count": 39,
            "source": [
                "for d in demT.keys():\r\n",
                "    for p in rs.products.keys():\r\n",
                "        print(demT[d][p])"
            ],
            "outputs": [
                {
                    "output_type": "stream",
                    "name": "stdout",
                    "text": [
                        "6600\n",
                        "600\n",
                        "600\n",
                        "5500\n",
                        "500\n",
                        "500\n",
                        "6600\n",
                        "600\n",
                        "600\n"
                    ]
                }
            ],
            "metadata": {}
        },
        {
            "cell_type": "code",
            "execution_count": 40,
            "source": [
                "get_customer_supply(G)"
            ],
            "outputs": [
                {
                    "output_type": "execute_result",
                    "data": {
                        "text/plain": [
                            "[('C1', 'C1_P1'),\n",
                            " ('C1', 'C1_P2'),\n",
                            " ('C1', 'C1_P3'),\n",
                            " ('C2', 'C2_P1'),\n",
                            " ('C2', 'C2_P2'),\n",
                            " ('C2', 'C2_P3'),\n",
                            " ('C3', 'C3_P1'),\n",
                            " ('C3', 'C3_P2'),\n",
                            " ('C3', 'C3_P3')]"
                        ]
                    },
                    "metadata": {},
                    "execution_count": 40
                }
            ],
            "metadata": {}
        },
        {
            "cell_type": "code",
            "execution_count": 41,
            "source": [
                "G.nodes(data=True)"
            ],
            "outputs": [
                {
                    "output_type": "execute_result",
                    "data": {
                        "text/plain": [
                            "NodeDataView({'F1': {}, 'F1_P1': {}, 'F1_P2': {}, 'F1_P3': {}, 'F2': {}, 'F2_P1': {}, 'F2_P2': {}, 'C1_P1': {'demand': 6600}, 'C1': {}, 'C1_P2': {'demand': 600}, 'C1_P3': {'demand': 600}, 'C2_P1': {'demand': 5500}, 'C2': {}, 'C2_P2': {'demand': 500}, 'C2_P3': {'demand': 500}, 'C3_P1': {'demand': 6600}, 'C3': {}, 'C3_P2': {'demand': 600}, 'C3_P3': {'demand': 600}})"
                        ]
                    },
                    "metadata": {},
                    "execution_count": 41
                }
            ],
            "metadata": {}
        },
        {
            "cell_type": "code",
            "execution_count": 42,
            "source": [
                "[suc for suc in  G.successors('F1_P1')]"
            ],
            "outputs": [
                {
                    "output_type": "execute_result",
                    "data": {
                        "text/plain": [
                            "[]"
                        ]
                    },
                    "metadata": {},
                    "execution_count": 42
                }
            ],
            "metadata": {}
        },
        {
            "cell_type": "code",
            "execution_count": 43,
            "source": [
                "#Node positions on graph\r\n",
                "sc_pos = {'F1': (1, 7), 'F2': (1, 4),\r\n",
                "            'F1_P1':(5,9),'F1_P2':(5,7), 'F1_P3':(5,5),'F2_P1':(5,3),'F2_P2':(5,1),\r\n",
                "            'C1_P1':(7,10), 'C1_P2':(7,9), 'C1_P3':(7,8), 'C2_P1':(7,7), 'C2_P2':(7,6), 'C2_P3':(7,5), 'C3_P1':(7,4), 'C3_P2':(7,3), 'C3_P3':(7,2),\r\n",
                "            'C1': (9,7), 'C2': (9,5), 'C3': (9,3)}"
            ],
            "outputs": [],
            "metadata": {}
        },
        {
            "cell_type": "code",
            "execution_count": 44,
            "source": [
                "# Size the nodes\r\n",
                "val_map_size = {\r\n",
                "        'F1':900,'F2':900,\r\n",
                "        'C1':900,'C2':900,'C3':900,\r\n",
                "        'F1_P1':1000,'F1_P2':1000,'F1_P3':1000, 'F2_P1':1000, 'F2_P2':1000,\r\n",
                "        'C1_P1':1000, 'C1_P2':1000, 'C1_P3':1000, 'C2_P1':1000, 'C2_P2':1000, 'C2_P3':1000, 'C3_P1':1000, 'C3_P2':1000, 'C3_P3':1000}\r\n",
                "size = [val_map_size.get(node_col,'black') for node_col in G.nodes()]"
            ],
            "outputs": [],
            "metadata": {}
        },
        {
            "cell_type": "code",
            "execution_count": 45,
            "source": [
                "# Color the nodes\r\n",
                "val_map = {\r\n",
                "        'F1':'limegreen','F2':'limegreen',\r\n",
                "        'C1':'skyblue','C2':'skyblue','C3':'skyblue',\r\n",
                "        'F1_P1':'salmon','F1_P2':'salmon','F1_P3':'salmon', 'F2_P1':'salmon', 'F2_P2':'salmon',\r\n",
                "        'C1_P1':'green', 'C1_P2':'green', 'C1_P3':'green', 'C2_P1':'green', 'C2_P2':'green', 'C2_P3':'green', 'C3_P1':'green', 'C3_P2':'green', 'C3_P3':'green'}\r\n",
                "\r\n",
                "col = [val_map.get(node_col,'black') for node_col in G.nodes()]"
            ],
            "outputs": [],
            "metadata": {}
        },
        {
            "cell_type": "code",
            "execution_count": 46,
            "source": [
                "# Draw graph\r\n",
                "fig, ax = plt.subplots(figsize=(12,8))\r\n",
                "nx.draw_networkx(G, node_size = size, pos=sc_pos, node_color= col, arrows=True)\r\n",
                "nx.draw_networkx_edge_labels(G, pos=sc_pos, edge_labels=edge_att, rotate=False)\r\n",
                "# ax.set_xlim(0,1)\r\n",
                "# ax.set_ylim(0,1)\r\n",
                "plt.show()"
            ],
            "outputs": [
                {
                    "output_type": "display_data",
                    "data": {
                        "image/png": "[encoded data removed]",
                        "image/svg+xml": "<?xml version=\"1.0\" encoding=\"utf-8\" standalone=\"no\"?>\r\n<!DOCTYPE svg PUBLIC \"-//W3C//DTD SVG 1.1//EN\"\r\n  \"http://www.w3.org/Graphics/SVG/1.1/DTD/svg11.dtd\">\r\n<svg height=\"449.28pt\" version=\"1.1\" viewBox=\"0 0 684 449.28\" width=\"684pt\" xmlns=\"http://www.w3.org/2000/svg\" xmlns:xlink=\"http://www.w3.org/1999/xlink\">\r\n <metadata>\r\n  <rdf:RDF xmlns:cc=\"http://creativecommons.org/ns#\" xmlns:dc=\"http://purl.org/dc/elements/1.1/\" xmlns:rdf=\"http://www.w3.org/1999/02/22-rdf-syntax-ns#\">\r\n   <cc:Work>\r\n    <dc:type rdf:resource=\"http://purl.org/dc/dcmitype/StillImage\"/>\r\n    <dc:date>2021-08-31T16:56:37.827411</dc:date>\r\n    <dc:format>image/svg+xml</dc:format>\r\n    <dc:creator>\r\n     <cc:Agent>\r\n      <dc:title>Matplotlib v3.4.2, https://matplotlib.org/</dc:title>\r\n     </cc:Agent>\r\n    </dc:creator>\r\n   </cc:Work>\r\n  </rdf:RDF>\r\n </metadata>\r\n <defs>\r\n  <style type=\"text/css\">*{stroke-linecap:butt;stroke-linejoin:round;}</style>\r\n </defs>\r\n <g id=\"figure_1\">\r\n  <g id=\"patch_1\">\r\n   <path d=\"M 0 449.28 \r\nL 684 449.28 \r\nL 684 0 \r\nL 0 0 \r\nz\r\n\" style=\"fill:none;\"/>\r\n  </g>\r\n  <g id=\"axes_1\">\r\n   <g id=\"patch_2\">\r\n    <path d=\"M 7.2 442.08 \r\nL 676.8 442.08 \r\nL 676.8 7.2 \r\nL 7.2 7.2 \r\nz\r\n\" style=\"fill:#ffffff;\"/>\r\n   </g>\r\n   <g id=\"patch_3\">\r\n    <path clip-path=\"url(#p78dfb16ee3)\" d=\"M 79.715535 160.5798 \r\nQ 203.2637 124.91763 325.737687 89.565521 \r\n\" style=\"fill:none;stroke:#000000;stroke-linecap:round;\"/>\r\n    <path clip-path=\"url(#p78dfb16ee3)\" d=\"M 321.33993 88.753281 \r\nL 325.737687 89.565521 \r\nL 322.449241 92.596383 \r\nL 321.33993 88.753281 \r\nz\r\n\" style=\"stroke:#000000;stroke-linecap:round;\"/>\r\n   </g>\r\n   <g id=\"patch_4\">\r\n    <path clip-path=\"url(#p78dfb16ee3)\" d=\"M 80.306617 164.739174 \r\nQ 203.24892 164.739174 325.073188 164.739174 \r\n\" style=\"fill:none;stroke:#000000;stroke-linecap:round;\"/>\r\n    <path clip-path=\"url(#p78dfb16ee3)\" d=\"M 321.073188 162.739174 \r\nL 325.073188 164.739174 \r\nL 321.073188 166.739174 \r\nL 321.073188 162.739174 \r\nz\r\n\" style=\"stroke:#000000;stroke-linecap:round;\"/>\r\n   </g>\r\n   <g id=\"patch_5\">\r\n    <path clip-path=\"url(#p78dfb16ee3)\" d=\"M 79.715535 168.898547 \r\nQ 203.2637 204.560718 325.737687 239.912826 \r\n\" style=\"fill:none;stroke:#000000;stroke-linecap:round;\"/>\r\n    <path clip-path=\"url(#p78dfb16ee3)\" d=\"M 322.449241 236.881965 \r\nL 325.737687 239.912826 \r\nL 321.33993 240.725066 \r\nL 322.449241 236.881965 \r\nz\r\n\" style=\"stroke:#000000;stroke-linecap:round;\"/>\r\n   </g>\r\n   <g id=\"patch_6\">\r\n    <path clip-path=\"url(#p78dfb16ee3)\" d=\"M 80.154625 286.683885 \r\nQ 203.252237 304.449944 325.24328 322.056298 \r\n\" style=\"fill:none;stroke:#000000;stroke-linecap:round;\"/>\r\n    <path clip-path=\"url(#p78dfb16ee3)\" d=\"M 321.569989 319.505428 \r\nL 325.24328 322.056298 \r\nL 320.99861 323.464408 \r\nL 321.569989 319.505428 \r\nz\r\n\" style=\"stroke:#000000;stroke-linecap:round;\"/>\r\n   </g>\r\n   <g id=\"patch_7\">\r\n    <path clip-path=\"url(#p78dfb16ee3)\" d=\"M 79.073788 290.502026 \r\nQ 203.281308 344.280766 326.462836 397.615277 \r\n\" style=\"fill:none;stroke:#000000;stroke-linecap:round;\"/>\r\n    <path clip-path=\"url(#p78dfb16ee3)\" d=\"M 323.586795 394.190604 \r\nL 326.462836 397.615277 \r\nL 321.997473 397.861306 \r\nL 323.586795 394.190604 \r\nz\r\n\" style=\"stroke:#000000;stroke-linecap:round;\"/>\r\n   </g>\r\n   <g id=\"patch_8\">\r\n    <path clip-path=\"url(#p78dfb16ee3)\" d=\"M 492.301753 55.289644 \r\nQ 549.828876 105.105246 606.510814 154.188959 \r\n\" style=\"fill:none;stroke:#000000;stroke-linecap:round;\"/>\r\n    <path clip-path=\"url(#p78dfb16ee3)\" d=\"M 604.796227 150.058561 \r\nL 606.510814 154.188959 \r\nL 602.177743 153.08239 \r\nL 604.796227 150.058561 \r\nz\r\n\" style=\"stroke:#000000;stroke-linecap:round;\"/>\r\n   </g>\r\n   <g id=\"patch_9\">\r\n    <path clip-path=\"url(#p78dfb16ee3)\" d=\"M 494.039114 92.775799 \r\nQ 549.871041 125.007564 604.734701 156.680348 \r\n\" style=\"fill:none;stroke:#000000;stroke-linecap:round;\"/>\r\n    <path clip-path=\"url(#p78dfb16ee3)\" d=\"M 602.270459 152.94839 \r\nL 604.734701 156.680348 \r\nL 600.27059 156.412568 \r\nL 602.270459 152.94839 \r\nz\r\n\" style=\"stroke:#000000;stroke-linecap:round;\"/>\r\n   </g>\r\n   <g id=\"patch_10\">\r\n    <path clip-path=\"url(#p78dfb16ee3)\" d=\"M 495.542153 129.191338 \r\nQ 549.911638 144.885087 603.206945 160.268774 \r\n\" style=\"fill:none;stroke:#000000;stroke-linecap:round;\"/>\r\n    <path clip-path=\"url(#p78dfb16ee3)\" d=\"M 599.918499 157.237912 \r\nL 603.206945 160.268774 \r\nL 598.809188 161.081014 \r\nL 599.918499 157.237912 \r\nz\r\n\" style=\"stroke:#000000;stroke-linecap:round;\"/>\r\n   </g>\r\n   <g id=\"patch_11\">\r\n    <path clip-path=\"url(#p78dfb16ee3)\" d=\"M 494.039114 172.643567 \r\nQ 549.871041 204.875332 604.734701 236.548117 \r\n\" style=\"fill:none;stroke:#000000;stroke-linecap:round;\"/>\r\n    <path clip-path=\"url(#p78dfb16ee3)\" d=\"M 602.270459 232.816159 \r\nL 604.734701 236.548117 \r\nL 600.27059 236.280336 \r\nL 602.270459 232.816159 \r\nz\r\n\" style=\"stroke:#000000;stroke-linecap:round;\"/>\r\n   </g>\r\n   <g id=\"patch_12\">\r\n    <path clip-path=\"url(#p78dfb16ee3)\" d=\"M 495.542153 209.059107 \r\nQ 549.911638 224.752856 603.206945 240.136542 \r\n\" style=\"fill:none;stroke:#000000;stroke-linecap:round;\"/>\r\n    <path clip-path=\"url(#p78dfb16ee3)\" d=\"M 599.918499 237.105681 \r\nL 603.206945 240.136542 \r\nL 598.809188 240.948782 \r\nL 599.918499 237.105681 \r\nz\r\n\" style=\"stroke:#000000;stroke-linecap:round;\"/>\r\n   </g>\r\n   <g id=\"patch_13\">\r\n    <path clip-path=\"url(#p78dfb16ee3)\" d=\"M 496.158567 244.606942 \r\nQ 549.926842 244.606942 602.577082 244.606942 \r\n\" style=\"fill:none;stroke:#000000;stroke-linecap:round;\"/>\r\n    <path clip-path=\"url(#p78dfb16ee3)\" d=\"M 598.577082 242.606942 \r\nL 602.577082 244.606942 \r\nL 598.577082 246.606942 \r\nL 598.577082 242.606942 \r\nz\r\n\" style=\"stroke:#000000;stroke-linecap:round;\"/>\r\n   </g>\r\n   <g id=\"patch_14\">\r\n    <path clip-path=\"url(#p78dfb16ee3)\" d=\"M 495.542153 288.926875 \r\nQ 549.911638 304.620624 603.206945 320.004311 \r\n\" style=\"fill:none;stroke:#000000;stroke-linecap:round;\"/>\r\n    <path clip-path=\"url(#p78dfb16ee3)\" d=\"M 599.918499 316.973449 \r\nL 603.206945 320.004311 \r\nL 598.809188 320.816551 \r\nL 599.918499 316.973449 \r\nz\r\n\" style=\"stroke:#000000;stroke-linecap:round;\"/>\r\n   </g>\r\n   <g id=\"patch_15\">\r\n    <path clip-path=\"url(#p78dfb16ee3)\" d=\"M 496.158567 324.474711 \r\nQ 549.926842 324.474711 602.577082 324.474711 \r\n\" style=\"fill:none;stroke:#000000;stroke-linecap:round;\"/>\r\n    <path clip-path=\"url(#p78dfb16ee3)\" d=\"M 598.577082 322.474711 \r\nL 602.577082 324.474711 \r\nL 598.577082 326.474711 \r\nL 598.577082 322.474711 \r\nz\r\n\" style=\"stroke:#000000;stroke-linecap:round;\"/>\r\n   </g>\r\n   <g id=\"patch_16\">\r\n    <path clip-path=\"url(#p78dfb16ee3)\" d=\"M 495.542153 360.022546 \r\nQ 549.911638 344.328797 603.206945 328.94511 \r\n\" style=\"fill:none;stroke:#000000;stroke-linecap:round;\"/>\r\n    <path clip-path=\"url(#p78dfb16ee3)\" d=\"M 598.809188 328.132871 \r\nL 603.206945 328.94511 \r\nL 599.918499 331.975972 \r\nL 598.809188 328.132871 \r\nz\r\n\" style=\"stroke:#000000;stroke-linecap:round;\"/>\r\n   </g>\r\n   <g id=\"text_1\">\r\n    <g id=\"patch_17\">\r\n     <path clip-path=\"url(#p78dfb16ee3)\" d=\"M 200.471643 132.644352 \r\nL 206.834143 132.644352 \r\nQ 209.834143 132.644352 209.834143 129.644352 \r\nL 209.834143 119.966227 \r\nQ 209.834143 116.966227 206.834143 116.966227 \r\nL 200.471643 116.966227 \r\nQ 197.471643 116.966227 197.471643 119.966227 \r\nL 197.471643 129.644352 \r\nQ 197.471643 132.644352 200.471643 132.644352 \r\nz\r\n\" style=\"fill:#ffffff;stroke:#ffffff;stroke-linejoin:miter;\"/>\r\n    </g>\r\n    <g clip-path=\"url(#p78dfb16ee3)\">\r\n     <!-- 2 -->\r\n     <g transform=\"translate(200.471643 127.564664)scale(0.1 -0.1)\">\r\n      <defs>\r\n       <path d=\"M 1228 531 \r\nL 3431 531 \r\nL 3431 0 \r\nL 469 0 \r\nL 469 531 \r\nQ 828 903 1448 1529 \r\nQ 2069 2156 2228 2338 \r\nQ 2531 2678 2651 2914 \r\nQ 2772 3150 2772 3378 \r\nQ 2772 3750 2511 3984 \r\nQ 2250 4219 1831 4219 \r\nQ 1534 4219 1204 4116 \r\nQ 875 4013 500 3803 \r\nL 500 4441 \r\nQ 881 4594 1212 4672 \r\nQ 1544 4750 1819 4750 \r\nQ 2544 4750 2975 4387 \r\nQ 3406 4025 3406 3419 \r\nQ 3406 3131 3298 2873 \r\nQ 3191 2616 2906 2266 \r\nQ 2828 2175 2409 1742 \r\nQ 1991 1309 1228 531 \r\nz\r\n\" id=\"DejaVuSans-32\" transform=\"scale(0.015625)\"/>\r\n      </defs>\r\n      <use xlink:href=\"#DejaVuSans-32\"/>\r\n     </g>\r\n    </g>\r\n   </g>\r\n   <g id=\"text_2\">\r\n    <g id=\"patch_18\">\r\n     <path clip-path=\"url(#p78dfb16ee3)\" d=\"M 200.471643 172.578236 \r\nL 206.834143 172.578236 \r\nQ 209.834143 172.578236 209.834143 169.578236 \r\nL 209.834143 159.900111 \r\nQ 209.834143 156.900111 206.834143 156.900111 \r\nL 200.471643 156.900111 \r\nQ 197.471643 156.900111 197.471643 159.900111 \r\nL 197.471643 169.578236 \r\nQ 197.471643 172.578236 200.471643 172.578236 \r\nz\r\n\" style=\"fill:#ffffff;stroke:#ffffff;stroke-linejoin:miter;\"/>\r\n    </g>\r\n    <g clip-path=\"url(#p78dfb16ee3)\">\r\n     <!-- 3 -->\r\n     <g transform=\"translate(200.471643 167.498549)scale(0.1 -0.1)\">\r\n      <defs>\r\n       <path d=\"M 2597 2516 \r\nQ 3050 2419 3304 2112 \r\nQ 3559 1806 3559 1356 \r\nQ 3559 666 3084 287 \r\nQ 2609 -91 1734 -91 \r\nQ 1441 -91 1130 -33 \r\nQ 819 25 488 141 \r\nL 488 750 \r\nQ 750 597 1062 519 \r\nQ 1375 441 1716 441 \r\nQ 2309 441 2620 675 \r\nQ 2931 909 2931 1356 \r\nQ 2931 1769 2642 2001 \r\nQ 2353 2234 1838 2234 \r\nL 1294 2234 \r\nL 1294 2753 \r\nL 1863 2753 \r\nQ 2328 2753 2575 2939 \r\nQ 2822 3125 2822 3475 \r\nQ 2822 3834 2567 4026 \r\nQ 2313 4219 1838 4219 \r\nQ 1578 4219 1281 4162 \r\nQ 984 4106 628 3988 \r\nL 628 4550 \r\nQ 988 4650 1302 4700 \r\nQ 1616 4750 1894 4750 \r\nQ 2613 4750 3031 4423 \r\nQ 3450 4097 3450 3541 \r\nQ 3450 3153 3228 2886 \r\nQ 3006 2619 2597 2516 \r\nz\r\n\" id=\"DejaVuSans-33\" transform=\"scale(0.015625)\"/>\r\n      </defs>\r\n      <use xlink:href=\"#DejaVuSans-33\"/>\r\n     </g>\r\n    </g>\r\n   </g>\r\n   <g id=\"text_3\">\r\n    <g id=\"patch_19\">\r\n     <path clip-path=\"url(#p78dfb16ee3)\" d=\"M 200.471643 212.51212 \r\nL 206.834143 212.51212 \r\nQ 209.834143 212.51212 209.834143 209.51212 \r\nL 209.834143 199.833995 \r\nQ 209.834143 196.833995 206.834143 196.833995 \r\nL 200.471643 196.833995 \r\nQ 197.471643 196.833995 197.471643 199.833995 \r\nL 197.471643 209.51212 \r\nQ 197.471643 212.51212 200.471643 212.51212 \r\nz\r\n\" style=\"fill:#ffffff;stroke:#ffffff;stroke-linejoin:miter;\"/>\r\n    </g>\r\n    <g clip-path=\"url(#p78dfb16ee3)\">\r\n     <!-- 4 -->\r\n     <g transform=\"translate(200.471643 207.432433)scale(0.1 -0.1)\">\r\n      <defs>\r\n       <path d=\"M 2419 4116 \r\nL 825 1625 \r\nL 2419 1625 \r\nL 2419 4116 \r\nz\r\nM 2253 4666 \r\nL 3047 4666 \r\nL 3047 1625 \r\nL 3713 1625 \r\nL 3713 1100 \r\nL 3047 1100 \r\nL 3047 0 \r\nL 2419 0 \r\nL 2419 1100 \r\nL 313 1100 \r\nL 313 1709 \r\nL 2253 4666 \r\nz\r\n\" id=\"DejaVuSans-34\" transform=\"scale(0.015625)\"/>\r\n      </defs>\r\n      <use xlink:href=\"#DejaVuSans-34\"/>\r\n     </g>\r\n    </g>\r\n   </g>\r\n   <g id=\"text_4\">\r\n    <g id=\"patch_20\">\r\n     <path clip-path=\"url(#p78dfb16ee3)\" d=\"M 200.471643 312.346831 \r\nL 206.834143 312.346831 \r\nQ 209.834143 312.346831 209.834143 309.346831 \r\nL 209.834143 299.668706 \r\nQ 209.834143 296.668706 206.834143 296.668706 \r\nL 200.471643 296.668706 \r\nQ 197.471643 296.668706 197.471643 299.668706 \r\nL 197.471643 309.346831 \r\nQ 197.471643 312.346831 200.471643 312.346831 \r\nz\r\n\" style=\"fill:#ffffff;stroke:#ffffff;stroke-linejoin:miter;\"/>\r\n    </g>\r\n    <g clip-path=\"url(#p78dfb16ee3)\">\r\n     <!-- 7 -->\r\n     <g transform=\"translate(200.471643 307.267144)scale(0.1 -0.1)\">\r\n      <defs>\r\n       <path d=\"M 525 4666 \r\nL 3525 4666 \r\nL 3525 4397 \r\nL 1831 0 \r\nL 1172 0 \r\nL 2766 4134 \r\nL 525 4134 \r\nL 525 4666 \r\nz\r\n\" id=\"DejaVuSans-37\" transform=\"scale(0.015625)\"/>\r\n      </defs>\r\n      <use xlink:href=\"#DejaVuSans-37\"/>\r\n     </g>\r\n    </g>\r\n   </g>\r\n   <g id=\"text_5\">\r\n    <g id=\"patch_21\">\r\n     <path clip-path=\"url(#p78dfb16ee3)\" d=\"M 200.471643 352.280715 \r\nL 206.834143 352.280715 \r\nQ 209.834143 352.280715 209.834143 349.280715 \r\nL 209.834143 339.60259 \r\nQ 209.834143 336.60259 206.834143 336.60259 \r\nL 200.471643 336.60259 \r\nQ 197.471643 336.60259 197.471643 339.60259 \r\nL 197.471643 349.280715 \r\nQ 197.471643 352.280715 200.471643 352.280715 \r\nz\r\n\" style=\"fill:#ffffff;stroke:#ffffff;stroke-linejoin:miter;\"/>\r\n    </g>\r\n    <g clip-path=\"url(#p78dfb16ee3)\">\r\n     <!-- 2 -->\r\n     <g transform=\"translate(200.471643 347.201028)scale(0.1 -0.1)\">\r\n      <use xlink:href=\"#DejaVuSans-32\"/>\r\n     </g>\r\n    </g>\r\n   </g>\r\n   <g id=\"matplotlib.axis_1\">\r\n    <g id=\"xtick_1\"/>\r\n    <g id=\"xtick_2\"/>\r\n    <g id=\"xtick_3\"/>\r\n    <g id=\"xtick_4\"/>\r\n   </g>\r\n   <g id=\"matplotlib.axis_2\">\r\n    <g id=\"ytick_1\"/>\r\n    <g id=\"ytick_2\"/>\r\n    <g id=\"ytick_3\"/>\r\n    <g id=\"ytick_4\"/>\r\n    <g id=\"ytick_5\"/>\r\n   </g>\r\n   <g id=\"PathCollection_1\">\r\n    <path clip-path=\"url(#p78dfb16ee3)\" d=\"M 65.305785 179.739174 \r\nC 69.283832 179.739174 73.099483 178.158679 75.912387 175.345775 \r\nC 78.72529 172.532872 80.305785 168.71722 80.305785 164.739174 \r\nC 80.305785 160.761127 78.72529 156.945475 75.912387 154.132572 \r\nC 73.099483 151.319668 69.283832 149.739174 65.305785 149.739174 \r\nC 61.327739 149.739174 57.512087 151.319668 54.699183 154.132572 \r\nC 51.88628 156.945475 50.305785 160.761127 50.305785 164.739174 \r\nC 50.305785 168.71722 51.88628 172.532872 54.699183 175.345775 \r\nC 57.512087 178.158679 61.327739 179.739174 65.305785 179.739174 \r\nz\r\n\" style=\"fill:#32cd32;stroke:#32cd32;\"/>\r\n    <path clip-path=\"url(#p78dfb16ee3)\" d=\"M 342 100.682793 \r\nC 346.193229 100.682793 350.215279 99.016806 353.18034 96.051745 \r\nC 356.145401 93.086684 357.811388 89.064634 357.811388 84.871405 \r\nC 357.811388 80.678176 356.145401 76.656126 353.18034 73.691065 \r\nC 350.215279 70.726004 346.193229 69.060017 342 69.060017 \r\nC 337.806771 69.060017 333.784721 70.726004 330.81966 73.691065 \r\nC 327.854599 76.656126 326.188612 80.678176 326.188612 84.871405 \r\nC 326.188612 89.064634 327.854599 93.086684 330.81966 96.051745 \r\nC 333.784721 99.016806 337.806771 100.682793 342 100.682793 \r\nz\r\n\" style=\"fill:#fa8072;stroke:#fa8072;\"/>\r\n    <path clip-path=\"url(#p78dfb16ee3)\" d=\"M 342 180.550562 \r\nC 346.193229 180.550562 350.215279 178.884574 353.18034 175.919513 \r\nC 356.145401 172.954453 357.811388 168.932403 357.811388 164.739174 \r\nC 357.811388 160.545944 356.145401 156.523894 353.18034 153.558834 \r\nC 350.215279 150.593773 346.193229 148.927785 342 148.927785 \r\nC 337.806771 148.927785 333.784721 150.593773 330.81966 153.558834 \r\nC 327.854599 156.523894 326.188612 160.545944 326.188612 164.739174 \r\nC 326.188612 168.932403 327.854599 172.954453 330.81966 175.919513 \r\nC 333.784721 178.884574 337.806771 180.550562 342 180.550562 \r\nz\r\n\" style=\"fill:#fa8072;stroke:#fa8072;\"/>\r\n    <path clip-path=\"url(#p78dfb16ee3)\" d=\"M 342 260.41833 \r\nC 346.193229 260.41833 350.215279 258.752343 353.18034 255.787282 \r\nC 356.145401 252.822221 357.811388 248.800171 357.811388 244.606942 \r\nC 357.811388 240.413713 356.145401 236.391663 353.18034 233.426602 \r\nC 350.215279 230.461541 346.193229 228.795554 342 228.795554 \r\nC 337.806771 228.795554 333.784721 230.461541 330.81966 233.426602 \r\nC 327.854599 236.391663 326.188612 240.413713 326.188612 244.606942 \r\nC 326.188612 248.800171 327.854599 252.822221 330.81966 255.787282 \r\nC 333.784721 258.752343 337.806771 260.41833 342 260.41833 \r\nz\r\n\" style=\"fill:#fa8072;stroke:#fa8072;\"/>\r\n    <path clip-path=\"url(#p78dfb16ee3)\" d=\"M 65.305785 299.540826 \r\nC 69.283832 299.540826 73.099483 297.960332 75.912387 295.147428 \r\nC 78.72529 292.334525 80.305785 288.518873 80.305785 284.540826 \r\nC 80.305785 280.56278 78.72529 276.747128 75.912387 273.934225 \r\nC 73.099483 271.121321 69.283832 269.540826 65.305785 269.540826 \r\nC 61.327739 269.540826 57.512087 271.121321 54.699183 273.934225 \r\nC 51.88628 276.747128 50.305785 280.56278 50.305785 284.540826 \r\nC 50.305785 288.518873 51.88628 292.334525 54.699183 295.147428 \r\nC 57.512087 297.960332 61.327739 299.540826 65.305785 299.540826 \r\nz\r\n\" style=\"fill:#32cd32;stroke:#32cd32;\"/>\r\n    <path clip-path=\"url(#p78dfb16ee3)\" d=\"M 342 340.286099 \r\nC 346.193229 340.286099 350.215279 338.620111 353.18034 335.655051 \r\nC 356.145401 332.68999 357.811388 328.66794 357.811388 324.474711 \r\nC 357.811388 320.281482 356.145401 316.259432 353.18034 313.294371 \r\nC 350.215279 310.32931 346.193229 308.663322 342 308.663322 \r\nC 337.806771 308.663322 333.784721 310.32931 330.81966 313.294371 \r\nC 327.854599 316.259432 326.188612 320.281482 326.188612 324.474711 \r\nC 326.188612 328.66794 327.854599 332.68999 330.81966 335.655051 \r\nC 333.784721 338.620111 337.806771 340.286099 342 340.286099 \r\nz\r\n\" style=\"fill:#fa8072;stroke:#fa8072;\"/>\r\n    <path clip-path=\"url(#p78dfb16ee3)\" d=\"M 342 420.153868 \r\nC 346.193229 420.153868 350.215279 418.48788 353.18034 415.522819 \r\nC 356.145401 412.557758 357.811388 408.535709 357.811388 404.342479 \r\nC 357.811388 400.14925 356.145401 396.1272 353.18034 393.162139 \r\nC 350.215279 390.197079 346.193229 388.531091 342 388.531091 \r\nC 337.806771 388.531091 333.784721 390.197079 330.81966 393.162139 \r\nC 327.854599 396.1272 326.188612 400.14925 326.188612 404.342479 \r\nC 326.188612 408.535709 327.854599 412.557758 330.81966 415.522819 \r\nC 333.784721 418.48788 337.806771 420.153868 342 420.153868 \r\nz\r\n\" style=\"fill:#fa8072;stroke:#fa8072;\"/>\r\n    <path clip-path=\"url(#p78dfb16ee3)\" d=\"M 480.347107 60.748909 \r\nC 484.540337 60.748909 488.562387 59.082921 491.527447 56.117861 \r\nC 494.492508 53.1528 496.158496 49.13075 496.158496 44.937521 \r\nC 496.158496 40.744291 494.492508 36.722242 491.527447 33.757181 \r\nC 488.562387 30.79212 484.540337 29.126132 480.347107 29.126132 \r\nC 476.153878 29.126132 472.131828 30.79212 469.166768 33.757181 \r\nC 466.201707 36.722242 464.535719 40.744291 464.535719 44.937521 \r\nC 464.535719 49.13075 466.201707 53.1528 469.166768 56.117861 \r\nC 472.131828 59.082921 476.153878 60.748909 480.347107 60.748909 \r\nz\r\n\" style=\"fill:#008000;stroke:#008000;\"/>\r\n    <path clip-path=\"url(#p78dfb16ee3)\" d=\"M 618.694215 179.739174 \r\nC 622.672261 179.739174 626.487913 178.158679 629.300817 175.345775 \r\nC 632.11372 172.532872 633.694215 168.71722 633.694215 164.739174 \r\nC 633.694215 160.761127 632.11372 156.945475 629.300817 154.132572 \r\nC 626.487913 151.319668 622.672261 149.739174 618.694215 149.739174 \r\nC 614.716168 149.739174 610.900517 151.319668 608.087613 154.132572 \r\nC 605.27471 156.945475 603.694215 160.761127 603.694215 164.739174 \r\nC 603.694215 168.71722 605.27471 172.532872 608.087613 175.345775 \r\nC 610.900517 178.158679 614.716168 179.739174 618.694215 179.739174 \r\nz\r\n\" style=\"fill:#87ceeb;stroke:#87ceeb;\"/>\r\n    <path clip-path=\"url(#p78dfb16ee3)\" d=\"M 480.347107 100.682793 \r\nC 484.540337 100.682793 488.562387 99.016806 491.527447 96.051745 \r\nC 494.492508 93.086684 496.158496 89.064634 496.158496 84.871405 \r\nC 496.158496 80.678176 494.492508 76.656126 491.527447 73.691065 \r\nC 488.562387 70.726004 484.540337 69.060017 480.347107 69.060017 \r\nC 476.153878 69.060017 472.131828 70.726004 469.166768 73.691065 \r\nC 466.201707 76.656126 464.535719 80.678176 464.535719 84.871405 \r\nC 464.535719 89.064634 466.201707 93.086684 469.166768 96.051745 \r\nC 472.131828 99.016806 476.153878 100.682793 480.347107 100.682793 \r\nz\r\n\" style=\"fill:#008000;stroke:#008000;\"/>\r\n    <path clip-path=\"url(#p78dfb16ee3)\" d=\"M 480.347107 140.616678 \r\nC 484.540337 140.616678 488.562387 138.95069 491.527447 135.985629 \r\nC 494.492508 133.020568 496.158496 128.998518 496.158496 124.805289 \r\nC 496.158496 120.61206 494.492508 116.59001 491.527447 113.624949 \r\nC 488.562387 110.659889 484.540337 108.993901 480.347107 108.993901 \r\nC 476.153878 108.993901 472.131828 110.659889 469.166768 113.624949 \r\nC 466.201707 116.59001 464.535719 120.61206 464.535719 124.805289 \r\nC 464.535719 128.998518 466.201707 133.020568 469.166768 135.985629 \r\nC 472.131828 138.95069 476.153878 140.616678 480.347107 140.616678 \r\nz\r\n\" style=\"fill:#008000;stroke:#008000;\"/>\r\n    <path clip-path=\"url(#p78dfb16ee3)\" d=\"M 480.347107 180.550562 \r\nC 484.540337 180.550562 488.562387 178.884574 491.527447 175.919513 \r\nC 494.492508 172.954453 496.158496 168.932403 496.158496 164.739174 \r\nC 496.158496 160.545944 494.492508 156.523894 491.527447 153.558834 \r\nC 488.562387 150.593773 484.540337 148.927785 480.347107 148.927785 \r\nC 476.153878 148.927785 472.131828 150.593773 469.166768 153.558834 \r\nC 466.201707 156.523894 464.535719 160.545944 464.535719 164.739174 \r\nC 464.535719 168.932403 466.201707 172.954453 469.166768 175.919513 \r\nC 472.131828 178.884574 476.153878 180.550562 480.347107 180.550562 \r\nz\r\n\" style=\"fill:#008000;stroke:#008000;\"/>\r\n    <path clip-path=\"url(#p78dfb16ee3)\" d=\"M 618.694215 259.606942 \r\nC 622.672261 259.606942 626.487913 258.026448 629.300817 255.213544 \r\nC 632.11372 252.40064 633.694215 248.584989 633.694215 244.606942 \r\nC 633.694215 240.628896 632.11372 236.813244 629.300817 234.00034 \r\nC 626.487913 231.187437 622.672261 229.606942 618.694215 229.606942 \r\nC 614.716168 229.606942 610.900517 231.187437 608.087613 234.00034 \r\nC 605.27471 236.813244 603.694215 240.628896 603.694215 244.606942 \r\nC 603.694215 248.584989 605.27471 252.40064 608.087613 255.213544 \r\nC 610.900517 258.026448 614.716168 259.606942 618.694215 259.606942 \r\nz\r\n\" style=\"fill:#87ceeb;stroke:#87ceeb;\"/>\r\n    <path clip-path=\"url(#p78dfb16ee3)\" d=\"M 480.347107 220.484446 \r\nC 484.540337 220.484446 488.562387 218.818459 491.527447 215.853398 \r\nC 494.492508 212.888337 496.158496 208.866287 496.158496 204.673058 \r\nC 496.158496 200.479829 494.492508 196.457779 491.527447 193.492718 \r\nC 488.562387 190.527657 484.540337 188.86167 480.347107 188.86167 \r\nC 476.153878 188.86167 472.131828 190.527657 469.166768 193.492718 \r\nC 466.201707 196.457779 464.535719 200.479829 464.535719 204.673058 \r\nC 464.535719 208.866287 466.201707 212.888337 469.166768 215.853398 \r\nC 472.131828 218.818459 476.153878 220.484446 480.347107 220.484446 \r\nz\r\n\" style=\"fill:#008000;stroke:#008000;\"/>\r\n    <path clip-path=\"url(#p78dfb16ee3)\" d=\"M 480.347107 260.41833 \r\nC 484.540337 260.41833 488.562387 258.752343 491.527447 255.787282 \r\nC 494.492508 252.822221 496.158496 248.800171 496.158496 244.606942 \r\nC 496.158496 240.413713 494.492508 236.391663 491.527447 233.426602 \r\nC 488.562387 230.461541 484.540337 228.795554 480.347107 228.795554 \r\nC 476.153878 228.795554 472.131828 230.461541 469.166768 233.426602 \r\nC 466.201707 236.391663 464.535719 240.413713 464.535719 244.606942 \r\nC 464.535719 248.800171 466.201707 252.822221 469.166768 255.787282 \r\nC 472.131828 258.752343 476.153878 260.41833 480.347107 260.41833 \r\nz\r\n\" style=\"fill:#008000;stroke:#008000;\"/>\r\n    <path clip-path=\"url(#p78dfb16ee3)\" d=\"M 480.347107 300.352215 \r\nC 484.540337 300.352215 488.562387 298.686227 491.527447 295.721166 \r\nC 494.492508 292.756106 496.158496 288.734056 496.158496 284.540826 \r\nC 496.158496 280.347597 494.492508 276.325547 491.527447 273.360487 \r\nC 488.562387 270.395426 484.540337 268.729438 480.347107 268.729438 \r\nC 476.153878 268.729438 472.131828 270.395426 469.166768 273.360487 \r\nC 466.201707 276.325547 464.535719 280.347597 464.535719 284.540826 \r\nC 464.535719 288.734056 466.201707 292.756106 469.166768 295.721166 \r\nC 472.131828 298.686227 476.153878 300.352215 480.347107 300.352215 \r\nz\r\n\" style=\"fill:#008000;stroke:#008000;\"/>\r\n    <path clip-path=\"url(#p78dfb16ee3)\" d=\"M 618.694215 339.474711 \r\nC 622.672261 339.474711 626.487913 337.894216 629.300817 335.081312 \r\nC 632.11372 332.268409 633.694215 328.452757 633.694215 324.474711 \r\nC 633.694215 320.496664 632.11372 316.681013 629.300817 313.868109 \r\nC 626.487913 311.055205 622.672261 309.474711 618.694215 309.474711 \r\nC 614.716168 309.474711 610.900517 311.055205 608.087613 313.868109 \r\nC 605.27471 316.681013 603.694215 320.496664 603.694215 324.474711 \r\nC 603.694215 328.452757 605.27471 332.268409 608.087613 335.081312 \r\nC 610.900517 337.894216 614.716168 339.474711 618.694215 339.474711 \r\nz\r\n\" style=\"fill:#87ceeb;stroke:#87ceeb;\"/>\r\n    <path clip-path=\"url(#p78dfb16ee3)\" d=\"M 480.347107 340.286099 \r\nC 484.540337 340.286099 488.562387 338.620111 491.527447 335.655051 \r\nC 494.492508 332.68999 496.158496 328.66794 496.158496 324.474711 \r\nC 496.158496 320.281482 494.492508 316.259432 491.527447 313.294371 \r\nC 488.562387 310.32931 484.540337 308.663322 480.347107 308.663322 \r\nC 476.153878 308.663322 472.131828 310.32931 469.166768 313.294371 \r\nC 466.201707 316.259432 464.535719 320.281482 464.535719 324.474711 \r\nC 464.535719 328.66794 466.201707 332.68999 469.166768 335.655051 \r\nC 472.131828 338.620111 476.153878 340.286099 480.347107 340.286099 \r\nz\r\n\" style=\"fill:#008000;stroke:#008000;\"/>\r\n    <path clip-path=\"url(#p78dfb16ee3)\" d=\"M 480.347107 380.219983 \r\nC 484.540337 380.219983 488.562387 378.553996 491.527447 375.588935 \r\nC 494.492508 372.623874 496.158496 368.601824 496.158496 364.408595 \r\nC 496.158496 360.215366 494.492508 356.193316 491.527447 353.228255 \r\nC 488.562387 350.263194 484.540337 348.597207 480.347107 348.597207 \r\nC 476.153878 348.597207 472.131828 350.263194 469.166768 353.228255 \r\nC 466.201707 356.193316 464.535719 360.215366 464.535719 364.408595 \r\nC 464.535719 368.601824 466.201707 372.623874 469.166768 375.588935 \r\nC 472.131828 378.553996 476.153878 380.219983 480.347107 380.219983 \r\nz\r\n\" style=\"fill:#008000;stroke:#008000;\"/>\r\n   </g>\r\n   <g id=\"patch_22\">\r\n    <path d=\"M 7.2 442.08 \r\nL 7.2 7.2 \r\n\" style=\"fill:none;stroke:#000000;stroke-linecap:square;stroke-linejoin:miter;stroke-width:0.8;\"/>\r\n   </g>\r\n   <g id=\"patch_23\">\r\n    <path d=\"M 676.8 442.08 \r\nL 676.8 7.2 \r\n\" style=\"fill:none;stroke:#000000;stroke-linecap:square;stroke-linejoin:miter;stroke-width:0.8;\"/>\r\n   </g>\r\n   <g id=\"patch_24\">\r\n    <path d=\"M 7.2 442.08 \r\nL 676.8 442.08 \r\n\" style=\"fill:none;stroke:#000000;stroke-linecap:square;stroke-linejoin:miter;stroke-width:0.8;\"/>\r\n   </g>\r\n   <g id=\"patch_25\">\r\n    <path d=\"M 7.2 7.2 \r\nL 676.8 7.2 \r\n\" style=\"fill:none;stroke:#000000;stroke-linecap:square;stroke-linejoin:miter;stroke-width:0.8;\"/>\r\n   </g>\r\n   <g id=\"text_6\">\r\n    <g clip-path=\"url(#p78dfb16ee3)\">\r\n     <!-- F1 -->\r\n     <g transform=\"translate(58.037348 168.050424)scale(0.12 -0.12)\">\r\n      <defs>\r\n       <path d=\"M 628 4666 \r\nL 3309 4666 \r\nL 3309 4134 \r\nL 1259 4134 \r\nL 1259 2759 \r\nL 3109 2759 \r\nL 3109 2228 \r\nL 1259 2228 \r\nL 1259 0 \r\nL 628 0 \r\nL 628 4666 \r\nz\r\n\" id=\"DejaVuSans-46\" transform=\"scale(0.015625)\"/>\r\n       <path d=\"M 794 531 \r\nL 1825 531 \r\nL 1825 4091 \r\nL 703 3866 \r\nL 703 4441 \r\nL 1819 4666 \r\nL 2450 4666 \r\nL 2450 531 \r\nL 3481 531 \r\nL 3481 0 \r\nL 794 0 \r\nL 794 531 \r\nz\r\n\" id=\"DejaVuSans-31\" transform=\"scale(0.015625)\"/>\r\n      </defs>\r\n      <use xlink:href=\"#DejaVuSans-46\"/>\r\n      <use x=\"57.519531\" xlink:href=\"#DejaVuSans-31\"/>\r\n     </g>\r\n    </g>\r\n   </g>\r\n   <g id=\"text_7\">\r\n    <g clip-path=\"url(#p78dfb16ee3)\">\r\n     <!-- F1_P1 -->\r\n     <g transform=\"translate(324.29625 87.848905)scale(0.12 -0.12)\">\r\n      <defs>\r\n       <path d=\"M 3263 -1063 \r\nL 3263 -1509 \r\nL -63 -1509 \r\nL -63 -1063 \r\nL 3263 -1063 \r\nz\r\n\" id=\"DejaVuSans-5f\" transform=\"scale(0.015625)\"/>\r\n       <path d=\"M 1259 4147 \r\nL 1259 2394 \r\nL 2053 2394 \r\nQ 2494 2394 2734 2622 \r\nQ 2975 2850 2975 3272 \r\nQ 2975 3691 2734 3919 \r\nQ 2494 4147 2053 4147 \r\nL 1259 4147 \r\nz\r\nM 628 4666 \r\nL 2053 4666 \r\nQ 2838 4666 3239 4311 \r\nQ 3641 3956 3641 3272 \r\nQ 3641 2581 3239 2228 \r\nQ 2838 1875 2053 1875 \r\nL 1259 1875 \r\nL 1259 0 \r\nL 628 0 \r\nL 628 4666 \r\nz\r\n\" id=\"DejaVuSans-50\" transform=\"scale(0.015625)\"/>\r\n      </defs>\r\n      <use xlink:href=\"#DejaVuSans-46\"/>\r\n      <use x=\"57.519531\" xlink:href=\"#DejaVuSans-31\"/>\r\n      <use x=\"121.142578\" xlink:href=\"#DejaVuSans-5f\"/>\r\n      <use x=\"171.142578\" xlink:href=\"#DejaVuSans-50\"/>\r\n      <use x=\"231.445312\" xlink:href=\"#DejaVuSans-31\"/>\r\n     </g>\r\n    </g>\r\n   </g>\r\n   <g id=\"text_8\">\r\n    <g clip-path=\"url(#p78dfb16ee3)\">\r\n     <!-- F1_P2 -->\r\n     <g transform=\"translate(324.29625 167.777611)scale(0.12 -0.12)\">\r\n      <use xlink:href=\"#DejaVuSans-46\"/>\r\n      <use x=\"57.519531\" xlink:href=\"#DejaVuSans-31\"/>\r\n      <use x=\"121.142578\" xlink:href=\"#DejaVuSans-5f\"/>\r\n      <use x=\"171.142578\" xlink:href=\"#DejaVuSans-50\"/>\r\n      <use x=\"231.445312\" xlink:href=\"#DejaVuSans-32\"/>\r\n     </g>\r\n    </g>\r\n   </g>\r\n   <g id=\"text_9\">\r\n    <g clip-path=\"url(#p78dfb16ee3)\">\r\n     <!-- F1_P3 -->\r\n     <g transform=\"translate(324.29625 247.64538)scale(0.12 -0.12)\">\r\n      <use xlink:href=\"#DejaVuSans-46\"/>\r\n      <use x=\"57.519531\" xlink:href=\"#DejaVuSans-31\"/>\r\n      <use x=\"121.142578\" xlink:href=\"#DejaVuSans-5f\"/>\r\n      <use x=\"171.142578\" xlink:href=\"#DejaVuSans-50\"/>\r\n      <use x=\"231.445312\" xlink:href=\"#DejaVuSans-33\"/>\r\n     </g>\r\n    </g>\r\n   </g>\r\n   <g id=\"text_10\">\r\n    <g clip-path=\"url(#p78dfb16ee3)\">\r\n     <!-- F2 -->\r\n     <g transform=\"translate(58.037348 287.852076)scale(0.12 -0.12)\">\r\n      <use xlink:href=\"#DejaVuSans-46\"/>\r\n      <use x=\"57.519531\" xlink:href=\"#DejaVuSans-32\"/>\r\n     </g>\r\n    </g>\r\n   </g>\r\n   <g id=\"text_11\">\r\n    <g clip-path=\"url(#p78dfb16ee3)\">\r\n     <!-- F2_P1 -->\r\n     <g transform=\"translate(324.29625 327.513148)scale(0.12 -0.12)\">\r\n      <use xlink:href=\"#DejaVuSans-46\"/>\r\n      <use x=\"57.519531\" xlink:href=\"#DejaVuSans-32\"/>\r\n      <use x=\"121.142578\" xlink:href=\"#DejaVuSans-5f\"/>\r\n      <use x=\"171.142578\" xlink:href=\"#DejaVuSans-50\"/>\r\n      <use x=\"231.445312\" xlink:href=\"#DejaVuSans-31\"/>\r\n     </g>\r\n    </g>\r\n   </g>\r\n   <g id=\"text_12\">\r\n    <g clip-path=\"url(#p78dfb16ee3)\">\r\n     <!-- F2_P2 -->\r\n     <g transform=\"translate(324.29625 407.380917)scale(0.12 -0.12)\">\r\n      <use xlink:href=\"#DejaVuSans-46\"/>\r\n      <use x=\"57.519531\" xlink:href=\"#DejaVuSans-32\"/>\r\n      <use x=\"121.142578\" xlink:href=\"#DejaVuSans-5f\"/>\r\n      <use x=\"171.142578\" xlink:href=\"#DejaVuSans-50\"/>\r\n      <use x=\"231.445312\" xlink:href=\"#DejaVuSans-32\"/>\r\n     </g>\r\n    </g>\r\n   </g>\r\n   <g id=\"text_13\">\r\n    <g clip-path=\"url(#p78dfb16ee3)\">\r\n     <!-- C1_P1 -->\r\n     <g transform=\"translate(461.904607 47.975958)scale(0.12 -0.12)\">\r\n      <defs>\r\n       <path d=\"M 4122 4306 \r\nL 4122 3641 \r\nQ 3803 3938 3442 4084 \r\nQ 3081 4231 2675 4231 \r\nQ 1875 4231 1450 3742 \r\nQ 1025 3253 1025 2328 \r\nQ 1025 1406 1450 917 \r\nQ 1875 428 2675 428 \r\nQ 3081 428 3442 575 \r\nQ 3803 722 4122 1019 \r\nL 4122 359 \r\nQ 3791 134 3420 21 \r\nQ 3050 -91 2638 -91 \r\nQ 1578 -91 968 557 \r\nQ 359 1206 359 2328 \r\nQ 359 3453 968 4101 \r\nQ 1578 4750 2638 4750 \r\nQ 3056 4750 3426 4639 \r\nQ 3797 4528 4122 4306 \r\nz\r\n\" id=\"DejaVuSans-43\" transform=\"scale(0.015625)\"/>\r\n      </defs>\r\n      <use xlink:href=\"#DejaVuSans-43\"/>\r\n      <use x=\"69.824219\" xlink:href=\"#DejaVuSans-31\"/>\r\n      <use x=\"133.447266\" xlink:href=\"#DejaVuSans-5f\"/>\r\n      <use x=\"183.447266\" xlink:href=\"#DejaVuSans-50\"/>\r\n      <use x=\"243.75\" xlink:href=\"#DejaVuSans-31\"/>\r\n     </g>\r\n    </g>\r\n   </g>\r\n   <g id=\"text_14\">\r\n    <g clip-path=\"url(#p78dfb16ee3)\">\r\n     <!-- C1 -->\r\n     <g transform=\"translate(610.687027 168.050424)scale(0.12 -0.12)\">\r\n      <use xlink:href=\"#DejaVuSans-43\"/>\r\n      <use x=\"69.824219\" xlink:href=\"#DejaVuSans-31\"/>\r\n     </g>\r\n    </g>\r\n   </g>\r\n   <g id=\"text_15\">\r\n    <g clip-path=\"url(#p78dfb16ee3)\">\r\n     <!-- C1_P2 -->\r\n     <g transform=\"translate(461.904607 87.909842)scale(0.12 -0.12)\">\r\n      <use xlink:href=\"#DejaVuSans-43\"/>\r\n      <use x=\"69.824219\" xlink:href=\"#DejaVuSans-31\"/>\r\n      <use x=\"133.447266\" xlink:href=\"#DejaVuSans-5f\"/>\r\n      <use x=\"183.447266\" xlink:href=\"#DejaVuSans-50\"/>\r\n      <use x=\"243.75\" xlink:href=\"#DejaVuSans-32\"/>\r\n     </g>\r\n    </g>\r\n   </g>\r\n   <g id=\"text_16\">\r\n    <g clip-path=\"url(#p78dfb16ee3)\">\r\n     <!-- C1_P3 -->\r\n     <g transform=\"translate(461.904607 127.843727)scale(0.12 -0.12)\">\r\n      <use xlink:href=\"#DejaVuSans-43\"/>\r\n      <use x=\"69.824219\" xlink:href=\"#DejaVuSans-31\"/>\r\n      <use x=\"133.447266\" xlink:href=\"#DejaVuSans-5f\"/>\r\n      <use x=\"183.447266\" xlink:href=\"#DejaVuSans-50\"/>\r\n      <use x=\"243.75\" xlink:href=\"#DejaVuSans-33\"/>\r\n     </g>\r\n    </g>\r\n   </g>\r\n   <g id=\"text_17\">\r\n    <g clip-path=\"url(#p78dfb16ee3)\">\r\n     <!-- C2_P1 -->\r\n     <g transform=\"translate(461.904607 167.777611)scale(0.12 -0.12)\">\r\n      <use xlink:href=\"#DejaVuSans-43\"/>\r\n      <use x=\"69.824219\" xlink:href=\"#DejaVuSans-32\"/>\r\n      <use x=\"133.447266\" xlink:href=\"#DejaVuSans-5f\"/>\r\n      <use x=\"183.447266\" xlink:href=\"#DejaVuSans-50\"/>\r\n      <use x=\"243.75\" xlink:href=\"#DejaVuSans-31\"/>\r\n     </g>\r\n    </g>\r\n   </g>\r\n   <g id=\"text_18\">\r\n    <g clip-path=\"url(#p78dfb16ee3)\">\r\n     <!-- C2 -->\r\n     <g transform=\"translate(610.687027 247.918192)scale(0.12 -0.12)\">\r\n      <use xlink:href=\"#DejaVuSans-43\"/>\r\n      <use x=\"69.824219\" xlink:href=\"#DejaVuSans-32\"/>\r\n     </g>\r\n    </g>\r\n   </g>\r\n   <g id=\"text_19\">\r\n    <g clip-path=\"url(#p78dfb16ee3)\">\r\n     <!-- C2_P2 -->\r\n     <g transform=\"translate(461.904607 207.711495)scale(0.12 -0.12)\">\r\n      <use xlink:href=\"#DejaVuSans-43\"/>\r\n      <use x=\"69.824219\" xlink:href=\"#DejaVuSans-32\"/>\r\n      <use x=\"133.447266\" xlink:href=\"#DejaVuSans-5f\"/>\r\n      <use x=\"183.447266\" xlink:href=\"#DejaVuSans-50\"/>\r\n      <use x=\"243.75\" xlink:href=\"#DejaVuSans-32\"/>\r\n     </g>\r\n    </g>\r\n   </g>\r\n   <g id=\"text_20\">\r\n    <g clip-path=\"url(#p78dfb16ee3)\">\r\n     <!-- C2_P3 -->\r\n     <g transform=\"translate(461.904607 247.64538)scale(0.12 -0.12)\">\r\n      <use xlink:href=\"#DejaVuSans-43\"/>\r\n      <use x=\"69.824219\" xlink:href=\"#DejaVuSans-32\"/>\r\n      <use x=\"133.447266\" xlink:href=\"#DejaVuSans-5f\"/>\r\n      <use x=\"183.447266\" xlink:href=\"#DejaVuSans-50\"/>\r\n      <use x=\"243.75\" xlink:href=\"#DejaVuSans-33\"/>\r\n     </g>\r\n    </g>\r\n   </g>\r\n   <g id=\"text_21\">\r\n    <g clip-path=\"url(#p78dfb16ee3)\">\r\n     <!-- C3_P1 -->\r\n     <g transform=\"translate(461.904607 287.579264)scale(0.12 -0.12)\">\r\n      <use xlink:href=\"#DejaVuSans-43\"/>\r\n      <use x=\"69.824219\" xlink:href=\"#DejaVuSans-33\"/>\r\n      <use x=\"133.447266\" xlink:href=\"#DejaVuSans-5f\"/>\r\n      <use x=\"183.447266\" xlink:href=\"#DejaVuSans-50\"/>\r\n      <use x=\"243.75\" xlink:href=\"#DejaVuSans-31\"/>\r\n     </g>\r\n    </g>\r\n   </g>\r\n   <g id=\"text_22\">\r\n    <g clip-path=\"url(#p78dfb16ee3)\">\r\n     <!-- C3 -->\r\n     <g transform=\"translate(610.687027 327.785961)scale(0.12 -0.12)\">\r\n      <use xlink:href=\"#DejaVuSans-43\"/>\r\n      <use x=\"69.824219\" xlink:href=\"#DejaVuSans-33\"/>\r\n     </g>\r\n    </g>\r\n   </g>\r\n   <g id=\"text_23\">\r\n    <g clip-path=\"url(#p78dfb16ee3)\">\r\n     <!-- C3_P2 -->\r\n     <g transform=\"translate(461.904607 327.513148)scale(0.12 -0.12)\">\r\n      <use xlink:href=\"#DejaVuSans-43\"/>\r\n      <use x=\"69.824219\" xlink:href=\"#DejaVuSans-33\"/>\r\n      <use x=\"133.447266\" xlink:href=\"#DejaVuSans-5f\"/>\r\n      <use x=\"183.447266\" xlink:href=\"#DejaVuSans-50\"/>\r\n      <use x=\"243.75\" xlink:href=\"#DejaVuSans-32\"/>\r\n     </g>\r\n    </g>\r\n   </g>\r\n   <g id=\"text_24\">\r\n    <g clip-path=\"url(#p78dfb16ee3)\">\r\n     <!-- C3_P3 -->\r\n     <g transform=\"translate(461.904607 367.447033)scale(0.12 -0.12)\">\r\n      <use xlink:href=\"#DejaVuSans-43\"/>\r\n      <use x=\"69.824219\" xlink:href=\"#DejaVuSans-33\"/>\r\n      <use x=\"133.447266\" xlink:href=\"#DejaVuSans-5f\"/>\r\n      <use x=\"183.447266\" xlink:href=\"#DejaVuSans-50\"/>\r\n      <use x=\"243.75\" xlink:href=\"#DejaVuSans-33\"/>\r\n     </g>\r\n    </g>\r\n   </g>\r\n  </g>\r\n </g>\r\n <defs>\r\n  <clipPath id=\"p78dfb16ee3\">\r\n   <rect height=\"434.88\" width=\"669.6\" x=\"7.2\" y=\"7.2\"/>\r\n  </clipPath>\r\n </defs>\r\n</svg>\r\n",
                        "text/plain": [
                            "<Figure size 864x576 with 1 Axes>"
                        ]
                    },
                    "metadata": {}
                }
            ],
            "metadata": {}
        },
        {
            "cell_type": "code",
            "execution_count": 47,
            "source": [
                "xls = pd.ExcelFile('data_ex.xlsx')\r\n",
                "demand_df = pd.read_excel(xls, sheet_name='demand', index_col=0, usecols=\"A:D\", nrows=33)  \r\n",
                "prices_df = pd.read_excel(xls, sheet_name = 'prices', index_col=0, usecols=\"A:D\", nrows=33) \r\n",
                "custs = pd.read_excel(xls, sheet_name='customers', index_col=0, usecols=\"A:C\", nrows=33).to_dict('index')\r\n",
                "farms_dict = pd.read_excel(xls, sheet_name='farms', index_col=0, usecols=\"A:F\", nrows=31).to_dict('index')\r\n",
                "# farms_df = pd.read_excel(xls, sheet_name='farms', index_col=0, usecols=\"A:F\", nrows=31)\r\n",
                "products_dict = {'P1': 6, 'P2': 10, 'P3': 12}\r\n",
                "# transport_cost_per_egg = {'North':0.10, 'South':0.15}\r\n"
            ],
            "outputs": [],
            "metadata": {}
        },
        {
            "cell_type": "code",
            "execution_count": 48,
            "source": [
                "for farm in farms_dict.keys():\r\n",
                "    farms_dict[farm]['Products'] = farms_dict[farm]['Products'].split(', ')\r\n"
            ],
            "outputs": [],
            "metadata": {}
        },
        {
            "cell_type": "code",
            "execution_count": 49,
            "source": [
                "def edges_fprod_cprod() -> list:\r\n",
                "    prod_edges = []\r\n",
                "    for customer in custs.keys():\r\n",
                "        for product in products_dict.keys():\r\n",
                "            for farm in farms_dict.keys():\r\n",
                "                for prod in farms_dict[farm]['Products']:\r\n",
                "                    if product == prod:\r\n",
                "                        prod_edges.append((farm + \"_\" + prod, customer + \"_\" + product))\r\n",
                "    return prod_edges\r\n"
            ],
            "outputs": [],
            "metadata": {}
        },
        {
            "cell_type": "code",
            "execution_count": 50,
            "source": [
                "edges_fprod_cprod()"
            ],
            "outputs": [
                {
                    "output_type": "execute_result",
                    "data": {
                        "text/plain": [
                            "[('F1_P1', 'C1_P1'),\n",
                            " ('F2_P1', 'C1_P1'),\n",
                            " ('F3_P1', 'C1_P1'),\n",
                            " ('F4_P1', 'C1_P1'),\n",
                            " ('F5_P1', 'C1_P1'),\n",
                            " ('F6_P1', 'C1_P1'),\n",
                            " ('F7_P1', 'C1_P1'),\n",
                            " ('F8_P1', 'C1_P1'),\n",
                            " ('F9_P1', 'C1_P1'),\n",
                            " ('F10_P1', 'C1_P1'),\n",
                            " ('F11_P1', 'C1_P1'),\n",
                            " ('F12_P1', 'C1_P1'),\n",
                            " ('F14_P1', 'C1_P1'),\n",
                            " ('F15_P1', 'C1_P1'),\n",
                            " ('F1_P2', 'C1_P2'),\n",
                            " ('F2_P2', 'C1_P2'),\n",
                            " ('F3_P2', 'C1_P2'),\n",
                            " ('F4_P2', 'C1_P2'),\n",
                            " ('F5_P2', 'C1_P2'),\n",
                            " ('F6_P2', 'C1_P2'),\n",
                            " ('F7_P2', 'C1_P2'),\n",
                            " ('F8_P2', 'C1_P2'),\n",
                            " ('F9_P2', 'C1_P2'),\n",
                            " ('F10_P2', 'C1_P2'),\n",
                            " ('F11_P2', 'C1_P2'),\n",
                            " ('F12_P2', 'C1_P2'),\n",
                            " ('F13_P2', 'C1_P2'),\n",
                            " ('F1_P3', 'C1_P3'),\n",
                            " ('F2_P3', 'C1_P3'),\n",
                            " ('F3_P3', 'C1_P3'),\n",
                            " ('F4_P3', 'C1_P3'),\n",
                            " ('F5_P3', 'C1_P3'),\n",
                            " ('F6_P3', 'C1_P3'),\n",
                            " ('F7_P3', 'C1_P3'),\n",
                            " ('F8_P3', 'C1_P3'),\n",
                            " ('F9_P3', 'C1_P3'),\n",
                            " ('F13_P3', 'C1_P3'),\n",
                            " ('F14_P3', 'C1_P3'),\n",
                            " ('F15_P3', 'C1_P3'),\n",
                            " ('F1_P1', 'C2_P1'),\n",
                            " ('F2_P1', 'C2_P1'),\n",
                            " ('F3_P1', 'C2_P1'),\n",
                            " ('F4_P1', 'C2_P1'),\n",
                            " ('F5_P1', 'C2_P1'),\n",
                            " ('F6_P1', 'C2_P1'),\n",
                            " ('F7_P1', 'C2_P1'),\n",
                            " ('F8_P1', 'C2_P1'),\n",
                            " ('F9_P1', 'C2_P1'),\n",
                            " ('F10_P1', 'C2_P1'),\n",
                            " ('F11_P1', 'C2_P1'),\n",
                            " ('F12_P1', 'C2_P1'),\n",
                            " ('F14_P1', 'C2_P1'),\n",
                            " ('F15_P1', 'C2_P1'),\n",
                            " ('F1_P2', 'C2_P2'),\n",
                            " ('F2_P2', 'C2_P2'),\n",
                            " ('F3_P2', 'C2_P2'),\n",
                            " ('F4_P2', 'C2_P2'),\n",
                            " ('F5_P2', 'C2_P2'),\n",
                            " ('F6_P2', 'C2_P2'),\n",
                            " ('F7_P2', 'C2_P2'),\n",
                            " ('F8_P2', 'C2_P2'),\n",
                            " ('F9_P2', 'C2_P2'),\n",
                            " ('F10_P2', 'C2_P2'),\n",
                            " ('F11_P2', 'C2_P2'),\n",
                            " ('F12_P2', 'C2_P2'),\n",
                            " ('F13_P2', 'C2_P2'),\n",
                            " ('F1_P3', 'C2_P3'),\n",
                            " ('F2_P3', 'C2_P3'),\n",
                            " ('F3_P3', 'C2_P3'),\n",
                            " ('F4_P3', 'C2_P3'),\n",
                            " ('F5_P3', 'C2_P3'),\n",
                            " ('F6_P3', 'C2_P3'),\n",
                            " ('F7_P3', 'C2_P3'),\n",
                            " ('F8_P3', 'C2_P3'),\n",
                            " ('F9_P3', 'C2_P3'),\n",
                            " ('F13_P3', 'C2_P3'),\n",
                            " ('F14_P3', 'C2_P3'),\n",
                            " ('F15_P3', 'C2_P3'),\n",
                            " ('F1_P1', 'C3_P1'),\n",
                            " ('F2_P1', 'C3_P1'),\n",
                            " ('F3_P1', 'C3_P1'),\n",
                            " ('F4_P1', 'C3_P1'),\n",
                            " ('F5_P1', 'C3_P1'),\n",
                            " ('F6_P1', 'C3_P1'),\n",
                            " ('F7_P1', 'C3_P1'),\n",
                            " ('F8_P1', 'C3_P1'),\n",
                            " ('F9_P1', 'C3_P1'),\n",
                            " ('F10_P1', 'C3_P1'),\n",
                            " ('F11_P1', 'C3_P1'),\n",
                            " ('F12_P1', 'C3_P1'),\n",
                            " ('F14_P1', 'C3_P1'),\n",
                            " ('F15_P1', 'C3_P1'),\n",
                            " ('F1_P2', 'C3_P2'),\n",
                            " ('F2_P2', 'C3_P2'),\n",
                            " ('F3_P2', 'C3_P2'),\n",
                            " ('F4_P2', 'C3_P2'),\n",
                            " ('F5_P2', 'C3_P2'),\n",
                            " ('F6_P2', 'C3_P2'),\n",
                            " ('F7_P2', 'C3_P2'),\n",
                            " ('F8_P2', 'C3_P2'),\n",
                            " ('F9_P2', 'C3_P2'),\n",
                            " ('F10_P2', 'C3_P2'),\n",
                            " ('F11_P2', 'C3_P2'),\n",
                            " ('F12_P2', 'C3_P2'),\n",
                            " ('F13_P2', 'C3_P2'),\n",
                            " ('F1_P3', 'C3_P3'),\n",
                            " ('F2_P3', 'C3_P3'),\n",
                            " ('F3_P3', 'C3_P3'),\n",
                            " ('F4_P3', 'C3_P3'),\n",
                            " ('F5_P3', 'C3_P3'),\n",
                            " ('F6_P3', 'C3_P3'),\n",
                            " ('F7_P3', 'C3_P3'),\n",
                            " ('F8_P3', 'C3_P3'),\n",
                            " ('F9_P3', 'C3_P3'),\n",
                            " ('F13_P3', 'C3_P3'),\n",
                            " ('F14_P3', 'C3_P3'),\n",
                            " ('F15_P3', 'C3_P3'),\n",
                            " ('F1_P1', 'C4_P1'),\n",
                            " ('F2_P1', 'C4_P1'),\n",
                            " ('F3_P1', 'C4_P1'),\n",
                            " ('F4_P1', 'C4_P1'),\n",
                            " ('F5_P1', 'C4_P1'),\n",
                            " ('F6_P1', 'C4_P1'),\n",
                            " ('F7_P1', 'C4_P1'),\n",
                            " ('F8_P1', 'C4_P1'),\n",
                            " ('F9_P1', 'C4_P1'),\n",
                            " ('F10_P1', 'C4_P1'),\n",
                            " ('F11_P1', 'C4_P1'),\n",
                            " ('F12_P1', 'C4_P1'),\n",
                            " ('F14_P1', 'C4_P1'),\n",
                            " ('F15_P1', 'C4_P1'),\n",
                            " ('F1_P2', 'C4_P2'),\n",
                            " ('F2_P2', 'C4_P2'),\n",
                            " ('F3_P2', 'C4_P2'),\n",
                            " ('F4_P2', 'C4_P2'),\n",
                            " ('F5_P2', 'C4_P2'),\n",
                            " ('F6_P2', 'C4_P2'),\n",
                            " ('F7_P2', 'C4_P2'),\n",
                            " ('F8_P2', 'C4_P2'),\n",
                            " ('F9_P2', 'C4_P2'),\n",
                            " ('F10_P2', 'C4_P2'),\n",
                            " ('F11_P2', 'C4_P2'),\n",
                            " ('F12_P2', 'C4_P2'),\n",
                            " ('F13_P2', 'C4_P2'),\n",
                            " ('F1_P3', 'C4_P3'),\n",
                            " ('F2_P3', 'C4_P3'),\n",
                            " ('F3_P3', 'C4_P3'),\n",
                            " ('F4_P3', 'C4_P3'),\n",
                            " ('F5_P3', 'C4_P3'),\n",
                            " ('F6_P3', 'C4_P3'),\n",
                            " ('F7_P3', 'C4_P3'),\n",
                            " ('F8_P3', 'C4_P3'),\n",
                            " ('F9_P3', 'C4_P3'),\n",
                            " ('F13_P3', 'C4_P3'),\n",
                            " ('F14_P3', 'C4_P3'),\n",
                            " ('F15_P3', 'C4_P3'),\n",
                            " ('F1_P1', 'C5_P1'),\n",
                            " ('F2_P1', 'C5_P1'),\n",
                            " ('F3_P1', 'C5_P1'),\n",
                            " ('F4_P1', 'C5_P1'),\n",
                            " ('F5_P1', 'C5_P1'),\n",
                            " ('F6_P1', 'C5_P1'),\n",
                            " ('F7_P1', 'C5_P1'),\n",
                            " ('F8_P1', 'C5_P1'),\n",
                            " ('F9_P1', 'C5_P1'),\n",
                            " ('F10_P1', 'C5_P1'),\n",
                            " ('F11_P1', 'C5_P1'),\n",
                            " ('F12_P1', 'C5_P1'),\n",
                            " ('F14_P1', 'C5_P1'),\n",
                            " ('F15_P1', 'C5_P1'),\n",
                            " ('F1_P2', 'C5_P2'),\n",
                            " ('F2_P2', 'C5_P2'),\n",
                            " ('F3_P2', 'C5_P2'),\n",
                            " ('F4_P2', 'C5_P2'),\n",
                            " ('F5_P2', 'C5_P2'),\n",
                            " ('F6_P2', 'C5_P2'),\n",
                            " ('F7_P2', 'C5_P2'),\n",
                            " ('F8_P2', 'C5_P2'),\n",
                            " ('F9_P2', 'C5_P2'),\n",
                            " ('F10_P2', 'C5_P2'),\n",
                            " ('F11_P2', 'C5_P2'),\n",
                            " ('F12_P2', 'C5_P2'),\n",
                            " ('F13_P2', 'C5_P2'),\n",
                            " ('F1_P3', 'C5_P3'),\n",
                            " ('F2_P3', 'C5_P3'),\n",
                            " ('F3_P3', 'C5_P3'),\n",
                            " ('F4_P3', 'C5_P3'),\n",
                            " ('F5_P3', 'C5_P3'),\n",
                            " ('F6_P3', 'C5_P3'),\n",
                            " ('F7_P3', 'C5_P3'),\n",
                            " ('F8_P3', 'C5_P3'),\n",
                            " ('F9_P3', 'C5_P3'),\n",
                            " ('F13_P3', 'C5_P3'),\n",
                            " ('F14_P3', 'C5_P3'),\n",
                            " ('F15_P3', 'C5_P3'),\n",
                            " ('F1_P1', 'C6_P1'),\n",
                            " ('F2_P1', 'C6_P1'),\n",
                            " ('F3_P1', 'C6_P1'),\n",
                            " ('F4_P1', 'C6_P1'),\n",
                            " ('F5_P1', 'C6_P1'),\n",
                            " ('F6_P1', 'C6_P1'),\n",
                            " ('F7_P1', 'C6_P1'),\n",
                            " ('F8_P1', 'C6_P1'),\n",
                            " ('F9_P1', 'C6_P1'),\n",
                            " ('F10_P1', 'C6_P1'),\n",
                            " ('F11_P1', 'C6_P1'),\n",
                            " ('F12_P1', 'C6_P1'),\n",
                            " ('F14_P1', 'C6_P1'),\n",
                            " ('F15_P1', 'C6_P1'),\n",
                            " ('F1_P2', 'C6_P2'),\n",
                            " ('F2_P2', 'C6_P2'),\n",
                            " ('F3_P2', 'C6_P2'),\n",
                            " ('F4_P2', 'C6_P2'),\n",
                            " ('F5_P2', 'C6_P2'),\n",
                            " ('F6_P2', 'C6_P2'),\n",
                            " ('F7_P2', 'C6_P2'),\n",
                            " ('F8_P2', 'C6_P2'),\n",
                            " ('F9_P2', 'C6_P2'),\n",
                            " ('F10_P2', 'C6_P2'),\n",
                            " ('F11_P2', 'C6_P2'),\n",
                            " ('F12_P2', 'C6_P2'),\n",
                            " ('F13_P2', 'C6_P2'),\n",
                            " ('F1_P3', 'C6_P3'),\n",
                            " ('F2_P3', 'C6_P3'),\n",
                            " ('F3_P3', 'C6_P3'),\n",
                            " ('F4_P3', 'C6_P3'),\n",
                            " ('F5_P3', 'C6_P3'),\n",
                            " ('F6_P3', 'C6_P3'),\n",
                            " ('F7_P3', 'C6_P3'),\n",
                            " ('F8_P3', 'C6_P3'),\n",
                            " ('F9_P3', 'C6_P3'),\n",
                            " ('F13_P3', 'C6_P3'),\n",
                            " ('F14_P3', 'C6_P3'),\n",
                            " ('F15_P3', 'C6_P3'),\n",
                            " ('F1_P1', 'C7_P1'),\n",
                            " ('F2_P1', 'C7_P1'),\n",
                            " ('F3_P1', 'C7_P1'),\n",
                            " ('F4_P1', 'C7_P1'),\n",
                            " ('F5_P1', 'C7_P1'),\n",
                            " ('F6_P1', 'C7_P1'),\n",
                            " ('F7_P1', 'C7_P1'),\n",
                            " ('F8_P1', 'C7_P1'),\n",
                            " ('F9_P1', 'C7_P1'),\n",
                            " ('F10_P1', 'C7_P1'),\n",
                            " ('F11_P1', 'C7_P1'),\n",
                            " ('F12_P1', 'C7_P1'),\n",
                            " ('F14_P1', 'C7_P1'),\n",
                            " ('F15_P1', 'C7_P1'),\n",
                            " ('F1_P2', 'C7_P2'),\n",
                            " ('F2_P2', 'C7_P2'),\n",
                            " ('F3_P2', 'C7_P2'),\n",
                            " ('F4_P2', 'C7_P2'),\n",
                            " ('F5_P2', 'C7_P2'),\n",
                            " ('F6_P2', 'C7_P2'),\n",
                            " ('F7_P2', 'C7_P2'),\n",
                            " ('F8_P2', 'C7_P2'),\n",
                            " ('F9_P2', 'C7_P2'),\n",
                            " ('F10_P2', 'C7_P2'),\n",
                            " ('F11_P2', 'C7_P2'),\n",
                            " ('F12_P2', 'C7_P2'),\n",
                            " ('F13_P2', 'C7_P2'),\n",
                            " ('F1_P3', 'C7_P3'),\n",
                            " ('F2_P3', 'C7_P3'),\n",
                            " ('F3_P3', 'C7_P3'),\n",
                            " ('F4_P3', 'C7_P3'),\n",
                            " ('F5_P3', 'C7_P3'),\n",
                            " ('F6_P3', 'C7_P3'),\n",
                            " ('F7_P3', 'C7_P3'),\n",
                            " ('F8_P3', 'C7_P3'),\n",
                            " ('F9_P3', 'C7_P3'),\n",
                            " ('F13_P3', 'C7_P3'),\n",
                            " ('F14_P3', 'C7_P3'),\n",
                            " ('F15_P3', 'C7_P3'),\n",
                            " ('F1_P1', 'C8_P1'),\n",
                            " ('F2_P1', 'C8_P1'),\n",
                            " ('F3_P1', 'C8_P1'),\n",
                            " ('F4_P1', 'C8_P1'),\n",
                            " ('F5_P1', 'C8_P1'),\n",
                            " ('F6_P1', 'C8_P1'),\n",
                            " ('F7_P1', 'C8_P1'),\n",
                            " ('F8_P1', 'C8_P1'),\n",
                            " ('F9_P1', 'C8_P1'),\n",
                            " ('F10_P1', 'C8_P1'),\n",
                            " ('F11_P1', 'C8_P1'),\n",
                            " ('F12_P1', 'C8_P1'),\n",
                            " ('F14_P1', 'C8_P1'),\n",
                            " ('F15_P1', 'C8_P1'),\n",
                            " ('F1_P2', 'C8_P2'),\n",
                            " ('F2_P2', 'C8_P2'),\n",
                            " ('F3_P2', 'C8_P2'),\n",
                            " ('F4_P2', 'C8_P2'),\n",
                            " ('F5_P2', 'C8_P2'),\n",
                            " ('F6_P2', 'C8_P2'),\n",
                            " ('F7_P2', 'C8_P2'),\n",
                            " ('F8_P2', 'C8_P2'),\n",
                            " ('F9_P2', 'C8_P2'),\n",
                            " ('F10_P2', 'C8_P2'),\n",
                            " ('F11_P2', 'C8_P2'),\n",
                            " ('F12_P2', 'C8_P2'),\n",
                            " ('F13_P2', 'C8_P2'),\n",
                            " ('F1_P3', 'C8_P3'),\n",
                            " ('F2_P3', 'C8_P3'),\n",
                            " ('F3_P3', 'C8_P3'),\n",
                            " ('F4_P3', 'C8_P3'),\n",
                            " ('F5_P3', 'C8_P3'),\n",
                            " ('F6_P3', 'C8_P3'),\n",
                            " ('F7_P3', 'C8_P3'),\n",
                            " ('F8_P3', 'C8_P3'),\n",
                            " ('F9_P3', 'C8_P3'),\n",
                            " ('F13_P3', 'C8_P3'),\n",
                            " ('F14_P3', 'C8_P3'),\n",
                            " ('F15_P3', 'C8_P3'),\n",
                            " ('F1_P1', 'C9_P1'),\n",
                            " ('F2_P1', 'C9_P1'),\n",
                            " ('F3_P1', 'C9_P1'),\n",
                            " ('F4_P1', 'C9_P1'),\n",
                            " ('F5_P1', 'C9_P1'),\n",
                            " ('F6_P1', 'C9_P1'),\n",
                            " ('F7_P1', 'C9_P1'),\n",
                            " ('F8_P1', 'C9_P1'),\n",
                            " ('F9_P1', 'C9_P1'),\n",
                            " ('F10_P1', 'C9_P1'),\n",
                            " ('F11_P1', 'C9_P1'),\n",
                            " ('F12_P1', 'C9_P1'),\n",
                            " ('F14_P1', 'C9_P1'),\n",
                            " ('F15_P1', 'C9_P1'),\n",
                            " ('F1_P2', 'C9_P2'),\n",
                            " ('F2_P2', 'C9_P2'),\n",
                            " ('F3_P2', 'C9_P2'),\n",
                            " ('F4_P2', 'C9_P2'),\n",
                            " ('F5_P2', 'C9_P2'),\n",
                            " ('F6_P2', 'C9_P2'),\n",
                            " ('F7_P2', 'C9_P2'),\n",
                            " ('F8_P2', 'C9_P2'),\n",
                            " ('F9_P2', 'C9_P2'),\n",
                            " ('F10_P2', 'C9_P2'),\n",
                            " ('F11_P2', 'C9_P2'),\n",
                            " ('F12_P2', 'C9_P2'),\n",
                            " ('F13_P2', 'C9_P2'),\n",
                            " ('F1_P3', 'C9_P3'),\n",
                            " ('F2_P3', 'C9_P3'),\n",
                            " ('F3_P3', 'C9_P3'),\n",
                            " ('F4_P3', 'C9_P3'),\n",
                            " ('F5_P3', 'C9_P3'),\n",
                            " ('F6_P3', 'C9_P3'),\n",
                            " ('F7_P3', 'C9_P3'),\n",
                            " ('F8_P3', 'C9_P3'),\n",
                            " ('F9_P3', 'C9_P3'),\n",
                            " ('F13_P3', 'C9_P3'),\n",
                            " ('F14_P3', 'C9_P3'),\n",
                            " ('F15_P3', 'C9_P3'),\n",
                            " ('F1_P1', 'C10_P1'),\n",
                            " ('F2_P1', 'C10_P1'),\n",
                            " ('F3_P1', 'C10_P1'),\n",
                            " ('F4_P1', 'C10_P1'),\n",
                            " ('F5_P1', 'C10_P1'),\n",
                            " ('F6_P1', 'C10_P1'),\n",
                            " ('F7_P1', 'C10_P1'),\n",
                            " ('F8_P1', 'C10_P1'),\n",
                            " ('F9_P1', 'C10_P1'),\n",
                            " ('F10_P1', 'C10_P1'),\n",
                            " ('F11_P1', 'C10_P1'),\n",
                            " ('F12_P1', 'C10_P1'),\n",
                            " ('F14_P1', 'C10_P1'),\n",
                            " ('F15_P1', 'C10_P1'),\n",
                            " ('F1_P2', 'C10_P2'),\n",
                            " ('F2_P2', 'C10_P2'),\n",
                            " ('F3_P2', 'C10_P2'),\n",
                            " ('F4_P2', 'C10_P2'),\n",
                            " ('F5_P2', 'C10_P2'),\n",
                            " ('F6_P2', 'C10_P2'),\n",
                            " ('F7_P2', 'C10_P2'),\n",
                            " ('F8_P2', 'C10_P2'),\n",
                            " ('F9_P2', 'C10_P2'),\n",
                            " ('F10_P2', 'C10_P2'),\n",
                            " ('F11_P2', 'C10_P2'),\n",
                            " ('F12_P2', 'C10_P2'),\n",
                            " ('F13_P2', 'C10_P2'),\n",
                            " ('F1_P3', 'C10_P3'),\n",
                            " ('F2_P3', 'C10_P3'),\n",
                            " ('F3_P3', 'C10_P3'),\n",
                            " ('F4_P3', 'C10_P3'),\n",
                            " ('F5_P3', 'C10_P3'),\n",
                            " ('F6_P3', 'C10_P3'),\n",
                            " ('F7_P3', 'C10_P3'),\n",
                            " ('F8_P3', 'C10_P3'),\n",
                            " ('F9_P3', 'C10_P3'),\n",
                            " ('F13_P3', 'C10_P3'),\n",
                            " ('F14_P3', 'C10_P3'),\n",
                            " ('F15_P3', 'C10_P3'),\n",
                            " ('F1_P1', 'C11_P1'),\n",
                            " ('F2_P1', 'C11_P1'),\n",
                            " ('F3_P1', 'C11_P1'),\n",
                            " ('F4_P1', 'C11_P1'),\n",
                            " ('F5_P1', 'C11_P1'),\n",
                            " ('F6_P1', 'C11_P1'),\n",
                            " ('F7_P1', 'C11_P1'),\n",
                            " ('F8_P1', 'C11_P1'),\n",
                            " ('F9_P1', 'C11_P1'),\n",
                            " ('F10_P1', 'C11_P1'),\n",
                            " ('F11_P1', 'C11_P1'),\n",
                            " ('F12_P1', 'C11_P1'),\n",
                            " ('F14_P1', 'C11_P1'),\n",
                            " ('F15_P1', 'C11_P1'),\n",
                            " ('F1_P2', 'C11_P2'),\n",
                            " ('F2_P2', 'C11_P2'),\n",
                            " ('F3_P2', 'C11_P2'),\n",
                            " ('F4_P2', 'C11_P2'),\n",
                            " ('F5_P2', 'C11_P2'),\n",
                            " ('F6_P2', 'C11_P2'),\n",
                            " ('F7_P2', 'C11_P2'),\n",
                            " ('F8_P2', 'C11_P2'),\n",
                            " ('F9_P2', 'C11_P2'),\n",
                            " ('F10_P2', 'C11_P2'),\n",
                            " ('F11_P2', 'C11_P2'),\n",
                            " ('F12_P2', 'C11_P2'),\n",
                            " ('F13_P2', 'C11_P2'),\n",
                            " ('F1_P3', 'C11_P3'),\n",
                            " ('F2_P3', 'C11_P3'),\n",
                            " ('F3_P3', 'C11_P3'),\n",
                            " ('F4_P3', 'C11_P3'),\n",
                            " ('F5_P3', 'C11_P3'),\n",
                            " ('F6_P3', 'C11_P3'),\n",
                            " ('F7_P3', 'C11_P3'),\n",
                            " ('F8_P3', 'C11_P3'),\n",
                            " ('F9_P3', 'C11_P3'),\n",
                            " ('F13_P3', 'C11_P3'),\n",
                            " ('F14_P3', 'C11_P3'),\n",
                            " ('F15_P3', 'C11_P3'),\n",
                            " ('F1_P1', 'C12_P1'),\n",
                            " ('F2_P1', 'C12_P1'),\n",
                            " ('F3_P1', 'C12_P1'),\n",
                            " ('F4_P1', 'C12_P1'),\n",
                            " ('F5_P1', 'C12_P1'),\n",
                            " ('F6_P1', 'C12_P1'),\n",
                            " ('F7_P1', 'C12_P1'),\n",
                            " ('F8_P1', 'C12_P1'),\n",
                            " ('F9_P1', 'C12_P1'),\n",
                            " ('F10_P1', 'C12_P1'),\n",
                            " ('F11_P1', 'C12_P1'),\n",
                            " ('F12_P1', 'C12_P1'),\n",
                            " ('F14_P1', 'C12_P1'),\n",
                            " ('F15_P1', 'C12_P1'),\n",
                            " ('F1_P2', 'C12_P2'),\n",
                            " ('F2_P2', 'C12_P2'),\n",
                            " ('F3_P2', 'C12_P2'),\n",
                            " ('F4_P2', 'C12_P2'),\n",
                            " ('F5_P2', 'C12_P2'),\n",
                            " ('F6_P2', 'C12_P2'),\n",
                            " ('F7_P2', 'C12_P2'),\n",
                            " ('F8_P2', 'C12_P2'),\n",
                            " ('F9_P2', 'C12_P2'),\n",
                            " ('F10_P2', 'C12_P2'),\n",
                            " ('F11_P2', 'C12_P2'),\n",
                            " ('F12_P2', 'C12_P2'),\n",
                            " ('F13_P2', 'C12_P2'),\n",
                            " ('F1_P3', 'C12_P3'),\n",
                            " ('F2_P3', 'C12_P3'),\n",
                            " ('F3_P3', 'C12_P3'),\n",
                            " ('F4_P3', 'C12_P3'),\n",
                            " ('F5_P3', 'C12_P3'),\n",
                            " ('F6_P3', 'C12_P3'),\n",
                            " ('F7_P3', 'C12_P3'),\n",
                            " ('F8_P3', 'C12_P3'),\n",
                            " ('F9_P3', 'C12_P3'),\n",
                            " ('F13_P3', 'C12_P3'),\n",
                            " ('F14_P3', 'C12_P3'),\n",
                            " ('F15_P3', 'C12_P3'),\n",
                            " ('F1_P1', 'C13_P1'),\n",
                            " ('F2_P1', 'C13_P1'),\n",
                            " ('F3_P1', 'C13_P1'),\n",
                            " ('F4_P1', 'C13_P1'),\n",
                            " ('F5_P1', 'C13_P1'),\n",
                            " ('F6_P1', 'C13_P1'),\n",
                            " ('F7_P1', 'C13_P1'),\n",
                            " ('F8_P1', 'C13_P1'),\n",
                            " ('F9_P1', 'C13_P1'),\n",
                            " ('F10_P1', 'C13_P1'),\n",
                            " ('F11_P1', 'C13_P1'),\n",
                            " ('F12_P1', 'C13_P1'),\n",
                            " ('F14_P1', 'C13_P1'),\n",
                            " ('F15_P1', 'C13_P1'),\n",
                            " ('F1_P2', 'C13_P2'),\n",
                            " ('F2_P2', 'C13_P2'),\n",
                            " ('F3_P2', 'C13_P2'),\n",
                            " ('F4_P2', 'C13_P2'),\n",
                            " ('F5_P2', 'C13_P2'),\n",
                            " ('F6_P2', 'C13_P2'),\n",
                            " ('F7_P2', 'C13_P2'),\n",
                            " ('F8_P2', 'C13_P2'),\n",
                            " ('F9_P2', 'C13_P2'),\n",
                            " ('F10_P2', 'C13_P2'),\n",
                            " ('F11_P2', 'C13_P2'),\n",
                            " ('F12_P2', 'C13_P2'),\n",
                            " ('F13_P2', 'C13_P2'),\n",
                            " ('F1_P3', 'C13_P3'),\n",
                            " ('F2_P3', 'C13_P3'),\n",
                            " ('F3_P3', 'C13_P3'),\n",
                            " ('F4_P3', 'C13_P3'),\n",
                            " ('F5_P3', 'C13_P3'),\n",
                            " ('F6_P3', 'C13_P3'),\n",
                            " ('F7_P3', 'C13_P3'),\n",
                            " ('F8_P3', 'C13_P3'),\n",
                            " ('F9_P3', 'C13_P3'),\n",
                            " ('F13_P3', 'C13_P3'),\n",
                            " ('F14_P3', 'C13_P3'),\n",
                            " ('F15_P3', 'C13_P3'),\n",
                            " ('F1_P1', 'C14_P1'),\n",
                            " ('F2_P1', 'C14_P1'),\n",
                            " ('F3_P1', 'C14_P1'),\n",
                            " ('F4_P1', 'C14_P1'),\n",
                            " ('F5_P1', 'C14_P1'),\n",
                            " ('F6_P1', 'C14_P1'),\n",
                            " ('F7_P1', 'C14_P1'),\n",
                            " ('F8_P1', 'C14_P1'),\n",
                            " ('F9_P1', 'C14_P1'),\n",
                            " ('F10_P1', 'C14_P1'),\n",
                            " ('F11_P1', 'C14_P1'),\n",
                            " ('F12_P1', 'C14_P1'),\n",
                            " ('F14_P1', 'C14_P1'),\n",
                            " ('F15_P1', 'C14_P1'),\n",
                            " ('F1_P2', 'C14_P2'),\n",
                            " ('F2_P2', 'C14_P2'),\n",
                            " ('F3_P2', 'C14_P2'),\n",
                            " ('F4_P2', 'C14_P2'),\n",
                            " ('F5_P2', 'C14_P2'),\n",
                            " ('F6_P2', 'C14_P2'),\n",
                            " ('F7_P2', 'C14_P2'),\n",
                            " ('F8_P2', 'C14_P2'),\n",
                            " ('F9_P2', 'C14_P2'),\n",
                            " ('F10_P2', 'C14_P2'),\n",
                            " ('F11_P2', 'C14_P2'),\n",
                            " ('F12_P2', 'C14_P2'),\n",
                            " ('F13_P2', 'C14_P2'),\n",
                            " ('F1_P3', 'C14_P3'),\n",
                            " ('F2_P3', 'C14_P3'),\n",
                            " ('F3_P3', 'C14_P3'),\n",
                            " ('F4_P3', 'C14_P3'),\n",
                            " ('F5_P3', 'C14_P3'),\n",
                            " ('F6_P3', 'C14_P3'),\n",
                            " ('F7_P3', 'C14_P3'),\n",
                            " ('F8_P3', 'C14_P3'),\n",
                            " ('F9_P3', 'C14_P3'),\n",
                            " ('F13_P3', 'C14_P3'),\n",
                            " ('F14_P3', 'C14_P3'),\n",
                            " ('F15_P3', 'C14_P3'),\n",
                            " ('F1_P1', 'C15_P1'),\n",
                            " ('F2_P1', 'C15_P1'),\n",
                            " ('F3_P1', 'C15_P1'),\n",
                            " ('F4_P1', 'C15_P1'),\n",
                            " ('F5_P1', 'C15_P1'),\n",
                            " ('F6_P1', 'C15_P1'),\n",
                            " ('F7_P1', 'C15_P1'),\n",
                            " ('F8_P1', 'C15_P1'),\n",
                            " ('F9_P1', 'C15_P1'),\n",
                            " ('F10_P1', 'C15_P1'),\n",
                            " ('F11_P1', 'C15_P1'),\n",
                            " ('F12_P1', 'C15_P1'),\n",
                            " ('F14_P1', 'C15_P1'),\n",
                            " ('F15_P1', 'C15_P1'),\n",
                            " ('F1_P2', 'C15_P2'),\n",
                            " ('F2_P2', 'C15_P2'),\n",
                            " ('F3_P2', 'C15_P2'),\n",
                            " ('F4_P2', 'C15_P2'),\n",
                            " ('F5_P2', 'C15_P2'),\n",
                            " ('F6_P2', 'C15_P2'),\n",
                            " ('F7_P2', 'C15_P2'),\n",
                            " ('F8_P2', 'C15_P2'),\n",
                            " ('F9_P2', 'C15_P2'),\n",
                            " ('F10_P2', 'C15_P2'),\n",
                            " ('F11_P2', 'C15_P2'),\n",
                            " ('F12_P2', 'C15_P2'),\n",
                            " ('F13_P2', 'C15_P2'),\n",
                            " ('F1_P3', 'C15_P3'),\n",
                            " ('F2_P3', 'C15_P3'),\n",
                            " ('F3_P3', 'C15_P3'),\n",
                            " ('F4_P3', 'C15_P3'),\n",
                            " ('F5_P3', 'C15_P3'),\n",
                            " ('F6_P3', 'C15_P3'),\n",
                            " ('F7_P3', 'C15_P3'),\n",
                            " ('F8_P3', 'C15_P3'),\n",
                            " ('F9_P3', 'C15_P3'),\n",
                            " ('F13_P3', 'C15_P3'),\n",
                            " ('F14_P3', 'C15_P3'),\n",
                            " ('F15_P3', 'C15_P3')]"
                        ]
                    },
                    "metadata": {},
                    "execution_count": 50
                }
            ],
            "metadata": {}
        },
        {
            "cell_type": "code",
            "execution_count": 51,
            "source": [
                "farms_dict['F1']['Products']"
            ],
            "outputs": [
                {
                    "output_type": "execute_result",
                    "data": {
                        "text/plain": [
                            "['P1', 'P2', 'P3']"
                        ]
                    },
                    "metadata": {},
                    "execution_count": 51
                }
            ],
            "metadata": {}
        },
        {
            "cell_type": "code",
            "execution_count": null,
            "source": [],
            "outputs": [],
            "metadata": {}
        }
    ],
    "metadata": {
        "orig_nbformat": 4,
        "language_info": {
            "name": "python",
            "version": "3.7.4",
            "mimetype": "text/x-python",
            "codemirror_mode": {
                "name": "ipython",
                "version": 3
            },
            "pygments_lexer": "ipython3",
            "nbconvert_exporter": "python",
            "file_extension": ".py"
        },
        "kernelspec": {
            "name": "python3",
            "display_name": "Python 3.7.4 64-bit ('env': venv)"
        },
        "interpreter": {
            "hash": "e42134e7f840bbc4b92505a650aba1011e508af6fb22612d6f89a5b42ffcd41d"
        }
    },
    "nbformat": 4,
    "nbformat_minor": 2
}