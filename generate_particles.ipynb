{
    "cells": [
        {
            "cell_type": "code",
            "execution_count": 66,
            "source": [
                "import numpy as np\r\n",
                "import matplotlib.pyplot as plt\r\n",
                "import networkx as nx\r\n",
                "import pandas as pd\r\n",
                "import joblib\r\n",
                "from pso import calculate_profit, generate_particle_list, feasible_vec, demand, supply, dims, prod_cap, split_particles_list, rs, dims\r\n",
                "from graph import SupplyChain"
            ],
            "outputs": [],
            "metadata": {}
        },
        {
            "cell_type": "code",
            "execution_count": 2,
            "source": [
                "np.set_printoptions(suppress=True)"
            ],
            "outputs": [],
            "metadata": {}
        },
        {
            "cell_type": "markdown",
            "source": [
                "## Generate particles"
            ],
            "metadata": {}
        },
        {
            "cell_type": "markdown",
            "source": [
                "Reduced demand"
            ],
            "metadata": {}
        },
        {
            "cell_type": "code",
            "execution_count": 3,
            "source": [
                "# particle_list3 = generate_particle_list(2000)"
            ],
            "outputs": [],
            "metadata": {}
        },
        {
            "cell_type": "code",
            "execution_count": 4,
            "source": [
                "# joblib.dump(particle_list3, 'particle_list3')"
            ],
            "outputs": [],
            "metadata": {}
        },
        {
            "cell_type": "markdown",
            "source": [
                "Reduced supply"
            ],
            "metadata": {}
        },
        {
            "cell_type": "code",
            "execution_count": null,
            "source": [],
            "outputs": [],
            "metadata": {}
        },
        {
            "cell_type": "markdown",
            "source": [
                "## Equillibrium  "
            ],
            "metadata": {}
        },
        {
            "cell_type": "code",
            "execution_count": 5,
            "source": [
                "# demand = sc.get_demand_vec()\r\n",
                "# supply = sc.get_total_supply()\r\n",
                "# profit = calculate_profit(demand, sup_cha=sc)\r\n",
                "# profit -> 636366.0"
            ],
            "outputs": [],
            "metadata": {}
        },
        {
            "cell_type": "markdown",
            "source": [
                "## Reduced demand"
            ],
            "metadata": {}
        },
        {
            "cell_type": "code",
            "execution_count": 6,
            "source": [
                "# reduced_demand_filled = rd.fill_order()\r\n",
                "# reduced_demand_profit = calculate_profit(reduced_demand_filled, rd)\r\n",
                "# reduced_demand_profit -> 572729.4"
            ],
            "outputs": [],
            "metadata": {}
        },
        {
            "cell_type": "markdown",
            "source": [
                "## Reduced supply"
            ],
            "metadata": {}
        },
        {
            "cell_type": "code",
            "execution_count": 7,
            "source": [
                "reduced_supply_filled = rs.fill_order()\r\n",
                "reduced_supply_profit = calculate_profit(reduced_supply_filled, rs)\r\n",
                "reduced_supply_profit"
            ],
            "outputs": [
                {
                    "output_type": "execute_result",
                    "data": {
                        "text/plain": [
                            "558610.0"
                        ]
                    },
                    "metadata": {},
                    "execution_count": 7
                }
            ],
            "metadata": {}
        },
        {
            "cell_type": "code",
            "execution_count": 8,
            "source": [
                "total_eggs_supplied = rs.get_supplied_eggs(reduced_supply_filled)\r\n",
                "total_eggs_supplied"
            ],
            "outputs": [
                {
                    "output_type": "execute_result",
                    "data": {
                        "text/plain": [
                            "810000.0"
                        ]
                    },
                    "metadata": {},
                    "execution_count": 8
                }
            ],
            "metadata": {}
        },
        {
            "cell_type": "code",
            "execution_count": 9,
            "source": [
                "np.sum(demand)"
            ],
            "outputs": [
                {
                    "output_type": "execute_result",
                    "data": {
                        "text/plain": [
                            "101970"
                        ]
                    },
                    "metadata": {},
                    "execution_count": 9
                }
            ],
            "metadata": {}
        },
        {
            "cell_type": "code",
            "execution_count": 11,
            "source": [
                "dem_vec = rs.get_demand_vec()\r\n",
                "sup_boxes = rs.get_boxes(dem_vec)\r\n",
                "total_supply = rs.get_total_supply()"
            ],
            "outputs": [],
            "metadata": {}
        },
        {
            "cell_type": "code",
            "execution_count": 12,
            "source": [
                "# for sb in rs.get_supply_boxes(rs.get_demand_vec()):\r\n",
                "#     print(np.round(sb/(np.sum(rs.get_supply_boxes(rs.get_demand_vec()))), 3)) \r\n",
                "\r\n",
                "for sb in sup_boxes:\r\n",
                "    print(np.round(sb/np.sum(sup_boxes),2), total_supply*np.round(sb/np.sum(sup_boxes),2)%6==0, total_supply*(sb/np.sum(sup_boxes)))"
            ],
            "outputs": [
                {
                    "output_type": "stream",
                    "name": "stdout",
                    "text": [
                        "0.43 True 351262.1359223301\n",
                        "0.33 True 267378.64077669906\n",
                        "0.24 True 191359.22330097086\n"
                    ]
                }
            ],
            "metadata": {}
        },
        {
            "cell_type": "code",
            "execution_count": 13,
            "source": [
                "[int(total_supply*(sb/np.sum(sup_boxes))) for sb in sup_boxes]"
            ],
            "outputs": [
                {
                    "output_type": "execute_result",
                    "data": {
                        "text/plain": [
                            "[351262, 267378, 191359]"
                        ]
                    },
                    "metadata": {},
                    "execution_count": 13
                }
            ],
            "metadata": {}
        },
        {
            "cell_type": "code",
            "execution_count": 14,
            "source": [
                "def allocate_supply_by_product(self) -> dict:\r\n",
                "    dem_vec = self.get_demand_vec()\r\n",
                "    dem_boxes = self.get_supply_boxes(dem_vec) # boxes\r\n",
                "    total_supply = self.get_total_supply() # eggs\r\n",
                "    eggs_qty = [int(total_supply*(db/np.sum(dem_boxes))) for db in dem_boxes]\r\n",
                "    return {product:eggs for product, eggs in zip(self.products.keys(), eggs_qty)}\r\n"
            ],
            "outputs": [],
            "metadata": {}
        },
        {
            "cell_type": "code",
            "execution_count": 15,
            "source": [
                "rs.get_total_supply()"
            ],
            "outputs": [
                {
                    "output_type": "execute_result",
                    "data": {
                        "text/plain": [
                            "810000"
                        ]
                    },
                    "metadata": {},
                    "execution_count": 15
                }
            ],
            "metadata": {}
        },
        {
            "cell_type": "code",
            "execution_count": 16,
            "source": [
                "sup_boxes*rs.products['P1']"
            ],
            "outputs": [
                {
                    "output_type": "execute_result",
                    "data": {
                        "text/plain": [
                            "array([265320, 201960, 144540], dtype=int64)"
                        ]
                    },
                    "metadata": {},
                    "execution_count": 16
                }
            ],
            "metadata": {}
        },
        {
            "cell_type": "code",
            "execution_count": 17,
            "source": [
                "351262.1359223301+267378.64077669906+191359.22330097086"
            ],
            "outputs": [
                {
                    "output_type": "execute_result",
                    "data": {
                        "text/plain": [
                            "810000.0"
                        ]
                    },
                    "metadata": {},
                    "execution_count": 17
                }
            ],
            "metadata": {}
        },
        {
            "cell_type": "code",
            "execution_count": 18,
            "source": [
                "rs.products"
            ],
            "outputs": [
                {
                    "output_type": "execute_result",
                    "data": {
                        "text/plain": [
                            "{'P1': 6, 'P2': 10, 'P3': 12}"
                        ]
                    },
                    "metadata": {},
                    "execution_count": 18
                }
            ],
            "metadata": {}
        },
        {
            "cell_type": "code",
            "execution_count": 19,
            "source": [
                "np.array([rs.graph[p][ c]['demand'] for p in  rs.products for c in rs.graph.successors(p) if p=='P1']) "
            ],
            "outputs": [
                {
                    "output_type": "execute_result",
                    "data": {
                        "text/plain": [
                            "array([6600, 5500, 6600, 5500, 6600, 5500, 3300,  550,  550,  550,  550,\n",
                            "       1100,   22,   88,   44,  110,  110,   44,   88,   22,   22,   88,\n",
                            "         44,  110,   88,   44,   22,  110,   22,   88,   88,   66])"
                        ]
                    },
                    "metadata": {},
                    "execution_count": 19
                }
            ],
            "metadata": {}
        },
        {
            "cell_type": "code",
            "execution_count": 20,
            "source": [
                "vec = np.array([1,2,3,4,5])\r\n",
                "np.sum(vec)"
            ],
            "outputs": [
                {
                    "output_type": "execute_result",
                    "data": {
                        "text/plain": [
                            "15"
                        ]
                    },
                    "metadata": {},
                    "execution_count": 20
                }
            ],
            "metadata": {}
        },
        {
            "cell_type": "code",
            "execution_count": 32,
            "source": [
                "# print(rs.get_demand_by_product('P1'))\r\n",
                "supply_by_product = rs.allocate_supply_by_product()\r\n",
                "supply_by_product['P1']"
            ],
            "outputs": [
                {
                    "output_type": "execute_result",
                    "data": {
                        "text/plain": [
                            "351262"
                        ]
                    },
                    "metadata": {},
                    "execution_count": 32
                }
            ],
            "metadata": {}
        },
        {
            "cell_type": "code",
            "execution_count": 37,
            "source": [
                "rs.products.keys()"
            ],
            "outputs": [
                {
                    "output_type": "execute_result",
                    "data": {
                        "text/plain": [
                            "dict_keys(['P1', 'P2', 'P3'])"
                        ]
                    },
                    "metadata": {},
                    "execution_count": 37
                }
            ],
            "metadata": {}
        },
        {
            "cell_type": "code",
            "execution_count": 47,
            "source": [
                "np.array([rs.graph[p][ c]['demand'] for p in  rs.products for c in rs.graph.successors(p) if p=='P2'])"
            ],
            "outputs": [
                {
                    "output_type": "execute_result",
                    "data": {
                        "text/plain": [
                            "array([6600, 3300, 5500, 4400, 6600, 3300, 1100,  220,  330,  330,  220,\n",
                            "       1100,   44,   44,   44,   44,   44,   44,   44,   44,   44,   44,\n",
                            "         44,   44,   44,   44,   44,    0,    0,    0,    0,    0])"
                        ]
                    },
                    "metadata": {},
                    "execution_count": 47
                }
            ],
            "metadata": {}
        },
        {
            "cell_type": "code",
            "execution_count": 67,
            "source": [
                "def set_up(pso_alg:PSO):\r\n",
                "    pso = pso_alg()\r\n",
                "    pso.initialise()\r\n",
                "    pso.pick_informants_ring_topology()\r\n",
                "    pso.calculate_fitness()\r\n",
                "    pso.set_pbest()\r\n",
                "    pso.set_lbest()\r\n",
                "    pso.set_gbest()  \r\n",
                "    pso.set_constricted_velocity()\r\n",
                "    pso.move_random_back()\r\n"
            ],
            "outputs": [],
            "metadata": {}
        },
        {
            "cell_type": "code",
            "execution_count": 68,
            "source": [
                "from cpso import CPSO"
            ],
            "outputs": [],
            "metadata": {}
        },
        {
            "cell_type": "code",
            "execution_count": 89,
            "source": [
                "psos = (CPSO() for prod_name in rs.products.keys())"
            ],
            "outputs": [],
            "metadata": {}
        },
        {
            "cell_type": "code",
            "execution_count": 90,
            "source": [
                "for p in psos:\r\n",
                "    print(p.gbest_val)"
            ],
            "outputs": [
                {
                    "output_type": "stream",
                    "name": "stdout",
                    "text": [
                        "-inf\n",
                        "-inf\n",
                        "-inf\n"
                    ]
                }
            ],
            "metadata": {}
        },
        {
            "cell_type": "code",
            "execution_count": 91,
            "source": [
                "for p in psos:\r\n",
                "    p.initialise()\r\n",
                "    # p.pick_informants_ring_topology()\r\n",
                "    # p.calculate_fitness()\r\n",
                "    # p.set_pbest()\r\n",
                "    # p.set_lbest()\r\n",
                "    # p.set_gbest()\r\n",
                "    # p.set_constricted_velocity()\r\n",
                "    # p.move_random_back()"
            ],
            "outputs": [],
            "metadata": {}
        },
        {
            "cell_type": "code",
            "execution_count": 92,
            "source": [
                "for p in psos:\r\n",
                "    print(p.gbest_val)"
            ],
            "outputs": [],
            "metadata": {}
        },
        {
            "cell_type": "code",
            "execution_count": null,
            "source": [],
            "outputs": [],
            "metadata": {}
        }
    ],
    "metadata": {
        "orig_nbformat": 4,
        "language_info": {
            "name": "python",
            "version": "3.7.4",
            "mimetype": "text/x-python",
            "codemirror_mode": {
                "name": "ipython",
                "version": 3
            },
            "pygments_lexer": "ipython3",
            "nbconvert_exporter": "python",
            "file_extension": ".py"
        },
        "kernelspec": {
            "name": "python3",
            "display_name": "Python 3.7.4 64-bit ('env': venv)"
        },
        "interpreter": {
            "hash": "e42134e7f840bbc4b92505a650aba1011e508af6fb22612d6f89a5b42ffcd41d"
        }
    },
    "nbformat": 4,
    "nbformat_minor": 2
}