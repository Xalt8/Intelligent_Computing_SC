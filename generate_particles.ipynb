{
    "cells": [
        {
            "cell_type": "code",
            "execution_count": 1,
            "source": [
                "import numpy as np\r\n",
                "import matplotlib.pyplot as plt\r\n",
                "import networkx as nx\r\n",
                "import pandas as pd\r\n",
                "import joblib\r\n",
                "from pso import calculate_profit, generate_particle_list, feasible_vec, demand, supply, dims, prod_cap, split_particles_list, rs, dims\r\n",
                "from graph import SupplyChain\r\n",
                "import random"
            ],
            "outputs": [],
            "metadata": {}
        },
        {
            "cell_type": "code",
            "execution_count": 2,
            "source": [
                "np.set_printoptions(suppress=True)"
            ],
            "outputs": [],
            "metadata": {}
        },
        {
            "cell_type": "markdown",
            "source": [
                "## Generate particles"
            ],
            "metadata": {}
        },
        {
            "cell_type": "markdown",
            "source": [
                "Reduced demand"
            ],
            "metadata": {}
        },
        {
            "cell_type": "code",
            "execution_count": 3,
            "source": [
                "# particle_list3 = generate_particle_list(2000)"
            ],
            "outputs": [],
            "metadata": {}
        },
        {
            "cell_type": "code",
            "execution_count": 4,
            "source": [
                "# joblib.dump(particle_list3, 'particle_list3')"
            ],
            "outputs": [],
            "metadata": {}
        },
        {
            "cell_type": "markdown",
            "source": [
                "Reduced supply"
            ],
            "metadata": {}
        },
        {
            "cell_type": "code",
            "execution_count": null,
            "source": [],
            "outputs": [],
            "metadata": {}
        },
        {
            "cell_type": "markdown",
            "source": [
                "## Equillibrium  "
            ],
            "metadata": {}
        },
        {
            "cell_type": "code",
            "execution_count": 5,
            "source": [
                "# demand = sc.get_demand_vec()\r\n",
                "# supply = sc.get_total_supply()\r\n",
                "# profit = calculate_profit(demand, sup_cha=sc)\r\n",
                "# profit -> 636366.0"
            ],
            "outputs": [],
            "metadata": {}
        },
        {
            "cell_type": "markdown",
            "source": [
                "## Reduced demand"
            ],
            "metadata": {}
        },
        {
            "cell_type": "code",
            "execution_count": 6,
            "source": [
                "# reduced_demand_filled = rd.fill_order()\r\n",
                "# reduced_demand_profit = calculate_profit(reduced_demand_filled, rd)\r\n",
                "# reduced_demand_profit -> 572729.4"
            ],
            "outputs": [],
            "metadata": {}
        },
        {
            "cell_type": "markdown",
            "source": [
                "## Reduced supply"
            ],
            "metadata": {}
        },
        {
            "cell_type": "code",
            "execution_count": 7,
            "source": [
                "reduced_supply_filled = rs.fill_order()\r\n",
                "reduced_supply_profit = calculate_profit(reduced_supply_filled, rs)\r\n",
                "reduced_supply_profit"
            ],
            "outputs": [
                {
                    "output_type": "execute_result",
                    "data": {
                        "text/plain": [
                            "618010.0"
                        ]
                    },
                    "metadata": {},
                    "execution_count": 7
                }
            ],
            "metadata": {}
        },
        {
            "cell_type": "code",
            "execution_count": 8,
            "source": [
                "total_eggs_supplied = rs.get_supplied_eggs(reduced_supply_filled)\r\n",
                "total_eggs_supplied"
            ],
            "outputs": [
                {
                    "output_type": "execute_result",
                    "data": {
                        "text/plain": [
                            "810000.0"
                        ]
                    },
                    "metadata": {},
                    "execution_count": 8
                }
            ],
            "metadata": {}
        },
        {
            "cell_type": "code",
            "execution_count": 9,
            "source": [
                "np.sum(demand)"
            ],
            "outputs": [
                {
                    "output_type": "execute_result",
                    "data": {
                        "text/plain": [
                            "101970"
                        ]
                    },
                    "metadata": {},
                    "execution_count": 9
                }
            ],
            "metadata": {}
        },
        {
            "cell_type": "code",
            "execution_count": 10,
            "source": [
                "dem_vec = rs.get_demand_vec()\r\n",
                "sup_boxes = rs.get_boxes(dem_vec)\r\n",
                "total_supply = rs.get_total_supply()"
            ],
            "outputs": [],
            "metadata": {}
        },
        {
            "cell_type": "code",
            "execution_count": 47,
            "source": [
                "reduced_supply_split = np.split(reduced_supply_filled, len(rs.products))\r\n",
                "type(reduced_supply_split)"
            ],
            "outputs": [
                {
                    "output_type": "execute_result",
                    "data": {
                        "text/plain": [
                            "list"
                        ]
                    },
                    "metadata": {},
                    "execution_count": 47
                }
            ],
            "metadata": {}
        },
        {
            "cell_type": "code",
            "execution_count": 33,
            "source": [
                "rs.get_demand_by_product('P1').shape"
            ],
            "outputs": [
                {
                    "output_type": "execute_result",
                    "data": {
                        "text/plain": [
                            "(32,)"
                        ]
                    },
                    "metadata": {},
                    "execution_count": 33
                }
            ],
            "metadata": {}
        },
        {
            "cell_type": "code",
            "execution_count": 46,
            "source": [
                "split_particles_list[0][-1]"
            ],
            "outputs": [
                {
                    "output_type": "execute_result",
                    "data": {
                        "text/plain": [
                            "array([6600., 5500., 6600., 5500., 6600., 5500., 3000.,    0.,    0.,\n",
                            "          0.,    0.,    0.,    0.,    0.,    0.,    0.,    0.,    0.,\n",
                            "          0.,    0.,    0.,    0.,    0.,    0.,    0.,    0.,    0.,\n",
                            "          0.,    0.,    0.,    0.,    0., 6600., 3300., 5500., 4400.,\n",
                            "       6600., 3300.,    0.,    0.,    0.,    0.,    0.,    0.,    0.,\n",
                            "          0.,    0.,    0.,    0.,    0.,    0.,    0.,    0.,    0.,\n",
                            "          0.,    0.,    0.,    0.,    0.,    0.,    0.,    0.,    0.,\n",
                            "          0., 3300., 4400., 5500., 2200., 4400., 3300.,    0.,    0.,\n",
                            "          0.,    0.,    0.,    0.,    0.,    0.,    0.,    0.,    0.,\n",
                            "          0.,    0.,    0.,    0.,    0.,    0.,    0.,    0.,    0.,\n",
                            "          0.,    0.,    0.,    0.,    0.,    0.])"
                        ]
                    },
                    "metadata": {},
                    "execution_count": 46
                }
            ],
            "metadata": {}
        },
        {
            "cell_type": "code",
            "execution_count": null,
            "source": [],
            "outputs": [],
            "metadata": {}
        }
    ],
    "metadata": {
        "orig_nbformat": 4,
        "language_info": {
            "name": "python",
            "version": "3.7.4",
            "mimetype": "text/x-python",
            "codemirror_mode": {
                "name": "ipython",
                "version": 3
            },
            "pygments_lexer": "ipython3",
            "nbconvert_exporter": "python",
            "file_extension": ".py"
        },
        "kernelspec": {
            "name": "python3",
            "display_name": "Python 3.7.4 64-bit ('env': venv)"
        },
        "interpreter": {
            "hash": "e42134e7f840bbc4b92505a650aba1011e508af6fb22612d6f89a5b42ffcd41d"
        }
    },
    "nbformat": 4,
    "nbformat_minor": 2
}