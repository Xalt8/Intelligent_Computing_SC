{
    "cells": [
        {
            "cell_type": "code",
            "execution_count": 259,
            "source": [
                "import numpy as np\r\n",
                "import networkx as nx\r\n",
                "import matplotlib.pyplot as plt\r\n",
                "import random\r\n",
                "import joblib\r\n",
                "import pandas as pd\r\n",
                "from dataclasses import dataclass, field, InitVar\r\n",
                "from typing import List\r\n",
                "\r\n",
                "from pso import random_initiate_vec"
            ],
            "outputs": [],
            "metadata": {}
        },
        {
            "cell_type": "code",
            "execution_count": null,
            "source": [
                "np.set_printoptions(suppress=True)"
            ],
            "outputs": [],
            "metadata": {}
        },
        {
            "cell_type": "code",
            "execution_count": 260,
            "source": [
                "def already_there(list_of_particles: list, new_particle: np.ndarray):\r\n",
                "    ''' Checks to see if a new_particle is present in list_of_particles'''\r\n",
                "    return np.any([np.array_equal(new_particle, particle) for particle in list_of_particles])"
            ],
            "outputs": [],
            "metadata": {}
        },
        {
            "cell_type": "code",
            "execution_count": 261,
            "source": [
                "def generate_particle_list(num_of_particles:int)-> list:\r\n",
                "    particle_list = []\r\n",
                "    while len(particle_list) < num_of_particles:\r\n",
                "        vec = random_initiate_vec()\r\n",
                "        if not already_there(particle_list, vec):\r\n",
                "            particle_list.append(vec)\r\n",
                "        else:\r\n",
                "            print(\"Already there!\")\r\n",
                "    return np.array(particle_list)"
            ],
            "outputs": [],
            "metadata": {}
        },
        {
            "cell_type": "code",
            "execution_count": null,
            "source": [],
            "outputs": [],
            "metadata": {}
        }
    ],
    "metadata": {
        "orig_nbformat": 4,
        "language_info": {
            "name": "python",
            "version": "3.7.4",
            "mimetype": "text/x-python",
            "codemirror_mode": {
                "name": "ipython",
                "version": 3
            },
            "pygments_lexer": "ipython3",
            "nbconvert_exporter": "python",
            "file_extension": ".py"
        },
        "kernelspec": {
            "name": "python3",
            "display_name": "Python 3.7.4 64-bit ('env': venv)"
        },
        "interpreter": {
            "hash": "e42134e7f840bbc4b92505a650aba1011e508af6fb22612d6f89a5b42ffcd41d"
        }
    },
    "nbformat": 4,
    "nbformat_minor": 2
}