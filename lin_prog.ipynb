{
 "cells": [
  {
   "cell_type": "code",
   "execution_count": 259,
   "source": [
    "from pulp import makeDict, LpProblem, LpMinimize, LpVariable, LpInteger, lpSum, LpStatus, value, LpMaximize, PULP_CBC_CMD\r\n",
    "import numpy as np"
   ],
   "outputs": [],
   "metadata": {}
  },
  {
   "cell_type": "code",
   "execution_count": 260,
   "source": [
    "Warehouses = [\"A\", \"B\"]\r\n",
    "supply = {\"A\": 1000,\r\n",
    "          \"B\": 4000}\r\n",
    "Bars = [\"1\", \"2\", \"3\", \"4\", \"5\"]\r\n",
    "demand = {\"1\":500,\r\n",
    "          \"2\":900,\r\n",
    "          \"3\":1800,\r\n",
    "          \"4\":200,\r\n",
    "          \"5\":700}"
   ],
   "outputs": [],
   "metadata": {}
  },
  {
   "cell_type": "code",
   "execution_count": 261,
   "source": [
    "costs = [   #Bars\r\n",
    "         #1 2 3 4 5\r\n",
    "         [2,4,5,2,1],#A   Warehouses\r\n",
    "         [3,1,3,2,3] #B\r\n",
    "         ]\r\n"
   ],
   "outputs": [],
   "metadata": {}
  },
  {
   "cell_type": "code",
   "execution_count": 262,
   "source": [
    "# The cost data is made into a dictionary\r\n",
    "costs = makeDict([Warehouses,Bars],costs,0)\r\n",
    "costs"
   ],
   "outputs": [
    {
     "output_type": "execute_result",
     "data": {
      "text/plain": [
       "defaultdict(<function pulp.utilities.__makeDict.<locals>.<lambda>()>,\n",
       "            {'A': defaultdict(<function pulp.utilities.__makeDict.<locals>.<lambda>()>,\n",
       "                         {'1': 2, '2': 4, '3': 5, '4': 2, '5': 1}),\n",
       "             'B': defaultdict(<function pulp.utilities.__makeDict.<locals>.<lambda>()>,\n",
       "                         {'1': 3, '2': 1, '3': 3, '4': 2, '5': 3})})"
      ]
     },
     "metadata": {},
     "execution_count": 262
    }
   ],
   "metadata": {}
  },
  {
   "cell_type": "code",
   "execution_count": 263,
   "source": [
    "# Creates the 'prob' variable to contain the problem data\r\n",
    "prob = LpProblem(\"Beer_Distribution_Problem\",LpMinimize)"
   ],
   "outputs": [],
   "metadata": {}
  },
  {
   "cell_type": "code",
   "execution_count": 264,
   "source": [
    "# Creates a list of tuples containing all the possible routes for transport\r\n",
    "Routes = [(w,b) for w in Warehouses for b in Bars]\r\n",
    "Routes"
   ],
   "outputs": [
    {
     "output_type": "execute_result",
     "data": {
      "text/plain": [
       "[('A', '1'),\n",
       " ('A', '2'),\n",
       " ('A', '3'),\n",
       " ('A', '4'),\n",
       " ('A', '5'),\n",
       " ('B', '1'),\n",
       " ('B', '2'),\n",
       " ('B', '3'),\n",
       " ('B', '4'),\n",
       " ('B', '5')]"
      ]
     },
     "metadata": {},
     "execution_count": 264
    }
   ],
   "metadata": {}
  },
  {
   "cell_type": "code",
   "execution_count": 265,
   "source": [
    "# A dictionary called 'Vars' is created to contain the referenced variables(the routes)\r\n",
    "vars = LpVariable.dicts(\"Route\",(Warehouses,Bars), 0, None, LpInteger)\r\n",
    "vars"
   ],
   "outputs": [
    {
     "output_type": "execute_result",
     "data": {
      "text/plain": [
       "{'A': {'1': Route_A_1,\n",
       "  '2': Route_A_2,\n",
       "  '3': Route_A_3,\n",
       "  '4': Route_A_4,\n",
       "  '5': Route_A_5},\n",
       " 'B': {'1': Route_B_1,\n",
       "  '2': Route_B_2,\n",
       "  '3': Route_B_3,\n",
       "  '4': Route_B_4,\n",
       "  '5': Route_B_5}}"
      ]
     },
     "metadata": {},
     "execution_count": 265
    }
   ],
   "metadata": {}
  },
  {
   "cell_type": "code",
   "execution_count": 266,
   "source": [
    "# The objective function is added to 'prob' first\r\n",
    "prob += lpSum([vars[w][b]*costs[w][b] for (w,b) in Routes]), \"Sum_of_Transporting_Costs\""
   ],
   "outputs": [],
   "metadata": {}
  },
  {
   "cell_type": "code",
   "execution_count": 267,
   "source": [
    "# The demand minimum constraints are added to prob for each demand node (bar)\r\n",
    "for b in Bars:\r\n",
    "    prob += lpSum([vars[w][b] for w in Warehouses])>=demand[b], \"Sum_of_Products_into_Bar%s\"%b"
   ],
   "outputs": [],
   "metadata": {}
  },
  {
   "cell_type": "code",
   "execution_count": 268,
   "source": [
    "prob"
   ],
   "outputs": [
    {
     "output_type": "execute_result",
     "data": {
      "text/plain": [
       "Beer_Distribution_Problem:\n",
       "MINIMIZE\n",
       "2*Route_A_1 + 4*Route_A_2 + 5*Route_A_3 + 2*Route_A_4 + 1*Route_A_5 + 3*Route_B_1 + 1*Route_B_2 + 3*Route_B_3 + 2*Route_B_4 + 3*Route_B_5 + 0\n",
       "SUBJECT TO\n",
       "Sum_of_Products_into_Bar1: Route_A_1 + Route_B_1 >= 500\n",
       "\n",
       "Sum_of_Products_into_Bar2: Route_A_2 + Route_B_2 >= 900\n",
       "\n",
       "Sum_of_Products_into_Bar3: Route_A_3 + Route_B_3 >= 1800\n",
       "\n",
       "Sum_of_Products_into_Bar4: Route_A_4 + Route_B_4 >= 200\n",
       "\n",
       "Sum_of_Products_into_Bar5: Route_A_5 + Route_B_5 >= 700\n",
       "\n",
       "VARIABLES\n",
       "0 <= Route_A_1 Integer\n",
       "0 <= Route_A_2 Integer\n",
       "0 <= Route_A_3 Integer\n",
       "0 <= Route_A_4 Integer\n",
       "0 <= Route_A_5 Integer\n",
       "0 <= Route_B_1 Integer\n",
       "0 <= Route_B_2 Integer\n",
       "0 <= Route_B_3 Integer\n",
       "0 <= Route_B_4 Integer\n",
       "0 <= Route_B_5 Integer"
      ]
     },
     "metadata": {},
     "execution_count": 268
    }
   ],
   "metadata": {}
  },
  {
   "cell_type": "code",
   "execution_count": 269,
   "source": [
    "# The problem is solved using PuLP's choice of Solver\r\n",
    "prob.solve()"
   ],
   "outputs": [
    {
     "output_type": "execute_result",
     "data": {
      "text/plain": [
       "1"
      ]
     },
     "metadata": {},
     "execution_count": 269
    }
   ],
   "metadata": {}
  },
  {
   "cell_type": "code",
   "execution_count": 270,
   "source": [
    "# The status of the solution is printed to the screen\r\n",
    "print(\"Status:\", LpStatus[prob.status])"
   ],
   "outputs": [
    {
     "output_type": "stream",
     "name": "stdout",
     "text": [
      "Status: Optimal\n"
     ]
    }
   ],
   "metadata": {}
  },
  {
   "cell_type": "code",
   "execution_count": 271,
   "source": [
    "# Each of the variables is printed with it's resolved optimum value\r\n",
    "for v in prob.variables():\r\n",
    "    print(v.name, \"=\", v.varValue)"
   ],
   "outputs": [
    {
     "output_type": "stream",
     "name": "stdout",
     "text": [
      "Route_A_1 = 500.0\n",
      "Route_A_2 = 0.0\n",
      "Route_A_3 = 0.0\n",
      "Route_A_4 = 200.0\n",
      "Route_A_5 = 700.0\n",
      "Route_B_1 = 0.0\n",
      "Route_B_2 = 900.0\n",
      "Route_B_3 = 1800.0\n",
      "Route_B_4 = 0.0\n",
      "Route_B_5 = 0.0\n"
     ]
    }
   ],
   "metadata": {}
  },
  {
   "cell_type": "code",
   "execution_count": 272,
   "source": [
    "# The optimised objective function value is printed to the screen    \r\n",
    "print(\"Total Cost of Transportation = \", value(prob.objective))"
   ],
   "outputs": [
    {
     "output_type": "stream",
     "name": "stdout",
     "text": [
      "Total Cost of Transportation =  8400.0\n"
     ]
    }
   ],
   "metadata": {}
  },
  {
   "cell_type": "markdown",
   "source": [
    "## Boiden college example"
   ],
   "metadata": {}
  },
  {
   "cell_type": "code",
   "execution_count": 273,
   "source": [
    "lp = LpProblem(\"Bakery_Problem\", LpMaximize)"
   ],
   "outputs": [],
   "metadata": {}
  },
  {
   "cell_type": "code",
   "execution_count": 274,
   "source": [
    "#Define a dictionary of variables keyed by \"indices\"\r\n",
    "var_keys = [1,2] \r\n",
    "x = LpVariable.dicts(\"Bakery_item\", var_keys, lowBound=0, cat=\"Integer\")\r\n",
    "print(x)"
   ],
   "outputs": [
    {
     "output_type": "stream",
     "name": "stdout",
     "text": [
      "{1: Bakery_item_1, 2: Bakery_item_2}\n"
     ]
    }
   ],
   "metadata": {}
  },
  {
   "cell_type": "code",
   "execution_count": 275,
   "source": [
    "type(x)"
   ],
   "outputs": [
    {
     "output_type": "execute_result",
     "data": {
      "text/plain": [
       "dict"
      ]
     },
     "metadata": {},
     "execution_count": 275
    }
   ],
   "metadata": {}
  },
  {
   "cell_type": "code",
   "execution_count": 276,
   "source": [
    "#Add the objective function\r\n",
    "lp += 10* x[1] + 5 * x[2]"
   ],
   "outputs": [],
   "metadata": {}
  },
  {
   "cell_type": "code",
   "execution_count": 277,
   "source": [
    "# Add the constraints\r\n",
    "#lp += (5 * x[1] + x[2] <= 90, \"oven_constraint\")\r\n",
    "#lp += ( lpSum( [5*x[1], x[2]] ) <= 90  )\r\n",
    "lp += (x[1] + 10 * x[2] <= 300, \"food_processor_constraint\")\r\n",
    "lp += (4 * x[1] + 6 * x[2] <= 125, \"boiler_constraint\")"
   ],
   "outputs": [],
   "metadata": {}
  },
  {
   "cell_type": "code",
   "execution_count": 278,
   "source": [
    "#Rewrite the first constraint:\r\n",
    "coeff = [5, 1] #may come from a file\r\n",
    "coeff_dict = dict( zip(var_keys,coeff) )\r\n",
    "lp += ( lpSum(coeff_dict[i] * x[i] for i in var_keys) <= 90, 'oven_const')"
   ],
   "outputs": [],
   "metadata": {}
  },
  {
   "cell_type": "code",
   "execution_count": 279,
   "source": [
    "lp"
   ],
   "outputs": [
    {
     "output_type": "execute_result",
     "data": {
      "text/plain": [
       "Bakery_Problem:\n",
       "MAXIMIZE\n",
       "10*Bakery_item_1 + 5*Bakery_item_2 + 0\n",
       "SUBJECT TO\n",
       "food_processor_constraint: Bakery_item_1 + 10 Bakery_item_2 <= 300\n",
       "\n",
       "boiler_constraint: 4 Bakery_item_1 + 6 Bakery_item_2 <= 125\n",
       "\n",
       "oven_const: 5 Bakery_item_1 + Bakery_item_2 <= 90\n",
       "\n",
       "VARIABLES\n",
       "0 <= Bakery_item_1 Integer\n",
       "0 <= Bakery_item_2 Integer"
      ]
     },
     "metadata": {},
     "execution_count": 279
    }
   ],
   "metadata": {}
  },
  {
   "cell_type": "code",
   "execution_count": 280,
   "source": [
    "# Solve the LP\r\n",
    "status = lp.solve(PULP_CBC_CMD(msg=0))\r\n",
    "print(\"Status:\", status)"
   ],
   "outputs": [
    {
     "output_type": "stream",
     "name": "stdout",
     "text": [
      "Status: 1\n"
     ]
    }
   ],
   "metadata": {}
  },
  {
   "cell_type": "code",
   "execution_count": 281,
   "source": [
    "#Print solution\r\n",
    "for var in lp.variables():\r\n",
    "    print(var, \"=\", value(var))\r\n",
    "print(\"OPT =\", value(lp.objective))"
   ],
   "outputs": [
    {
     "output_type": "stream",
     "name": "stdout",
     "text": [
      "Bakery_item_1 = 16.0\n",
      "Bakery_item_2 = 10.0\n",
      "OPT = 210.0\n"
     ]
    }
   ],
   "metadata": {}
  },
  {
   "cell_type": "code",
   "execution_count": 282,
   "source": [
    "for var in lp.variables():\r\n",
    "    print(var, value(var))"
   ],
   "outputs": [
    {
     "output_type": "stream",
     "name": "stdout",
     "text": [
      "Bakery_item_1 16.0\n",
      "Bakery_item_2 10.0\n"
     ]
    }
   ],
   "metadata": {}
  },
  {
   "cell_type": "code",
   "execution_count": 283,
   "source": [
    "value(lp.objective)"
   ],
   "outputs": [
    {
     "output_type": "execute_result",
     "data": {
      "text/plain": [
       "210.0"
      ]
     },
     "metadata": {},
     "execution_count": 283
    }
   ],
   "metadata": {}
  },
  {
   "cell_type": "markdown",
   "source": [
    "## Try it out"
   ],
   "metadata": {}
  },
  {
   "cell_type": "code",
   "execution_count": 284,
   "source": [
    "lin_pro = LpProblem(\"SC_Problem\", LpMaximize)"
   ],
   "outputs": [],
   "metadata": {}
  },
  {
   "cell_type": "code",
   "execution_count": 285,
   "source": [
    "from graph_ex import sc"
   ],
   "outputs": [],
   "metadata": {}
  },
  {
   "cell_type": "code",
   "execution_count": 286,
   "source": [
    "#Define a dictionary of variables keyed by \"indices\"\r\n",
    "opt_tuples = sc.get_optimising_tuples()\r\n",
    "names = [str(val1)+\"__\"+str(val2) for val1, val2 in opt_tuples]\r\n",
    "_x = [LpVariable(name=names[i], lowBound=0, cat='Integer') for i,_ in enumerate(names)] \r\n"
   ],
   "outputs": [],
   "metadata": {}
  },
  {
   "cell_type": "code",
   "execution_count": 287,
   "source": [
    "#Add the objective function\r\n",
    "\r\n",
    "trans_cost = sc.get_transport_cost()\r\n",
    "prices = sc.get_price_per_product()\r\n",
    "supply_cost = sc.get_supply_costs()\r\n",
    "\r\n",
    "lin_pro += lpSum(prices[i] * _x[i] - trans_cost[i] * _x[i] - supply_cost[i] * _x[i] for i,_ in enumerate(_x))"
   ],
   "outputs": [],
   "metadata": {}
  },
  {
   "cell_type": "markdown",
   "source": [
    "### Constraints"
   ],
   "metadata": {}
  },
  {
   "cell_type": "code",
   "execution_count": 288,
   "source": [
    "def add_demand_constraint(demand_val:np.int64, indexs:list, cprod_name:str)-> None:\r\n",
    "    ''' Takes a demand value and list of indices and adds a constraint that the \r\n",
    "        demand value <= sum of index values'''\r\n",
    "    return lpSum(_x[i] for i in indexs) <= demand_val, f'{cprod_name}_demand_constraint'"
   ],
   "outputs": [],
   "metadata": {}
  },
  {
   "cell_type": "code",
   "execution_count": 289,
   "source": [
    "# Demand constraints\r\n",
    "# lp += ( lpSum(coeff_dict[i] * x[i] for i in var_keys) <= 90, 'oven_const')\r\n",
    "cprods = [cprod for cust in sc.customers.keys() for cprod in sc.graph.predecessors(cust)]\r\n",
    "demand = sc.get_demand_vec()\r\n",
    "\r\n",
    "for dem, cprod in zip(demand, cprods):\r\n",
    "    indices = [names.index(fprod_cprod) for fprod_cprod in names if fprod_cprod.endswith(cprod)]\r\n",
    "    lin_pro += add_demand_constraint(demand_val=dem, indexs=indices, cprod_name=cprod)\r\n",
    "    "
   ],
   "outputs": [],
   "metadata": {}
  },
  {
   "cell_type": "code",
   "execution_count": 291,
   "source": [
    "# lin_pro"
   ],
   "outputs": [],
   "metadata": {}
  },
  {
   "cell_type": "code",
   "execution_count": null,
   "source": [],
   "outputs": [],
   "metadata": {}
  }
 ],
 "metadata": {
  "orig_nbformat": 4,
  "language_info": {
   "name": "python",
   "version": "3.7.4",
   "mimetype": "text/x-python",
   "codemirror_mode": {
    "name": "ipython",
    "version": 3
   },
   "pygments_lexer": "ipython3",
   "nbconvert_exporter": "python",
   "file_extension": ".py"
  },
  "kernelspec": {
   "name": "python3",
   "display_name": "Python 3.7.4 64-bit ('env': venv)"
  },
  "interpreter": {
   "hash": "e42134e7f840bbc4b92505a650aba1011e508af6fb22612d6f89a5b42ffcd41d"
  }
 },
 "nbformat": 4,
 "nbformat_minor": 2
}