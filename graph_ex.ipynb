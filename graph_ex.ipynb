{
 "cells": [
  {
   "cell_type": "code",
   "execution_count": 1,
   "source": [
    "import numpy as np\r\n",
    "import matplotlib.pyplot as plt\r\n",
    "import networkx as nx\r\n",
    "import pandas as pd\r\n",
    "from graph_ex import SupplyChain\r\n",
    "from dataclasses import dataclass\r\n"
   ],
   "outputs": [],
   "metadata": {}
  },
  {
   "cell_type": "code",
   "execution_count": 2,
   "source": [
    "np.set_printoptions(suppress=True)"
   ],
   "outputs": [],
   "metadata": {}
  },
  {
   "cell_type": "code",
   "execution_count": 3,
   "source": [
    "xls = pd.ExcelFile('data_ex.xlsx')\r\n",
    "demand_dict = pd.read_excel(xls, sheet_name='demand', index_col=0, usecols=\"A:D\", nrows=33).to_dict('index')  \r\n",
    "prices_dict = pd.read_excel(xls, sheet_name = 'prices', index_col=0, usecols=\"A:D\", nrows=33).to_dict('index') \r\n",
    "custs = pd.read_excel(xls, sheet_name='customers', index_col=0, usecols=\"A:C\", nrows=33).to_dict('index')\r\n",
    "farms_dict = pd.read_excel(xls, sheet_name='farms', index_col=0, usecols=\"A:F\", nrows=31).to_dict('index')\r\n",
    "products_dict = {'P1': 6, 'P2': 10, 'P3': 12}\r\n",
    "transport_cost_per_egg = {'same_loc':0.10, 'different_loc':0.15}\r\n",
    "\r\n",
    "\r\n",
    "def sum_to_num(sum_to, nums):\r\n",
    "    ''' Generates random numbers that sum up to a given value\r\n",
    "        Parameters:\r\n",
    "        ----------\r\n",
    "        sum_to: The values the numbers should sum up to.\r\n",
    "        nums: The number of random numbers.\r\n",
    "        Source: http://sunny.today/generate-random-integers-with-fixed-sum/\r\n",
    "    '''\r\n",
    "    return np.random.multinomial(sum_to, np.ones(nums)/nums, size=1)[0]\r\n",
    "\r\n",
    "\r\n",
    "\r\n",
    "@dataclass\r\n",
    "class SupplyChain():\r\n",
    "    farms: dict\r\n",
    "    customers: dict\r\n",
    "    products: dict\r\n",
    "    demand: dict\r\n",
    "    prices: dict\r\n",
    "    transport: dict\r\n",
    "    graph: nx.DiGraph = nx.DiGraph()\r\n",
    "\r\n",
    "    \r\n",
    "    def edges_fprod_cprod(self) -> list:\r\n",
    "        ''' Creates tuples of customers-products &\r\n",
    "            farm-products for edges '''\r\n",
    "        prod_edges = []\r\n",
    "        for customer in self.customers.keys():\r\n",
    "            for product in self.products.keys():\r\n",
    "                for farm in self.farms.keys():\r\n",
    "                    for f_prod in self.farms[farm]['Products']:\r\n",
    "                        if product == f_prod:\r\n",
    "                            prod_edges.append((farm + \"_\" + f_prod, customer + \"_\" + product))\r\n",
    "        return prod_edges\r\n",
    "    \r\n",
    "    # def set_demand_quantity(self): \r\n",
    "    #     ''' Adds node attribute -> demand and fills it with demand value from dict'''\r\n",
    "    #     for customer in self.customers.keys():\r\n",
    "    #         for product in self.products.keys():\r\n",
    "    #             self.graph.nodes[customer + \"_\" + product]['demand'] = self.demand[customer][product]\r\n",
    "\r\n",
    "    def set_demand_quantity(self):\r\n",
    "        ''' Set the demand quantity on the edge between cprod and customer node'''\r\n",
    "        for customer in self.customers.keys():\r\n",
    "            for product in self.products.keys():\r\n",
    "                self.graph[customer+\"_\"+product][customer]['demand'] = self.demand[customer][product]\r\n",
    "\r\n",
    "    # Buy prices on nodes\r\n",
    "    # def set_buying_prices(self):\r\n",
    "    #     ''' Adds node attribute -> price and fills it with price values from dict'''\r\n",
    "    #     for customer in self.customers.keys():\r\n",
    "    #         for product in self.products.keys():\r\n",
    "    #             self.graph.nodes[customer + \"_\" + product]['price'] = self.prices[customer][product]\r\n",
    "    \r\n",
    "    def set_buying_prices(self):\r\n",
    "        ''' Set the buying price on the edge between cprod and customer node'''\r\n",
    "        for customer in self.customers.keys():\r\n",
    "            for product in self.products.keys():\r\n",
    "                self.graph[customer+\"_\"+product][customer]['price'] = self.prices[customer][product]\r\n",
    "\r\n",
    "\r\n",
    "    def set_supply_quantity(self):\r\n",
    "        ''' Adds eggs_supply node attribute for farms and fills it with farm Qty values from dict'''\r\n",
    "        for farm in self.farms.keys():\r\n",
    "            self.graph.nodes[farm]['eggs_supply'] = self.farms[farm]['Qty']\r\n",
    "    \r\n",
    "    # def set_supply_price(self):\r\n",
    "    #     ''' Adds cost_per_egg node attribute for farms and fills it with Cost values from dict '''\r\n",
    "    #     for farm in self.farms.keys():\r\n",
    "    #         self.graph.nodes[farm]['cost_per_egg'] = self.farms[farm]['Cost']\r\n",
    "\r\n",
    "    def set_supply_cost(self):\r\n",
    "        ''' Adds the cost_per_egg for edge between farm and fprods'''\r\n",
    "        for farm in self.farms.keys():\r\n",
    "            for fprod in self.graph.successors(farm):\r\n",
    "                for cprod in self.graph.successors(fprod):\r\n",
    "                    self.graph[fprod][cprod]['cost_per_egg'] = self.farms[farm]['Cost']        \r\n",
    "\r\n",
    "    def set_fprod_locations(self):\r\n",
    "        ''' Sets the location of the f_prod to the farm location '''\r\n",
    "        for farm in self.farms.keys():\r\n",
    "            for product in self.farms[farm]['Products']:\r\n",
    "                self.graph.nodes[farm + \"_\" + product]['Location'] = self.farms[farm]['Location']\r\n",
    "\r\n",
    "    def set_cprod_locations(self):\r\n",
    "        for cust in self.customers.keys():\r\n",
    "            for prod in self.products.keys():\r\n",
    "                self.graph.nodes[cust + \"_\" + prod]['Location'] = self.customers[cust]['Location']\r\n",
    "\r\n",
    "    def set_transport_costs(self):\r\n",
    "        ''' Set the transport costs on the edges between fprod and cprod based on their locations'''\r\n",
    "        # f_prods = [farm + \"_\" + product for farm in self.farms.keys() for product in self.farms[farm]['Products']]\r\n",
    "        for farm in self.farms.keys():\r\n",
    "            for fprod in self.graph.successors(farm):\r\n",
    "                for cprod in self.graph.successors(fprod):\r\n",
    "                    if self.graph.nodes[fprod]['Location'] == self.graph.nodes[cprod]['Location']:\r\n",
    "                        self.graph[fprod][cprod]['transport_cost'] = self.transport['same_loc']\r\n",
    "                    else:\r\n",
    "                        self.graph[fprod][cprod]['transport_cost'] = self.transport['different_loc']\r\n",
    "                        \r\n",
    "    def set_eggs_packs(self):\r\n",
    "        ''' Sets the eggs per pack on fprod and farm edge'''\r\n",
    "        for farm in self.farms.keys():\r\n",
    "            for product in self.farms[farm]['Products']:\r\n",
    "                self.graph[farm][farm + \"_\" + product]['eggs_per_pack'] = self.products[product]\r\n",
    "\r\n",
    "\r\n",
    "\r\n",
    "    def __post_init__(self):\r\n",
    "\r\n",
    "        # Fix the products list\r\n",
    "        for farm in self.farms.keys():\r\n",
    "            self.farms[farm]['Products'] = self.farms[farm]['Products'].split(', ')\r\n",
    "        # Add farm nodes and connect to f_prods\r\n",
    "        self.graph.add_edges_from([(farm, farm + \"_\" + product) for farm in self.farms.keys() \r\n",
    "                                                                for product in self.farms[farm]['Products']])      \r\n",
    "        # Add customer nodes and connect to c_prods\r\n",
    "        self.graph.add_edges_from([(cust + \"_\" + prod, cust) for cust in self.customers.keys() \r\n",
    "                                                            for prod in self.products.keys()])\r\n",
    "        # connect f_prod & c_prod\r\n",
    "        self.graph.add_edges_from(self.edges_fprod_cprod())\r\n",
    "\r\n",
    "        self.set_demand_quantity()\r\n",
    "        self.set_buying_prices()\r\n",
    "        self.set_supply_quantity()\r\n",
    "        self.set_supply_cost()\r\n",
    "        self.set_fprod_locations()\r\n",
    "        self.set_cprod_locations()\r\n",
    "        self.set_transport_costs()\r\n",
    "        self.set_eggs_packs()\r\n",
    "\r\n",
    "    # Get demand values from nodes\r\n",
    "    # def get_demand_vec(self) -> np.ndarray:\r\n",
    "    #     ''' Gets the demand node attributes from the graph as a dict \r\n",
    "    #         converts the dict's values to an array'''\r\n",
    "    #     return np.fromiter(nx.get_node_attributes(self.graph,'demand').values(), dtype=np.int64)\r\n",
    "\r\n",
    "    # Get demand value from edges\r\n",
    "    def get_demand_vec(self) -> np.ndarray:\r\n",
    "        ''' Returns an array with the demand values between cprod and customer edges'''\r\n",
    "        return np.array([self.graph[cprod][customer]['demand'] \r\n",
    "        for customer in self.customers.keys() \r\n",
    "        for cprod in self.graph.predecessors(customer)]).astype(np.int64)\r\n",
    "    \r\n",
    "\r\n",
    "    def get_price_per_product(self) -> np.ndarray:\r\n",
    "        return np.fromiter(nx.get_node_attributes(self.graph,'price').values(), dtype=np.float64)\r\n",
    "\r\n",
    "    def get_eggs_supplied(self) -> np.ndarray:\r\n",
    "        return np.fromiter(nx.get_node_attributes(self.graph,'eggs_supply').values(), dtype=np.int64)\r\n",
    "\r\n",
    "    # def get_supply_costs(self) -> np.ndarray:\r\n",
    "    #     ''' Gets the cost per egg supplied from farm to customer'''\r\n",
    "    #     costs = []\r\n",
    "    #     for farm in self.farms.keys():\r\n",
    "    #         for prod in self.farms[farm]['Products']:\r\n",
    "    #             fprod = farm + \"_\" + prod\r\n",
    "    #             for _ in self.graph.successors(fprod):\r\n",
    "    #                 costs.append(self.farms[farm]['Cost'])\r\n",
    "    #     return np.array(costs).astype(np.float16)\r\n",
    "    \r\n",
    "    def get_supply_costs(self) -> np.ndarray:\r\n",
    "        ''' Gets the cost per egg supplied from fprod to cprod'''\r\n",
    "        supply_costs =[]\r\n",
    "        for farm in self.farms.keys():\r\n",
    "            for fprod in self.graph.successors(farm):\r\n",
    "                for cprod in self.graph.successors(fprod):\r\n",
    "                    supply_costs.append(self.graph[fprod][cprod]['cost_per_egg'])\r\n",
    "        return np.array(supply_costs).astype(np.float64)\r\n",
    "\r\n",
    "    # def get_transport_cost(self):\r\n",
    "    #     ''' Gets the transport costs per egg supplied from farm to customer'''\r\n",
    "    #     costs =[]\r\n",
    "    #     for farm in self.farms.keys():\r\n",
    "    #         for prod in self.farms[farm]['Products']:\r\n",
    "    #             fprod = farm + \"_\" + prod\r\n",
    "    #             for cust_prod in self.graph.successors(fprod):\r\n",
    "    #                 if self.graph.nodes[cust_prod]['Location'] == self.graph.nodes['F1_P1']['Location']:\r\n",
    "    #                     transport_cost = self.transport['same_loc']\r\n",
    "    #                 else:\r\n",
    "    #                     transport_cost = self.transport['different_loc']\r\n",
    "    #                 costs.append(transport_cost)\r\n",
    "    #     return np.array(costs).astype(np.float16)\r\n",
    "    \r\n",
    "    def get_transport_cost(self):\r\n",
    "        ''' Returns an array with the transport costs of the fprod to cprod'''\r\n",
    "        transport_costs = []\r\n",
    "        for farm in self.farms.keys():\r\n",
    "            for fprod in self.graph.successors(farm):\r\n",
    "                for cprod in self.graph.successors(fprod):\r\n",
    "                    transport_costs.append(self.graph[fprod][cprod]['transport_cost'])\r\n",
    "        return np.array(transport_costs).astype(np.float16)\r\n",
    "\r\n",
    "\r\n",
    "    def split_eggs_supply_randomly(self) -> list:\r\n",
    "        ''' Retuns a list of arrays with the total quantity supplied distributed among the total number of products '''\r\n",
    "        dims = np.sum([len(self.farms[farm]['Products']) for farm in self.farms.keys()])\r\n",
    "        z_vec = np.zeros(dims)\r\n",
    "        split_indices = np.cumsum([len(self.farms[farm]['Products']) for farm in self.farms.keys()])\r\n",
    "        split_vec = np.split(z_vec, split_indices)[:-1]  # Pop the last one -> its empty\r\n",
    "        return [sum_to_num(supply, len(sv)) for sv, supply in zip(split_vec, self.get_eggs_supplied())]\r\n",
    "\r\n",
    "    def pack_random_eggs(self) -> list:\r\n",
    "        packs = []\r\n",
    "        fprods = [self.farms[farm]['Products'] for farm in self.farms.keys()]\r\n",
    "        for fprod, randegg in zip(fprods, self.split_eggs_supply_randomly()):\r\n",
    "            for fp, re in zip(fprod, randegg):\r\n",
    "                packs.append(np.floor(re/self.products[fp]))\r\n",
    "        return np.array(packs).astype(np.int64)"
   ],
   "outputs": [],
   "metadata": {}
  },
  {
   "cell_type": "code",
   "execution_count": 4,
   "source": [
    "sc = SupplyChain(farms=farms_dict, customers=custs, \r\n",
    "    products=products_dict, demand=demand_dict, \r\n",
    "    prices=prices_dict, transport=transport_cost_per_egg)"
   ],
   "outputs": [],
   "metadata": {}
  },
  {
   "cell_type": "code",
   "execution_count": 5,
   "source": [
    "def sum_to_num(sum_to, nums):\r\n",
    "    ''' Generates random numbers that sum up to a given value\r\n",
    "        Parameters:\r\n",
    "        ----------\r\n",
    "        sum_to: The values the numbers should sum up to.\r\n",
    "        nums: The number of random numbers.\r\n",
    "        Source: http://sunny.today/generate-random-integers-with-fixed-sum/\r\n",
    "    '''\r\n",
    "    return np.random.multinomial(sum_to, np.ones(nums)/nums, size=1)[0]\r\n"
   ],
   "outputs": [],
   "metadata": {}
  },
  {
   "cell_type": "code",
   "execution_count": 6,
   "source": [
    "def split_eggs_supply_randomly() -> list:\r\n",
    "    ''' Retuns a list of arrays with the total quantity supplied distributed among the total number of products '''\r\n",
    "    dims = np.sum([len(sc.farms[farm]['Products']) for farm in sc.farms.keys()])\r\n",
    "    z_vec = np.zeros(dims)\r\n",
    "    split_indices = np.cumsum([len(sc.farms[farm]['Products']) for farm in sc.farms.keys()])\r\n",
    "    split_vec = np.split(z_vec, split_indices)[:-1]  # Pop the last one -> its empty\r\n",
    "    return [sum_to_num(supply, len(sv)) for sv, supply in zip(split_vec, sc.get_eggs_supplied())]"
   ],
   "outputs": [],
   "metadata": {}
  },
  {
   "cell_type": "code",
   "execution_count": 7,
   "source": [
    "def pack_random_eggs() -> list:\r\n",
    "    packs = []\r\n",
    "    fprods = [sc.farms[farm]['Products'] for farm in sc.farms.keys()]\r\n",
    "    for fprod, randegg in zip(fprods, split_eggs_supply_randomly()):\r\n",
    "        for fp, re in zip(fprod, randegg):\r\n",
    "            packs.append(np.floor(re/sc.products[fp]))\r\n",
    "    return np.array(packs).astype(np.int64)"
   ],
   "outputs": [],
   "metadata": {}
  },
  {
   "cell_type": "code",
   "execution_count": 8,
   "source": [
    "def feasible_vec(vec:np.ndarray):\r\n",
    "    pass"
   ],
   "outputs": [],
   "metadata": {}
  },
  {
   "cell_type": "code",
   "execution_count": 9,
   "source": [
    "tuples = [(farm, fprod) for farm in sc.farms.keys() for fprod in sc.graph.successors(farm)]\r\n",
    "tuples.extend([(fprod, cprod) for farm in sc.farms.keys() for fprod in sc.graph.successors(farm) for cprod in sc.graph.successors(fprod)])             \r\n",
    "len(tuples)                "
   ],
   "outputs": [
    {
     "output_type": "execute_result",
     "data": {
      "text/plain": [
       "624"
      ]
     },
     "metadata": {},
     "execution_count": 9
    }
   ],
   "metadata": {}
  },
  {
   "cell_type": "code",
   "execution_count": 10,
   "source": [
    "vec = np.arange(624)"
   ],
   "outputs": [],
   "metadata": {}
  },
  {
   "cell_type": "code",
   "execution_count": 11,
   "source": [
    "np.arange(10)"
   ],
   "outputs": [
    {
     "output_type": "execute_result",
     "data": {
      "text/plain": [
       "array([0, 1, 2, 3, 4, 5, 6, 7, 8, 9])"
      ]
     },
     "metadata": {},
     "execution_count": 11
    }
   ],
   "metadata": {}
  },
  {
   "cell_type": "code",
   "execution_count": 12,
   "source": [
    "index_dict = {item: idx for idx, item in enumerate(tuples)}"
   ],
   "outputs": [],
   "metadata": {}
  },
  {
   "cell_type": "code",
   "execution_count": 13,
   "source": [
    "farm_wise_tuples = [[(farm, fprod) for fprod in sc.graph.successors(farm)] for farm in sc.farms.keys()]\r\n",
    "farm_indices = [np.array([index_dict.get(item) for item in farm_tuple]).astype(np.int64) for farm_tuple in farm_wise_tuples]\r\n",
    "\r\n",
    "prod_packs = [np.array([sc.graph[farm_tuple[0]][farm_tuple[1]]['eggs_per_pack'] for farm_tuple in farm_tuples]).astype(np.int64) for farm_tuples in farm_wise_tuples]\r\n"
   ],
   "outputs": [],
   "metadata": {}
  },
  {
   "cell_type": "code",
   "execution_count": 14,
   "source": [
    "eggs_supply = sc.get_eggs_supplied()\r\n",
    " \r\n",
    "supply_check = np.all([np.sum(vec[inds] * pack) <= supply for inds, pack, supply \r\n",
    "                in zip(farm_indices, prod_packs, eggs_supply)])\r\n",
    "\r\n",
    "supply_check"
   ],
   "outputs": [
    {
     "output_type": "execute_result",
     "data": {
      "text/plain": [
       "True"
      ]
     },
     "metadata": {},
     "execution_count": 14
    }
   ],
   "metadata": {}
  },
  {
   "cell_type": "code",
   "execution_count": 29,
   "source": [
    "demand = sc.get_demand_vec()\r\n",
    "\r\n",
    "# demand_check = \r\n",
    "\r\n",
    "customer_wise_tuples = [[(cprod, customer) for cprod in sc.graph.predecessors(customer)] for customer in sc.customers.keys()]\r\n",
    "customer_wise_tuples\r\n",
    "# for customer in sc.customers.keys():\r\n",
    "#     for cprod in sc.graph.predecessors(customer):\r\n",
    "#         print(cprod, customer)\r\n",
    "\r\n"
   ],
   "outputs": [
    {
     "output_type": "execute_result",
     "data": {
      "text/plain": [
       "[[('C1_P1', 'C1'), ('C1_P2', 'C1'), ('C1_P3', 'C1')],\n",
       " [('C2_P1', 'C2'), ('C2_P2', 'C2'), ('C2_P3', 'C2')],\n",
       " [('C3_P1', 'C3'), ('C3_P2', 'C3'), ('C3_P3', 'C3')],\n",
       " [('C4_P1', 'C4'), ('C4_P2', 'C4'), ('C4_P3', 'C4')],\n",
       " [('C5_P1', 'C5'), ('C5_P2', 'C5'), ('C5_P3', 'C5')],\n",
       " [('C6_P1', 'C6'), ('C6_P2', 'C6'), ('C6_P3', 'C6')],\n",
       " [('C7_P1', 'C7'), ('C7_P2', 'C7'), ('C7_P3', 'C7')],\n",
       " [('C8_P1', 'C8'), ('C8_P2', 'C8'), ('C8_P3', 'C8')],\n",
       " [('C9_P1', 'C9'), ('C9_P2', 'C9'), ('C9_P3', 'C9')],\n",
       " [('C10_P1', 'C10'), ('C10_P2', 'C10'), ('C10_P3', 'C10')],\n",
       " [('C11_P1', 'C11'), ('C11_P2', 'C11'), ('C11_P3', 'C11')],\n",
       " [('C12_P1', 'C12'), ('C12_P2', 'C12'), ('C12_P3', 'C12')],\n",
       " [('C13_P1', 'C13'), ('C13_P2', 'C13'), ('C13_P3', 'C13')],\n",
       " [('C14_P1', 'C14'), ('C14_P2', 'C14'), ('C14_P3', 'C14')],\n",
       " [('C15_P1', 'C15'), ('C15_P2', 'C15'), ('C15_P3', 'C15')]]"
      ]
     },
     "metadata": {},
     "execution_count": 29
    }
   ],
   "metadata": {}
  },
  {
   "cell_type": "code",
   "execution_count": 25,
   "source": [
    "# sc.graph.edges(data=True)"
   ],
   "outputs": [],
   "metadata": {}
  },
  {
   "cell_type": "code",
   "execution_count": 17,
   "source": [
    "fprods = [(farm, fprod) for farm in sc.farms.keys() for fprod in sc.graph.successors(farm)]\r\n",
    "# fprod_cprods = [(fprod, cprod) for customer in sc.customers.keys() for cprod in sc.graph.predecessors(customer) for fprod in sc.graph.predecessors(cprod)]    "
   ],
   "outputs": [],
   "metadata": {}
  },
  {
   "cell_type": "code",
   "execution_count": 18,
   "source": [
    "sc.graph['C1_P1']['C1']['demand']"
   ],
   "outputs": [
    {
     "output_type": "execute_result",
     "data": {
      "text/plain": [
       "6000"
      ]
     },
     "metadata": {},
     "execution_count": 18
    }
   ],
   "metadata": {}
  },
  {
   "cell_type": "code",
   "execution_count": 19,
   "source": [
    "# [[index_dict.get(item) for item in farm_tuple] for farm_tuple in farm_wise_tuples]\r\n",
    "\r\n"
   ],
   "outputs": [],
   "metadata": {}
  },
  {
   "cell_type": "code",
   "execution_count": 20,
   "source": [
    "list_of_arrays"
   ],
   "outputs": [
    {
     "output_type": "error",
     "ename": "NameError",
     "evalue": "name 'list_of_arrays' is not defined",
     "traceback": [
      "\u001b[1;31m---------------------------------------------------------------------------\u001b[0m",
      "\u001b[1;31mNameError\u001b[0m                                 Traceback (most recent call last)",
      "\u001b[1;32m~\\AppData\\Local\\Temp/ipykernel_9540/3039722768.py\u001b[0m in \u001b[0;36m<module>\u001b[1;34m\u001b[0m\n\u001b[1;32m----> 1\u001b[1;33m \u001b[0mlist_of_arrays\u001b[0m\u001b[1;33m\u001b[0m\u001b[1;33m\u001b[0m\u001b[0m\n\u001b[0m",
      "\u001b[1;31mNameError\u001b[0m: name 'list_of_arrays' is not defined"
     ]
    }
   ],
   "metadata": {}
  },
  {
   "cell_type": "code",
   "execution_count": null,
   "source": [],
   "outputs": [],
   "metadata": {}
  }
 ],
 "metadata": {
  "orig_nbformat": 4,
  "language_info": {
   "name": "python",
   "version": "3.7.4",
   "mimetype": "text/x-python",
   "codemirror_mode": {
    "name": "ipython",
    "version": 3
   },
   "pygments_lexer": "ipython3",
   "nbconvert_exporter": "python",
   "file_extension": ".py"
  },
  "kernelspec": {
   "name": "python3",
   "display_name": "Python 3.7.4 64-bit ('env': venv)"
  },
  "interpreter": {
   "hash": "e42134e7f840bbc4b92505a650aba1011e508af6fb22612d6f89a5b42ffcd41d"
  }
 },
 "nbformat": 4,
 "nbformat_minor": 2
}