{
 "cells": [
  {
   "cell_type": "code",
   "execution_count": 196,
   "source": [
    "import numpy as np\r\n",
    "import matplotlib.pyplot as plt\r\n",
    "import networkx as nx\r\n",
    "import pandas as pd\r\n",
    "from graph_ex import SupplyChain\r\n",
    "from dataclasses import dataclass\r\n",
    "from numba import jit, njit\r\n"
   ],
   "outputs": [],
   "metadata": {}
  },
  {
   "cell_type": "code",
   "execution_count": 94,
   "source": [
    "np.set_printoptions(suppress=True)"
   ],
   "outputs": [],
   "metadata": {}
  },
  {
   "cell_type": "code",
   "execution_count": 95,
   "source": [
    "xls = pd.ExcelFile('data_ex.xlsx')\r\n",
    "demand_dict = pd.read_excel(xls, sheet_name='demand', index_col=0, usecols=\"A:D\", nrows=33).to_dict('index')  \r\n",
    "prices_dict = pd.read_excel(xls, sheet_name = 'prices', index_col=0, usecols=\"A:D\", nrows=33).to_dict('index') \r\n",
    "custs = pd.read_excel(xls, sheet_name='customers', index_col=0, usecols=\"A:C\", nrows=33).to_dict('index')\r\n",
    "farms_dict = pd.read_excel(xls, sheet_name='farms', index_col=0, usecols=\"A:F\", nrows=31).to_dict('index')\r\n",
    "products_dict = {'P1': 6, 'P2': 10, 'P3': 12}\r\n",
    "transport_cost_per_egg = {'same_loc':0.10, 'different_loc':0.15}\r\n",
    "\r\n",
    "\r\n",
    "def sum_to_num(sum_to, nums):\r\n",
    "    ''' Generates random numbers that sum up to a given value\r\n",
    "        Parameters:\r\n",
    "        ----------\r\n",
    "        sum_to: The values the numbers should sum up to.\r\n",
    "        nums: The number of random numbers.\r\n",
    "        Source: http://sunny.today/generate-random-integers-with-fixed-sum/\r\n",
    "    '''\r\n",
    "    return np.random.multinomial(sum_to, np.ones(nums)/nums, size=1)[0]\r\n",
    "\r\n",
    "\r\n",
    "\r\n",
    "@dataclass\r\n",
    "class SupplyChain():\r\n",
    "    farms: dict\r\n",
    "    customers: dict\r\n",
    "    products: dict\r\n",
    "    demand: dict\r\n",
    "    prices: dict\r\n",
    "    transport: dict\r\n",
    "    graph: nx.DiGraph = nx.DiGraph()\r\n",
    "\r\n",
    "    \r\n",
    "    def edges_fprod_cprod(self) -> list:\r\n",
    "        ''' Creates tuples of customers-products &\r\n",
    "            farm-products for edges '''\r\n",
    "        prod_edges = []\r\n",
    "        for customer in self.customers.keys():\r\n",
    "            for product in self.products.keys():\r\n",
    "                for farm in self.farms.keys():\r\n",
    "                    for f_prod in self.farms[farm]['Products']:\r\n",
    "                        if product == f_prod:\r\n",
    "                            prod_edges.append((farm + \"_\" + f_prod, customer + \"_\" + product))\r\n",
    "        return prod_edges\r\n",
    "    \r\n",
    "    def set_demand_quantity(self): \r\n",
    "        ''' Adds node attribute -> demand and fills it with demand value from dict'''\r\n",
    "        for customer in self.customers.keys():\r\n",
    "            for product in self.products.keys():\r\n",
    "                self.graph.nodes[customer + \"_\" + product]['demand'] = self.demand[customer][product]\r\n",
    "\r\n",
    "    # def set_demand_quantity(self):\r\n",
    "    #     ''' Set the demand quantity on the edge between cprod and customer node'''\r\n",
    "    #     for customer in self.customers.keys():\r\n",
    "    #         for product in self.products.keys():\r\n",
    "    #             self.graph[customer+\"_\"+product][customer]['demand'] = self.demand[customer][product]\r\n",
    "\r\n",
    "    # Buy prices on nodes\r\n",
    "    # def set_buying_prices(self):\r\n",
    "    #     ''' Adds node attribute -> price and fills it with price values from dict'''\r\n",
    "    #     for customer in self.customers.keys():\r\n",
    "    #         for product in self.products.keys():\r\n",
    "    #             self.graph.nodes[customer + \"_\" + product]['price'] = self.prices[customer][product]\r\n",
    "    \r\n",
    "    def set_buying_prices(self):\r\n",
    "        ''' Set the buying price on the edge between cprod and customer node'''\r\n",
    "        for customer in self.customers.keys():\r\n",
    "            for product in self.products.keys():\r\n",
    "                self.graph[customer+\"_\"+product][customer]['price'] = self.prices[customer][product]\r\n",
    "\r\n",
    "\r\n",
    "    def set_supply_quantity(self):\r\n",
    "        ''' Adds eggs_supply node attribute for farms and fills it with farm Qty values from dict'''\r\n",
    "        for farm in self.farms.keys():\r\n",
    "            self.graph.nodes[farm]['eggs_supply'] = self.farms[farm]['Qty']\r\n",
    "    \r\n",
    "    # def set_supply_price(self):\r\n",
    "    #     ''' Adds cost_per_egg node attribute for farms and fills it with Cost values from dict '''\r\n",
    "    #     for farm in self.farms.keys():\r\n",
    "    #         self.graph.nodes[farm]['cost_per_egg'] = self.farms[farm]['Cost']\r\n",
    "\r\n",
    "    def set_supply_cost(self):\r\n",
    "        ''' Adds the cost_per_egg for edge between farm and fprods'''\r\n",
    "        for farm in self.farms.keys():\r\n",
    "            for fprod in self.graph.successors(farm):\r\n",
    "                for cprod in self.graph.successors(fprod):\r\n",
    "                    self.graph[fprod][cprod]['cost_per_egg'] = self.farms[farm]['Cost']        \r\n",
    "\r\n",
    "    def set_fprod_locations(self):\r\n",
    "        ''' Sets the location of the f_prod to the farm location '''\r\n",
    "        for farm in self.farms.keys():\r\n",
    "            for product in self.farms[farm]['Products']:\r\n",
    "                self.graph.nodes[farm + \"_\" + product]['Location'] = self.farms[farm]['Location']\r\n",
    "\r\n",
    "    def set_cprod_locations(self):\r\n",
    "        for cust in self.customers.keys():\r\n",
    "            for prod in self.products.keys():\r\n",
    "                self.graph.nodes[cust + \"_\" + prod]['Location'] = self.customers[cust]['Location']\r\n",
    "\r\n",
    "    def set_transport_costs(self):\r\n",
    "        ''' Set the transport costs on the edges between fprod and cprod based on their locations'''\r\n",
    "        # f_prods = [farm + \"_\" + product for farm in self.farms.keys() for product in self.farms[farm]['Products']]\r\n",
    "        for farm in self.farms.keys():\r\n",
    "            for fprod in self.graph.successors(farm):\r\n",
    "                for cprod in self.graph.successors(fprod):\r\n",
    "                    if self.graph.nodes[fprod]['Location'] == self.graph.nodes[cprod]['Location']:\r\n",
    "                        self.graph[fprod][cprod]['transport_cost'] = self.transport['same_loc']\r\n",
    "                    else:\r\n",
    "                        self.graph[fprod][cprod]['transport_cost'] = self.transport['different_loc']\r\n",
    "                        \r\n",
    "    def set_eggs_packs(self):\r\n",
    "        ''' Sets the eggs per pack on fprod and farm edge'''\r\n",
    "        for farm in self.farms.keys():\r\n",
    "            for product in self.farms[farm]['Products']:\r\n",
    "                self.graph.nodes[farm + \"_\" + product]['eggs_per_pack'] = self.products[product]\r\n",
    "\r\n",
    "\r\n",
    "\r\n",
    "    def __post_init__(self):\r\n",
    "\r\n",
    "        # Fix the products list\r\n",
    "        for farm in self.farms.keys():\r\n",
    "            self.farms[farm]['Products'] = self.farms[farm]['Products'].split(', ')\r\n",
    "        # Add farm nodes and connect to f_prods\r\n",
    "        self.graph.add_edges_from([(farm, farm + \"_\" + product) for farm in self.farms.keys() \r\n",
    "                                                                for product in self.farms[farm]['Products']])      \r\n",
    "        # Add customer nodes and connect to c_prods\r\n",
    "        self.graph.add_edges_from([(cust + \"_\" + prod, cust) for cust in self.customers.keys() \r\n",
    "                                                            for prod in self.products.keys()])\r\n",
    "        # connect f_prod & c_prod\r\n",
    "        self.graph.add_edges_from(self.edges_fprod_cprod())\r\n",
    "\r\n",
    "        self.set_demand_quantity()\r\n",
    "        self.set_buying_prices()\r\n",
    "        self.set_supply_quantity()\r\n",
    "        self.set_supply_cost()\r\n",
    "        self.set_fprod_locations()\r\n",
    "        self.set_cprod_locations()\r\n",
    "        self.set_transport_costs()\r\n",
    "        self.set_eggs_packs()\r\n",
    "\r\n",
    "    # Get demand values from nodes\r\n",
    "    def get_demand_vec(self) -> np.ndarray:\r\n",
    "        ''' Gets the demand node attributes from the graph as a dict \r\n",
    "            converts the dict's values to an array'''\r\n",
    "        return np.fromiter(nx.get_node_attributes(self.graph,'demand').values(), dtype=np.int64)\r\n",
    "\r\n",
    "    # Get demand value from edges\r\n",
    "    # def get_demand_vec(self) -> np.ndarray:\r\n",
    "    #     ''' Returns an array with the demand values between cprod and customer edges'''\r\n",
    "    #     return np.array([self.graph[cprod][customer]['demand'] \r\n",
    "    #     for customer in self.customers.keys() \r\n",
    "    #     for cprod in self.graph.predecessors(customer)]).astype(np.int64)\r\n",
    "    \r\n",
    "\r\n",
    "    def get_price_per_product(self) -> np.ndarray:\r\n",
    "        return np.fromiter(nx.get_node_attributes(self.graph,'price').values(), dtype=np.float64)\r\n",
    "\r\n",
    "    def get_eggs_supplied(self) -> np.ndarray:\r\n",
    "        return np.fromiter(nx.get_node_attributes(self.graph,'eggs_supply').values(), dtype=np.int64)\r\n",
    "\r\n",
    "    # def get_supply_costs(self) -> np.ndarray:\r\n",
    "    #     ''' Gets the cost per egg supplied from farm to customer'''\r\n",
    "    #     costs = []\r\n",
    "    #     for farm in self.farms.keys():\r\n",
    "    #         for prod in self.farms[farm]['Products']:\r\n",
    "    #             fprod = farm + \"_\" + prod\r\n",
    "    #             for _ in self.graph.successors(fprod):\r\n",
    "    #                 costs.append(self.farms[farm]['Cost'])\r\n",
    "    #     return np.array(costs).astype(np.float16)\r\n",
    "    \r\n",
    "    def get_supply_costs(self) -> np.ndarray:\r\n",
    "        ''' Gets the cost per egg supplied from fprod to cprod'''\r\n",
    "        supply_costs =[]\r\n",
    "        for farm in self.farms.keys():\r\n",
    "            for fprod in self.graph.successors(farm):\r\n",
    "                for cprod in self.graph.successors(fprod):\r\n",
    "                    supply_costs.append(self.graph[fprod][cprod]['cost_per_egg'])\r\n",
    "        return np.array(supply_costs).astype(np.float64)\r\n",
    "\r\n",
    "    # def get_transport_cost(self):\r\n",
    "    #     ''' Gets the transport costs per egg supplied from farm to customer'''\r\n",
    "    #     costs =[]\r\n",
    "    #     for farm in self.farms.keys():\r\n",
    "    #         for prod in self.farms[farm]['Products']:\r\n",
    "    #             fprod = farm + \"_\" + prod\r\n",
    "    #             for cust_prod in self.graph.successors(fprod):\r\n",
    "    #                 if self.graph.nodes[cust_prod]['Location'] == self.graph.nodes['F1_P1']['Location']:\r\n",
    "    #                     transport_cost = self.transport['same_loc']\r\n",
    "    #                 else:\r\n",
    "    #                     transport_cost = self.transport['different_loc']\r\n",
    "    #                 costs.append(transport_cost)\r\n",
    "    #     return np.array(costs).astype(np.float16)\r\n",
    "    \r\n",
    "    def get_transport_cost(self) -> np.ndarray:\r\n",
    "        ''' Returns an array with the transport costs of the fprod to cprod'''\r\n",
    "        transport_costs = []\r\n",
    "        for farm in self.farms.keys():\r\n",
    "            for fprod in self.graph.successors(farm):\r\n",
    "                for cprod in self.graph.successors(fprod):\r\n",
    "                    transport_costs.append(self.graph[fprod][cprod]['transport_cost'])\r\n",
    "        return np.array(transport_costs).astype(np.float16)\r\n",
    "\r\n",
    "    def get_optimising_tuples(self) -> list:\r\n",
    "        ''' Return the tuples of fprod & cprod that need to be optimised'''\r\n",
    "        return [(fprod, cprod) for farm in self.farms.keys() \r\n",
    "                for fprod in self.graph.successors(farm) \r\n",
    "                for cprod in self.graph.successors(fprod)]\r\n",
    "    \r\n",
    "    def get_indices_dict(self) -> dict:\r\n",
    "        ''' Return a dict with the optimising tuples as keys and \r\n",
    "            their index position in the list of tuples as value '''\r\n",
    "        return {item: idx for idx, item in enumerate(self.get_optimising_tuples())}\r\n",
    "\r\n",
    "    def get_indices(self, fprod_cprod:str):\r\n",
    "        ''' Takes an fprod or cprod value and returns all unique values (index) \r\n",
    "            from a dict of index values '''\r\n",
    "        index_dict= self.get_indices_dict() \r\n",
    "        index_values = set()\r\n",
    "        for i in range(len(index_dict)):\r\n",
    "            for fprod, cprod in index_dict.keys():\r\n",
    "                if fprod_cprod == fprod or fprod_cprod == cprod:\r\n",
    "                    index_values.add(index_dict.get((fprod, cprod)))\r\n",
    "        return list(index_values)\r\n",
    "    \r\n",
    "    def get_supply_check_variables(self) -> tuple:\r\n",
    "        ''' Gets the indices & pack size of fprods in the list of tuples to be optimised\r\n",
    "            - farm_wise_fprod_list: list of list of fprods by farms\r\n",
    "            - packs: return the eggs_per_pack for the fprod in the farm_wise_fprod_list\r\n",
    "            - indices: returns the index positions per farm in the farm_wise_fprod_list '''\r\n",
    "        farm_wise_fprod_list = [[fprod for fprod in sc.graph.successors(farm)] for farm in sc.farms.keys()]\r\n",
    "        packs = np.array([sc.graph.nodes[fprod]['eggs_per_pack'] for farms in farm_wise_fprod_list for fprod in farms])\r\n",
    "        indices = np.array([self.get_indices(fprod) for farms in farm_wise_fprod_list for fprod in farms]).astype(np.int64)\r\n",
    "        return indices, packs\r\n",
    "\r\n",
    "    def get_demand_check_variables(self) -> tuple:\r\n",
    "        ''' Return a list of index position where to split the list of all index values of cprods\r\n",
    "        - lens: lengths of the list of index values for cprods\r\n",
    "        - split_list: a cumulative sum of index values of the lengths\r\n",
    "        - all_inds: all index values of cprods in a single array '''\r\n",
    "        lens = np.array([len(self.get_indices(cprod)) \r\n",
    "                    for cust in sc.customers.keys() \r\n",
    "                    for cprod in sc.graph.predecessors(cust)]).astype(np.int64)\r\n",
    "        split_list = np.cumsum(lens)\r\n",
    "\r\n",
    "        all_inds = np.concatenate([self.get_indices(cprod) \r\n",
    "                    for customer in sc.customers.keys() \r\n",
    "                    for cprod in sc.graph.predecessors(customer)])\r\n",
    "        return split_list, all_inds\r\n",
    "\r\n",
    "    def split_eggs_supply_randomly(self) -> list:\r\n",
    "        ''' Retuns a list of arrays with the total quantity supplied distributed among the total number of products '''\r\n",
    "        dims = np.sum([len(self.farms[farm]['Products']) for farm in self.farms.keys()])\r\n",
    "        z_vec = np.zeros(dims)\r\n",
    "        split_indices = np.cumsum([len(self.farms[farm]['Products']) for farm in self.farms.keys()])\r\n",
    "        split_vec = np.split(z_vec, split_indices)[:-1]  # Pop the last one -> its empty\r\n",
    "        return [sum_to_num(supply, len(sv)) for sv, supply in zip(split_vec, self.get_eggs_supplied())]\r\n",
    "\r\n",
    "    def pack_random_eggs(self) -> list:\r\n",
    "        packs = []\r\n",
    "        fprods = [self.farms[farm]['Products'] for farm in self.farms.keys()]\r\n",
    "        for fprod, randegg in zip(fprods, self.split_eggs_supply_randomly()):\r\n",
    "            for fp, re in zip(fprod, randegg):\r\n",
    "                packs.append(np.floor(re/self.products[fp]))\r\n",
    "        return np.array(packs).astype(np.int64)"
   ],
   "outputs": [],
   "metadata": {}
  },
  {
   "cell_type": "code",
   "execution_count": 96,
   "source": [
    "sc = SupplyChain(farms=farms_dict, customers=custs, \r\n",
    "    products=products_dict, demand=demand_dict, \r\n",
    "    prices=prices_dict, transport=transport_cost_per_egg)"
   ],
   "outputs": [],
   "metadata": {}
  },
  {
   "cell_type": "code",
   "execution_count": 97,
   "source": [
    "def sum_to_num(sum_to, nums):\r\n",
    "    ''' Generates random numbers that sum up to a given value\r\n",
    "        Parameters:\r\n",
    "        ----------\r\n",
    "        sum_to: The values the numbers should sum up to.\r\n",
    "        nums: The number of random numbers.\r\n",
    "        Source: http://sunny.today/generate-random-integers-with-fixed-sum/\r\n",
    "    '''\r\n",
    "    return np.random.multinomial(sum_to, np.ones(nums)/nums, size=1)[0]\r\n"
   ],
   "outputs": [],
   "metadata": {}
  },
  {
   "cell_type": "code",
   "execution_count": 98,
   "source": [
    "def split_eggs_supply_randomly() -> list:\r\n",
    "    ''' Retuns a list of arrays with the total quantity supplied distributed among the total number of products '''\r\n",
    "    dims = np.sum([len(sc.farms[farm]['Products']) for farm in sc.farms.keys()])\r\n",
    "    z_vec = np.zeros(dims)\r\n",
    "    split_indices = np.cumsum([len(sc.farms[farm]['Products']) for farm in sc.farms.keys()])\r\n",
    "    split_vec = np.split(z_vec, split_indices)[:-1]  # Pop the last one -> its empty\r\n",
    "    return [sum_to_num(supply, len(sv)) for sv, supply in zip(split_vec, sc.get_eggs_supplied())]"
   ],
   "outputs": [],
   "metadata": {}
  },
  {
   "cell_type": "code",
   "execution_count": 99,
   "source": [
    "def pack_random_eggs() -> list:\r\n",
    "    packs = []\r\n",
    "    fprods = [sc.farms[farm]['Products'] for farm in sc.farms.keys()]\r\n",
    "    for fprod, randegg in zip(fprods, split_eggs_supply_randomly()):\r\n",
    "        for fp, re in zip(fprod, randegg):\r\n",
    "            packs.append(np.floor(re/sc.products[fp]))\r\n",
    "    return np.array(packs).astype(np.int64)"
   ],
   "outputs": [],
   "metadata": {}
  },
  {
   "cell_type": "code",
   "execution_count": 100,
   "source": [
    "all_tuples = [(fprod, cprod) for farm in sc.farms.keys() for fprod in sc.graph.successors(farm) for cprod in sc.graph.successors(fprod)]"
   ],
   "outputs": [],
   "metadata": {}
  },
  {
   "cell_type": "code",
   "execution_count": 101,
   "source": [
    "eggs_supply = sc.get_eggs_supplied()"
   ],
   "outputs": [],
   "metadata": {}
  },
  {
   "cell_type": "code",
   "execution_count": 102,
   "source": [
    "all_tuples_index_dict = {item: idx for idx, item in enumerate(all_tuples)}\r\n",
    "\r\n",
    "vec = np.arange(585)"
   ],
   "outputs": [],
   "metadata": {}
  },
  {
   "cell_type": "code",
   "execution_count": null,
   "source": [],
   "outputs": [],
   "metadata": {}
  },
  {
   "cell_type": "code",
   "execution_count": 103,
   "source": [
    "def get_index_from_dict(index_dict:dict, fprod_cprod:str):\r\n",
    "    ''' Takes an fprod or cprod value and returns all unique values (index) \r\n",
    "        from a dict of index values '''\r\n",
    "    index_values = set()\r\n",
    "    for i in range(len(index_dict)):\r\n",
    "        for fprod, cprod in index_dict.keys():\r\n",
    "            if fprod_cprod == fprod or fprod_cprod == cprod:\r\n",
    "                index_values.add(index_dict.get((fprod, cprod)))\r\n",
    "    return list(index_values)"
   ],
   "outputs": [],
   "metadata": {}
  },
  {
   "cell_type": "code",
   "execution_count": 174,
   "source": [
    "# def get_supply_check_variables(all_tuples_index_dict):\r\n",
    "#     ''' Gets the indices & pack size of fprods in the list of tuples to be optimised\r\n",
    "#         farm_wise_fprod_list: list of list of fprods by farms\r\n",
    "#         packs: return the eggs_per_pack for the fprod in the farm_wise_fprod_list\r\n",
    "#         indices: returns the index positions per farm in the farm_wise_fprod_list '''\r\n",
    "#     farm_wise_fprod_list = [[fprod for fprod in sc.graph.successors(farm)] for farm in sc.farms.keys()]\r\n",
    "#     packs = np.array([sc.graph.nodes[fprod]['eggs_per_pack'] for farms in farm_wise_fprod_list for fprod in farms])\r\n",
    "#     indices = np.array([get_index_from_dict(all_tuples_index_dict, fprod) for farms in farm_wise_fprod_list for fprod in farms]).astype(np.int64)\r\n",
    "#     return indices, packs\r\n",
    "    "
   ],
   "outputs": [],
   "metadata": {}
  },
  {
   "cell_type": "code",
   "execution_count": 178,
   "source": [
    "def get_supply_check_variables(all_tuples_index_dict) -> tuple:\r\n",
    "    farm_wise_fprod_list = [[fprod for fprod in sc.graph.successors(farm)] for farm in sc.farms.keys()]\r\n",
    "    packs = np.array([sc.graph.nodes[fprod]['eggs_per_pack'] for farms in farm_wise_fprod_list for fprod in farms])\r\n",
    "    lens = [len(farm) for farm in farm_wise_fprod_list]\r\n",
    "    split_list = np.cumsum(lens)\r\n",
    "    all_inds = np.vstack([get_index_from_dict(all_tuples_index_dict, fprod) \r\n",
    "                for farm in sc.farms.keys() \r\n",
    "                for fprod in sc.graph.successors(farm)])    \r\n",
    "    \r\n",
    "    return all_inds, split_list, packs"
   ],
   "outputs": [],
   "metadata": {}
  },
  {
   "cell_type": "code",
   "execution_count": 332,
   "source": [
    "sup_indices, sup_split_list, sup_packs = get_supply_check_variables(all_tuples_index_dict)"
   ],
   "outputs": [],
   "metadata": {}
  },
  {
   "cell_type": "code",
   "execution_count": 106,
   "source": [
    "def get_demand_check_variable(all_tuples_index_dict):\r\n",
    "    \r\n",
    "    lens = np.array([len(get_index_from_dict(all_tuples_index_dict, cprod)) \r\n",
    "                for cust in sc.customers.keys() \r\n",
    "                for cprod in sc.graph.predecessors(cust)]).astype(np.int64)\r\n",
    "    split_list = np.cumsum(lens)\r\n",
    "\r\n",
    "    all_inds = np.concatenate([get_index_from_dict(all_tuples_index_dict, cprod) \r\n",
    "                for customer in sc.customers.keys() \r\n",
    "                for cprod in sc.graph.predecessors(customer)])\r\n",
    "    \r\n",
    "    \r\n",
    "    return all_inds, split_list"
   ],
   "outputs": [],
   "metadata": {}
  },
  {
   "cell_type": "code",
   "execution_count": 195,
   "source": [
    "\r\n",
    "demand = sc.get_demand_vec()\r\n",
    "\r\n",
    "demand_indices, split_list = get_demand_check_variable(all_tuples_index_dict)\r\n"
   ],
   "outputs": [],
   "metadata": {}
  },
  {
   "cell_type": "code",
   "execution_count": 365,
   "source": [
    "@njit\r\n",
    "def feasible_vec(vec:np.ndarray)-> bool:\r\n",
    "    global sup_indices, sup_split_list, sup_packs, eggs_supply, demand, demand_indices, split_list\r\n",
    "\r\n",
    "    # Supply check    \r\n",
    "    vec_sum = np.array([np.sum(vec[sup_indices[i]]* sup_packs[i]) \r\n",
    "                for i in np.arange(len(sup_indices))], dtype=np.int64)\r\n",
    "    vec_sum_split = np.split(vec_sum, sup_split_list)[:-1]\r\n",
    "    farm_wise_totals = np.array([np.sum(vec_sum_split[i]) for i in range(len(vec_sum_split))], dtype=np.int64)\r\n",
    "    supply_check = np.all(farm_wise_totals <= eggs_supply)    \r\n",
    "\r\n",
    "    # Demand check\r\n",
    "    split_array = np.split(demand_indices, split_list)[:-1]\r\n",
    "    vec_sum = np.array([np.sum(vec[i]) for i in split_array])\r\n",
    "    demand_check = np.all(vec_sum <= demand)   \r\n",
    "    \r\n",
    "    # Zero check\r\n",
    "    zero_check = np.all(vec >= 0)\r\n",
    "\r\n",
    "    return demand_check and zero_check and supply_check"
   ],
   "outputs": [],
   "metadata": {}
  },
  {
   "cell_type": "code",
   "execution_count": 363,
   "source": [
    "feasible_vec(vec)"
   ],
   "outputs": [
    {
     "output_type": "execute_result",
     "data": {
      "text/plain": [
       "False"
      ]
     },
     "metadata": {},
     "execution_count": 363
    }
   ],
   "metadata": {}
  },
  {
   "cell_type": "code",
   "execution_count": 364,
   "source": [
    "zero_vec = np.zeros(585)\r\n",
    "feasible_vec(zero_vec)"
   ],
   "outputs": [
    {
     "output_type": "execute_result",
     "data": {
      "text/plain": [
       "True"
      ]
     },
     "metadata": {},
     "execution_count": 364
    }
   ],
   "metadata": {}
  },
  {
   "cell_type": "code",
   "execution_count": 113,
   "source": [
    "@njit\r\n",
    "def poss_val(index:int, val:int, vec: np.ndarray):\r\n",
    "    ''' Returns True if the 'val' being placed in \r\n",
    "        'index' position of 'vec' meets 'demand' and 'supply' \r\n",
    "        constraints '''\r\n",
    "    vec_copy = vec.copy()\r\n",
    "    vec_copy[index]=val\r\n",
    "    return feasible_vec(vec_copy)\r\n"
   ],
   "outputs": [],
   "metadata": {}
  },
  {
   "cell_type": "code",
   "execution_count": 114,
   "source": [
    "poss_val(index=0, val=10, vec=zero_vec)"
   ],
   "outputs": [
    {
     "output_type": "execute_result",
     "data": {
      "text/plain": [
       "True"
      ]
     },
     "metadata": {},
     "execution_count": 114
    }
   ],
   "metadata": {}
  },
  {
   "cell_type": "code",
   "execution_count": 577,
   "source": [
    "@njit\r\n",
    "def get_available_demand(vec:np.ndarray, index:int) -> int:\r\n",
    "    ''' Returns the available demand for an index in an vector'''\r\n",
    "    \r\n",
    "    global demand_indices, split_list\r\n",
    "\r\n",
    "    split_array = np.split(demand_indices, split_list)[:-1]\r\n",
    "    for cprod_indices, dem in zip(split_array, demand):\r\n",
    "        if index in cprod_indices:\r\n",
    "            vec_cprod = np.array([vec[i] for i in cprod_indices], dtype=np.int64)\r\n",
    "            \r\n",
    "            available_demand = dem - (np.sum(vec_cprod) - vec_cprod[np.where(cprod_indices==index)])\r\n",
    "            avail_demand = np.maximum(0, available_demand)[0] # Don't return negative demand\r\n",
    "    return avail_demand"
   ],
   "outputs": [],
   "metadata": {}
  },
  {
   "cell_type": "code",
   "execution_count": 578,
   "source": [
    "get_available_demand(vec=vec, index=20)"
   ],
   "outputs": [
    {
     "output_type": "execute_result",
     "data": {
      "text/plain": [
       "0"
      ]
     },
     "metadata": {},
     "execution_count": 578
    }
   ],
   "metadata": {}
  },
  {
   "cell_type": "code",
   "execution_count": 579,
   "source": [
    "get_available_demand(vec=zero_vec, index=20)"
   ],
   "outputs": [
    {
     "output_type": "execute_result",
     "data": {
      "text/plain": [
       "3000"
      ]
     },
     "metadata": {},
     "execution_count": 579
    }
   ],
   "metadata": {}
  },
  {
   "cell_type": "code",
   "execution_count": 580,
   "source": [
    "@njit\r\n",
    "def get_availble_supply(vec:np.ndarray, index:int) -> int:\r\n",
    "    global sup_indices, sup_split_list, sup_packs, eggs_supply\r\n",
    "    \r\n",
    "    sup_inices_split = np.split(sup_indices, sup_split_list)\r\n",
    "    sup_packs_split = np.split(sup_packs, sup_split_list)\r\n",
    "\r\n",
    "    loc = np.array([i for i in range(len(sup_inices_split)) if index in sup_inices_split[i]], dtype=np.int64)[0]  \r\n",
    "    row, _ = np.where(sup_inices_split[loc] == index)\r\n",
    "\r\n",
    "    arr_copy = np.where(sup_inices_split[loc] == index, 0, sup_inices_split[loc])\r\n",
    "    supplied = np.sum(np.array([np.sum(vec[arr_copy[arr_row_ind]] * sup_packs_split[loc][arr_row_ind]) \r\n",
    "                for arr_row_ind in np.arange(arr_copy.shape[0])], dtype=np.int64))\r\n",
    "\r\n",
    "    available_eggs = eggs_supply[loc] - supplied\r\n",
    "    avail_supply = (available_eggs/sup_packs_split[loc][row]).astype(np.int64)\r\n",
    "\r\n",
    "\r\n",
    "    return np.maximum(0, avail_supply)[0]\r\n",
    "             "
   ],
   "outputs": [],
   "metadata": {}
  },
  {
   "cell_type": "code",
   "execution_count": 581,
   "source": [
    "get_availble_supply(vec=vec, index=320)"
   ],
   "outputs": [
    {
     "output_type": "execute_result",
     "data": {
      "text/plain": [
       "0"
      ]
     },
     "metadata": {},
     "execution_count": 581
    }
   ],
   "metadata": {}
  },
  {
   "cell_type": "code",
   "execution_count": 582,
   "source": [
    "get_availble_supply(vec=zero_vec, index=320)"
   ],
   "outputs": [
    {
     "output_type": "execute_result",
     "data": {
      "text/plain": [
       "8333"
      ]
     },
     "metadata": {},
     "execution_count": 582
    }
   ],
   "metadata": {}
  },
  {
   "cell_type": "code",
   "execution_count": 585,
   "source": [
    "@njit\r\n",
    "def random_val(vec:np.ndarray, index: int) -> np.int64:\r\n",
    "    available_supply = get_availble_supply(vec=vec, index=index)\r\n",
    "    available_demand = get_available_demand(vec=vec, index=index)\r\n",
    "    \r\n",
    "    return np.random.randint(0, np.minimum(available_demand, available_supply))"
   ],
   "outputs": [],
   "metadata": {}
  },
  {
   "cell_type": "code",
   "execution_count": 586,
   "source": [
    "random_val(vec=vec, index=0)"
   ],
   "outputs": [
    {
     "output_type": "execute_result",
     "data": {
      "text/plain": [
       "815"
      ]
     },
     "metadata": {},
     "execution_count": 586
    }
   ],
   "metadata": {}
  },
  {
   "cell_type": "code",
   "execution_count": 754,
   "source": [
    "sc.pack_random_eggs()"
   ],
   "outputs": [
    {
     "output_type": "execute_result",
     "data": {
      "text/plain": [
       "array([5577, 3301, 2793, 5554, 3320, 2789, 5546, 3318, 2794, 2757, 1669,\n",
       "       1396, 2762, 1673, 1390, 2766, 1682, 1381, 2790, 1658, 1389, 2777,\n",
       "       1655, 1398, 2744, 1683, 1391,  848,  491,  828,  502,  825,  505,\n",
       "        491,  423,  836,  415,  831,  417], dtype=int64)"
      ]
     },
     "metadata": {},
     "execution_count": 754
    }
   ],
   "metadata": {}
  },
  {
   "cell_type": "code",
   "execution_count": 781,
   "source": [
    "len(sc.get_optimising_tuples())\r\n"
   ],
   "outputs": [
    {
     "output_type": "execute_result",
     "data": {
      "text/plain": [
       "585"
      ]
     },
     "metadata": {},
     "execution_count": 781
    }
   ],
   "metadata": {}
  },
  {
   "cell_type": "code",
   "execution_count": 824,
   "source": [
    "def random_instantiate_vec():\r\n",
    "\r\n",
    "    global sc\r\n",
    "    zero_vec = np.zeros(len(sc.get_optimising_tuples()))\r\n",
    "    fprods = [fprod for farm in sc.farms.keys() for fprod in sc.graph.successors(farm)]\r\n",
    "    fprod_pack_dict = {fprod:pack for fprod, pack in zip(fprods, sc.pack_random_eggs())}\r\n",
    "\r\n",
    "    for fprod, pack in fprod_pack_dict.items():\r\n",
    "        cprods = [cprod for cprod in sc.graph.successors(fprod)]\r\n",
    "        dist = sum_to_num(pack, len(cprods))\r\n",
    "        for cprod, qty in zip(cprods, dist):\r\n",
    "            index = sc.get_indices_dict().get((fprod, cprod), -1)\r\n",
    "            if poss_val(index=index, val=qty, vec=zero_vec):\r\n",
    "                zero_vec[index]=qty\r\n",
    "            else:\r\n",
    "                r = random_val(vec= zero_vec, index = index)\r\n",
    "                zero_vec[index]= r\r\n",
    "    \r\n",
    "    assert feasible_vec(vec=zero_vec), 'random_instantiate_vec() returned an unfeasible vec '\r\n",
    "    return zero_vec\r\n",
    "\r\n",
    "    "
   ],
   "outputs": [],
   "metadata": {}
  },
  {
   "cell_type": "code",
   "execution_count": 826,
   "source": [
    "random_instantiate_vec()"
   ],
   "outputs": [
    {
     "output_type": "error",
     "ename": "ValueError",
     "evalue": "empty range for randrange()",
     "traceback": [
      "\u001b[1;31m---------------------------------------------------------------------------\u001b[0m",
      "\u001b[1;31mValueError\u001b[0m                                Traceback (most recent call last)",
      "\u001b[1;32m~\\AppData\\Local\\Temp/ipykernel_20388/1583199855.py\u001b[0m in \u001b[0;36m<module>\u001b[1;34m\u001b[0m\n\u001b[1;32m----> 1\u001b[1;33m \u001b[0mrandom_instantiate_vec\u001b[0m\u001b[1;33m(\u001b[0m\u001b[1;33m)\u001b[0m\u001b[1;33m\u001b[0m\u001b[1;33m\u001b[0m\u001b[0m\n\u001b[0m",
      "\u001b[1;32m~\\AppData\\Local\\Temp/ipykernel_20388/438016954.py\u001b[0m in \u001b[0;36mrandom_instantiate_vec\u001b[1;34m()\u001b[0m\n\u001b[0;32m     14\u001b[0m                 \u001b[0mzero_vec\u001b[0m\u001b[1;33m[\u001b[0m\u001b[0mindex\u001b[0m\u001b[1;33m]\u001b[0m\u001b[1;33m=\u001b[0m\u001b[0mqty\u001b[0m\u001b[1;33m\u001b[0m\u001b[1;33m\u001b[0m\u001b[0m\n\u001b[0;32m     15\u001b[0m             \u001b[1;32melse\u001b[0m\u001b[1;33m:\u001b[0m\u001b[1;33m\u001b[0m\u001b[1;33m\u001b[0m\u001b[0m\n\u001b[1;32m---> 16\u001b[1;33m                 \u001b[0mr\u001b[0m \u001b[1;33m=\u001b[0m \u001b[0mrandom_val\u001b[0m\u001b[1;33m(\u001b[0m\u001b[0mzero_vec\u001b[0m\u001b[1;33m,\u001b[0m \u001b[0mindex\u001b[0m\u001b[1;33m)\u001b[0m\u001b[1;33m\u001b[0m\u001b[1;33m\u001b[0m\u001b[0m\n\u001b[0m\u001b[0;32m     17\u001b[0m                 \u001b[0mzero_vec\u001b[0m\u001b[1;33m[\u001b[0m\u001b[0mindex\u001b[0m\u001b[1;33m]\u001b[0m\u001b[1;33m=\u001b[0m \u001b[0mr\u001b[0m\u001b[1;33m\u001b[0m\u001b[1;33m\u001b[0m\u001b[0m\n\u001b[0;32m     18\u001b[0m \u001b[1;33m\u001b[0m\u001b[0m\n",
      "\u001b[1;31mValueError\u001b[0m: empty range for randrange()"
     ]
    }
   ],
   "metadata": {}
  },
  {
   "cell_type": "code",
   "execution_count": 810,
   "source": [],
   "outputs": [
    {
     "output_type": "stream",
     "name": "stdout",
     "text": [
      "F1_P1 5579 [382 380 363 360 383 370 347 376 371 374 369 396 356 369 383]\n",
      "F1_P1\n",
      "F1_P2 3361 [222 233 217 227 229 214 212 245 237 237 208 228 218 212 222]\n",
      "F1_P2\n",
      "F1_P3 2742 [174 197 188 183 166 183 181 192 169 181 159 201 184 211 173]\n",
      "F1_P3\n",
      "F2_P1 5537 [407 418 375 383 333 370 383 347 381 358 364 336 377 339 366]\n",
      "F2_P1\n",
      "F2_P2 3346 [195 206 206 212 245 226 215 245 231 223 211 208 221 253 249]\n",
      "F2_P2\n",
      "F2_P3 2775 [197 192 194 163 181 180 193 183 181 193 182 175 178 208 175]\n",
      "F2_P3\n",
      "F3_P1 5561 [363 344 380 378 351 360 358 354 381 389 375 414 367 371 376]\n",
      "F3_P1\n",
      "F3_P2 3338 [222 219 233 233 219 220 210 206 204 250 228 220 219 233 222]\n",
      "F3_P2\n",
      "F3_P3 2770 [208 176 172 210 177 212 180 186 176 194 188 155 185 174 177]\n",
      "F3_P3\n",
      "F4_P1 2816 [196 171 195 189 185 202 171 174 181 180 194 209 176 203 190]\n",
      "F4_P1\n",
      "F4_P2 1660 [104 106 101 115 112 101 130 109 114  87 125 122 112 115 107]\n",
      "F4_P2\n",
      "F4_P3 1374 [ 87  95  97  82  97  93  86  89  86  94  89  80  91  94 114]\n",
      "F4_P3\n",
      "F5_P1 2782 [176 188 177 189 194 209 191 178 197 197 172 184 191 159 180]\n",
      "F5_P1\n",
      "F5_P2 1659 [125  99 105 105  98 107 115 105 117 105 114 112 113 127 112]\n",
      "F5_P2\n",
      "F5_P3 1392 [ 91  83  95 100  85  96  93  95 111  81 106  76 106  87  87]\n",
      "F5_P3\n",
      "F6_P1 2781 [195 187 205 180 199 193 213 181 181 150 181 194 174 167 181]\n",
      "F6_P1\n",
      "F6_P2 1661 [108 122  87 117  92 117 121 103  98 133 114 120 107 116 106]\n",
      "F6_P2\n",
      "F6_P3 1391 [ 80 100 102  81  96 100  81  82 102 109 101  98  79  81  99]\n",
      "F6_P3\n",
      "F7_P1 2776 [169 194 212 182 176 179 219 177 150 186 182 186 189 193 182]\n",
      "F7_P1\n",
      "F7_P2 1649 [121 105 117 109 110 113 115  89 116 117 116 106 116 102  97]\n",
      "F7_P2\n",
      "F7_P3 1403 [ 92  76  85  90  91  90  89  99 108 106  99  91  90 107  90]\n",
      "F7_P3\n",
      "F8_P1 2746 [174 183 191 206 179 177 187 206 174 182 153 207 166 156 205]\n",
      "F8_P1\n",
      "F8_P2 1671 [110 121 111 101 107 119 111 116 119 107 124 107 106 110 102]\n",
      "F8_P2\n",
      "F8_P3 1400 [ 95 103  68  84 106  73  76  98  91  96 122  93 100 101  94]\n",
      "F8_P3\n",
      "F9_P1 2781 [216 184 190 179 180 171 197 181 176 181 184 182 185 186 189]\n",
      "F9_P1\n",
      "F9_P2 1668 [101 107 122 129 103 112 106 108 115 110 108  96 117 112 122]\n",
      "F9_P2\n",
      "F9_P3 1385 [ 85  73  80 101  81  87  94 112 115  83  93  86 100 108  87]\n",
      "F9_P3\n",
      "F10_P1 844 [46 52 68 62 48 54 60 51 68 59 52 60 47 57 60]\n",
      "F10_P1\n",
      "F10_P2 493 [37 41 22 36 28 33 39 39 28 35 34 33 23 30 35]\n",
      "F10_P2\n",
      "F11_P1 838 [66 53 59 60 59 49 58 60 52 51 46 59 46 61 59]\n",
      "F11_P1\n",
      "F11_P2 497 [40 25 37 27 35 31 34 27 27 46 35 37 38 25 33]\n",
      "F11_P2\n",
      "F12_P1 853 [50 51 57 56 65 61 47 51 65 55 57 52 56 63 67]\n",
      "F12_P1\n",
      "F12_P2 488 [31 32 37 32 39 21 35 37 28 34 32 33 31 34 32]\n",
      "F12_P2\n",
      "F13_P2 487 [28 26 33 37 36 30 29 30 36 40 33 33 28 32 36]\n",
      "F13_P2\n",
      "F13_P3 427 [28 26 26 26 37 25 25 27 28 31 33 32 32 26 25]\n",
      "F13_P3\n",
      "F14_P1 836 [48 54 55 64 53 63 50 56 59 62 55 58 51 52 56]\n",
      "F14_P1\n",
      "F14_P3 414 [33 31 26 25 22 32 26 18 22 29 31 38 20 26 35]\n",
      "F14_P3\n",
      "F15_P1 832 [51 66 65 48 58 45 61 66 56 54 53 65 47 46 51]\n",
      "F15_P1\n",
      "F15_P3 417 [32 29 34 29 25 29 34 12 21 19 26 34 28 35 30]\n",
      "F15_P3\n"
     ]
    }
   ],
   "metadata": {}
  },
  {
   "cell_type": "code",
   "execution_count": 821,
   "source": [
    "sc.get_indices_dict().get(('F1_P1', 'C1_P1'), -1)"
   ],
   "outputs": [
    {
     "output_type": "execute_result",
     "data": {
      "text/plain": [
       "0"
      ]
     },
     "metadata": {},
     "execution_count": 821
    }
   ],
   "metadata": {}
  },
  {
   "cell_type": "code",
   "execution_count": 805,
   "source": [
    "ind_dict.get(('F1_P1', 'C1_P1'), -1)\r\n"
   ],
   "outputs": [
    {
     "output_type": "execute_result",
     "data": {
      "text/plain": [
       "0"
      ]
     },
     "metadata": {},
     "execution_count": 805
    }
   ],
   "metadata": {}
  },
  {
   "cell_type": "code",
   "execution_count": 800,
   "source": [
    "ind_dict[('F1_P1', 'C1_P1')]"
   ],
   "outputs": [
    {
     "output_type": "execute_result",
     "data": {
      "text/plain": [
       "0"
      ]
     },
     "metadata": {},
     "execution_count": 800
    }
   ],
   "metadata": {}
  },
  {
   "cell_type": "code",
   "execution_count": null,
   "source": [],
   "outputs": [],
   "metadata": {}
  }
 ],
 "metadata": {
  "orig_nbformat": 4,
  "language_info": {
   "name": "python",
   "version": "3.7.4",
   "mimetype": "text/x-python",
   "codemirror_mode": {
    "name": "ipython",
    "version": 3
   },
   "pygments_lexer": "ipython3",
   "nbconvert_exporter": "python",
   "file_extension": ".py"
  },
  "kernelspec": {
   "name": "python3",
   "display_name": "Python 3.7.4 64-bit ('env': venv)"
  },
  "interpreter": {
   "hash": "e42134e7f840bbc4b92505a650aba1011e508af6fb22612d6f89a5b42ffcd41d"
  }
 },
 "nbformat": 4,
 "nbformat_minor": 2
}