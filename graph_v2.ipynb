{
 "metadata": {
  "language_info": {
   "codemirror_mode": {
    "name": "ipython",
    "version": 3
   },
   "file_extension": ".py",
   "mimetype": "text/x-python",
   "name": "python",
   "nbconvert_exporter": "python",
   "pygments_lexer": "ipython3",
   "version": "3.7.4"
  },
  "orig_nbformat": 4,
  "kernelspec": {
   "name": "python3",
   "display_name": "Python 3.7.4 64-bit ('env': venv)"
  },
  "interpreter": {
   "hash": "e42134e7f840bbc4b92505a650aba1011e508af6fb22612d6f89a5b42ffcd41d"
  }
 },
 "nbformat": 4,
 "nbformat_minor": 2,
 "cells": [
  {
   "cell_type": "code",
   "execution_count": 2,
   "metadata": {},
   "outputs": [],
   "source": [
    "import numpy as np\n",
    "import networkx as nx\n",
    "import matplotlib.pyplot as plt\n",
    "import random\n",
    "import joblib\n",
    "import pandas as pd"
   ]
  },
  {
   "cell_type": "code",
   "execution_count": 3,
   "metadata": {},
   "outputs": [],
   "source": [
    "np.set_printoptions(suppress=True)"
   ]
  },
  {
   "cell_type": "code",
   "execution_count": 4,
   "metadata": {},
   "outputs": [],
   "source": [
    "# Node labels\n",
    "farms = [\"F\"+str(i) for i in range(1,31)]\n",
    "custs = [\"C\"+str(i) for i in range(1,33)]\n",
    "prods = ['P1', 'P2', 'P3']\n",
    "dealer = \"Dealer\""
   ]
  },
  {
   "cell_type": "code",
   "execution_count": 5,
   "metadata": {},
   "outputs": [],
   "source": [
    "G = nx.DiGraph()"
   ]
  },
  {
   "cell_type": "code",
   "execution_count": 6,
   "metadata": {},
   "outputs": [],
   "source": [
    "# Add nodes to network graph\n",
    "G.add_nodes_from(farms)\n",
    "G.add_node(dealer)\n",
    "G.add_nodes_from(prods)\n",
    "G.add_nodes_from(custs)"
   ]
  },
  {
   "cell_type": "code",
   "execution_count": 7,
   "metadata": {},
   "outputs": [],
   "source": [
    "farm_dealer_edge_tuples =[(f,dealer) for f in farms]\n",
    "dealer_prod_edge_tuples =[(dealer, p) for p in prods]\n",
    "prod_cust_tuples = [(p,c) for p in prods for c in custs]"
   ]
  },
  {
   "cell_type": "code",
   "execution_count": 8,
   "metadata": {},
   "outputs": [],
   "source": [
    "edges = farm_dealer_edge_tuples + dealer_prod_edge_tuples + prod_cust_tuples"
   ]
  },
  {
   "cell_type": "code",
   "execution_count": 9,
   "metadata": {},
   "outputs": [],
   "source": [
    "# Connect nodes with edges\n",
    "G.add_edges_from(edges)"
   ]
  },
  {
   "cell_type": "code",
   "execution_count": 29,
   "metadata": {},
   "outputs": [],
   "source": [
    "# Set the farm categories\n",
    "for i, f in enumerate(farms, start=1):\n",
    "    c = ''\n",
    "    if i <=3:\n",
    "        c = 'Large'\n",
    "    elif 3 < i < 10:\n",
    "        c = 'Medium'\n",
    "    else:\n",
    "        c = 'Small'\n",
    "        \n",
    "    G.nodes[f]['category']=c\n"
   ]
  },
  {
   "source": [
    "Large farms supply 100,000 eggs/day<br>\n",
    "Medium farms supply 500,000 eggs/day<br>\n",
    "Small farms supply 10,000 eggs/day<br>"
   ],
   "cell_type": "markdown",
   "metadata": {}
  },
  {
   "source": [
    "for i, f in enumerate(farms, start=1):\n",
    "    z = 0\n",
    "    if G.nodes[f]['category'] == 'Large':\n",
    "        z = 100000\n",
    "    elif G.nodes[f]['category'] == 'Medium':\n",
    "        z = 50000\n",
    "    else:\n",
    "        z = 10000\n",
    "    \n",
    "    G[f]['Dealer']['quantity']=z"
   ],
   "cell_type": "code",
   "metadata": {},
   "execution_count": 30,
   "outputs": []
  },
  {
   "source": [
    "The cost/egg from Large farms = \\$ 0.22<br>\n",
    "The cost/egg from Medium farms = \\$ 0.23<br>\n",
    "The cost/egg from Small farms = \\$ 0.26<br>"
   ],
   "cell_type": "markdown",
   "metadata": {}
  },
  {
   "cell_type": "code",
   "execution_count": 12,
   "metadata": {},
   "outputs": [],
   "source": [
    "# Add prices per egg charged by farms \n",
    "for farm in farms:\n",
    "    if G.nodes[farm]['category']=='Large':\n",
    "        per_egg = 0.22\n",
    "    elif G.nodes[farm]['category']=='Medium':\n",
    "        per_egg = 0.23\n",
    "    else:\n",
    "        per_egg = 0.26\n",
    "\n",
    "    G[farm]['Dealer']['cost_per_egg'] = per_egg \n",
    "    "
   ]
  },
  {
   "cell_type": "code",
   "execution_count": 13,
   "metadata": {},
   "outputs": [],
   "source": [
    "# Set the type of product\n",
    "G.nodes['P1']['eggs_per_box'] = 6\n",
    "G.nodes['P2']['eggs_per_box'] = 10\n",
    "G.nodes['P3']['eggs_per_box'] = 12"
   ]
  },
  {
   "cell_type": "code",
   "execution_count": 14,
   "metadata": {},
   "outputs": [],
   "source": [
    "# Set the category of customer\n",
    "\n",
    "for i, cust in enumerate(custs,start=1):\n",
    "    if i <= 6:\n",
    "        cat = 'Large'\n",
    "    elif 6 < i <=12:\n",
    "        cat = 'Medium'\n",
    "    else:\n",
    "        cat = 'Small'\n",
    "    \n",
    "    G.nodes[cust]['category'] = cat"
   ]
  },
  {
   "cell_type": "code",
   "execution_count": 15,
   "metadata": {},
   "outputs": [],
   "source": [
    "# Set the location of customers\n",
    "\n",
    "locs =['South', 'North', 'South', 'North', 'South', 'North', 'North', 'South', 'South', 'North', 'North', 'North', 'North', 'South', 'North', 'North', 'North', 'South', 'South', 'South', 'North', 'North', 'South', 'North', 'North', 'South', 'South', 'South', 'South', 'North', 'North', 'North']\n",
    "\n",
    "for cust, l in zip(custs, locs):\n",
    "    G.nodes[cust]['location'] = l"
   ]
  },
  {
   "cell_type": "code",
   "execution_count": 16,
   "metadata": {},
   "outputs": [],
   "source": [
    "# Get the data from excel\n",
    "xls = pd.ExcelFile('data.xlsx')\n",
    "demand = pd.read_excel(xls, sheet_name='demand', index_col=0, usecols=\"A:D\", nrows=33)\n",
    "prices = pd.read_excel(xls, sheet_name = 'prices', index_col=0, usecols=\"A:D\", nrows=33)"
   ]
  },
  {
   "cell_type": "code",
   "execution_count": 17,
   "metadata": {},
   "outputs": [],
   "source": [
    "# Set the demand for products from excel data \n",
    "for cust in custs:\n",
    "    for prod in G.predecessors(cust):\n",
    "        G[prod][cust]['demand'] = demand.loc[cust][prod] "
   ]
  },
  {
   "cell_type": "code",
   "execution_count": 18,
   "metadata": {},
   "outputs": [],
   "source": [
    "# Set the prices of products from excel data\n",
    "for cust in custs:\n",
    "    for prod in G.predecessors(cust):\n",
    "        G[prod][cust]['price'] = prices.loc[cust][prod] "
   ]
  },
  {
   "cell_type": "code",
   "execution_count": 19,
   "metadata": {},
   "outputs": [],
   "source": [
    "# Set the transport costs per egg based on location\n",
    "transport_cost_per_egg = {'North':0.10, 'South':0.15}"
   ]
  },
  {
   "cell_type": "code",
   "execution_count": 20,
   "metadata": {},
   "outputs": [
    {
     "output_type": "execute_result",
     "data": {
      "text/plain": [
       "['transport_costs']"
      ]
     },
     "metadata": {},
     "execution_count": 20
    }
   ],
   "source": [
    "# Save the graph as a joblib object\n",
    "joblib.dump(G, 'supply_chain_graph')\n",
    "joblib.dump(farms, 'farms_list')\n",
    "joblib.dump(custs, 'customer_list')\n",
    "joblib.dump(prods, 'product_list')\n",
    "joblib.dump(transport_cost_per_egg, 'transport_costs')"
   ]
  },
  {
   "source": [
    "## Fill the large orders first "
   ],
   "cell_type": "markdown",
   "metadata": {}
  },
  {
   "cell_type": "code",
   "execution_count": 21,
   "metadata": {},
   "outputs": [],
   "source": [
    "from pso import get_total_supply, random_initiate_vec, demand, calculate_profit, feasible_vec, get_supply_boxes, get_total_supply, prod_cap, mat_shape, get_demand"
   ]
  },
  {
   "cell_type": "code",
   "execution_count": 22,
   "metadata": {},
   "outputs": [],
   "source": [
    "category_order = ['Large', 'Medium', 'Small']"
   ]
  },
  {
   "cell_type": "code",
   "execution_count": 23,
   "metadata": {},
   "outputs": [
    {
     "output_type": "execute_result",
     "data": {
      "text/plain": [
       "810000"
      ]
     },
     "metadata": {},
     "execution_count": 23
    }
   ],
   "source": [
    "supply = get_total_supply(G)\n",
    "supply"
   ]
  },
  {
   "cell_type": "code",
   "execution_count": 24,
   "metadata": {},
   "outputs": [],
   "source": [
    "def fill_order(order_list: list, graph: nx.DiGraph) -> np.ndarray:\n",
    "    ''' Returns the quantities boxes in the order of being filled by order_list given supply constraints'''\n",
    "    global prods, G, supply\n",
    "    ordered_tuples = [(p,cust) for co in order_list for p in prods for cust in graph.successors(p) if graph.nodes[cust]['category']==co]\n",
    "    supply_copy = supply.copy()\n",
    "    zero_array = np.zeros(len(ordered_tuples))\n",
    "    for i, ((p, c), z) in enumerate(zip(ordered_tuples, zero_array)):\n",
    "        if graph[p][c]['demand'] ==0:\n",
    "            continue\n",
    "        else:\n",
    "            if supply_copy > graph.nodes[p]['eggs_per_box']:\n",
    "                total_supply_boxes = int(supply_copy/graph.nodes[p]['eggs_per_box'])\n",
    "                if total_supply_boxes > graph[p][c]['demand']:\n",
    "                    zero_array[i] = graph[p][c]['demand']\n",
    "                    supply_copy -= graph[p][c]['demand'] * graph.nodes[p]['eggs_per_box']\n",
    "                elif total_supply_boxes < graph[p][c]['demand']:\n",
    "                    zero_array[i] = total_supply_boxes\n",
    "                    supply_copy -= total_supply_boxes * graph.nodes[p]['eggs_per_box']\n",
    "            else:\n",
    "                break\n",
    "    return zero_array"
   ]
  },
  {
   "cell_type": "code",
   "execution_count": 25,
   "metadata": {},
   "outputs": [
    {
     "output_type": "execute_result",
     "data": {
      "text/plain": [
       "array([6000., 5000., 6000., 5000., 6000., 5000., 6000., 3000., 5000.,\n",
       "       4000., 6000., 3000., 3000., 4000., 5000., 2000., 4000., 3000.,\n",
       "       3000.,  500.,  500.,  500.,  500., 1000., 1000.,  200.,  300.,\n",
       "        300.,  200., 1000.,  200.,   50.,   50.,  150.,   50.,  100.,\n",
       "         20.,   80.,   40.,  100.,  100.,   40.,   80.,   20.,   20.,\n",
       "         80.,   40.,  100.,   80.,   40.,   20.,  100.,   20.,   80.,\n",
       "         80.,   60.,   40.,   40.,   40.,   40.,   40.,   40.,   40.,\n",
       "         40.,   40.,   40.,   40.,   40.,   40.,   40.,   40.,    0.,\n",
       "          0.,    0.,    0.,    0.,   30.,   30.,   30.,   30.,   30.,\n",
       "         30.,   30.,   30.,   30.,    0.,    0.,    0.,    0.,    0.,\n",
       "          0.,    0.,    0.,    0.,    0.,    0.])"
      ]
     },
     "metadata": {},
     "execution_count": 25
    }
   ],
   "source": [
    "q_vec = fill_order(order_list=category_order, graph=G)\n",
    "q_vec"
   ]
  },
  {
   "cell_type": "code",
   "execution_count": 26,
   "metadata": {},
   "outputs": [],
   "source": [
    "def calc_profit_ordered(qty_vec: np.ndarray, order_list: list, graph: nx.DiGraph):\n",
    "    ''' Takes a vector of product quantities (qty_vec) and the returns the profit/loss of that configuration'''\n",
    "    global prods, G, transport_cost_per_egg\n",
    "    ordered_tuples = [(p,cust) for co in order_list for p in prods for cust in G.successors(p) if G.nodes[cust]['category']==co]\n",
    "    avg_cost_per_egg = np.mean([graph[farm]['Dealer']['cost_per_egg'] for farm in graph.predecessors('Dealer')])\n",
    "    total_eggs = np.sum([qv * graph.nodes[p]['eggs_per_box'] for (p,c), qv  in zip(ordered_tuples, qty_vec)])\n",
    "    total_egg_cost = avg_cost_per_egg * total_eggs \n",
    "    total_sales = np.sum([G[p][c]['price'] * qv for (p,c), qv in zip(ordered_tuples, qty_vec)])\n",
    "    transport_cost = np.sum([transport_cost_per_egg[graph.nodes[c]['location']] * graph.nodes[p]['eggs_per_box'] * qv  for (p,c), qv in zip(ordered_tuples, qty_vec)])\n",
    "    return total_sales - (transport_cost+ total_egg_cost) "
   ]
  },
  {
   "cell_type": "code",
   "execution_count": 27,
   "metadata": {},
   "outputs": [
    {
     "output_type": "execute_result",
     "data": {
      "text/plain": [
       "810000"
      ]
     },
     "metadata": {},
     "execution_count": 27
    }
   ],
   "source": [
    "get_total_supply(G)"
   ]
  },
  {
   "cell_type": "code",
   "execution_count": 28,
   "metadata": {},
   "outputs": [
    {
     "output_type": "error",
     "ename": "NameError",
     "evalue": "name 'sup_box' is not defined",
     "traceback": [
      "\u001b[1;31m---------------------------------------------------------------------------\u001b[0m",
      "\u001b[1;31mNameError\u001b[0m                                 Traceback (most recent call last)",
      "\u001b[1;32m~\\AppData\\Local\\Temp/ipykernel_6800/2193773178.py\u001b[0m in \u001b[0;36m<module>\u001b[1;34m\u001b[0m\n\u001b[1;32m----> 1\u001b[1;33m \u001b[0msup_box\u001b[0m\u001b[1;33m[\u001b[0m\u001b[1;36m0\u001b[0m\u001b[1;33m]\u001b[0m\u001b[1;33m*\u001b[0m\u001b[0mprod_cap\u001b[0m\u001b[1;33m[\u001b[0m\u001b[1;36m0\u001b[0m\u001b[1;33m]\u001b[0m \u001b[1;33m+\u001b[0m \u001b[0msup_box\u001b[0m\u001b[1;33m[\u001b[0m\u001b[1;36m1\u001b[0m\u001b[1;33m]\u001b[0m\u001b[1;33m*\u001b[0m\u001b[0mprod_cap\u001b[0m\u001b[1;33m[\u001b[0m\u001b[1;36m1\u001b[0m\u001b[1;33m]\u001b[0m \u001b[1;33m+\u001b[0m \u001b[0msup_box\u001b[0m\u001b[1;33m[\u001b[0m\u001b[1;36m2\u001b[0m\u001b[1;33m]\u001b[0m\u001b[1;33m*\u001b[0m\u001b[0mprod_cap\u001b[0m\u001b[1;33m[\u001b[0m\u001b[1;36m2\u001b[0m\u001b[1;33m]\u001b[0m\u001b[1;33m\u001b[0m\u001b[1;33m\u001b[0m\u001b[0m\n\u001b[0m",
      "\u001b[1;31mNameError\u001b[0m: name 'sup_box' is not defined"
     ]
    }
   ],
   "source": [
    "sup_box[0]*prod_cap[0] + sup_box[1]*prod_cap[1] + sup_box[2]*prod_cap[2] "
   ]
  },
  {
   "cell_type": "code",
   "execution_count": 124,
   "metadata": {},
   "outputs": [],
   "source": [
    "def get_supplied_eggs(vec: np.ndarray)-> int:\n",
    "    ''' Returns the number of eggs supplied to customers based on \n",
    "        quantity of boxes (vec) '''\n",
    "    global prod_cap\n",
    "    mat boxes = get_supply_boxes(vec) return np.sunp.sum(um(dm * box) for dm, pboxin zip(vec, boxesd_cap)])\n",
    ")"
   ]
  },
  {
   "cell_type": "code",
   "execution_count": 125,
   "metadata": {},
   "outputs": [
    {
     "output_type": "execute_result",
     "data": {
      "text/plain": [
       "810000"
      ]
     },
     "metadata": {},
     "execution_count": 125
    }
   ],
   "source": [
    "get_supplied_eggs(demand)"
   ]
  },
  {
   "cell_type": "code",
   "execution_count": 131,
   "metadata": {},
   "outputs": [
    {
     "output_type": "execute_result",
     "data": {
      "text/plain": [
       "643346.0"
      ]
     },
     "metadata": {},
     "execution_count": 131
    }
   ],
   "source": [
    "calculate_profit(demand)"
   ]
  },
  {
   "cell_type": "code",
   "execution_count": 109,
   "metadata": {},
   "outputs": [
    {
     "output_type": "execute_result",
     "data": {
      "text/plain": [
       "241200"
      ]
     },
     "metadata": {},
     "execution_count": 109
    }
   ],
   "source": [
    "np.sum(demand.reshape(mat_shape)[0]*prod_cap[0])"
   ]
  },
  {
   "cell_type": "code",
   "execution_count": 111,
   "metadata": {},
   "outputs": [
    {
     "output_type": "execute_result",
     "data": {
      "text/plain": [
       "810000"
      ]
     },
     "metadata": {},
     "execution_count": 111
    }
   ],
   "source": [
    "demand_mat = demand.reshape(mat_shape)\n",
    "np.sum([np.sum(dm * pc) for dm, pc in zip(demand_mat, prod_cap)])"
   ]
  },
  {
   "source": [
    "## Reduced demand"
   ],
   "cell_type": "markdown",
   "metadata": {}
  },
  {
   "cell_type": "code",
   "execution_count": 143,
   "metadata": {},
   "outputs": [],
   "source": [
    "reduction_percent = 0.10\n",
    "reduced_demand = demand*(1-reduction_percent) "
   ]
  },
  {
   "cell_type": "code",
   "execution_count": 150,
   "metadata": {},
   "outputs": [
    {
     "output_type": "execute_result",
     "data": {
      "text/plain": [
       "729000.0"
      ]
     },
     "metadata": {},
     "execution_count": 150
    }
   ],
   "source": [
    "rd_supplied_eggs = get_supplied_eggs(reduced_demand)\n",
    "rd_supplied_eggs"
   ]
  },
  {
   "cell_type": "code",
   "execution_count": 153,
   "metadata": {},
   "outputs": [
    {
     "output_type": "execute_result",
     "data": {
      "text/plain": [
       "810000"
      ]
     },
     "metadata": {},
     "execution_count": 153
    }
   ],
   "source": [
    "total_supply = get_total_supply(G)\n",
    "total_supply"
   ]
  },
  {
   "cell_type": "code",
   "execution_count": 151,
   "metadata": {},
   "outputs": [
    {
     "output_type": "execute_result",
     "data": {
      "text/plain": [
       "81000.0"
      ]
     },
     "metadata": {},
     "execution_count": 151
    }
   ],
   "source": [
    "total_supply-rd_supplied_eggs"
   ]
  },
  {
   "cell_type": "code",
   "execution_count": 152,
   "metadata": {},
   "outputs": [
    {
     "output_type": "execute_result",
     "data": {
      "text/plain": [
       "810000"
      ]
     },
     "metadata": {},
     "execution_count": 152
    }
   ],
   "source": [
    "total_supply"
   ]
  },
  {
   "cell_type": "code",
   "execution_count": 158,
   "metadata": {},
   "outputs": [],
   "source": []
  },
  {
   "cell_type": "code",
   "execution_count": 159,
   "metadata": {},
   "outputs": [
    {
     "output_type": "execute_result",
     "data": {
      "text/plain": [
       "array([5400., 4500., 5400., 4500., 5400., 4500., 2700.,  450.,  450.,\n",
       "        450.,  450.,  900.,   18.,   72.,   36.,   90.,   90.,   36.,\n",
       "         72.,   18.,   18.,   72.,   36.,   90.,   72.,   36.,   18.,\n",
       "         90.,   18.,   72.,   72.,   54., 5400., 2700., 4500., 3600.,\n",
       "       5400., 2700.,  900.,  180.,  270.,  270.,  180.,  900.,   36.,\n",
       "         36.,   36.,   36.,   36.,   36.,   36.,   36.,   36.,   36.,\n",
       "         36.,   36.,   36.,   36.,   36.,    0.,    0.,    0.,    0.,\n",
       "          0., 2700., 3600., 4500., 1800., 3600., 2700.,  180.,   45.,\n",
       "         45.,  135.,   45.,   90.,   27.,   27.,   27.,   27.,   27.,\n",
       "         27.,   27.,   27.,   27.,   27.,    0.,    0.,    0.,    0.,\n",
       "          0.,    0.,    0.,    0.,    0.,    0.])"
      ]
     },
     "metadata": {},
     "execution_count": 159
    }
   ],
   "source": []
  },
  {
   "cell_type": "code",
   "execution_count": null,
   "metadata": {},
   "outputs": [],
   "source": []
  }
 ]
}