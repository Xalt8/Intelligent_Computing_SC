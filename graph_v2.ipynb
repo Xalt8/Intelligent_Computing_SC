{
 "metadata": {
  "language_info": {
   "codemirror_mode": {
    "name": "ipython",
    "version": 3
   },
   "file_extension": ".py",
   "mimetype": "text/x-python",
   "name": "python",
   "nbconvert_exporter": "python",
   "pygments_lexer": "ipython3",
   "version": "3.7.4"
  },
  "orig_nbformat": 4,
  "kernelspec": {
   "name": "python3",
   "display_name": "Python 3.7.4 64-bit ('env': venv)"
  },
  "interpreter": {
   "hash": "e42134e7f840bbc4b92505a650aba1011e508af6fb22612d6f89a5b42ffcd41d"
  }
 },
 "nbformat": 4,
 "nbformat_minor": 2,
 "cells": [
  {
   "cell_type": "code",
   "execution_count": 1,
   "metadata": {},
   "outputs": [],
   "source": [
    "import numpy as np\n",
    "import networkx as nx\n",
    "import matplotlib.pyplot as plt\n",
    "import random"
   ]
  },
  {
   "cell_type": "code",
   "execution_count": 2,
   "metadata": {},
   "outputs": [],
   "source": [
    "# Node labels\n",
    "farms = [\"F\"+str(i) for i in range(1,11)]\n",
    "custs = [\"C\"+str(i) for i in range(1,6)]\n",
    "prods = ['P1', 'P2', 'P3']\n",
    "dealer = \"Dealer\""
   ]
  },
  {
   "cell_type": "code",
   "execution_count": 3,
   "metadata": {},
   "outputs": [],
   "source": [
    "G = nx.DiGraph()"
   ]
  },
  {
   "cell_type": "code",
   "execution_count": 4,
   "metadata": {},
   "outputs": [],
   "source": [
    "# Add nodes to network graph\n",
    "G.add_nodes_from(farms)\n",
    "G.add_node(dealer)\n",
    "G.add_nodes_from(prods)\n",
    "G.add_nodes_from(custs)"
   ]
  },
  {
   "cell_type": "code",
   "execution_count": 5,
   "metadata": {},
   "outputs": [],
   "source": [
    "farm_dealer_edge_tuples =[(f,dealer) for f in farms]\n",
    "dealer_prod_edge_tuples =[(dealer, p) for p in prods]\n",
    "prod_cust_tuples = [(p,c) for p in prods for c in custs]"
   ]
  },
  {
   "cell_type": "code",
   "execution_count": 6,
   "metadata": {},
   "outputs": [],
   "source": [
    "edges = farm_dealer_edge_tuples + dealer_prod_edge_tuples + prod_cust_tuples"
   ]
  },
  {
   "cell_type": "code",
   "execution_count": 7,
   "metadata": {},
   "outputs": [],
   "source": [
    "# Connect nodes with edges\n",
    "G.add_edges_from(edges)"
   ]
  },
  {
   "cell_type": "code",
   "execution_count": 8,
   "metadata": {},
   "outputs": [],
   "source": [
    "# Add quantities supplied by farms\n",
    "G['F1']['Dealer']['quantity']=100\n",
    "G['F2']['Dealer']['quantity']=100\n",
    "G['F3']['Dealer']['quantity']=100\n",
    "G['F4']['Dealer']['quantity']=100\n",
    "G['F5']['Dealer']['quantity']=100\n",
    "G['F6']['Dealer']['quantity']=100\n",
    "G['F7']['Dealer']['quantity']=100\n",
    "G['F8']['Dealer']['quantity']=100\n",
    "G['F9']['Dealer']['quantity']=100\n",
    "G['F10']['Dealer']['quantity']=100"
   ]
  },
  {
   "cell_type": "code",
   "execution_count": 9,
   "metadata": {},
   "outputs": [],
   "source": [
    "def get_total_supply(graph) -> np.int32:\n",
    "    ''' Return the total number of eggs supplied by farms to dealer'''\n",
    "    return np.sum([graph[f]['Dealer']['quantity'] for f in graph.predecessors('Dealer')])"
   ]
  },
  {
   "cell_type": "code",
   "execution_count": 10,
   "metadata": {},
   "outputs": [
    {
     "output_type": "execute_result",
     "data": {
      "text/plain": [
       "1000"
      ]
     },
     "metadata": {},
     "execution_count": 10
    }
   ],
   "source": [
    "supply_qty = get_total_supply(G)\n",
    "supply_qty"
   ]
  },
  {
   "cell_type": "code",
   "execution_count": 11,
   "metadata": {},
   "outputs": [],
   "source": [
    "# Set the type of product\n",
    "G.nodes['P1']['eggs_per_box'] = 6\n",
    "G.nodes['P2']['eggs_per_box'] = 10\n",
    "G.nodes['P3']['eggs_per_box'] = 12"
   ]
  },
  {
   "cell_type": "code",
   "execution_count": 12,
   "metadata": {},
   "outputs": [],
   "source": [
    "# Set the type of customer\n",
    "G.nodes['C1']['category'] = 'hypermarket'\n",
    "G.nodes['C2']['category'] = 'supermarket'\n",
    "G.nodes['C3']['category'] = 'supermarket'\n",
    "G.nodes['C4']['category'] = 'grocery_store'\n",
    "G.nodes['C5']['category'] = 'grocery_store'"
   ]
  },
  {
   "cell_type": "code",
   "execution_count": 13,
   "metadata": {},
   "outputs": [],
   "source": [
    "hypermarket_tupes = [(p,c) for (p,c) in prod_cust_tuples if G.nodes[c]['category']=='hypermarket']\n",
    "supermarket_tupes = [(p,c) for (p,c) in prod_cust_tuples if G.nodes[c]['category']=='supermarket']\n",
    "grocery_store_tupes = [(p,c) for (p,c) in prod_cust_tuples if G.nodes[c]['category']=='grocery_store']"
   ]
  },
  {
   "cell_type": "code",
   "execution_count": 14,
   "metadata": {},
   "outputs": [],
   "source": [
    "# Demand\n",
    "# Hypermarkets\n",
    "G['P1']['C1']['demand'] = 200\n",
    "G['P2']['C1']['demand'] = 100\n",
    "G['P3']['C1']['demand'] = 50\n",
    "# Supermarkets\n",
    "G['P1']['C2']['demand'] = 50\n",
    "G['P2']['C2']['demand'] = 25\n",
    "G['P3']['C2']['demand'] = 15\n",
    "G['P1']['C3']['demand'] = 50\n",
    "G['P2']['C3']['demand'] = 25\n",
    "G['P3']['C3']['demand'] = 15\n",
    "# Grocery store\n",
    "G['P1']['C4']['demand'] = 50\n",
    "G['P2']['C4']['demand'] = 0\n",
    "G['P3']['C4']['demand'] = 0\n",
    "G['P1']['C5']['demand'] = 50\n",
    "G['P2']['C5']['demand'] = 0\n",
    "G['P3']['C5']['demand'] = 0"
   ]
  },
  {
   "cell_type": "code",
   "execution_count": 15,
   "metadata": {},
   "outputs": [],
   "source": [
    "def get_demand(graph: nx.DiGraph) -> np.array:\n",
    "    ''' Gets a demand array from graph'''\n",
    "    global prods\n",
    "    return np.array([graph[p][c]['demand'] for p in prods for c in graph.successors(p)]).astype(np.int64)   "
   ]
  },
  {
   "cell_type": "code",
   "execution_count": 16,
   "metadata": {},
   "outputs": [
    {
     "output_type": "execute_result",
     "data": {
      "text/plain": [
       "array([200,  50,  50,  50,  50, 100,  25,  25,   0,   0,  50,  15,  15,\n",
       "         0,   0], dtype=int64)"
      ]
     },
     "metadata": {},
     "execution_count": 16
    }
   ],
   "source": [
    "demand = get_demand(G)\n",
    "demand"
   ]
  },
  {
   "cell_type": "code",
   "execution_count": 55,
   "metadata": {},
   "outputs": [],
   "source": [
    "def feasible_vec(vec:np.array) -> bool:\n",
    "    '''Returns true if a vec meets demand & supply constraints'''\n",
    "    global demand, supply_qty, prods\n",
    "    prod_cap = np.array([G.nodes[p]['eggs_per_box'] for p in prods])\n",
    "    mat = vec.reshape(len(prods), len(custs))\n",
    "    supply_check = np.sum(mat * prod_cap[:, None]) <= supply_qty # Check for eggs\n",
    "    demand_check = np.all((vec <= demand) & (vec >= 0)) # Check boxes\n",
    "    return demand_check and supply_check"
   ]
  },
  {
   "cell_type": "code",
   "execution_count": 25,
   "metadata": {},
   "outputs": [],
   "source": [
    "def poss_val(index, val, vec):\n",
    "    ''' Returns True if the 'val' being placed in \n",
    "        'index' position of 'vec' meets 'demand' and 'supply' \n",
    "        constraints '''\n",
    "    vec_copy = vec.copy()\n",
    "    vec_copy[index]=val\n",
    "    return feasible_vec(vec_copy)"
   ]
  },
  {
   "cell_type": "code",
   "execution_count": 60,
   "metadata": {},
   "outputs": [],
   "source": [
    "def get_supply_boxes(vec: np.array) -> np.array:\n",
    "    ''' Returns an array with boxes of products '''\n",
    "    global prods, custs\n",
    "    return np.sum(vec.reshape(len(prods), len(custs)), axis=1)\n"
   ]
  },
  {
   "cell_type": "code",
   "execution_count": 341,
   "metadata": {},
   "outputs": [],
   "source": [
    "def random_val(vec:np.array, index: int, graph: nx.DiGraph) -> int:\n",
    "    ''' Returns a random value that meets demand and supply constraints \n",
    "        vec: a vector in which the random value is to placed\n",
    "        index: the index position in the vector for which the random value is needed\n",
    "        graph: the supply chain graph '''\n",
    "    global demand, supply_qty, prods, custs\n",
    "    \n",
    "    if demand[index]==0:\n",
    "        return 0\n",
    "    else:\n",
    "        mat = vec.reshape(len(prods), len(custs))\n",
    "        prod_cap = np.array([G.nodes[p]['eggs_per_box'] for p in prods])\n",
    "        \n",
    "        # In-place of unravel index - gets the row, col index if reshaped to matrix\n",
    "        mat_index = np.arange(0, vec.size).reshape(len(prods), len(custs))\n",
    "        row, col = np.where(mat_index == index)\n",
    "        \n",
    "        alloc_supply = np.sum(mat * prod_cap[:, None])\n",
    "        available_supply_eggs = supply_qty - (alloc_supply - (vec[index]* prod_cap[row]))\n",
    "        available_supply_boxes = int(available_supply_eggs // prod_cap[row])\n",
    "        if  available_supply_boxes and demand[index] > 0:\n",
    "            return np.random.randint(min(available_supply_boxes, demand[index]))\n",
    "        else:\n",
    "            return 0"
   ]
  },
  {
   "cell_type": "code",
   "execution_count": 342,
   "metadata": {},
   "outputs": [],
   "source": [
    "def random_initiate_vec() -> np.array:\n",
    "    ''' Returns a vector in the same size of demand that meets demand \n",
    "        & supply constraints '''\n",
    "    global demand\n",
    "    zero_vec = np.zeros(demand.size)\n",
    "    indices = np.arange(0,demand.size)\n",
    "    random.shuffle(indices)\n",
    "    for i in indices:\n",
    "        r = random_val(zero_vec, i, G)\n",
    "        zero_vec[i]=r\n",
    "    return zero_vec"
   ]
  },
  {
   "cell_type": "code",
   "execution_count": 349,
   "metadata": {},
   "outputs": [
    {
     "output_type": "execute_result",
     "data": {
      "text/plain": [
       "array([11., 26., 36.,  8.,  1.,  1.,  7., 17.,  0.,  0.,  7., 14.,  0.,\n",
       "        0.,  0.])"
      ]
     },
     "metadata": {},
     "execution_count": 349
    }
   ],
   "source": [
    "rv = random_initiate_vec()\n",
    "rv"
   ]
  },
  {
   "cell_type": "code",
   "execution_count": 350,
   "metadata": {},
   "outputs": [
    {
     "output_type": "execute_result",
     "data": {
      "text/plain": [
       "array([82., 25., 21.])"
      ]
     },
     "metadata": {},
     "execution_count": 350
    }
   ],
   "source": [
    "sup_bo = get_supply_boxes(rv)\n",
    "sup_bo"
   ]
  },
  {
   "cell_type": "code",
   "execution_count": 351,
   "metadata": {},
   "outputs": [
    {
     "output_type": "execute_result",
     "data": {
      "text/plain": [
       "True"
      ]
     },
     "metadata": {},
     "execution_count": 351
    }
   ],
   "source": [
    "feasible_vec(rv)"
   ]
  },
  {
   "cell_type": "code",
   "execution_count": 313,
   "metadata": {},
   "outputs": [
    {
     "output_type": "execute_result",
     "data": {
      "text/plain": [
       "array([13,  5,  2,  7,  0, 10,  6,  1, 11, 14, 12,  8,  9,  3,  4])"
      ]
     },
     "metadata": {},
     "execution_count": 313
    }
   ],
   "source": [
    "rs = (np.arange(0,demand.shape[0]))\n",
    "random.shuffle(rs)\n",
    "rs"
   ]
  },
  {
   "cell_type": "code",
   "execution_count": 317,
   "metadata": {},
   "outputs": [
    {
     "output_type": "execute_result",
     "data": {
      "text/plain": [
       "15"
      ]
     },
     "metadata": {},
     "execution_count": 317
    }
   ],
   "source": [
    "demand.size"
   ]
  },
  {
   "cell_type": "code",
   "execution_count": null,
   "metadata": {},
   "outputs": [],
   "source": []
  }
 ]
}