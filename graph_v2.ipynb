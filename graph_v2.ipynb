{
 "metadata": {
  "language_info": {
   "codemirror_mode": {
    "name": "ipython",
    "version": 3
   },
   "file_extension": ".py",
   "mimetype": "text/x-python",
   "name": "python",
   "nbconvert_exporter": "python",
   "pygments_lexer": "ipython3",
   "version": "3.7.4"
  },
  "orig_nbformat": 4,
  "kernelspec": {
   "name": "python3",
   "display_name": "Python 3.7.4 64-bit ('env': venv)"
  },
  "interpreter": {
   "hash": "e42134e7f840bbc4b92505a650aba1011e508af6fb22612d6f89a5b42ffcd41d"
  }
 },
 "nbformat": 4,
 "nbformat_minor": 2,
 "cells": [
  {
   "cell_type": "code",
   "execution_count": 205,
   "metadata": {},
   "outputs": [],
   "source": [
    "import numpy as np\n",
    "import networkx as nx\n",
    "import matplotlib.pyplot as plt\n",
    "import random\n",
    "import joblib\n",
    "import pandas as pd"
   ]
  },
  {
   "cell_type": "code",
   "execution_count": 206,
   "metadata": {},
   "outputs": [],
   "source": [
    "# Node labels\n",
    "farms = [\"F\"+str(i) for i in range(1,31)]\n",
    "custs = [\"C\"+str(i) for i in range(1,33)]\n",
    "prods = ['P1', 'P2', 'P3']\n",
    "dealer = \"Dealer\""
   ]
  },
  {
   "cell_type": "code",
   "execution_count": 207,
   "metadata": {},
   "outputs": [],
   "source": [
    "G = nx.DiGraph()"
   ]
  },
  {
   "cell_type": "code",
   "execution_count": 208,
   "metadata": {},
   "outputs": [],
   "source": [
    "# Add nodes to network graph\n",
    "G.add_nodes_from(farms)\n",
    "G.add_node(dealer)\n",
    "G.add_nodes_from(prods)\n",
    "G.add_nodes_from(custs)"
   ]
  },
  {
   "cell_type": "code",
   "execution_count": 209,
   "metadata": {},
   "outputs": [],
   "source": [
    "farm_dealer_edge_tuples =[(f,dealer) for f in farms]\n",
    "dealer_prod_edge_tuples =[(dealer, p) for p in prods]\n",
    "prod_cust_tuples = [(p,c) for p in prods for c in custs]"
   ]
  },
  {
   "cell_type": "code",
   "execution_count": 210,
   "metadata": {},
   "outputs": [],
   "source": [
    "edges = farm_dealer_edge_tuples + dealer_prod_edge_tuples + prod_cust_tuples"
   ]
  },
  {
   "cell_type": "code",
   "execution_count": 211,
   "metadata": {},
   "outputs": [],
   "source": [
    "# Connect nodes with edges\n",
    "G.add_edges_from(edges)"
   ]
  },
  {
   "cell_type": "code",
   "execution_count": 212,
   "metadata": {},
   "outputs": [],
   "source": [
    "# Set the farm categories\n",
    "for i, f in enumerate(farms, start=1):\n",
    "    c = ''\n",
    "    if i <=3:\n",
    "        c = 'Large'\n",
    "    elif 3 < i < 10:\n",
    "        c = 'Medium'\n",
    "    else:\n",
    "        c = 'Small'\n",
    "        \n",
    "    G.nodes[f]['category']=c\n"
   ]
  },
  {
   "source": [
    "Large farms supply 100,000 eggs/day<br>\n",
    "Medium farms supply 500,000 eggs/day<br>\n",
    "Small farms supply 10,000 eggs/day<br>"
   ],
   "cell_type": "markdown",
   "metadata": {}
  },
  {
   "source": [
    "for i, f in enumerate(farms, start=1):\n",
    "    z = 0\n",
    "    if G.nodes[f]['category'] == 'Large':\n",
    "        z = 100000\n",
    "    elif G.nodes[f]['category'] == 'Medium':\n",
    "        z = 50000\n",
    "    else:\n",
    "        z = 10000\n",
    "    \n",
    "    G[f]['Dealer']['quantity']=z"
   ],
   "cell_type": "code",
   "metadata": {},
   "execution_count": 213,
   "outputs": []
  },
  {
   "source": [
    "The cost/egg from Large farms = \\$ 0.22<br>\n",
    "The cost/egg from Medium farms = \\$ 0.23<br>\n",
    "The cost/egg from Small farms = \\$ 0.26<br>"
   ],
   "cell_type": "markdown",
   "metadata": {}
  },
  {
   "cell_type": "code",
   "execution_count": 214,
   "metadata": {},
   "outputs": [],
   "source": [
    "# Add prices per egg charged by farms \n",
    "for farm in farms:\n",
    "    if G.nodes[farm]['category']=='Large':\n",
    "        per_egg = 0.22\n",
    "    elif G.nodes[farm]['category']=='Medium':\n",
    "        per_egg = 0.23\n",
    "    else:\n",
    "        per_egg = 0.26\n",
    "\n",
    "    G[farm]['Dealer']['cost_per_egg'] = per_egg \n",
    "    "
   ]
  },
  {
   "cell_type": "code",
   "execution_count": 215,
   "metadata": {},
   "outputs": [],
   "source": [
    "# Set the type of product\n",
    "G.nodes['P1']['eggs_per_box'] = 6\n",
    "G.nodes['P2']['eggs_per_box'] = 10\n",
    "G.nodes['P3']['eggs_per_box'] = 12"
   ]
  },
  {
   "cell_type": "code",
   "execution_count": 216,
   "metadata": {},
   "outputs": [],
   "source": [
    "# Set the category of customer\n",
    "\n",
    "for i, cust in enumerate(custs,start=1):\n",
    "    if i <= 6:\n",
    "        cat = 'Large'\n",
    "    elif 6 < i <=12:\n",
    "        cat = 'Medium'\n",
    "    else:\n",
    "        cat = 'Small'\n",
    "    \n",
    "    G.nodes[cust]['category'] = cat"
   ]
  },
  {
   "cell_type": "code",
   "execution_count": 217,
   "metadata": {},
   "outputs": [],
   "source": [
    "# Set the location of customers\n",
    "\n",
    "locs =['South', 'North', 'South', 'North', 'South', 'North', 'North', 'South', 'South', 'North', 'North', 'North', 'North', 'South', 'North', 'North', 'North', 'South', 'South', 'South', 'North', 'North', 'South', 'North', 'North', 'South', 'South', 'South', 'South', 'North', 'North', 'North']\n",
    "\n",
    "for cust, l in zip(custs, locs):\n",
    "    G.nodes[cust]['location'] = l"
   ]
  },
  {
   "cell_type": "code",
   "execution_count": 262,
   "metadata": {},
   "outputs": [],
   "source": [
    "# Get the data from excel\n",
    "dxls = pd.ExcelFile('data.xlsx')\n",
    "demand = pd.read_execel(xls, sheet_name='demand', index_col=0, usecols=\"A:D\", nrows=33)\n",
    "prices = dpd.read_excel(xls, sheet_name = 'prices', index_col=0, usecols=\"A:D\", nrows=33)"
   ]
  },
  {
   "cell_type": "code",
   "execution_count": 277,
   "metadata": {},
   "outputs": [],
   "source": [
    "# Set the demand for products from excel data \n",
    "for cust in custs:\n",
    "    for prod in G.predecessors(cust):\n",
    "        G[prod][cust]['demand'] = demand.loc[cust][prod] "
   ]
  },
  {
   "cell_type": "code",
   "execution_count": 278,
   "metadata": {},
   "outputs": [],
   "source": [
    "# Set the prices of products from excel data\n",
    "for cust in custs:\n",
    "    for prod in G.predecessors(cust):\n",
    "        G[prod][cust]['price'] = prices.loc[cust][prod] "
   ]
  },
  {
   "cell_type": "code",
   "execution_count": 281,
   "metadata": {},
   "outputs": [],
   "source": [
    "# Set the transport costs per egg based on location\n",
    "transport_cost_per_egg = {'North':0.10, 'South':0.15}"
   ]
  },
  {
   "cell_type": "code",
   "execution_count": 282,
   "metadata": {},
   "outputs": [
    {
     "output_type": "execute_result",
     "data": {
      "text/plain": [
       "['transport_costs']"
      ]
     },
     "metadata": {},
     "execution_count": 282
    }
   ],
   "source": [
    "# Save the graph as a joblib object\n",
    "joblib.dump(G, 'supply_chain_graph')\n",
    "joblib.dump(farms, 'farms_list')\n",
    "joblib.dump(custs, 'customer_list')\n",
    "joblib.dump(prods, 'product_list')\n",
    "joblib.dump(transport_cost_per_egg, 'transport_costs')"
   ]
  },
  {
   "source": [
    "## Fill the large orders first "
   ],
   "cell_type": "markdown",
   "metadata": {}
  },
  {
   "cell_type": "code",
   "execution_count": 304,
   "metadata": {},
   "outputs": [],
   "source": [
    "category_order = ['Large', 'Medium', 'Small']"
   ]
  },
  {
   "cell_type": "code",
   "execution_count": 305,
   "metadata": {},
   "outputs": [],
   "source": [
    "from pso import get_total_supply"
   ]
  },
  {
   "cell_type": "code",
   "execution_count": 306,
   "metadata": {},
   "outputs": [
    {
     "output_type": "execute_result",
     "data": {
      "text/plain": [
       "810000"
      ]
     },
     "metadata": {},
     "execution_count": 306
    }
   ],
   "source": [
    "supply = get_total_supply(G)\n",
    "supply"
   ]
  },
  {
   "cell_type": "code",
   "execution_count": 295,
   "metadata": {},
   "outputs": [],
   "source": [
    "def fill_order(order_list: list, graph: nx.DiGraph) -> np.ndarray:\n",
    "    ''' Returns the quantities boxes in the order of being filled by order_list given supply constraints'''\n",
    "    global prods, G, supply\n",
    "    ordered_tuples = [(p,cust) for co in order_list for p in prods for cust in graph.successors(p) if graph.nodes[cust]['category']==co]\n",
    "    supply_copy = supply.copy()\n",
    "    zero_array = np.zeros(len(ordered_tuples))\n",
    "    for i, ((p, c), z) in enumerate(zip(ordered_tuples, zero_array)):\n",
    "        if graph[p][c]['demand'] ==0:\n",
    "            continue\n",
    "        else:\n",
    "            if supply_copy > graph.nodes[p]['eggs_per_box']:\n",
    "                total_supply_boxes = int(supply_copy/graph.nodes[p]['eggs_per_box'])\n",
    "                if total_supply_boxes > graph[p][c]['demand']:\n",
    "                    zero_array[i] = graph[p][c]['demand']\n",
    "                    supply_copy -= graph[p][c]['demand'] * graph.nodes[p]['eggs_per_box']\n",
    "                elif total_supply_boxes < graph[p][c]['demand']:\n",
    "                    zero_array[i] = total_supply_boxes\n",
    "                    supply_copy -= total_supply_boxes * graph.nodes[p]['eggs_per_box']\n",
    "            else:\n",
    "                break\n",
    "    return zero_array"
   ]
  },
  {
   "cell_type": "code",
   "execution_count": 301,
   "metadata": {},
   "outputs": [
    {
     "output_type": "execute_result",
     "data": {
      "text/plain": [
       "array([  20.,   80.,   40.,  100.,  100.,   40.,   80.,   20.,   20.,\n",
       "         80.,   40.,  100.,   80.,   40.,   20.,  100.,   20.,   80.,\n",
       "         80.,   60.,   40.,   40.,   40.,   40.,   40.,   40.,   40.,\n",
       "         40.,   40.,   40.,   40.,   40.,   40.,   40.,   40.,    0.,\n",
       "          0.,    0.,    0.,    0.,   30.,   30.,   30.,   30.,   30.,\n",
       "         30.,   30.,   30.,   30.,   30.,    0.,    0.,    0.,    0.,\n",
       "          0.,    0.,    0.,    0.,    0.,    0., 3000.,  500.,  500.,\n",
       "        500.,  500., 1000., 1000.,  200.,  300.,  300.,  200., 1000.,\n",
       "        200.,   50.,   50.,  150.,   50.,  100., 6000., 5000., 6000.,\n",
       "       5000., 6000., 5000., 6000., 3000., 5000., 4000., 6000., 3000.,\n",
       "       3000., 4000., 5000., 2000., 4000.,    0.])"
      ]
     },
     "metadata": {},
     "execution_count": 301
    }
   ],
   "source": [
    "q_vec = fill_order(order_list=category_order, graph=G)\n",
    "q_vec"
   ]
  },
  {
   "cell_type": "code",
   "execution_count": 302,
   "metadata": {},
   "outputs": [],
   "source": [
    "def calc_profit(qty_vec: np.ndarray, order_list: list, graph: nx.DiGraph):\n",
    "    ''' Takes a vector of product quantities (qty_vec) and the returns the profit/loss of that configuration'''\n",
    "    global prods, G, transport_cost_per_egg\n",
    "    ordered_tuples = [(p,cust) for co in order_list for p in prods for cust in G.successors(p) if G.nodes[cust]['category']==co]\n",
    "    avg_cost_per_egg = np.mean([graph[farm]['Dealer']['cost_per_egg'] for farm in graph.predecessors('Dealer')])\n",
    "    total_eggs = np.sum([qv * graph.nodes[p]['eggs_per_box'] for (p,c), qv  in zip(ordered_tuples, qty_vec)])\n",
    "    total_egg_cost = avg_cost_per_egg * total_eggs \n",
    "    total_sales = np.sum([G[p][c]['price'] * qv for (p,c), qv in zip(ordered_tuples, qty_vec)])\n",
    "    transport_cost = np.sum([transport_cost_per_egg[graph.nodes[c]['location']] * graph.nodes[p]['eggs_per_box'] * qv  for (p,c), qv in zip(ordered_tuples, qty_vec)])\n",
    "    return total_sales - (transport_cost+ total_egg_cost) "
   ]
  },
  {
   "cell_type": "code",
   "execution_count": 303,
   "metadata": {},
   "outputs": [
    {
     "output_type": "execute_result",
     "data": {
      "text/plain": [
       "619946.0"
      ]
     },
     "metadata": {},
     "execution_count": 303
    }
   ],
   "source": [
    "calc_profit(qty_vec=q_vec, order_list=category_order, graph=G)"
   ]
  },
  {
   "cell_type": "code",
   "execution_count": null,
   "metadata": {},
   "outputs": [],
   "source": []
  }
 ]
}