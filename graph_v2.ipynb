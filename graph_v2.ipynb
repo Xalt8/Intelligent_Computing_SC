{
 "metadata": {
  "language_info": {
   "codemirror_mode": {
    "name": "ipython",
    "version": 3
   },
   "file_extension": ".py",
   "mimetype": "text/x-python",
   "name": "python",
   "nbconvert_exporter": "python",
   "pygments_lexer": "ipython3",
   "version": "3.7.4"
  },
  "orig_nbformat": 4,
  "kernelspec": {
   "name": "python3",
   "display_name": "Python 3.7.4 64-bit ('env': venv)"
  },
  "interpreter": {
   "hash": "e42134e7f840bbc4b92505a650aba1011e508af6fb22612d6f89a5b42ffcd41d"
  }
 },
 "nbformat": 4,
 "nbformat_minor": 2,
 "cells": [
  {
   "cell_type": "code",
   "execution_count": 1,
   "metadata": {},
   "outputs": [],
   "source": [
    "import numpy as np\n",
    "import networkx as nx\n",
    "import matplotlib.pyplot as plt\n",
    "import random\n",
    "import joblib"
   ]
  },
  {
   "cell_type": "code",
   "execution_count": 2,
   "metadata": {},
   "outputs": [],
   "source": [
    "# Node labels\n",
    "farms = [\"F\"+str(i) for i in range(1,11)]\n",
    "custs = [\"C\"+str(i) for i in range(1,6)]\n",
    "prods = ['P1', 'P2', 'P3']\n",
    "dealer = \"Dealer\""
   ]
  },
  {
   "cell_type": "code",
   "execution_count": 3,
   "metadata": {},
   "outputs": [],
   "source": [
    "G = nx.DiGraph()"
   ]
  },
  {
   "cell_type": "code",
   "execution_count": 4,
   "metadata": {},
   "outputs": [],
   "source": [
    "# Add nodes to network graph\n",
    "G.add_nodes_from(farms)\n",
    "G.add_node(dealer)\n",
    "G.add_nodes_from(prods)\n",
    "G.add_nodes_from(custs)"
   ]
  },
  {
   "cell_type": "code",
   "execution_count": 5,
   "metadata": {},
   "outputs": [],
   "source": [
    "farm_dealer_edge_tuples =[(f,dealer) for f in farms]\n",
    "dealer_prod_edge_tuples =[(dealer, p) for p in prods]\n",
    "prod_cust_tuples = [(p,c) for p in prods for c in custs]"
   ]
  },
  {
   "cell_type": "code",
   "execution_count": 6,
   "metadata": {},
   "outputs": [],
   "source": [
    "edges = farm_dealer_edge_tuples + dealer_prod_edge_tuples + prod_cust_tuples"
   ]
  },
  {
   "cell_type": "code",
   "execution_count": 7,
   "metadata": {},
   "outputs": [],
   "source": [
    "# Connect nodes with edges\n",
    "G.add_edges_from(edges)"
   ]
  },
  {
   "cell_type": "code",
   "execution_count": 8,
   "metadata": {},
   "outputs": [],
   "source": [
    "# Add quantities supplied by farms\n",
    "G['F1']['Dealer']['quantity']=100\n",
    "G['F2']['Dealer']['quantity']=100\n",
    "G['F3']['Dealer']['quantity']=100\n",
    "G['F4']['Dealer']['quantity']=100\n",
    "G['F5']['Dealer']['quantity']=100\n",
    "G['F6']['Dealer']['quantity']=100\n",
    "G['F7']['Dealer']['quantity']=100\n",
    "G['F8']['Dealer']['quantity']=100\n",
    "G['F9']['Dealer']['quantity']=100\n",
    "G['F10']['Dealer']['quantity']=100"
   ]
  },
  {
   "cell_type": "code",
   "execution_count": 9,
   "metadata": {},
   "outputs": [],
   "source": [
    "# Add prices per egg charged by farms \n",
    "G['F1']['Dealer']['cost_per_egg']=0.25\n",
    "G['F2']['Dealer']['cost_per_egg']=0.25\n",
    "G['F3']['Dealer']['cost_per_egg']=0.25\n",
    "G['F4']['Dealer']['cost_per_egg']=0.25\n",
    "G['F5']['Dealer']['cost_per_egg']=0.25\n",
    "G['F6']['Dealer']['cost_per_egg']=0.25\n",
    "G['F7']['Dealer']['cost_per_egg']=0.25\n",
    "G['F8']['Dealer']['cost_per_egg']=0.25\n",
    "G['F9']['Dealer']['cost_per_egg']=0.25\n",
    "G['F10']['Dealer']['cost_per_egg']=0.25"
   ]
  },
  {
   "cell_type": "code",
   "execution_count": 10,
   "metadata": {},
   "outputs": [],
   "source": [
    "# Set the type of product\n",
    "G.nodes['P1']['eggs_per_box'] = 6\n",
    "G.nodes['P2']['eggs_per_box'] = 10\n",
    "G.nodes['P3']['eggs_per_box'] = 12"
   ]
  },
  {
   "cell_type": "code",
   "execution_count": 11,
   "metadata": {},
   "outputs": [],
   "source": [
    "# Set the type of customer\n",
    "G.nodes['C1']['category'] = 'hypermarket'\n",
    "G.nodes['C2']['category'] = 'supermarket'\n",
    "G.nodes['C3']['category'] = 'supermarket'\n",
    "G.nodes['C4']['category'] = 'grocery_store'\n",
    "G.nodes['C5']['category'] = 'grocery_store'"
   ]
  },
  {
   "cell_type": "code",
   "execution_count": 12,
   "metadata": {},
   "outputs": [],
   "source": [
    "# Set the customer location\n",
    "G.nodes['C1']['location'] = 'North'\n",
    "G.nodes['C2']['location'] = 'South'\n",
    "G.nodes['C3']['location'] = 'North'\n",
    "G.nodes['C4']['location'] = 'North'\n",
    "G.nodes['C5']['location'] = 'South'"
   ]
  },
  {
   "cell_type": "code",
   "execution_count": 13,
   "metadata": {},
   "outputs": [],
   "source": [
    "# Set the transport costs per egg based on location\n",
    "transport_cost_per_egg = {'North':0.10, 'South':0.15}"
   ]
  },
  {
   "cell_type": "code",
   "execution_count": 14,
   "metadata": {},
   "outputs": [],
   "source": [
    "hypermarket_tupes = [(p,c) for (p,c) in prod_cust_tuples if G.nodes[c]['category']=='hypermarket']\n",
    "supermarket_tupes = [(p,c) for (p,c) in prod_cust_tuples if G.nodes[c]['category']=='supermarket']\n",
    "grocery_store_tupes = [(p,c) for (p,c) in prod_cust_tuples if G.nodes[c]['category']=='grocery_store']"
   ]
  },
  {
   "cell_type": "code",
   "execution_count": 15,
   "metadata": {},
   "outputs": [],
   "source": [
    "# Demand\n",
    "# Hypermarkets\n",
    "G['P1']['C1']['demand'] = 200\n",
    "G['P2']['C1']['demand'] = 100\n",
    "G['P3']['C1']['demand'] = 50\n",
    "\n",
    "# Supermarkets\n",
    "G['P1']['C2']['demand'] = 50\n",
    "G['P2']['C2']['demand'] = 25\n",
    "G['P3']['C2']['demand'] = 15\n",
    "\n",
    "G['P1']['C3']['demand'] = 50\n",
    "G['P2']['C3']['demand'] = 25\n",
    "G['P3']['C3']['demand'] = 15\n",
    "\n",
    "# Grocery store\n",
    "G['P1']['C4']['demand'] = 50\n",
    "G['P2']['C4']['demand'] = 0\n",
    "G['P3']['C4']['demand'] = 0\n",
    "\n",
    "G['P1']['C5']['demand'] = 50\n",
    "G['P2']['C5']['demand'] = 0\n",
    "G['P3']['C5']['demand'] = 0"
   ]
  },
  {
   "cell_type": "code",
   "execution_count": 16,
   "metadata": {},
   "outputs": [
    {
     "output_type": "execute_result",
     "data": {
      "text/plain": [
       "[('P1', 6), ('P2', 10), ('P3', 12)]"
      ]
     },
     "metadata": {},
     "execution_count": 16
    }
   ],
   "source": [
    "[(p, G.nodes[p]['eggs_per_box']) for p in prods]"
   ]
  },
  {
   "cell_type": "code",
   "execution_count": 17,
   "metadata": {},
   "outputs": [],
   "source": [
    "# Set selling price per product\n",
    "# Hypermarkets\n",
    "G['P1']['C1']['price'] = 9\n",
    "G['P2']['C1']['price'] = 15\n",
    "G['P3']['C1']['price'] = 18\n",
    "\n",
    "# Supermarkets\n",
    "G['P1']['C2']['price'] = 10.5\n",
    "G['P2']['C2']['price'] = 17.5\n",
    "G['P3']['C2']['price'] = 21\n",
    "\n",
    "G['P1']['C3']['price'] = 10.5\n",
    "G['P2']['C3']['price'] = 17.5\n",
    "G['P3']['C3']['price'] = 21\n",
    "\n",
    "# Grocery store\n",
    "G['P1']['C4']['price'] = 12\n",
    "G['P2']['C4']['price'] = 0\n",
    "G['P3']['C4']['price'] = 0\n",
    "\n",
    "G['P1']['C5']['price'] = 12\n",
    "G['P2']['C5']['price'] = 0\n",
    "G['P3']['C5']['price'] = 0\n"
   ]
  },
  {
   "cell_type": "code",
   "execution_count": 18,
   "metadata": {},
   "outputs": [
    {
     "output_type": "execute_result",
     "data": {
      "text/plain": [
       "['transport_costs']"
      ]
     },
     "metadata": {},
     "execution_count": 18
    }
   ],
   "source": [
    "# Save the graph as a joblib object\n",
    "joblib.dump(G, 'supply_chain_graph')\n",
    "joblib.dump(farms, 'farms_list')\n",
    "joblib.dump(custs, 'customer_list')\n",
    "joblib.dump(prods, 'product_list')\n",
    "joblib.dump(transport_cost_per_egg, 'transport_costs')"
   ]
  },
  {
   "source": [
    "Fill the hypermarket orders first "
   ],
   "cell_type": "markdown",
   "metadata": {}
  },
  {
   "cell_type": "code",
   "execution_count": 19,
   "metadata": {},
   "outputs": [],
   "source": [
    "category_order = ['hypermarket', 'supermarket', 'grocery_store']"
   ]
  },
  {
   "cell_type": "code",
   "execution_count": 155,
   "metadata": {},
   "outputs": [],
   "source": [
    "ordered_tuples = [(p,cust) for co in category_order for p in prods for cust in G.successors(p) if G.nodes[cust]['category']==co]\n"
   ]
  },
  {
   "cell_type": "code",
   "execution_count": 37,
   "metadata": {},
   "outputs": [
    {
     "output_type": "execute_result",
     "data": {
      "text/plain": [
       "1000"
      ]
     },
     "metadata": {},
     "execution_count": 37
    }
   ],
   "source": [
    "supply = get_total_supply(G)\n",
    "supply"
   ]
  },
  {
   "cell_type": "code",
   "execution_count": 196,
   "metadata": {},
   "outputs": [],
   "source": [
    "def fill_order(order_list):\n",
    "\n",
    "    global prods, G, supply\n",
    "    ordered_tuples = [(p,cust) for co in order_list for p in prods for cust in G.successors(p) if G.nodes[cust]['category']==co]\n",
    "    supply_copy = supply.copy()\n",
    "    zero_array = np.zeros(len(ordered_tuples))\n",
    "    for i, ((p, c), z) in enumerate(zip(ordered_tuples, zero_array)):\n",
    "        if G[p][c]['demand'] ==0:\n",
    "            continue\n",
    "        else:\n",
    "            if supply_copy > G.nodes[p]['eggs_per_box']:\n",
    "                total_supply_boxes = int(supply_copy/G.nodes[p]['eggs_per_box'])\n",
    "                if total_supply_boxes > G[p][c]['demand']:\n",
    "                    zero_array[i] = G[p][c]['demand']\n",
    "                    supply_copy -= G[p][c]['demand']*G.nodes[p]['eggs_per_box']\n",
    "                elif total_supply_boxes < G[p][c]['demand']:\n",
    "                    zero_array[i] = total_supply_boxes\n",
    "                    supply_copy -= total_supply_boxes * G.nodes[p]['eggs_per_box']\n",
    "            else:\n",
    "                break\n",
    "    return zero_array              \n"
   ]
  },
  {
   "cell_type": "code",
   "execution_count": 200,
   "metadata": {},
   "outputs": [
    {
     "output_type": "execute_result",
     "data": {
      "text/plain": [
       "array([166.,   0.,   0.,   0.,   0.,   0.,   0.,   0.,   0.,   0.,   0.,\n",
       "         0.,   0.,   0.,   0.])"
      ]
     },
     "metadata": {},
     "execution_count": 200
    }
   ],
   "source": [
    "q_vec = fill_order(category_order)\n",
    "q_vec"
   ]
  },
  {
   "cell_type": "code",
   "execution_count": 238,
   "metadata": {},
   "outputs": [],
   "source": [
    "def calc_profit(qty_vec, order_list, graph):\n",
    "    global prods, G, transport_cost_per_egg\n",
    "    ordered_tuples = [(p,cust) for co in order_list for p in prods for cust in G.successors(p) if G.nodes[cust]['category']==co]\n",
    "    avg_cost_per_egg = np.mean([graph[farm]['Dealer']['cost_per_egg'] for farm in graph.predecessors('Dealer')])\n",
    "    total_eggs = np.sum([qv * graph.nodes[p]['eggs_per_box'] for (p,c), qv  in zip(ordered_tuples, qty_vec)])\n",
    "    total_egg_cost = avg_cost_per_egg * total_eggs \n",
    "    total_sales = np.sum([G[p][c]['price']*qv for (p,c), qv in zip(ordered_tuples, qty_vec)])\n",
    "    transport_cost = np.sum([transport_cost_per_egg[graph.nodes[c]['location']] * graph.nodes[p]['eggs_per_box'] * qv  for (p,c), qv in zip(ordered_tuples, qty_vec)])\n",
    "    return total_sales - (transport_cost+ total_egg_cost) "
   ]
  },
  {
   "cell_type": "code",
   "execution_count": 239,
   "metadata": {},
   "outputs": [
    {
     "output_type": "execute_result",
     "data": {
      "text/plain": [
       "1145.4"
      ]
     },
     "metadata": {},
     "execution_count": 239
    }
   ],
   "source": [
    "calc_profit(qty_vec=q_vec, order_list=category_order, graph=G)"
   ]
  },
  {
   "cell_type": "code",
   "execution_count": 226,
   "metadata": {},
   "outputs": [
    {
     "output_type": "execute_result",
     "data": {
      "text/plain": [
       "0.1"
      ]
     },
     "metadata": {},
     "execution_count": 226
    }
   ],
   "source": [
    "transport_cost_per_egg[G.nodes['C1']['location']]"
   ]
  },
  {
   "cell_type": "code",
   "execution_count": 223,
   "metadata": {},
   "outputs": [
    {
     "output_type": "execute_result",
     "data": {
      "text/plain": [
       "{'North': 0.1, 'South': 0.15}"
      ]
     },
     "metadata": {},
     "execution_count": 223
    }
   ],
   "source": [
    "transport_cost_per_egg"
   ]
  },
  {
   "cell_type": "code",
   "execution_count": null,
   "metadata": {},
   "outputs": [],
   "source": []
  },
  {
   "cell_type": "code",
   "execution_count": 35,
   "metadata": {},
   "outputs": [],
   "source": [
    "from pso import get_total_supply, demand, get_supply_costs, random_initiate_vec"
   ]
  },
  {
   "cell_type": "code",
   "execution_count": null,
   "metadata": {},
   "outputs": [],
   "source": []
  },
  {
   "cell_type": "code",
   "execution_count": 26,
   "metadata": {},
   "outputs": [],
   "source": [
    "def fill_order(prod_cust_tuple:tuple)-> int:\n",
    "    global supply, prods, G\n",
    "    prod_cap = np.array([graph.nodes[p]['eggs_per_box'] for p in prods])\n",
    "    "
   ]
  },
  {
   "cell_type": "code",
   "execution_count": 75,
   "metadata": {},
   "outputs": [
    {
     "output_type": "execute_result",
     "data": {
      "text/plain": [
       "[('P1', 'C1'),\n",
       " ('P1', 'C2'),\n",
       " ('P1', 'C3'),\n",
       " ('P1', 'C4'),\n",
       " ('P1', 'C5'),\n",
       " ('P2', 'C1'),\n",
       " ('P2', 'C2'),\n",
       " ('P2', 'C3'),\n",
       " ('P2', 'C4'),\n",
       " ('P2', 'C5'),\n",
       " ('P3', 'C1'),\n",
       " ('P3', 'C2'),\n",
       " ('P3', 'C3'),\n",
       " ('P3', 'C4'),\n",
       " ('P3', 'C5')]"
      ]
     },
     "metadata": {},
     "execution_count": 75
    }
   ],
   "source": [
    "[ (p,cust) for p in prods for cust in G.successors(p)]"
   ]
  },
  {
   "cell_type": "code",
   "execution_count": 79,
   "metadata": {},
   "outputs": [],
   "source": [
    "d = {1:('P1', 'C1'), 2: ('P1', 'C2'), 3: ('P1', 'C3')}"
   ]
  },
  {
   "cell_type": "code",
   "execution_count": 86,
   "metadata": {},
   "outputs": [
    {
     "output_type": "stream",
     "name": "stdout",
     "text": [
      "('P1', 'C1')\n('P1', 'C2')\n('P1', 'C3')\n"
     ]
    }
   ],
   "source": [
    "for v in d.values():\n",
    "    print(v)"
   ]
  },
  {
   "cell_type": "code",
   "execution_count": 83,
   "metadata": {},
   "outputs": [
    {
     "output_type": "execute_result",
     "data": {
      "text/plain": [
       "3"
      ]
     },
     "metadata": {},
     "execution_count": 83
    }
   ],
   "source": []
  },
  {
   "cell_type": "code",
   "execution_count": 29,
   "metadata": {},
   "outputs": [
    {
     "output_type": "stream",
     "name": "stdout",
     "text": [
      "P1 C1 demand -> 200 pack -> 6\nP2 C1 demand -> 100 pack -> 10\nP3 C1 demand -> 50 pack -> 12\nP1 C2 demand -> 50 pack -> 6\nP1 C3 demand -> 50 pack -> 6\nP2 C2 demand -> 25 pack -> 10\nP2 C3 demand -> 25 pack -> 10\nP3 C2 demand -> 15 pack -> 12\nP3 C3 demand -> 15 pack -> 12\nP1 C4 demand -> 50 pack -> 6\nP1 C5 demand -> 50 pack -> 6\nP2 C4 demand -> 0 pack -> 10\nP2 C5 demand -> 0 pack -> 10\nP3 C4 demand -> 0 pack -> 12\nP3 C5 demand -> 0 pack -> 12\n"
     ]
    }
   ],
   "source": [
    "for pro, cus in ordered_tuples:\n",
    "    print(pro, cus, 'demand ->', G[pro][cus]['demand'], \"pack ->\",G.nodes[pro]['eggs_per_box'])"
   ]
  },
  {
   "cell_type": "code",
   "execution_count": null,
   "metadata": {},
   "outputs": [],
   "source": []
  }
 ]
}